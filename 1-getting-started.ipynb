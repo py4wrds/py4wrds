{
 "cells": [
  {
   "cell_type": "markdown",
   "metadata": {},
   "source": [
    "# 1. Getting started"
   ]
  },
  {
   "cell_type": "markdown",
   "metadata": {},
   "source": [
    "### Why learn Python?\n",
    "Python is among the most popular and versatile general purpose programming languages. \n",
    "\n",
    "Common uses include: \n",
    "* Data Science\n",
    "* Application Development\n",
    "* AI and Machine Learning\n",
    "* Backend Infrastructure\n",
    "* Rapid Prototyping\n",
    "* Plotting, Mapping, Scientific Analysis\n",
    "* many more\n"
   ]
  },
  {
   "cell_type": "markdown",
   "metadata": {},
   "source": [
    "#### Python is the most popular language as of 2024\n",
    "\n",
    "![tiobe_idx.jpg](img/1-tiobe_idx.jpg)"
   ]
  },
  {
   "cell_type": "markdown",
   "metadata": {},
   "source": [
    "#### Python is in demand\n",
    "\n",
    "[Stack Exchange](https://stackexchange.com/), the largest Q&A community of software developers issues an annual report of the popularity of each programming language, which shows a strong preference for python. \n",
    "\n",
    "![stackoverflow-trends-chart.svg](img/1-stackoverflow-trends-chart.svg)\n",
    "\n",
    "#### Python is open source\n",
    "\n",
    "* Continuously improving through contribution\n",
    "* Extensible and evolving ecosystem\n",
    "* Powerful yet simple and elegant \n",
    "\n",
    "![antigravity](https://imgs.xkcd.com/comics/python.png)"
   ]
  },
  {
   "cell_type": "code",
   "execution_count": 1,
   "metadata": {},
   "outputs": [],
   "source": [
    "import antigravity"
   ]
  },
  {
   "cell_type": "markdown",
   "metadata": {},
   "source": [
    "Before diving into the wonders of python, we have to understand some of the basic tenets of computers, which we will cover in the subsequent sections.\n",
    "\n",
    "## Operating Systems\n",
    "\n",
    "An operating system (OS) is the software that manages a computer's hardware and software, allowing users to interact with their device\n",
    "\n",
    "Examples\n",
    "* windows\n",
    "* mac\n",
    "* linux\n",
    "* unix\n",
    "* android\n",
    "* ios"
   ]
  },
  {
   "cell_type": "markdown",
   "metadata": {},
   "source": [
    "## Command Line Interface (CLI)\n",
    "\n",
    "A **command line interface (CLI)** is a means of interacting with a computer program by inputting lines of text called commands\n",
    "\n",
    "It takes some getting used to, if you've only previously interacted with a **graphical user interface (GUI)** that allows users to interact with electronic devices through graphical icons and visual indicators.\n",
    "\n",
    "But the investment is worth it - for instance - it's much easier to send a quick command to a colleague, rather than instructions for how to navigate a GUI.\n"
   ]
  },
  {
   "cell_type": "markdown",
   "metadata": {},
   "source": [
    "### Notation\n",
    "\n",
    "In these materials, we will use a dollar sign ($) to denote a shell command issued to a CLI. \n",
    "\n",
    "```\n",
    "$this is a shell command\n",
    "```\n",
    "\n",
    "We will use the **Anaconda prompt CLI**, though the commands should work with most unix-based systems, and the equivalent commands may be easily retrieved for windows-based systems.\n",
    "\n",
    "We will use a pound sign / hashtag (#) to denote a 'comment' - more on that soon\n",
    "\n",
    "```\n",
    "#this is a comment\n",
    "```\n",
    "\n",
    "In these materials, you will see something like “try the command `$pwd`”. This means you should type `pwd` into your CLI, and then hit <kbd>ENTER</kbd> to issue the command. Generally, the command will generate some output to the CLI. \n",
    "\n",
    "Code blocks (like the following) will also be extensively used. Note that you don’t actually type the $ before the command, or the text after the #, into the CLI.\n",
    "\n",
    "```\n",
    "# This is a comment, the $ on the next line is followed by a command.\n",
    "$pwd\n",
    "/Users/aakash/Desktop/py4wrds/01-getting-started\n",
    "# the previous line was output from the pwd command\n",
    "```\n"
   ]
  },
  {
   "cell_type": "markdown",
   "metadata": {},
   "source": [
    "### The Terminal\n",
    "\n",
    "A terminal, terminal emulator, or console is a program that displays text and accepts input. These programs emulate the behavior of physical computer terminals in past computing systems. Users of modern computing systems often have many terminal windows open at once. In the past, users were limited to the physical terminal they sat behind.\n",
    "\n",
    "**Windows:** On Windows operating systems, the built-in terminal program is called the Command Prompt. You may access it by navigating through `Start -> All Programs -> Accessories -> Command Prompt`.\n",
    "\n",
    "*Note*: in this class, we will use **Anaconda Prompt** which is a terminal available on windows which has Mac/Unix-like syntax. The equivalent commands may be easily retrieved for unix-based systems.\n",
    "\n",
    "**Mac:** On macOS, the built-in terminal program is called Terminal.app. It is located in `/Applications/Utilities`. One convenient way to start the program is to search for terminal using Spotlight.\n",
    "\n",
    "**Unix:** If you’re on a Unix operating system already, you likely know how to open a terminal. In Ubuntu, for example, you can simply use the keyboard shortcut Ctrl - Alt + T."
   ]
  },
  {
   "cell_type": "markdown",
   "metadata": {},
   "source": [
    "### The Shell\n",
    "\n",
    "A shell is a program that executes commands from the user and displays the result. There are many different shell programs - bash is quite popular; it’s been around since 1989 and is the default on macOS and most Linux distributions. \n",
    "\n",
    "![shell_image](img/1-terminal-shell.png)"
   ]
  },
  {
   "cell_type": "markdown",
   "metadata": {},
   "source": [
    "## Navigating the CLI\n",
    "\n",
    "### Paths\n",
    "A `path` describes the location of a file or directory in a file system hierarchy. \n",
    "\n",
    "On unix-like systems (e.g. macOS and Linux) a single slash (/) indicates the very top (or root) of the file system. On windows, the root of the file tree starts at `C:`.\n",
    "\n",
    "In longer path names, directories are separated by slashes. The last item (lacking a slash) may be either a file or a directory. If a path ends with a slash, it’s a directory.\n",
    "\n",
    "Common Windows Paths:\n",
    "\n",
    "* `C:\\Users\\username`: Base folder for a specific user’s files and settings.\n",
    "* `C:\\Users\\username\\Documents`: Default location for the user’s documents.\n",
    "* `C:\\Users\\username\\Downloads`: Default folder for downloaded files.\n",
    "* `C:\\Users\\username\\Desktop`: User's desktop files and shortcuts.\n",
    "* `C:\\Users\\username\\AppData`: Stores application data, including settings and temporary files for applications. It’s hidden by default.\n",
    "\n",
    "\n",
    "Common Mac Paths:\n",
    "* `/Users/aakashahamed/Downloads`: this is the downloads directory on my Mac.\n",
    "* `/Users/aakashahamed/Downloads/`: this is also the downloads directory on my Mac. Note the trailing slash to indicate that Downloads is a directory.\n",
    "* `/Users/aakashahamed/Downloads/syllabus.pdf`: this is the path to a downloaded PDF."
   ]
  },
  {
   "cell_type": "markdown",
   "metadata": {},
   "source": [
    "### Directories (AKA Folders)\n",
    "\n",
    "Hierarchical structure that organizes files on a computer into groups\n",
    "\n",
    "```\n",
    "C:\\\\Users\\aakash\\Desktop\\folder1\n",
    "C:\\\\Users\\aakash\\Desktop\\folder1\\file1.txt\n",
    "C:\\\\Users\\aakash\\Desktop\\folder1\\file2.txt\n",
    "C:\\\\Users\\aakash\\Desktop\\folder2\\\n",
    "C:\\\\Users\\aakash\\Desktop\\folder2\\file1.txt\n",
    "C:\\\\Users\\aakash\\Desktop\\folder2\\file2.txt\n",
    "\n",
    "```"
   ]
  },
  {
   "cell_type": "markdown",
   "metadata": {},
   "source": [
    "### Navigation\n",
    "\n",
    "Shell commands are executed *relative* to a working directory. \n",
    "\n",
    "Usually, when a shell first starts, the working directory is the user’s home directory.\n",
    "\n",
    "* `$cd` - print the current working directory (unix: `$pwd`)\n",
    "* `$cd Documents` - change directory\n",
    "* `$dir` - list files and folders in working directory (unix: `$ls`)\n",
    "  \n",
    "Special directory aliases:\n",
    "\n",
    "* directory one higher in filesystem: `..`\n",
    "* working directory: `.`\n"
   ]
  },
  {
   "cell_type": "markdown",
   "metadata": {},
   "source": [
    "### Avoid spaces when creating directory and file names\n",
    "\n",
    "It is best to not use spaces in directory or file names. Most shell programs use a space as a delimiter between commands and arguments. \n",
    "\n",
    "Thus, spaces in file or directory names need to be escaped or quoted – a thing that is easy to forget.\n",
    "\n",
    "For example, let’s say we have a directory called `my docs`. \n",
    "\n",
    "If we try to enter the directory with `cd` with out handling the space, we get an error:\n",
    "\n",
    "```\n",
    "$cd my docs\n",
    "cd: my: No such file or directory\n",
    "```\n",
    "\n",
    "To make this work, we can either quote the directory name (note the “funny looking” underscore in the below text, and in these notes, is actually syntactically denoting a space):\n",
    "\n",
    "```\n",
    "$cd ”my docs”\n",
    "```\n",
    "\n",
    "Or escape the space with a backslash:\n",
    "\n",
    "```\n",
    "$cd my\\ docs\n",
    "```\n"
   ]
  },
  {
   "cell_type": "markdown",
   "metadata": {},
   "source": [
    "### Looking and previewing\n",
    "\n",
    "* `$type` - dump file content into terminal output (unix: `$cat`)"
   ]
  },
  {
   "cell_type": "markdown",
   "metadata": {},
   "source": [
    "### Creating and copying files and directories\n",
    "\n",
    "* `$md directoryname` - creates an empty directory named `directoryname` (unix: `$mkdir`)\n",
    "* `$copy filename.txt othername.txt` - copies a file `filename.txt` into a new file named `othername.txt` (unix: `$cp`)"
   ]
  },
  {
   "cell_type": "markdown",
   "metadata": {},
   "source": [
    "### Moving and Removing files and directories\n",
    "\n",
    "* `$move filename.txt destination` - moves a file `filename.txt` into a destination direcory `destination` if `destination` exists, else, renames `filename.txt` into `destination` (unix: `$mv`)\n",
    "* `$del filename.txt` - removes a file `filename.txt` **[USE WITH CAUTION, CANNOT BE UNDONE]** (unix: `$rm`)\n",
    "* `$rd project` - removes a folder `project` **[USE WITH CAUTION, CANNOT BE UNDONE]** (unix: `$rmdir`)\n"
   ]
  },
  {
   "cell_type": "markdown",
   "metadata": {},
   "source": [
    "### Quitting a command\n",
    "\n",
    "Sometimes you need to terminate a command. This is often possible with the <kbd>CTRL</kbd>+D keyboard command on windows and <kbd>CTRL</kbd>+C command on Mac. \n",
    "\n",
    "In documentation you might see this represented as <kbd>CTRL</kbd> + D, where <kbd>CTRL</kbd> is a symbol indicating the ‘ctrl‘ key, also sometimes denoted as a carat ^."
   ]
  },
  {
   "cell_type": "markdown",
   "metadata": {},
   "source": [
    "### A note on organization and computer hygiene \n",
    "\n",
    "* Organizing data and files is incredibly important - be kind to your future self, and keep good computer hygiene!\n",
    "* My suggested directory structure for a project, located at: `/users/aakashahamed/Desktop/Projects/Drone_Project`\n",
    "\n",
    "```\n",
    "project\n",
    "│   README.md\n",
    "│   file001.txt    \n",
    "│\n",
    "└───code/\n",
    "│   │   00_get_data.py\n",
    "│   │   01_process_data.py\n",
    "│   │\n",
    "│   └───submodule/\n",
    "│       │   file111.txt\n",
    "│       │   file112.txt\n",
    "│       │   ...\n",
    "│   \n",
    "└───data\n",
    "│   │\n",
    "│   └───Source1/\n",
    "│       │   file1.csv\n",
    "│       │   file2.txt\n",
    "│       │   ...\n",
    "│       │\n",
    "│   └───Source2/\n",
    "│       │   file1.csv\n",
    "│       │   file2.txt\n",
    "│       │   ...\n",
    "│   \n",
    "└───results\n",
    "│   │\n",
    "│   └───Analysis1/\n",
    "│       │   file1.csv\n",
    "│       │   file2.txt\n",
    "│       │   ...\n",
    "│       │\n",
    "│   └───Analysis2/\n",
    "│       │   file1.csv\n",
    "│       │   file2.txt\n",
    "│       │   ...\n",
    "```"
   ]
  },
  {
   "cell_type": "markdown",
   "metadata": {},
   "source": [
    "## Text Files\n",
    "\n",
    "A text file is a sequence of characters that can be opened by any text editor. In scientific computing and data science applications, text files can be used for a variety of tasks:\n",
    "\n",
    "### Common types\n",
    "* Alphanumeric characters (`.txt`)\n",
    "* Dataset storage in comma-separated value files (`.csv`)\n",
    "* Object serialization with JSON (`.json`)\n",
    "* Graphics with tools like SVG\n",
    "* Publication and presentation with LATEX (`.tex` file extension)\n",
    "* Tools for 3d models.\n",
    "* Software build systems (e.g. `GNUMake` or `CMake`)\n",
    "* Music notation\n",
    "\n",
    "One benefit of working with text files is that they can be checked into version control systems (e.g. git) and easily compared to previous versions. \n",
    "\n",
    "It is also possible to check binary files into a version control system (e.g. `.zip, .jpg, .xls, .docx`), but it is not as easy to find the differences from previous versions."
   ]
  },
  {
   "cell_type": "markdown",
   "metadata": {},
   "source": [
    "### Text Editors\n",
    "A text editor is a software program that lets you edit text files. \n",
    "\n",
    "Text editors that work in a terminal include:\n",
    "* [Vim](http://www.vim.org/)\n",
    "* [Emacs](https://www.gnu.org/software/emacs/)\n",
    "* [Nano](https://www.nano-editor.org/)\n",
    "\n",
    "GUI Based text editors include: \n",
    "* [Visual Studio Code](https://code.visualstudio.com/)\n",
    "* [Sublime Text](https://www.sublimetext.com/)\n",
    "* [Pycharm](https://www.jetbrains.com/pycharm/)\n",
    "* [eclipse](https://eclipseide.org/)"
   ]
  },
  {
   "cell_type": "markdown",
   "metadata": {},
   "source": [
    "## Interacting with Python\n",
    "\n",
    "Python now has a long history. It started in ’89 as a project to keep Guido van Rossum occupied during the week around Christmas; \n",
    "* version 1.0 was released in 1994. \n",
    "* This class will use Python 3, which has [important differences from Python2](https://sebastianraschka.com/Articles/2014_python_2_3_key_diff.html#sections).\n",
    "\n",
    "Python is a [**high level language**](https://en.wikipedia.org/wiki/High-level_programming_language) that typically runs in an [interpreter](https://en.wikipedia.org/wiki/Interpreter_(computing)) -  a program that executes statements. \n",
    "\n",
    "Examples of high level interpreted languages: Python, R, Matlab, Perl, JavaScript\n",
    "\n"
   ]
  },
  {
   "cell_type": "markdown",
   "metadata": {},
   "source": [
    "### The Interpreter\n",
    "\n",
    "* An interpreter is a program that reads and executes commands.\n",
    "* It is also sometimes called a REPL or read-evaluate-print-loop.\n",
    "* One way to interact with Python is to use the interpreter.\n",
    "* This is useful for interactive work, learning, and simple testing.\n",
    "* Remember: when you see a `$` in code blocks, it typically indicates a shell command. For example:\n",
    "\n",
    "```\n",
    "     $ls -1 *.txt\n",
    "     file1.txt\n",
    "     file2.txt\n",
    "     file3.txt     \n",
    "```\n",
    "\n",
    "\n",
    "\n",
    "* A `>>>` in code blocks signifies a command for the Python interpreter.\n",
    "* The basic Python interpreter is good for simple computations or checks.\n",
    "* IPython provides more functionality (e.g. tab completion, syntax highlighting)\n",
    "* Try typing `$ ipython3` into the CLI"
   ]
  },
  {
   "cell_type": "markdown",
   "metadata": {},
   "source": [
    "### Python as a calculator\n",
    "\n",
    "Open Anaconda PowerShell prompt and type `$python` in the shell to launch the interpreter\n",
    "\n",
    "You should see something like the following: \n",
    "\n",
    "```\n",
    "Python 3.12.7 | packaged by Anaconda, Inc. | (main, Oct  4 2024, 08:22:19) [Clang 14.0.6 ] on darwin\n",
    "Type \"help\", \"copyright\", \"credits\" or \"license\" for more information.\n",
    ">>> \n",
    "```\n",
    "\n",
    "Note that the `>>>` means you are ready to issue a python command.\n",
    "\n",
    "Try the following in the python interpreter:\n",
    "```\n",
    ">>> 4+7\n",
    "11\n",
    ">>> 12*3\n",
    "36\n",
    ">>> 8-3.4\n",
    "4.6\n",
    ">>> 5/3\n",
    "1.6666666666666667\n",
    ">>> 5//3 #floor division\n",
    "1\n",
    ">>> -5//3\n",
    "-2\n",
    ">>> 5.0/3\n",
    "1.6666666666666667\n",
    ">>> 5.0//3\n",
    "1.0\n",
    ">>> 5%3\n",
    "2\n",
    "```"
   ]
  },
  {
   "cell_type": "markdown",
   "metadata": {},
   "source": [
    "#### Anything Surprising?\n",
    "\n",
    "* Division between two integers with `/` returns a floating point number.\n",
    "* The operator `//` performs floor division (rounds down).\n",
    "* The `%` (modulus) operator returns the remainder for integer division.\n",
    "\n",
    "#### Integers and floating point numbers\n",
    "\n",
    "This will be discussed in more detail in later modules, while these data types and operators sound trivial, they matter - bad numerical computing has resulted in [multiple disasters](https://www.ima.umn.edu/~arnold/disasters/).\n",
    "\n"
   ]
  },
  {
   "cell_type": "markdown",
   "metadata": {},
   "source": [
    "### Exiting the python interpreter\n",
    "\n",
    "Simply type `exit()` in the interpreter:\n",
    "\n",
    "```\n",
    "$python\n",
    "Python 3.12.7 | packaged by Anaconda, Inc. | (main, Oct  4 2024, 08:22:19) [Clang 14.0.6 ] on darwin\n",
    "Type \"help\", \"copyright\", \"credits\" or \"license\" for more information.\n",
    ">>> exit\n",
    "Use exit() or Ctrl-D (i.e. EOF) to exit\n",
    ">>> exit()\n",
    "$\n",
    "\n",
    "```"
   ]
  },
  {
   "cell_type": "markdown",
   "metadata": {},
   "source": [
    "## Integrated Development Environments\n",
    "\n",
    "It is often convenient to interact with python code through an Integrated Development Environment, or IDE, which is software that provides tools and a supporting interface all within a single application, helping streamline the development process.\n",
    "\n",
    "The main purposes and features of an IDE are:\n",
    "\n",
    "**1. Code Editing**: Offers a code editor with features like syntax highlighting, autocompletion, and formatting, which help improve code readability and reduce errors.\n",
    "\n",
    "**2. Debugging**: Includes built-in debugging tools that let you step through your code, set breakpoints, inspect variables, and catch errors, helping you troubleshoot issues more effectively.\n",
    "\n",
    "**3. Code Navigation**: Allows easy navigation through files, classes, functions, and modules. This is particularly useful in large projects where keeping track of all files and references would be difficult otherwise.\n",
    "\n",
    "**4. Project Management**: Organizes files, folders, and resources, often with version control integration (e.g., Git), so that developers can manage and collaborate on projects.\n",
    "\n",
    "**5. Environment Integration**: Integrates with compilers, interpreters, and virtual environments, so developers can easily run and test their code within the IDE. Some IDEs also support package management and deployment tools.\n",
    "\n",
    "Popular IDEs for Python include PyCharm, Visual Studio Code, and Jupyter, each offering tailored features for different types of projects and development needs. "
   ]
  },
  {
   "cell_type": "markdown",
   "metadata": {},
   "source": [
    "### Jupyter Notebooks / Lab:\n",
    "\n",
    "Jupyter is a popular IDE that we will use in this course. It started as iPython, Fernando Perez's graduate school hobby project to make his PhD data analysis and plotting more interactive.\n",
    "\n",
    "The Jupyter ecosystem has evolved into a set of interactive development tools commonly used in data science, machine learning, and research. They allow users to combine code, text, and multimedia (e.g., plots, images) in a single document, which is ideal for interactive data analysis and storytelling. This tutorial was created using Jupyter Notebook, which are:\n",
    "\n",
    "* Interactive: write and run code in small, manageable chunks (cells), making it easy to test and debug code line by line or section by section.\n",
    "\n",
    "* Data Visualization Friendly: integrates well with visualization libraries (e.g., Matplotlib, Seaborn), allowing users to create and display graphs within the notebook cells, making data analysis highly interactive and visual.\n",
    "\n",
    "* Documentation and Markdown Support: allows users to document their code, add explanations, and format text directly alongside their code, enhancing readability and collaboration.\n",
    "\n",
    "* Support for Multiple Languages: Through various 'kernels', Jupyter supports multiple programming languages including Python, R, Julia, and more\n",
    "\n",
    "* JupyterLab, the next-generation interface, allows users to work with notebooks, terminals, text editors, and file browsers all in one tabbed or split-pane layout.\n",
    "\n",
    "\n",
    "#### Markdown \n",
    "\n",
    "You can leverage Markdown scripting language in jupyter notebooks to write equations with LaTeX:  $\\chi = \\omega * \\dot \\pi $ \n",
    "<br> Or denote code like `$python script.py`\n",
    "<br> Or leave comments and documentation #This is a comment\n",
    "\n",
    "Markdown files (`.Md`) can be easily published on the web with Jupyter (this tutorial is one such example), and/or distributed as PDFs"
   ]
  },
  {
   "cell_type": "markdown",
   "metadata": {},
   "source": [
    "### Installation\n",
    "\n",
    "You can install jupyter lab by running: \n",
    "\n",
    "`$conda install jupyter lab` from the Anaconda Prompt CLI\n",
    "\n",
    "Note, jupyter lab and notebook were already installed in the `0-pre-course-assignment` module.\n",
    "\n",
    "### Launching Jupyter\n",
    "If you haven't already, download and unzip the [course materials](https://github.com/py4wrds/py4wrds/archive/refs/heads/main.zip), and place them in a convenient location on your computer (suggest `Desktop/py4wrds`).\n",
    "\n",
    "* Open Anaconda PowerShell prompt\n",
    "* change directories into wherever you saved the course materials\n",
    "* activate the py4wrds conda environment: `$conda activate py4wrds`\n",
    "* **start Jupyter Notebook: `$jupyter notebook`**\n",
    "    * this will launch a 'jupyter notebook' in your default web browser, at the local web address: `http://localhost:8888/`\n",
    "\n",
    "Other useful jupyter commands \n",
    "* launch JupyterLab: `$jupyter lab`\n",
    "    * jupyter lab is a jupyter interface with more depth, including rendering markdown files.\n",
    "* list Available Jupyter Kernels: `$jupyter kernelspec list`\n",
    "    * jupyter notebooks support other programming languages such ar R and Julia\n",
    "\n",
    "Now, launch jupyter by tiping `jupyter notebook` into the Anaconda Prompt CLI, and open one this notebook: `1-getting-started.ipynb`\n",
    "\n",
    "### Executing code in jupyter\n",
    "\n",
    "Jupyter organizes code into *cells* or *blocks*. You can 'execute' or run a block/cell of code by clicking it and pressing  <kbd>SHIFT</kbd>+<kbd>ENTER</kbd>\n",
    "\n",
    "Cells can be either code or markdown. Notice that you can easily change the type of cell from the dropdown at the top of the jupyter menu.\n",
    "\n",
    "Also observe the other options in the jupyter menu, which should look pretty familiar from other software programs. Can you deduce what each does, and why it might be useful?"
   ]
  },
  {
   "cell_type": "markdown",
   "metadata": {},
   "source": [
    "## Python Scripts (.py files)\n",
    "\n",
    "Python files (.py suffix), known as 'scripts' are a convenient way of interacting with python, through a text file containing python code. "
   ]
  },
  {
   "cell_type": "markdown",
   "metadata": {},
   "source": [
    "Let's create and execute our first python script. \n",
    "\n",
    "1. Open Anaconda Prompt CLI, \n",
    "2. change directory to wherever you placed the course materials\n",
    "3. activate the conda environment called `py4wrds`\n",
    "4. launch jupyter notebook\n",
    "\n",
    "Your commands might look something like this:\n",
    "\n",
    "```\n",
    "$cd C://Users/aakash/Desktop/py4wrds/py4wrds-main\n",
    "$conda activate py4wrds\n",
    "$jupyter notebook\n",
    "```\n",
    "\n",
    "This should open a `jupyter notebook` window in your browser at the web address `http://localhost:8888/`\n",
    "\n",
    "From the top-right corner of the Jupyter Notebook homepage, select New > New File\n",
    "\n",
    "![stackoverflow-trends-chart.svg](img/1-launch_jupyter.jpg)\n",
    "\n",
    "This will open a text editor within your browser, and create a file named `untitled.txt`. \n",
    "\n",
    "**Rename this file to `hello_world.py`**\n",
    "\n",
    "In the text editor, type in the following python code:\n",
    "\n",
    "```print(\"hello world!\")```\n",
    "\n",
    "Save your file. \n",
    "\n",
    "Now, open a new Anaconda PowerShell prompt, and change directories to wherever you saved the file.\n",
    "\n",
    "If you type `$dir` (or `$ls`) into the terminal, you should see the file we just created: `hello_world.py`\n",
    "\n",
    "Run it by typing:\n",
    "\n",
    "`$python hello_world.py`\n",
    "\n",
    "What do you see? "
   ]
  },
  {
   "cell_type": "markdown",
   "metadata": {},
   "source": [
    "### Scripts are extensible \n",
    "\n",
    "Let’s write a simple Python script to compute the first `n` numbers in the Fibonacci Sequence. \n",
    "\n",
    "Each number in the Fibonacci Sequence is the sum of the two previous numbers:\n",
    "\n",
    "$F(i) = F(i−1)+F(i−2)$ for all $i ≥ 2. $\n",
    "\n",
    "Numbers F(0) to F(10) can be computed with the following Python code:\n"
   ]
  },
  {
   "cell_type": "code",
   "execution_count": 2,
   "metadata": {},
   "outputs": [
    {
     "name": "stdout",
     "output_type": "stream",
     "text": [
      "0,1,1,2,3,5,8,13,21,34,55,"
     ]
    }
   ],
   "source": [
    "# We wish to calculate up to Fib(10).\n",
    "n = 10\n",
    "\n",
    "if n >= 0:\n",
    "    fn2 = 0  # initialize second fib #\n",
    "    print(fn2, end=\",\")\n",
    "\n",
    "if n >= 0:\n",
    "    fn1 = 1  # initialize 1st fib #\n",
    "    print(fn1, end=\",\")\n",
    "\n",
    "for i in range(2, n + 1):\n",
    "    fn = fn1 + fn2  # Recurrence relation is f(n) = f(n-1) + f(n-2).\n",
    "    print(fn, end=\",\")\n",
    "    fn2 = fn1  # Update values for next iteration\n",
    "    fn1 = fn  # ...for both f(n-2) and f(n-1)."
   ]
  },
  {
   "cell_type": "markdown",
   "metadata": {},
   "source": [
    "### Extending for all N\n",
    "\n",
    "We can easily package this into a python file which accepts a number as an input, and calculates the relevant fibonacci sequence: "
   ]
  },
  {
   "cell_type": "markdown",
   "metadata": {},
   "source": [
    "```\n",
    "import sys\n",
    "\n",
    "# We wish to calculate up to Fib(10).\n",
    "n = int(sys.argv[1])\n",
    "\n",
    "if n >=0:\n",
    "    fn2=0 # initialize second fib #\n",
    "    print(fn2, end = ',')\n",
    "\n",
    "if n >=0:\n",
    "    fn1=1 # initialize 1st fib #\n",
    "    print(fn1, end = ',')\n",
    "    \n",
    "for i in range(2,n+1):\n",
    "    fn = fn1 + fn2 # Recurrence relation is f(n) = f(n-1) + f(n-2).\n",
    "    print(fn,end=',') \n",
    "    fn2 = fn1 # Update values for next iteration\n",
    "    fn1 = fn # ...for both f(n-2) and f(n-1).\n",
    "```"
   ]
  },
  {
   "cell_type": "markdown",
   "metadata": {},
   "source": [
    "If we save this code in a python file named `fib_extend.py`, we can instruct it to obtain the value of `n` from the command line:\n",
    "\n",
    "```\n",
    "$python fib_extend.py 0 \n",
    "0,\n",
    "\n",
    "$python fib_extend.py 5 \n",
    "0, 1, 1, 2, 3, 5,\n",
    "\n",
    "$python fib_extend.py 21\n",
    "0, 1, 1, 2, 3, 5, 8, 13, 21, 34, 55, 89, 144, 233, 377, 610, 987, 1597, 2584, 4181, 6765, 10946,\n",
    "```"
   ]
  },
  {
   "cell_type": "markdown",
   "metadata": {},
   "source": [
    "## Python Modules\n",
    "\n",
    "About Python modules:\n",
    "* A module is a collection of Python resources (functions, variables, objects, classes) that can be easily loaded into Python via `import` statements.\n",
    "* Modules allow for easy code reuse and organization.\n",
    "* Modules allow the programmer to keep various functionality in different namespaces.\n",
    "\n",
    "If you are familiar with MATLAB or R, you may come to Python and be confused by:\n",
    "\n",
    "`sqrt(3) # --> Yields a NameError: name 'sqrt' not defined.`\n",
    "\n",
    "The Python language does not have a built in sqrt function; this subroutine exists in the\n",
    "`math` module.\n",
    "\n",
    "```\n",
    ">>>import math\n",
    ">>>math.sqrt(9)\n",
    "3\n",
    "```\n"
   ]
  },
  {
   "cell_type": "markdown",
   "metadata": {},
   "source": [
    "### The python standard library\n",
    "\n",
    "* There are a large number of modules in the Python Standard Library: https://docs.python.org/3/library/index.html\n",
    "\n",
    "* It is often useful to explore the Python documentation in the interpreter. See `>>> help(math)` and `>>> help(math.sqrt)` from the interpreter.\n",
    "\n",
    "* common stdlib helpers: \n",
    "`enumerate()`\n",
    "`sorted()`\n",
    "`zip()` `map()` `filter()` etc..."
   ]
  },
  {
   "cell_type": "markdown",
   "metadata": {},
   "source": [
    "### The Print Module - Printing outputs to the interpreter\n",
    "\n",
    "The Python interpreter will echo the output of the last (non-assignment) statement in a code block:\n"
   ]
  },
  {
   "cell_type": "code",
   "execution_count": 3,
   "metadata": {},
   "outputs": [
    {
     "data": {
      "text/plain": [
       "2"
      ]
     },
     "execution_count": 3,
     "metadata": {},
     "output_type": "execute_result"
    }
   ],
   "source": [
    "1 + 1  # Echos --> 2"
   ]
  },
  {
   "cell_type": "code",
   "execution_count": 4,
   "metadata": {},
   "outputs": [
    {
     "data": {
      "text/plain": [
       "10"
      ]
     },
     "execution_count": 4,
     "metadata": {},
     "output_type": "execute_result"
    }
   ],
   "source": [
    "5 + 5  # Echos --> 10"
   ]
  },
  {
   "cell_type": "code",
   "execution_count": 5,
   "metadata": {},
   "outputs": [],
   "source": [
    "myvar = 101  # Nothing is printed to console."
   ]
  },
  {
   "cell_type": "markdown",
   "metadata": {},
   "source": [
    "You can use the `print()` function if you wish to inspect the content of a variable:"
   ]
  },
  {
   "cell_type": "code",
   "execution_count": 6,
   "metadata": {},
   "outputs": [
    {
     "name": "stdout",
     "output_type": "stream",
     "text": [
      "99\n"
     ]
    }
   ],
   "source": [
    "a = 99\n",
    "print(a)  # Echos --> 99."
   ]
  },
  {
   "cell_type": "markdown",
   "metadata": {},
   "source": [
    "By default, `print()` adds a new line character at the end for printing."
   ]
  },
  {
   "cell_type": "code",
   "execution_count": 7,
   "metadata": {},
   "outputs": [
    {
     "name": "stdout",
     "output_type": "stream",
     "text": [
      "hi\n",
      "everyone\n"
     ]
    }
   ],
   "source": [
    "print(\"hi\")  # These contents are ...\n",
    "print(\"everyone\")  # ... printed on two lines."
   ]
  },
  {
   "cell_type": "markdown",
   "metadata": {},
   "source": [
    "This behavior can be changed by setting the end keyword parameter in the print function."
   ]
  },
  {
   "cell_type": "code",
   "execution_count": 8,
   "metadata": {},
   "outputs": [
    {
     "name": "stdout",
     "output_type": "stream",
     "text": [
      "hi everyone\n"
     ]
    }
   ],
   "source": [
    "print(\"hi\", end=\" \")  # Now prints a space after \"hi\" instead of a newline ('\\n')\n",
    "print(\"everyone\")  # The result looks like -- \"hi cme211\" on its own line."
   ]
  },
  {
   "cell_type": "markdown",
   "metadata": {},
   "source": [
    "The print() function can print several strings at once on the same line: "
   ]
  },
  {
   "cell_type": "code",
   "execution_count": 9,
   "metadata": {},
   "outputs": [
    {
     "name": "stdout",
     "output_type": "stream",
     "text": [
      "apple banana orange\n"
     ]
    }
   ],
   "source": [
    "print(\"apple\", \"banana\", \"orange\")"
   ]
  },
  {
   "cell_type": "markdown",
   "metadata": {},
   "source": [
    "The default separator is a space. This can be changed by setting the sep keyword parameter:"
   ]
  },
  {
   "cell_type": "code",
   "execution_count": 10,
   "metadata": {},
   "outputs": [
    {
     "name": "stdout",
     "output_type": "stream",
     "text": [
      "apple, banana, orange\n"
     ]
    }
   ],
   "source": [
    "# Add a comma in addition to a space.\n",
    "print(\"apple\", \"banana\", \"orange\", sep=\", \")"
   ]
  },
  {
   "cell_type": "markdown",
   "metadata": {},
   "source": [
    "Python strings can be “formatted” with the format method: \n"
   ]
  },
  {
   "cell_type": "code",
   "execution_count": 11,
   "metadata": {},
   "outputs": [
    {
     "name": "stdout",
     "output_type": "stream",
     "text": [
      "The area of a circle of radius 10 is 314.1592653589793\n"
     ]
    }
   ],
   "source": [
    "import math\n",
    "\n",
    "r = 10\n",
    "print(\"The area of a circle of radius {} is {}\".format(r, math.pi * math.pow(r, 2)))"
   ]
  },
  {
   "cell_type": "markdown",
   "metadata": {},
   "source": [
    "The curly braces ({}) get replaced by the arguments to format() in order."
   ]
  },
  {
   "cell_type": "markdown",
   "metadata": {},
   "source": [
    "## Values, Types, Variables \n",
    "\n",
    "### Values\n",
    "A value is the fundamental thing that a program manipulates or uses to perform operations. A value is data.\n",
    "Here is a string value."
   ]
  },
  {
   "cell_type": "code",
   "execution_count": 12,
   "metadata": {},
   "outputs": [
    {
     "data": {
      "text/plain": [
       "'hello world'"
      ]
     },
     "execution_count": 12,
     "metadata": {},
     "output_type": "execute_result"
    }
   ],
   "source": [
    "\"hello world\""
   ]
  },
  {
   "cell_type": "markdown",
   "metadata": {},
   "source": [
    "#### Strings\n",
    "\n",
    "A string is a sequence of alphanumeric characters. It is denoted by quotes (single or double): \n",
    "* \"This is a string\"\n",
    "* 'this is also a string'\n",
    "* \"this_is_also_a_string\"\n",
    "\n",
    "A docstring is instructions left in the code. It is denoted by triple quotes: \n",
    "* '''This is a docstring'''"
   ]
  },
  {
   "cell_type": "code",
   "execution_count": 13,
   "metadata": {},
   "outputs": [
    {
     "name": "stdout",
     "output_type": "stream",
     "text": [
      "this is a string\n",
      "this is also string\n",
      "this is a docstring\n"
     ]
    }
   ],
   "source": [
    "print(\"this is a string\")\n",
    "print(\"this is also string\")\n",
    "print(\"\"\"this is a docstring\"\"\")"
   ]
  },
  {
   "cell_type": "markdown",
   "metadata": {},
   "source": [
    "#### Numbers\n",
    "\n",
    "There are two types of numerical values in python: integers (ints) and floats\n",
    "\n",
    "Integers represent whole numbers while floats represent decimals"
   ]
  },
  {
   "cell_type": "code",
   "execution_count": 14,
   "metadata": {},
   "outputs": [
    {
     "data": {
      "text/plain": [
       "int"
      ]
     },
     "execution_count": 14,
     "metadata": {},
     "output_type": "execute_result"
    }
   ],
   "source": [
    "type(-2)"
   ]
  },
  {
   "cell_type": "code",
   "execution_count": 15,
   "metadata": {},
   "outputs": [
    {
     "data": {
      "text/plain": [
       "float"
      ]
     },
     "execution_count": 15,
     "metadata": {},
     "output_type": "execute_result"
    }
   ],
   "source": [
    "type(2.5)"
   ]
  },
  {
   "cell_type": "markdown",
   "metadata": {},
   "source": [
    "#### Bools\n",
    "\n",
    "There are only two \"Boolean value\" - `True` and `False`"
   ]
  },
  {
   "cell_type": "code",
   "execution_count": 16,
   "metadata": {},
   "outputs": [
    {
     "data": {
      "text/plain": [
       "True"
      ]
     },
     "execution_count": 16,
     "metadata": {},
     "output_type": "execute_result"
    }
   ],
   "source": [
    "True"
   ]
  },
  {
   "cell_type": "code",
   "execution_count": 17,
   "metadata": {},
   "outputs": [
    {
     "data": {
      "text/plain": [
       "False"
      ]
     },
     "execution_count": 17,
     "metadata": {},
     "output_type": "execute_result"
    }
   ],
   "source": [
    "False"
   ]
  },
  {
   "cell_type": "markdown",
   "metadata": {},
   "source": [
    "It will become obvious why we will want to use these later. \n",
    "\n",
    "Remember - all values have a **type**: \n",
    "\n",
    "### Types (introduction)\n",
    "\n",
    "In Python there are several fundamental **data types** :\n",
    "* bool: values either True and False\n",
    "* str: for strings like \"Hello world\"\n",
    "* int: for integers like 1, 42, and -5\n",
    "* float: for floating point numbers like 96.8\n",
    "\n",
    "use the `type()` function to Python to determine the data type of a value.\n"
   ]
  },
  {
   "cell_type": "code",
   "execution_count": 18,
   "metadata": {},
   "outputs": [
    {
     "data": {
      "text/plain": [
       "int"
      ]
     },
     "execution_count": 18,
     "metadata": {},
     "output_type": "execute_result"
    }
   ],
   "source": [
    "type(44)"
   ]
  },
  {
   "cell_type": "code",
   "execution_count": 19,
   "metadata": {},
   "outputs": [
    {
     "data": {
      "text/plain": [
       "float"
      ]
     },
     "execution_count": 19,
     "metadata": {},
     "output_type": "execute_result"
    }
   ],
   "source": [
    "type(83.4)"
   ]
  },
  {
   "cell_type": "code",
   "execution_count": 20,
   "metadata": {},
   "outputs": [
    {
     "data": {
      "text/plain": [
       "bool"
      ]
     },
     "execution_count": 20,
     "metadata": {},
     "output_type": "execute_result"
    }
   ],
   "source": [
    "type(False)"
   ]
  },
  {
   "cell_type": "code",
   "execution_count": 21,
   "metadata": {},
   "outputs": [
    {
     "data": {
      "text/plain": [
       "str"
      ]
     },
     "execution_count": 21,
     "metadata": {},
     "output_type": "execute_result"
    }
   ],
   "source": [
    "type(\"hello world\")"
   ]
  },
  {
   "cell_type": "markdown",
   "metadata": {},
   "source": [
    "### Variables \n",
    "\n",
    "One of the most basic and powerful concepts in programming is that of a **variable**, which associates a name to a value."
   ]
  },
  {
   "cell_type": "code",
   "execution_count": 22,
   "metadata": {},
   "outputs": [
    {
     "name": "stdout",
     "output_type": "stream",
     "text": [
      "42\n"
     ]
    }
   ],
   "source": [
    "message = \"hello world!\"\n",
    "n = 42\n",
    "e = 2.71\n",
    "print(n)  # Echos 42."
   ]
  },
  {
   "cell_type": "markdown",
   "metadata": {},
   "source": [
    "The last expression shows its possible to print a variable. Everything after the # symbol is part of a comment that is disregarded by the interpreter.\n",
    "\n",
    "**It is almost always preferred to use variables over values.**\n",
    "\n",
    "Why? \n",
    "* Easier to update code \n",
    "* Easier to understand code (useful naming) \n",
    "\n",
    "For example, What does the following code do:"
   ]
  },
  {
   "cell_type": "code",
   "execution_count": 23,
   "metadata": {},
   "outputs": [
    {
     "data": {
      "text/plain": [
       "13.86"
      ]
     },
     "execution_count": 23,
     "metadata": {},
     "output_type": "execute_result"
    }
   ],
   "source": [
    "4.2 * 3.3"
   ]
  },
  {
   "cell_type": "markdown",
   "metadata": {},
   "source": [
    "Obviously, we’re multiplying two  values, but what’s the purpose of the computation? \n",
    "\n",
    "If the values are assigned to **variables with meaningful names**, we might have something like the following:"
   ]
  },
  {
   "cell_type": "code",
   "execution_count": 24,
   "metadata": {},
   "outputs": [
    {
     "name": "stdout",
     "output_type": "stream",
     "text": [
      "13.86\n"
     ]
    }
   ],
   "source": [
    "length = 4.2\n",
    "height = 3.3\n",
    "area = length * height\n",
    "print(area)"
   ]
  },
  {
   "cell_type": "markdown",
   "metadata": {},
   "source": [
    "Now a person reading the code has a good idea of what the values represent and what the output of the code means."
   ]
  },
  {
   "cell_type": "markdown",
   "metadata": {},
   "source": [
    "#### Variable naming conventions\n",
    "\n",
    "Variables names must start with a letter or an underscore, such as: <br>\n",
    "`_underscore = \"string\"`<br>\n",
    "`underscore = 4`<br>\n",
    "\n",
    "\n",
    "The remainder of your variable name may consist of letters, numbers and underscores: <br>\n",
    "`password1 = \"...\"` <br>\n",
    "`n00b = math.pi` <br>\n",
    "`under_scores = \"__\"` <br>\n",
    "\n",
    "Names are case sensitive, i.e. `case_sensitive`, `CASE_SENSITIVE`, and `Case_Sensitive` are all different.\n",
    "\n",
    "#### Variable naming style\n",
    "One letter characters such as `a`, `b`, and `c` are too short and not at all descriptive (in general) for meaningful variable names.\n",
    "\n",
    "On the other hand, something like `number_of_particles_in_target_region` is too long;\n",
    "\n",
    "A better balance might be `num_target_particles`. This is quite important for code readability. \n",
    "\n",
    "People think about this a lot. See: [Naming stuff matters](https://speakerdeck.com/jennybc/how-to-name-files)! \n",
    "\n",
    "Variable names (and file names) should be:\n",
    "* machine readable (i.e., no spaces)\n",
    "* Human readable (m_import_clean_data.R)\n",
    "* Makes default ordering easy (i.e., dates are always YYYY-MM-DD)\n",
    "\n",
    "#### Variable naming DON'Ts\n",
    "\n",
    "* Don't override builtin names in the standard library! --> Introduces errors"
   ]
  },
  {
   "cell_type": "markdown",
   "metadata": {},
   "source": [
    "```python\n",
    "print(abs(-7))\n",
    "abs = \"some string\"\n",
    "print(abs(-4))\n",
    "```\n",
    "\n",
    "\n",
    "```\n",
    "---------------------------------------------------------------------------\n",
    "TypeError                                 Traceback (most recent call last)\n",
    "Cell In[25], line 3\n",
    "      1 print(abs(-7))\n",
    "      2 abs = \"some string\"\n",
    "----> 3 print(abs(-4))\n",
    "\n",
    "TypeError: 'str' object is not callable\n",
    "```"
   ]
  },
  {
   "cell_type": "markdown",
   "metadata": {},
   "source": [
    "## Packages  \n",
    "\n",
    "Packages are modules that are not included with the standard library. We already saw how the standard libarary extend the functionality of \"pure\" python - the standard library package `math` can be helpful in determining $\\pi$"
   ]
  },
  {
   "cell_type": "code",
   "execution_count": 26,
   "metadata": {},
   "outputs": [
    {
     "data": {
      "text/plain": [
       "3.141592653589793"
      ]
     },
     "execution_count": 26,
     "metadata": {},
     "output_type": "execute_result"
    }
   ],
   "source": [
    "import math\n",
    "\n",
    "math.pi"
   ]
  },
  {
   "cell_type": "markdown",
   "metadata": {},
   "source": [
    "Indeed, we can leverage packages for *many* useful programming tasks (all the way through plotting and machine learning!). \n",
    "\n",
    "Third-party packages extend Python’s capabilities, allowing users to handle tasks like web development (Django), data science (NumPy, pandas), and more. Packages are not included in the standard library and must be installed. Package managers are a convenient way to install key packages. "
   ]
  },
  {
   "cell_type": "markdown",
   "metadata": {},
   "source": [
    "### Package managers  \n",
    "\n",
    "Package Managers are tools that help manage Python packages, including installation, upgrades, and dependency handling. Generally, package managers interact with the command line interface.\n",
    "\n",
    "Key Python package managers:\n",
    "\n",
    "#### Conda  \n",
    "* Conda - A popular package and environment manager, particularly in scientific computing and data science.\n",
    "    * Works well with non-Python dependencies.\n",
    "    * Installation: `conda install package_name`\n",
    "\n",
    "#### Pip  \n",
    "* Pip - The default Python package manager, suitable for most Python packages.\n",
    "    * Installation: `pip install package_name`\n",
    "\n",
    "\n",
    "#### Building packages  from source (e.g. via .zip or .tar)  \n",
    "* Building Packages from Source\n",
    "    * Sometimes, packages may not be available through package managers. In such cases, users can download source files (e.g., .zip or .tar).\n",
    "    * Unpack the file, navigate to the directory, and run `python setup.py install` to install the package manually.\n",
    "    * CAUTION - BE SURE THAT THE SOFTWARE YOU INSTALL COMES FROM A TRUSTED SOURCE! \n",
    "    \n",
    "\n",
    "Note: We will get an error if we try to import a package that we don't have"
   ]
  },
  {
   "cell_type": "markdown",
   "metadata": {},
   "source": [
    "```python\n",
    "import somepackage\n",
    "```\n",
    "\n",
    "```\n",
    "---------------------------------------------------------------------------\n",
    "ModuleNotFoundError                       Traceback (most recent call last)\n",
    "Cell In[1], line 1\n",
    "----> 1 import somepackage\n",
    "\n",
    "ModuleNotFoundError: No module named 'somepackage'\n",
    "```"
   ]
  },
  {
   "cell_type": "markdown",
   "metadata": {},
   "source": [
    "### Managing and distributing packages with virtual environments\n",
    "\n",
    "#### Why virtual environments\n",
    "\n",
    "Virtual environments are isolated Python environments, allowing for project-specific dependencies and versioning without interference.\n",
    "\n",
    "`Conda` can create virtual environments for various versions of Python, isolating package versions per environment.\n",
    "\n",
    "#### Best Practices\n",
    "\n",
    "1. Project-based vs. Workstream-based\n",
    "* Project-based environments isolate dependencies to specific projects, ideal for large projects with unique dependencies.\n",
    "* Workstream-based environments organize dependencies for a type of work (e.g., data science, machine learning), enabling shared setup across projects.\n",
    "\n",
    "\n",
    "2. Distribution with Production Code\n",
    "* For production code, virtual environments should be configured with specific dependencies and versions to prevent deployment issues."
   ]
  },
  {
   "cell_type": "markdown",
   "metadata": {},
   "source": [
    "## Distributing Environments\n",
    "\n",
    "Environment Files:\n",
    "* `environment.yaml` file (Conda): Stores all environment dependencies for easy replication.\n",
    "* `requirements.txt` file (Pip): Lists the required packages and their versions for a project.\n",
    "\n",
    "### Example: Creating, Exporting, and Building an Environment\n",
    "\n",
    "Create and activate a virtual environment with Conda. From anaconda prompt, type: \n",
    "```\n",
    "$conda create -n py4wrds python=3.12\n",
    "$conda activate py4wrds\n",
    "```\n",
    "\n",
    "#### Install Key Packages\n",
    "\n",
    "`conda install numpy pandas matplotlib`\n",
    "\n",
    "More on these packages later. \n",
    "\n",
    "#### Create a .yaml File Describing the packages contained in the Environment\n",
    "\n",
    "`$conda env export > environment.yaml`\n",
    "\n",
    "the `environment.yaml` file may now be distributed to colleagues, and can be used to reproduce the environment with the following command: \n",
    "\n",
    "`$conda env create -f environment.yaml`\n",
    "\n",
    "Verification: Check that the new environment has the same packages using `$conda list`.\n",
    "\n",
    "#### Deactivate the Environment\n",
    "\n",
    "`$conda deactivate`\n",
    "\n"
   ]
  }
 ],
 "metadata": {
  "kernelspec": {
   "display_name": "Python 3 (ipykernel)",
   "language": "python",
   "name": "python3"
  },
  "language_info": {
   "codemirror_mode": {
    "name": "ipython",
    "version": 3
   },
   "file_extension": ".py",
   "mimetype": "text/x-python",
   "name": "python",
   "nbconvert_exporter": "python",
   "pygments_lexer": "ipython3",
   "version": "3.13.2"
  }
 },
 "nbformat": 4,
 "nbformat_minor": 4
}
