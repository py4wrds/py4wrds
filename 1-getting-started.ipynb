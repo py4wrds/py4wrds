{
 "cells": [
  {
   "cell_type": "markdown",
   "metadata": {},
   "source": [
    "# 1. Getting started\n",
    "\n",
    "1. Terminal and basic UNIX commands  \n",
    "      1. Operating Systems (windows, mac, linux, unix)   \n",
    "      2. Directories: print, change, make, remove, copy  \n",
    "         1. A note on project organization   \n",
    "         2. Example project repo structure  \n",
    "      3. Files: create, remove, copy, edit, open, edit (e.g., vim, nano)  \n",
    "      4. Text files: file types, text editors   \n",
    "   2. Interacting with Python  \n",
    "      1. Python interpreter / shell   \n",
    "      2. Python as a calculator   \n",
    "      3. Exiting the interpreter   \n",
    "      4. Python scripts (.py files)  \n",
    "         1. Hello world  \n",
    "         2. Fibonacci sequence  \n",
    "   3. Python modules  \n",
    "      1. Standard Library   \n",
    "         1. Math  \n",
    "      2. Printing  \n",
    "   4. Values, Types, Variables  \n",
    "      1. strings, numbers, bools   \n",
    "      2. Types (intro)  \n",
    "      3. Variables   \n",
    "         1. Variable naming conventions   \n",
    "         2. Don't override builtin names in the standard library\\!   \n",
    "   5. Installing packages  \n",
    "      1. Standard Library vs Packages   \n",
    "      2. Package managers  \n",
    "         1. Conda  \n",
    "         2. Pip  \n",
    "         3. Mamba  \n",
    "         4. Building packages  from source (e.g. via .zip or .tar)  \n",
    "   6. Managing and distributing packages with virtual environments   \n",
    "      1. Why virtual environments  \n",
    "         1. Conda  \n",
    "      2. Virtual environment best practices   \n",
    "         1. Project based vs workstream based   \n",
    "         2. Distribution with production code  \n",
    "   7. Distributing Environments  \n",
    "      1. yaml  \n",
    "      2. requirements.txt  \n",
    "      3. Example \\- clone and build an environment   \n",
    "         1. Create and activate a virtual environment with conda  \n",
    "         2. Install key packages (we’ll get into some of these later)  \n",
    "         3. Create a .yaml file describing the environment  \n",
    "         4. Deactivate the environment  \n",
    "         5. Create a new environment using the yaml file  \n",
    "            1. verify that it has the same packages as the first environment  \n",
    "   8. IDE Setup:  \n",
    "      1. Jupyter Notebooks / Lab:  \n",
    "         1. Customizing   \n",
    "         2. Available Kernels: Python, R, Julia  \n",
    "         3. Markdown (.Md files)  \n",
    "      2. VS Code  \n",
    "         1. .py files  \n",
    "         2. special comments to make ipynb-like cells\n",
    "\n"
   ]
  },
  {
   "attachments": {},
   "cell_type": "markdown",
   "metadata": {},
   "source": [
    "## Why Python\n",
    "Python is among the most popular and versatile general purpose programming languages. \n",
    "\n",
    "Common uses include: \n",
    "* Data Science\n",
    "* Application Development\n",
    "* AI and Machine Learning\n",
    "* Backend Infrastructure\n",
    "* Rapid Prototyping\n",
    "* many more\n"
   ]
  },
  {
   "cell_type": "markdown",
   "metadata": {},
   "source": [
    "## Python is among the most popular languages as of 2024\n",
    "\n",
    "![tiobe_idx.jpg](01_ims/tiobe_idx.jpg)"
   ]
  },
  {
   "cell_type": "markdown",
   "metadata": {},
   "source": [
    "## Python is in demand and has a large community of users and applications\n",
    "\n",
    "![stackoverflow-trends-chart.svg](01_ims/stackoverflow-trends-chart.svg)"
   ]
  },
  {
   "cell_type": "markdown",
   "metadata": {},
   "source": [
    "## Operating Systems\n",
    "\n",
    "An operating system (OS) is the software that manages a computer's hardware and software, allowing users to interact with their device\n",
    "\n",
    "Examples\n",
    "* windows\n",
    "* mac\n",
    "* linux\n",
    "* unix\n",
    "* android\n",
    "* ios"
   ]
  },
  {
   "cell_type": "markdown",
   "metadata": {},
   "source": [
    "## Command Line Interface (CLI)\n",
    "\n",
    "A **command line interface (CLI)** is a means of interacting with a computer program by inputting lines of text called commands\n",
    "\n",
    "It takes some getting used to, if you've only previously interacted with a **graphical user interface (GUI)** that allows users to interact with electronic devices through graphical icons and visual indicators.\n",
    "\n",
    "But the investment is worth it - for instance - it's much easier to send a quick command to a colleague, rather than instructions for how to navigate a GUI.\n"
   ]
  },
  {
   "cell_type": "markdown",
   "metadata": {},
   "source": [
    "## Notation\n",
    "\n",
    "In these materials, we will use a dollar sign ($) to denote a shell command issued to a CLI. \n",
    "\n",
    "`$ this is a shell command`\n",
    "\n",
    "We will use the **Anaconda prompt CLI**, though the commands should work with most unix-based systems, and the equivalent commands may be easily retrieved for windows-based systems.\n",
    "\n",
    "We will use a pound sign / hashtag (#) to denote a 'comment' - more on that soon\n",
    "\n",
    "`# this is a comment`\n",
    "\n",
    "In these materials, you will see something like “try the command $ pwd”. \n",
    "\n",
    "Code blocks (like the following) will also be extensively used. Note that you don’t actually type the $ before the command.\n",
    "\n",
    "```\n",
    "# This is a comment, the $ on the next line is followed by a command.\n",
    "$ pwd\n",
    "/Users/aakash/py4wrds/01-getting-started\n",
    "# the previous line was output from the pwd command\n",
    "```\n"
   ]
  },
  {
   "cell_type": "markdown",
   "metadata": {},
   "source": [
    "## The Terminal\n",
    "\n",
    "A terminal, terminal emulator, or console is a program that displays text and accepts input. These programs emulate the behavior of physical computer terminals in past computing systems. Users of modern computing systems often have many terminal windows open at once. In the past, users were limited to the physical terminal they sat behind.\n",
    "\n",
    "**Windows:** On Windows operating systems, the built-in terminal program is called the Command Prompt. You may access it by navigating through `Start -> All Programs -> Accessories -> Command Prompt`.\n",
    "\n",
    "*Note*: in this class, we will use **Anaconda Prompt** which is a terminal available on windows which has Mac/Unix-like syntax. The equivalent commands may be easily retrieved for windows-based systems.\n",
    "\n",
    "**Mac:** On macOS, the built-in terminal program is called Terminal.app. It is located in `/Applications/Utilities`. One convenient way to start the program is to search for terminal using Spotlight.\n",
    "\n",
    "**Unix:** If you’re on a Unix operating system already, you likely know how to open a terminal. In Ubuntu, for example, you can simply use the keyboard shortcut Ctrl - Alt + T."
   ]
  },
  {
   "cell_type": "markdown",
   "metadata": {},
   "source": [
    "## The Shell\n",
    "\n",
    "A shell is a program that executes commands from the user and displays the result. There are many different shell programs - bash is quite popular; it’s been around since 1989 and is the default on macOS and most Linux distributions. \n",
    "\n",
    "![shell_image](01_ims/terminal-shell.png)"
   ]
  },
  {
   "cell_type": "markdown",
   "metadata": {},
   "source": [
    "# Navigating the CLI\n",
    "\n",
    "### Paths\n",
    "A `path` describes the location of a file or directory in a file system hierarchy. \n",
    "\n",
    "On unix-like systems (e.g. macOS and Linux) a single slash (/) indicates the very top (or root) of the file system. \n",
    "\n",
    "In longer path names, directories are separated by slashes. The last item (lacking a slash) may be either a file or a directory. If a path ends with a slash, it’s a directory.\n",
    "\n",
    "Common Windows Paths\n",
    "* `C:\\Users\\username`: Base folder for a specific user’s files and settings.\n",
    "* `C:\\Users\\username\\Documents`: Default location for the user’s documents.\n",
    "* `C:\\Users\\username\\Downloads`: Default folder for downloaded files.\n",
    "* `C:\\Users\\username\\Desktop`: User's desktop files and shortcuts.\n",
    "* `C:\\Users\\username\\AppData`: Stores application data, including settings and temporary files for applications. It’s hidden by default.\n",
    "\n",
    "\n",
    "Common Mac Paths\n",
    "* `/Users/aakashahamed/Downloads`: this is the downloads directory on my Mac.\n",
    "* `/Users/aakashahamed/Downloads/`: this is also the downloads directory on my Mac. Note the trailing slash to indicate that Downloads is a directory.\n",
    "* `/Users/aakashahamed/Downloads/syllabus.pdf`: this is the path to a downloaded PDF."
   ]
  },
  {
   "cell_type": "markdown",
   "metadata": {},
   "source": [
    "### Directories (AKA Folders)\n",
    "\n",
    "Hierarchical structure that organizes files on a computer into groups\n",
    "\n",
    "```\n",
    "/C://Users/aakash/Desktop/folder1/\n",
    "/C://Users/aakash/Desktop/folder1/file1.txt\n",
    "/C://Users/aakash/Desktop/folder1/file2.txt\n",
    "/C://Users/aakash/Desktop/folder2/\n",
    "/C://Users/aakash/Desktop/folder2/file1.txt\n",
    "/C://Users/aakash/Desktop/folder2/file2.txt\n",
    "\n",
    "```"
   ]
  },
  {
   "cell_type": "markdown",
   "metadata": {},
   "source": [
    "### Navigation Commands\n",
    "\n",
    "Shell commands are executed *relative* to a working directory. \n",
    "\n",
    "Usually, when a shell first starts, the working directory is the user’s home directory.\n",
    "\n",
    "* `$pwd` - print working directory  \n",
    "* `$cd` - change directory\n",
    "* `$ls` - list items in working directory (Note: `$dir` on windows command prompt)\n",
    "  \n",
    "Special directory aliases:\n",
    "* The user's home directory: `~`\n",
    "* directory one higher in filesystem: `..`\n",
    "* working direcory: `.`\n",
    "* home directory: `cd`\n"
   ]
  },
  {
   "cell_type": "markdown",
   "metadata": {},
   "source": [
    "## Avoid spaces in directory and file names\n",
    "\n",
    "It is best to not use spaces in directory or file names. Most shell programs use a space as a delimiter between commands and arguments. \n",
    "\n",
    "Thus, spaces in file or directory names need to be escaped or quoted – a thing that is easy to forget.\n",
    "\n",
    "For example, let’s say we have a directory called `my docs`. \n",
    "\n",
    "If we try to enter the directory with `cd` with out handling the space, we get an error:\n",
    "\n",
    "```\n",
    "$ cd my docs\n",
    "−bash: cd: my: No such file or directory\n",
    "```\n",
    "\n",
    "To make this work, we can either quote the directory name (note the “funny looking” un- derscore in the below text, and in these notes, is actually syntactically denoting a space):\n",
    "\n",
    "`$ cd ”my docs”`\n",
    "\n",
    "Or escape the space with a backslash:\n",
    "\n",
    "`$ cd my\\ docs`\n"
   ]
  },
  {
   "cell_type": "markdown",
   "metadata": {},
   "source": [
    "## Looking and Navigating \n",
    "\n",
    "* `$ls` - list files / folders in working directory (Note: `$dir` on windows command prompt)\n",
    "* `$cat` - dump file content into terminal output\n",
    "* `file` - print helpful info about the file\n",
    "\n",
    "\n",
    "## Creating and copying files and directories\n",
    "\n",
    "* `$ touch filename.txt` - creates an empty text file named `filename.txt`, or update timestamp if `filename.txt` exists\n",
    "* `$ mkdir directoryname` - creates an empty directory named `directoryname`\n",
    "* `$ cp filename.txt othername.txt` - copies a file `filename.txt` into a new file named `othername.txt`\n",
    "\n",
    "## Moving and Removing files and directories\n",
    "\n",
    "* `$ mv filename.txt destination` - moves a file `filename.txt` into a destination direcory `destination` if `destination` exists, else, renames `filename.txt` into `destination`\n",
    "* `$ rm filename.txt` - removes a file `filename.txt` **[USE WITH CAUTION, CANNOT BE UNDONE]**\n"
   ]
  },
  {
   "cell_type": "markdown",
   "metadata": {},
   "source": [
    "## Inspecting commands\n",
    "* `$type` - Display information about the command type (useful for aliased commands) \n",
    "* `$which` - Locate a command (i.e. find where the executable is located)\n",
    "* `$help` - Display reference page for shell builtin\n",
    "* `$man` - Display an on-line command reference (hit ‘q‘ to quit)\n"
   ]
  },
  {
   "cell_type": "markdown",
   "metadata": {},
   "source": [
    "## A note on organization and computer hygiene \n",
    "\n",
    "* Organizing data and files is incredibly important - be kind to your future self, and keep good computer hygiene!\n",
    "* My suggested directory structure for a project, located at: `/users/aakashahamed/Desktop/Projects/Drone_Project`\n",
    "\n",
    "```\n",
    "project\n",
    "│   README.md\n",
    "│   file001.txt    \n",
    "│\n",
    "└───code/\n",
    "│   │   00_get_data.py\n",
    "│   │   01_process_data.py\n",
    "│   │\n",
    "│   └───submodule/\n",
    "│       │   file111.txt\n",
    "│       │   file112.txt\n",
    "│       │   ...\n",
    "│   \n",
    "└───data\n",
    "│   │\n",
    "│   └───Source1/\n",
    "│       │   file1.csv\n",
    "│       │   file2.txt\n",
    "│       │   ...\n",
    "│       │\n",
    "│   └───Source2/\n",
    "│       │   file1.csv\n",
    "│       │   file2.txt\n",
    "│       │   ...\n",
    "```"
   ]
  },
  {
   "cell_type": "code",
   "execution_count": null,
   "metadata": {},
   "outputs": [],
   "source": []
  }
 ],
 "metadata": {
  "kernelspec": {
   "display_name": "Python 3 (ipykernel)",
   "language": "python",
   "name": "python3"
  },
  "language_info": {
   "codemirror_mode": {
    "name": "ipython",
    "version": 3
   },
   "file_extension": ".py",
   "mimetype": "text/x-python",
   "name": "python",
   "nbconvert_exporter": "python",
   "pygments_lexer": "ipython3",
   "version": "3.12.7"
  }
 },
 "nbformat": 4,
 "nbformat_minor": 4
}
