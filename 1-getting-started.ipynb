{
 "cells": [
  {
   "cell_type": "markdown",
   "metadata": {},
   "source": [
    "# 1. Getting started\n",
    "\n",
    "1. Terminal and basic UNIX commands  \n",
    "      1. Operating Systems (windows, mac, linux, unix)   \n",
    "      2. Directories: print, change, make, remove, copy  \n",
    "         1. A note on project organization   \n",
    "         2. Example project repo structure  \n",
    "      3. Files: create, remove, copy, edit, open, edit (e.g., vim, nano)  \n",
    "      4. Text files: file types, text editors   \n",
    "   2. Interacting with Python  \n",
    "      1. Python interpreter / shell   \n",
    "      2. Python as a calculator   \n",
    "      3. Exiting the interpreter   \n",
    "      4. Python scripts (.py files)  \n",
    "         1. Hello world  \n",
    "         2. Fibonacci sequence  \n",
    "   3. Python modules  \n",
    "      1. Standard Library   \n",
    "         1. Math  \n",
    "      2. Printing  \n",
    "   4. Values, Types, Variables  \n",
    "      1. strings, numbers, bools   \n",
    "      2. Types (intro)  \n",
    "      3. Variables   \n",
    "         1. Variable naming conventions   \n",
    "         2. Don't override builtin names in the standard library\\!   \n",
    "   5. Installing packages  \n",
    "      1. Standard Library vs Packages   \n",
    "      2. Package managers  \n",
    "         1. Conda  \n",
    "         2. Pip  \n",
    "         3. Mamba  \n",
    "         4. Building packages  from source (e.g. via .zip or .tar)  \n",
    "   6. Managing and distributing packages with virtual environments   \n",
    "      1. Why virtual environments  \n",
    "         1. Conda  \n",
    "      2. Virtual environment best practices   \n",
    "         1. Project based vs workstream based   \n",
    "         2. Distribution with production code  \n",
    "   7. Distributing Environments  \n",
    "      1. yaml  \n",
    "      2. requirements.txt  \n",
    "      3. Example \\- clone and build an environment   \n",
    "         1. Create and activate a virtual environment with conda  \n",
    "         2. Install key packages (we’ll get into some of these later)  \n",
    "         3. Create a .yaml file describing the environment  \n",
    "         4. Deactivate the environment  \n",
    "         5. Create a new environment using the yaml file  \n",
    "            1. verify that it has the same packages as the first environment  \n",
    "   8. IDE Setup:  \n",
    "      1. Jupyter Notebooks / Lab:  \n",
    "         1. Customizing   \n",
    "         2. Available Kernels: Python, R, Julia  \n",
    "         3. Markdown (.Md files)  \n",
    "      2. VS Code  \n",
    "         1. .py files  \n",
    "         2. special comments to make ipynb-like cells\n",
    "\n"
   ]
  },
  {
   "cell_type": "markdown",
   "metadata": {},
   "source": [
    "### Why Python\n",
    "Python is among the most popular and versatile general purpose programming languages. \n",
    "\n",
    "Common uses include: \n",
    "* Data Science\n",
    "* Application Development\n",
    "* AI and Machine Learning\n",
    "* Backend Infrastructure\n",
    "* Rapid Prototyping\n",
    "* many more\n"
   ]
  },
  {
   "cell_type": "markdown",
   "metadata": {},
   "source": [
    "#### Python is among the most popular languages as of 2024\n",
    "\n",
    "![tiobe_idx.jpg](01_ims/tiobe_idx.jpg)"
   ]
  },
  {
   "cell_type": "markdown",
   "metadata": {},
   "source": [
    "#### Python is in demand and has a large community of users and applications\n",
    "\n",
    "![stackoverflow-trends-chart.svg](01_ims/stackoverflow-trends-chart.svg)"
   ]
  },
  {
   "cell_type": "markdown",
   "metadata": {},
   "source": [
    "## Operating Systems\n",
    "\n",
    "An operating system (OS) is the software that manages a computer's hardware and software, allowing users to interact with their device\n",
    "\n",
    "Examples\n",
    "* windows\n",
    "* mac\n",
    "* linux\n",
    "* unix\n",
    "* android\n",
    "* ios"
   ]
  },
  {
   "cell_type": "markdown",
   "metadata": {},
   "source": [
    "## Command Line Interface (CLI)\n",
    "\n",
    "A **command line interface (CLI)** is a means of interacting with a computer program by inputting lines of text called commands\n",
    "\n",
    "It takes some getting used to, if you've only previously interacted with a **graphical user interface (GUI)** that allows users to interact with electronic devices through graphical icons and visual indicators.\n",
    "\n",
    "But the investment is worth it - for instance - it's much easier to send a quick command to a colleague, rather than instructions for how to navigate a GUI.\n"
   ]
  },
  {
   "cell_type": "markdown",
   "metadata": {},
   "source": [
    "### Notation\n",
    "\n",
    "In these materials, we will use a dollar sign ($) to denote a shell command issued to a CLI. \n",
    "\n",
    "`$this is a shell command`\n",
    "\n",
    "We will use the **Anaconda prompt CLI**, though the commands should work with most unix-based systems, and the equivalent commands may be easily retrieved for windows-based systems.\n",
    "\n",
    "We will use a pound sign / hashtag (#) to denote a 'comment' - more on that soon\n",
    "\n",
    "`#this is a comment`\n",
    "\n",
    "In these materials, you will see something like “try the command `$pwd`”. \n",
    "\n",
    "Code blocks (like the following) will also be extensively used. Note that you don’t actually type the $ before the command.\n",
    "\n",
    "```\n",
    "# This is a comment, the $ on the next line is followed by a command.\n",
    "$pwd\n",
    "/Users/aakash/Desktop/py4wrds/01-getting-started\n",
    "# the previous line was output from the pwd command\n",
    "```\n"
   ]
  },
  {
   "cell_type": "markdown",
   "metadata": {},
   "source": [
    "### The Terminal\n",
    "\n",
    "A terminal, terminal emulator, or console is a program that displays text and accepts input. These programs emulate the behavior of physical computer terminals in past computing systems. Users of modern computing systems often have many terminal windows open at once. In the past, users were limited to the physical terminal they sat behind.\n",
    "\n",
    "**Windows:** On Windows operating systems, the built-in terminal program is called the Command Prompt. You may access it by navigating through `Start -> All Programs -> Accessories -> Command Prompt`.\n",
    "\n",
    "*Note*: in this class, we will use **Anaconda Prompt** which is a terminal available on windows which has Mac/Unix-like syntax. The equivalent commands may be easily retrieved for windows-based systems.\n",
    "\n",
    "**Mac:** On macOS, the built-in terminal program is called Terminal.app. It is located in `/Applications/Utilities`. One convenient way to start the program is to search for terminal using Spotlight.\n",
    "\n",
    "**Unix:** If you’re on a Unix operating system already, you likely know how to open a terminal. In Ubuntu, for example, you can simply use the keyboard shortcut Ctrl - Alt + T."
   ]
  },
  {
   "cell_type": "markdown",
   "metadata": {},
   "source": [
    "### The Shell\n",
    "\n",
    "A shell is a program that executes commands from the user and displays the result. There are many different shell programs - bash is quite popular; it’s been around since 1989 and is the default on macOS and most Linux distributions. \n",
    "\n",
    "![shell_image](01_ims/terminal-shell.png)"
   ]
  },
  {
   "cell_type": "markdown",
   "metadata": {},
   "source": [
    "## Navigating the CLI\n",
    "\n",
    "### Paths\n",
    "A `path` describes the location of a file or directory in a file system hierarchy. \n",
    "\n",
    "On unix-like systems (e.g. macOS and Linux) a single slash (/) indicates the very top (or root) of the file system. \n",
    "\n",
    "In longer path names, directories are separated by slashes. The last item (lacking a slash) may be either a file or a directory. If a path ends with a slash, it’s a directory.\n",
    "\n",
    "Common Windows Paths\n",
    "* `C:\\Users\\username`: Base folder for a specific user’s files and settings.\n",
    "* `C:\\Users\\username\\Documents`: Default location for the user’s documents.\n",
    "* `C:\\Users\\username\\Downloads`: Default folder for downloaded files.\n",
    "* `C:\\Users\\username\\Desktop`: User's desktop files and shortcuts.\n",
    "* `C:\\Users\\username\\AppData`: Stores application data, including settings and temporary files for applications. It’s hidden by default.\n",
    "\n",
    "\n",
    "Common Mac Paths\n",
    "* `/Users/aakashahamed/Downloads`: this is the downloads directory on my Mac.\n",
    "* `/Users/aakashahamed/Downloads/`: this is also the downloads directory on my Mac. Note the trailing slash to indicate that Downloads is a directory.\n",
    "* `/Users/aakashahamed/Downloads/syllabus.pdf`: this is the path to a downloaded PDF."
   ]
  },
  {
   "cell_type": "markdown",
   "metadata": {},
   "source": [
    "### Directories (AKA Folders)\n",
    "\n",
    "Hierarchical structure that organizes files on a computer into groups\n",
    "\n",
    "```\n",
    "/C://Users/aakash/Desktop/folder1/\n",
    "/C://Users/aakash/Desktop/folder1/file1.txt\n",
    "/C://Users/aakash/Desktop/folder1/file2.txt\n",
    "/C://Users/aakash/Desktop/folder2/\n",
    "/C://Users/aakash/Desktop/folder2/file1.txt\n",
    "/C://Users/aakash/Desktop/folder2/file2.txt\n",
    "\n",
    "```"
   ]
  },
  {
   "cell_type": "markdown",
   "metadata": {},
   "source": [
    "### Navigation\n",
    "\n",
    "Shell commands are executed *relative* to a working directory. \n",
    "\n",
    "Usually, when a shell first starts, the working directory is the user’s home directory.\n",
    "\n",
    "* `$pwd` - print working directory  \n",
    "* `$cd` - change directory\n",
    "* `$ls` - list items in working directory (Note: `$dir` on windows command prompt)\n",
    "  \n",
    "Special directory aliases:\n",
    "* The user's home directory: `~`\n",
    "* directory one higher in filesystem: `..`\n",
    "* working direcory: `.`\n",
    "* home directory: `cd`\n"
   ]
  },
  {
   "cell_type": "markdown",
   "metadata": {},
   "source": [
    "### Avoid spaces in directory and file names\n",
    "\n",
    "It is best to not use spaces in directory or file names. Most shell programs use a space as a delimiter between commands and arguments. \n",
    "\n",
    "Thus, spaces in file or directory names need to be escaped or quoted – a thing that is easy to forget.\n",
    "\n",
    "For example, let’s say we have a directory called `my docs`. \n",
    "\n",
    "If we try to enter the directory with `cd` with out handling the space, we get an error:\n",
    "\n",
    "```\n",
    "$cd my docs\n",
    "−bash: cd: my: No such file or directory\n",
    "```\n",
    "\n",
    "To make this work, we can either quote the directory name (note the “funny looking” un- derscore in the below text, and in these notes, is actually syntactically denoting a space):\n",
    "\n",
    "`$cd ”my docs”`\n",
    "\n",
    "Or escape the space with a backslash:\n",
    "\n",
    "`$cd my\\ docs`\n"
   ]
  },
  {
   "cell_type": "markdown",
   "metadata": {},
   "source": [
    "### Looking and previewing\n",
    "\n",
    "* `$ls` - list files / folders in working directory (Note: `$dir` on windows command prompt)\n",
    "* `$cat` - dump file content into terminal output\n",
    "* `file` - print helpful info about the file"
   ]
  },
  {
   "cell_type": "markdown",
   "metadata": {},
   "source": [
    "### Creating and copying files and directories\n",
    "\n",
    "* `$touch filename.txt` - creates an empty text file named `filename.txt`, or update timestamp if `filename.txt` exists\n",
    "* `$mkdir directoryname` - creates an empty directory named `directoryname`\n",
    "* `$cp filename.txt othername.txt` - copies a file `filename.txt` into a new file named `othername.txt`"
   ]
  },
  {
   "cell_type": "markdown",
   "metadata": {},
   "source": [
    "### Moving and Removing files and directories\n",
    "\n",
    "* `$mv filename.txt destination` - moves a file `filename.txt` into a destination direcory `destination` if `destination` exists, else, renames `filename.txt` into `destination`\n",
    "* `$rm filename.txt` - removes a file `filename.txt` **[USE WITH CAUTION, CANNOT BE UNDONE]**\n"
   ]
  },
  {
   "cell_type": "markdown",
   "metadata": {},
   "source": [
    "### Inspecting commands\n",
    "* `$type` - Display information about the command type (useful for aliased commands)\n",
    "* `$which` - Locate a command (i.e. find where the executable is located)\n",
    "* `$help` - Display reference page for shell builtin\n",
    "* `$man` - Display an on-line command reference (hit ‘q‘ to quit)\n"
   ]
  },
  {
   "cell_type": "markdown",
   "metadata": {},
   "source": [
    "### Quitting a command\n",
    "\n",
    "Sometimes you need to terminate a command. This is often possible with the ctrl+c key-board command. \n",
    "\n",
    "In documentation you might see this represented as ^ C, where ^ is a symbol indicating the ‘ctrl‘ key."
   ]
  },
  {
   "cell_type": "markdown",
   "metadata": {},
   "source": [
    "### A note on organization and computer hygiene \n",
    "\n",
    "* Organizing data and files is incredibly important - be kind to your future self, and keep good computer hygiene!\n",
    "* My suggested directory structure for a project, located at: `/users/aakashahamed/Desktop/Projects/Drone_Project`\n",
    "\n",
    "```\n",
    "project\n",
    "│   README.md\n",
    "│   file001.txt    \n",
    "│\n",
    "└───code/\n",
    "│   │   00_get_data.py\n",
    "│   │   01_process_data.py\n",
    "│   │\n",
    "│   └───submodule/\n",
    "│       │   file111.txt\n",
    "│       │   file112.txt\n",
    "│       │   ...\n",
    "│   \n",
    "└───data\n",
    "│   │\n",
    "│   └───Source1/\n",
    "│       │   file1.csv\n",
    "│       │   file2.txt\n",
    "│       │   ...\n",
    "│       │\n",
    "│   └───Source2/\n",
    "│       │   file1.csv\n",
    "│       │   file2.txt\n",
    "│       │   ...\n",
    "│   \n",
    "└───results\n",
    "│   │\n",
    "│   └───Analysis1/\n",
    "│       │   file1.csv\n",
    "│       │   file2.txt\n",
    "│       │   ...\n",
    "│       │\n",
    "│   └───Analysis2/\n",
    "│       │   file1.csv\n",
    "│       │   file2.txt\n",
    "│       │   ...\n",
    "```"
   ]
  },
  {
   "cell_type": "markdown",
   "metadata": {},
   "source": []
  },
  {
   "cell_type": "markdown",
   "metadata": {},
   "source": [
    "## Text Files\n",
    "\n",
    "A text file is a sequence of characters that can be opened by any text editor. In scientific computing and data science applications, text files can be used for a variety of tasks:\n",
    "\n",
    "### Common types\n",
    "* Alphanumeric characters (`.txt`)\n",
    "* Dataset storage in comma-separated value files (`.csv`)\n",
    "* Object serialization with JSON (`.json`)\n",
    "* Graphics with tools like SVG\n",
    "* Publication and presentation with LATEX (`.tex` file extension)\n",
    "* Tools for 3d models.\n",
    "* Software build systems (e.g. `GNUMake` or `CMake`)\n",
    "* Music notation\n",
    "\n",
    "One benefit of working with text files is that they can be checked into version control systems (e.g. git) and easily compared to previous versions. \n",
    "\n",
    "It is also possible to check binary files into a version control system (e.g. `.zip, .jpg, .xls, .docx`), but it is not as easy to find the differences from previous versions|"
   ]
  },
  {
   "cell_type": "markdown",
   "metadata": {},
   "source": [
    "### Text Editors\n",
    "\n",
    "Text editors that work in a terminal include [Vim](http://www.vim.org/), [Emacs](https://www.gnu.org/software/emacs/), and [Nano](https://www.nano-editor.org/). \n",
    "\n",
    "GUI Based text editors include [Sublime Text](https://www.sublimetext.com/), [Visual Studio Code](https://code.visualstudio.com/), [Pycharm](https://www.jetbrains.com/pycharm/) and [eclipse](https://eclipseide.org/)"
   ]
  },
  {
   "cell_type": "markdown",
   "metadata": {},
   "source": [
    "## Interacting with Python\n",
    "\n",
    "Python now has a long history. It started in ’89 as a project to keep Guido van Rossum occupied during the week around Christmas; \n",
    "* version 1.0 was released in 1994. \n",
    "* This class will use Python 3, which has [important differences from Python2](https://sebastianraschka.com/Articles/2014_python_2_3_key_diff.html#sections).\n",
    "\n",
    "Python is a [**high level language**](https://en.wikipedia.org/wiki/High-level_programming_language) that typically runs in an [interpreter](https://en.wikipedia.org/wiki/Interpreter_(computing)) -  a program that executes statements. \n",
    "\n",
    "Examples of high level interpreted languages: Python, R, Matlab, Perl, JavaScript\n",
    "\n"
   ]
  },
  {
   "cell_type": "markdown",
   "metadata": {},
   "source": [
    "### The Interpreter\n",
    "\n",
    "* An interpreter is a program that reads and executes commands.\n",
    "* It is also sometimes called a REPL or read-evaluate-print-loop.\n",
    "* One way to interact with Python is to use the interpreter.\n",
    "* This is useful for interactive work, learning, and simple testing.\n",
    "* Remember: when you see a `$` in code blocks, it typically indicates a shell command. For example:\n",
    "\n",
    "```\n",
    "     $ls -1 *.txt\n",
    "     file1.txt\n",
    "     file2.txt\n",
    "     file3.txt     \n",
    "```\n",
    "\n",
    "\n",
    "\n",
    "* A `>>>` in code blocks signifies a command for the Python interpreter.\n",
    "* The basic Python interpreter is good for simple computations or checks. IPython pro-vides more functionality (e.g. tab completion, syntax highlighting); see `$ ipython3`."
   ]
  },
  {
   "cell_type": "markdown",
   "metadata": {},
   "source": [
    "### Python as a calculator\n",
    "\n",
    "Open anaconda prompt and type `$python` in the shell to launch the interpreter\n",
    "\n",
    "You should see something like the following: \n",
    "\n",
    "```\n",
    "Python 3.12.7 | packaged by Anaconda, Inc. | (main, Oct  4 2024, 08:22:19) [Clang 14.0.6 ] on darwin\n",
    "Type \"help\", \"copyright\", \"credits\" or \"license\" for more information.\n",
    ">>> \n",
    "```\n",
    "\n",
    "Note that the `>>>` means you are ready to issue a python command.\n",
    "\n",
    "Try the following in the python interpreter:\n",
    "```\n",
    ">>> 4+7\n",
    "11\n",
    ">>> 12*3\n",
    "36\n",
    ">>> 8-3.4\n",
    "4.6\n",
    ">>> 5/3\n",
    "1.6666666666666667\n",
    ">>> 5//3 #floor division\n",
    "1\n",
    ">>> -5//3\n",
    "-2\n",
    ">>> 5.0/3\n",
    "1.6666666666666667\n",
    ">>> 5.0//3\n",
    "1.0\n",
    ">>> 5%3\n",
    "2\n",
    "```"
   ]
  },
  {
   "cell_type": "markdown",
   "metadata": {},
   "source": [
    "#### Anything Surprising?\n",
    "\n",
    "* Division between two integers with `/` returns a floating point number.\n",
    "* The operator `//` performs floor division (rounds down).\n",
    "* The `%` (modulus) operator returns the remainder for integer division.\n",
    "\n",
    "#### Integers and floating point numbers\n",
    "\n",
    "This will be discussed in more detail in later modules, while these data types and operators sound trivial, they matter - bad numerical computing has resulted in [multiple disasters](https://www.ima.umn.edu/~arnold/disasters/).\n",
    "\n"
   ]
  },
  {
   "cell_type": "markdown",
   "metadata": {},
   "source": [
    "### Exiting the python interpreter\n",
    "\n",
    "Simply type `exit()`, `quit()`, or ctrl+d while in the interpreter:\n",
    "\n",
    "```\n",
    "$python\n",
    "Python 3.12.7 | packaged by Anaconda, Inc. | (main, Oct  4 2024, 08:22:19) [Clang 14.0.6 ] on darwin\n",
    "Type \"help\", \"copyright\", \"credits\" or \"license\" for more information.\n",
    ">>> exit\n",
    "Use exit() or Ctrl-D (i.e. EOF) to exit\n",
    ">>> exit()\n",
    "$\n",
    "\n",
    "```"
   ]
  },
  {
   "cell_type": "markdown",
   "metadata": {},
   "source": [
    "## Python Scripts (.py files)\n",
    "\n",
    "Python files (.py suffix), known as 'scripts' are a convenient way of interacting with python, through a text file containing python code. "
   ]
  },
  {
   "cell_type": "markdown",
   "metadata": {},
   "source": [
    "Let's create and execute our first python script. \n",
    "\n",
    "First\n",
    "1. Open Anaconda Prompt CLI, \n",
    "2. change directory to your desktop, and \n",
    "3. create a folder named `py4wrds`\n",
    "\n",
    "Your commands might look something like this:\n",
    "\n",
    "```\n",
    "$cd C://Users/aakash/Desktop\n",
    "$mkdir py4wrds\n",
    "$cd py4rds \n",
    "```\n",
    "\n",
    "Create a python script called `hello_world.py` by typing into the terminal: \n",
    "\n",
    "`$nano hello_world.py`\n",
    "\n",
    "This will open a `nano` text editor within your terminal. \n",
    "\n",
    "type in the following python code:\n",
    "\n",
    "```print(\"hello world!\")```\n",
    "\n",
    "Now hit the 'ctrl + x keys', the 'y' key when asked if you want to save, and hit enter.  \n",
    "\n",
    "If you type `$ls` into the terminal, you should see the file we just created. \n",
    "\n",
    "Run it by typing:\n",
    "\n",
    "`python hello_world.py`\n",
    "\n",
    "What do you see? "
   ]
  },
  {
   "cell_type": "markdown",
   "metadata": {},
   "source": [
    "### Scripts are extensible \n",
    "\n",
    "Let’s write a simple Python script to compute the first `n` numbers in the Fibonacci series. \n",
    "\n",
    "Each number in the Fibonacci series is the sum of the two previous numbers:\n",
    "\n",
    "$F(i) = F(i−1)+F(i−2)$ for all $i ≥ 2. $\n",
    "\n",
    "Numbers F(0) to F(10) can be computed with the following Python code:\n"
   ]
  },
  {
   "cell_type": "code",
   "execution_count": 1,
   "metadata": {},
   "outputs": [
    {
     "name": "stdout",
     "output_type": "stream",
     "text": [
      "0,1,1,2,3,5,8,13,21,34,55,"
     ]
    }
   ],
   "source": [
    "# We wish to calculate up to Fib(10).\n",
    "n = 10 \n",
    "\n",
    "if n >=0:\n",
    "    fn2=0 # initialize second fib #\n",
    "    print(fn2, end = ',')\n",
    "\n",
    "if n >=0:\n",
    "    fn1=1 # initialize 1st fib #\n",
    "    print(fn1, end = ',')\n",
    "    \n",
    "for i in range(2,n+1):\n",
    "    fn = fn1 + fn2 # Recurrence relation is f(n) = f(n-1) + f(n-2).\n",
    "    print(fn,end=',') \n",
    "    fn2 = fn1 # Update values for next iteration\n",
    "    fn1 = fn # ...for both f(n-2) and f(n-1).\n"
   ]
  },
  {
   "cell_type": "markdown",
   "metadata": {},
   "source": [
    "### Extending for all N\n",
    "\n",
    "We can easily package this into a python file which accepts a number as an input, and calculates the relevante fibonacci sequence: "
   ]
  },
  {
   "cell_type": "markdown",
   "metadata": {},
   "source": [
    "```\n",
    "import sys\n",
    "\n",
    "# We wish to calculate up to Fib(10).\n",
    "n = int(sys.argv[1])\n",
    "\n",
    "if n >=0:\n",
    "    fn2=0 # initialize second fib #\n",
    "    print(fn2, end = ',')\n",
    "\n",
    "if n >=0:\n",
    "    fn1=1 # initialize 1st fib #\n",
    "    print(fn1, end = ',')\n",
    "    \n",
    "for i in range(2,n+1):\n",
    "    fn = fn1 + fn2 # Recurrence relation is f(n) = f(n-1) + f(n-2).\n",
    "    print(fn,end=',') \n",
    "    fn2 = fn1 # Update values for next iteration\n",
    "    fn1 = fn # ...for both f(n-2) and f(n-1).\n",
    "```"
   ]
  },
  {
   "cell_type": "markdown",
   "metadata": {},
   "source": [
    "If we save this code in a python file named `fib_extend.py`, we can instruct it to obtain the value of `n` from the command line:\n",
    "\n",
    "```\n",
    "$python3 fib_extend.py 0 \n",
    "0,\n",
    "\n",
    "$python3 fib_extend.py 5 \n",
    "0, 1, 1, 2, 3, 5,\n",
    "\n",
    "$python3 fib_extend.py 21\n",
    "0, 1, 1, 2, 3, 5, 8, 13, 21, 34, 55, 89, 144, 233, 377, 610, 987, 1597, 2584, 4181, 6765, 10946,\n",
    "```"
   ]
  },
  {
   "cell_type": "markdown",
   "metadata": {},
   "source": [
    "## Python Modules\n",
    "\n",
    "About Python modules:\n",
    "* A module is a collection of Python resources (functions, variables, objects, classes) that can be easily loaded into Python via `import` statements.\n",
    "* Modules allow for easy code reuse and organization.\n",
    "* Modules allow the programmer to keep various functionality in different namespaces.\n",
    "\n",
    "If you are familiar with MATLAB or R, you may come to Python and be confused by:\n",
    "\n",
    "`sqrt(3) # --> Yields a NameError: name 'sqrt' not defined.`\n",
    "\n",
    "The Python language does not have a built in sqrt function; this subroutine exists in the\n",
    "`math` module.\n",
    "\n",
    "```\n",
    ">>>import math\n",
    ">>>math.sqrt(9)\n",
    "3\n",
    "```\n"
   ]
  },
  {
   "cell_type": "markdown",
   "metadata": {},
   "source": [
    "### The python standard library\n",
    "\n",
    "* There are a large number of modules in the Python Standard Library: https://docs.python.org/3/library/index.html\n",
    "\n",
    "* It is often useful to explore the Python documentation in the interpreter. See >>> help(math) and >>> help(math.sqrt) from the interpreter.\n",
    "\n",
    "* common stdlib helpers: \n",
    "`enumerate()`\n",
    "`sorted()`\n",
    "`zip()` `map()` `filter()` etc..."
   ]
  },
  {
   "cell_type": "markdown",
   "metadata": {},
   "source": [
    "### The Print Module - Printing outputs to the interpreter\n",
    "\n",
    "The Python interpreter will echo the output of the last (non-assignment) statement in a code block:\n"
   ]
  },
  {
   "cell_type": "code",
   "execution_count": 2,
   "metadata": {},
   "outputs": [
    {
     "data": {
      "text/plain": [
       "2"
      ]
     },
     "execution_count": 2,
     "metadata": {},
     "output_type": "execute_result"
    }
   ],
   "source": [
    "1+1 # Echos --> 2"
   ]
  },
  {
   "cell_type": "code",
   "execution_count": 3,
   "metadata": {},
   "outputs": [
    {
     "data": {
      "text/plain": [
       "10"
      ]
     },
     "execution_count": 3,
     "metadata": {},
     "output_type": "execute_result"
    }
   ],
   "source": [
    "5+5 # Echos --> 10"
   ]
  },
  {
   "cell_type": "code",
   "execution_count": 4,
   "metadata": {},
   "outputs": [],
   "source": [
    "myvar = 101 # Nothing is printed to console."
   ]
  },
  {
   "cell_type": "markdown",
   "metadata": {},
   "source": [
    "You can use the `print()` function if you wish to inspect the content of a variable:"
   ]
  },
  {
   "cell_type": "code",
   "execution_count": 5,
   "metadata": {},
   "outputs": [
    {
     "name": "stdout",
     "output_type": "stream",
     "text": [
      "99\n"
     ]
    }
   ],
   "source": [
    "a=99\n",
    "print(a) # Echos --> 99."
   ]
  },
  {
   "cell_type": "markdown",
   "metadata": {},
   "source": [
    "By default, `print()` adds a new line character at the end for printing."
   ]
  },
  {
   "cell_type": "code",
   "execution_count": 6,
   "metadata": {},
   "outputs": [
    {
     "name": "stdout",
     "output_type": "stream",
     "text": [
      "hi\n",
      "everyone\n"
     ]
    }
   ],
   "source": [
    "print(\"hi\") # These contents are ...\n",
    "print(\"everyone\") # ... printed on two lines."
   ]
  },
  {
   "cell_type": "markdown",
   "metadata": {},
   "source": [
    "This behavior can be changed by setting the end keyword parameter in the print function."
   ]
  },
  {
   "cell_type": "code",
   "execution_count": 7,
   "metadata": {},
   "outputs": [
    {
     "name": "stdout",
     "output_type": "stream",
     "text": [
      "hi everyone\n"
     ]
    }
   ],
   "source": [
    "print(\"hi\", end = ' ') # Now prints a space after \"hi\" instead of a newline ('\\n')\n",
    "print(\"everyone\") # The result looks like -- \"hi cme211\" on its own line."
   ]
  },
  {
   "cell_type": "markdown",
   "metadata": {},
   "source": [
    "The print() function can print several strings at once on the same line: "
   ]
  },
  {
   "cell_type": "code",
   "execution_count": 8,
   "metadata": {},
   "outputs": [
    {
     "name": "stdout",
     "output_type": "stream",
     "text": [
      "apple bananna orange\n"
     ]
    }
   ],
   "source": [
    "print(\"apple\", \"bananna\", \"orange\")\n"
   ]
  },
  {
   "cell_type": "markdown",
   "metadata": {},
   "source": [
    "The default separator is a space. This can be changed by setting the sep keyword parameter:"
   ]
  },
  {
   "cell_type": "code",
   "execution_count": 9,
   "metadata": {},
   "outputs": [
    {
     "name": "stdout",
     "output_type": "stream",
     "text": [
      "apple, bananna, orange\n"
     ]
    }
   ],
   "source": [
    "# Add a comma in addition to a space.\n",
    "print(\"apple\", \"bananna\", \"orange\", sep = \", \")"
   ]
  },
  {
   "cell_type": "markdown",
   "metadata": {},
   "source": [
    "Python strings can be “formatted” with the format method: \n"
   ]
  },
  {
   "cell_type": "code",
   "execution_count": 10,
   "metadata": {},
   "outputs": [
    {
     "name": "stdout",
     "output_type": "stream",
     "text": [
      "The area of a circle of radius 10 is 314.1592653589793\n"
     ]
    }
   ],
   "source": [
    "import math \n",
    "r=10\n",
    "print(\"The area of a circle of radius {} is {}\".format(r, math.pi * math.pow(r, 2)))"
   ]
  },
  {
   "cell_type": "markdown",
   "metadata": {},
   "source": [
    "The curly braces ({}) get replaced by the arguments to format() in order."
   ]
  },
  {
   "cell_type": "markdown",
   "metadata": {},
   "source": [
    "## Values, Types, Variables \n",
    "\n",
    "### Values\n",
    "A value is the fundamental thing that a program manipulates or uses to perform operations. A value is data.\n",
    "Here is a string value."
   ]
  },
  {
   "cell_type": "code",
   "execution_count": 11,
   "metadata": {},
   "outputs": [
    {
     "data": {
      "text/plain": [
       "'hello world'"
      ]
     },
     "execution_count": 11,
     "metadata": {},
     "output_type": "execute_result"
    }
   ],
   "source": [
    "'hello world'"
   ]
  },
  {
   "cell_type": "markdown",
   "metadata": {},
   "source": [
    "#### Strings\n",
    "\n",
    "A string is a sequence of alphanumeric characters. It is denoted by quotes (single or double): \n",
    "* \"This is a string\"\n",
    "* 'this is also a string'\n",
    "* \"this_is_also_a_string\"\n",
    "\n",
    "A docstring is instructions left in the code. It is denoted by triple quotes: \n",
    "* '''This is a docstring'''"
   ]
  },
  {
   "cell_type": "code",
   "execution_count": 12,
   "metadata": {},
   "outputs": [
    {
     "name": "stdout",
     "output_type": "stream",
     "text": [
      "this is a string\n",
      "this is also string\n",
      "this is a docstring\n"
     ]
    }
   ],
   "source": [
    "print('this is a string')\n",
    "print(\"this is also string\")\n",
    "print('''this is a docstring''')"
   ]
  },
  {
   "cell_type": "markdown",
   "metadata": {},
   "source": [
    "#### Numbers\n",
    "\n",
    "There are two types of numerical values in python: integers (ints) and floats\n",
    "\n",
    "Integers represent whole numbers while floats represent decimals"
   ]
  },
  {
   "cell_type": "code",
   "execution_count": 13,
   "metadata": {},
   "outputs": [
    {
     "data": {
      "text/plain": [
       "int"
      ]
     },
     "execution_count": 13,
     "metadata": {},
     "output_type": "execute_result"
    }
   ],
   "source": [
    "type(-2)"
   ]
  },
  {
   "cell_type": "code",
   "execution_count": 14,
   "metadata": {},
   "outputs": [
    {
     "data": {
      "text/plain": [
       "float"
      ]
     },
     "execution_count": 14,
     "metadata": {},
     "output_type": "execute_result"
    }
   ],
   "source": [
    "type(2.5)"
   ]
  },
  {
   "cell_type": "markdown",
   "metadata": {},
   "source": [
    "#### Bools\n",
    "\n",
    "There are only two \"Boolean value\" - `True` and `False`"
   ]
  },
  {
   "cell_type": "code",
   "execution_count": 15,
   "metadata": {},
   "outputs": [
    {
     "data": {
      "text/plain": [
       "True"
      ]
     },
     "execution_count": 15,
     "metadata": {},
     "output_type": "execute_result"
    }
   ],
   "source": [
    "True"
   ]
  },
  {
   "cell_type": "code",
   "execution_count": 16,
   "metadata": {},
   "outputs": [
    {
     "data": {
      "text/plain": [
       "False"
      ]
     },
     "execution_count": 16,
     "metadata": {},
     "output_type": "execute_result"
    }
   ],
   "source": [
    "False"
   ]
  },
  {
   "cell_type": "markdown",
   "metadata": {},
   "source": [
    "It will become obvious why we will want to use these later. \n",
    "\n",
    "Remember - all values have a **type**: \n",
    "\n",
    "### Types (introduction)\n",
    "\n",
    "In Python there are several fundamental **data types** :\n",
    "* bool: values either True and False\n",
    "* str: for strings like \"Hello world\"\n",
    "* int: for integers like 1, 42, and -5\n",
    "* float: for floating point numbers like 96.8\n",
    "\n",
    "use the `type()` function to Python to determine the data type of a value.\n"
   ]
  },
  {
   "cell_type": "code",
   "execution_count": 17,
   "metadata": {},
   "outputs": [
    {
     "data": {
      "text/plain": [
       "int"
      ]
     },
     "execution_count": 17,
     "metadata": {},
     "output_type": "execute_result"
    }
   ],
   "source": [
    "type(44)"
   ]
  },
  {
   "cell_type": "code",
   "execution_count": 18,
   "metadata": {},
   "outputs": [
    {
     "data": {
      "text/plain": [
       "float"
      ]
     },
     "execution_count": 18,
     "metadata": {},
     "output_type": "execute_result"
    }
   ],
   "source": [
    "type(83.4)"
   ]
  },
  {
   "cell_type": "code",
   "execution_count": 19,
   "metadata": {},
   "outputs": [
    {
     "data": {
      "text/plain": [
       "bool"
      ]
     },
     "execution_count": 19,
     "metadata": {},
     "output_type": "execute_result"
    }
   ],
   "source": [
    "type(False)"
   ]
  },
  {
   "cell_type": "code",
   "execution_count": 20,
   "metadata": {},
   "outputs": [
    {
     "data": {
      "text/plain": [
       "str"
      ]
     },
     "execution_count": 20,
     "metadata": {},
     "output_type": "execute_result"
    }
   ],
   "source": [
    "type(\"hello world\")"
   ]
  },
  {
   "cell_type": "markdown",
   "metadata": {},
   "source": [
    "### Variables \n",
    "\n",
    "One of the most basic and powerful concepts in programming is that of a **variable**, which associates a name to a value."
   ]
  },
  {
   "cell_type": "code",
   "execution_count": 21,
   "metadata": {},
   "outputs": [
    {
     "name": "stdout",
     "output_type": "stream",
     "text": [
      "42\n"
     ]
    }
   ],
   "source": [
    "message = \"hello world!\"\n",
    "n=42\n",
    "e=2.71\n",
    "print(n) # Echos 42."
   ]
  },
  {
   "cell_type": "markdown",
   "metadata": {},
   "source": [
    "The last expression shows its possible to print a variable. Everything after the # symbol is part of a comment that is disregarded by the interpreter.\n",
    "\n",
    "**It is almost always preferred to use variables over values.**\n",
    "\n",
    "Why? \n",
    "* Easier to update code \n",
    "* Easier to understand code (useful naming) \n",
    "\n",
    "For example, What does the following code do:"
   ]
  },
  {
   "cell_type": "code",
   "execution_count": 22,
   "metadata": {},
   "outputs": [
    {
     "data": {
      "text/plain": [
       "13.86"
      ]
     },
     "execution_count": 22,
     "metadata": {},
     "output_type": "execute_result"
    }
   ],
   "source": [
    "4.2 * 3.3"
   ]
  },
  {
   "cell_type": "markdown",
   "metadata": {},
   "source": [
    "Obviously, we’re multiplying two  values, but what’s the purpose of the computation? \n",
    "\n",
    "If the values are assigned to **variables with meaningful names**, we might have something like the following:"
   ]
  },
  {
   "cell_type": "code",
   "execution_count": 28,
   "metadata": {},
   "outputs": [
    {
     "name": "stdout",
     "output_type": "stream",
     "text": [
      "13.86\n"
     ]
    }
   ],
   "source": [
    "length = 4.2\n",
    "height = 3.3\n",
    "area = length * height\n",
    "print(area)"
   ]
  },
  {
   "cell_type": "markdown",
   "metadata": {},
   "source": [
    "Now a person reading the code has a good idea of what the values represent and what the output of the code means."
   ]
  },
  {
   "cell_type": "markdown",
   "metadata": {},
   "source": [
    "#### Variable naming conventions\n",
    "\n",
    "Variables names must start with a letter or an underscore, such as: <br>\n",
    "`_underscore = 'string'`<br>\n",
    "`underscore = 4`<br>\n",
    "\n",
    "\n",
    "The remainder of your variable name may consist of letters, numbers and underscores: <br>\n",
    "`password1 = \"...\"` <br>\n",
    "`n00b = math.pi` <br>\n",
    "`under_scores = \"__\"` <br>\n",
    "\n",
    "Names are case sensitive, i.e. `case_sensitive`, `CASE_SENSITIVE`, and `Case_Sensitive` are all different.\n",
    "\n",
    "#### Variable naming style\n",
    "One letter characters such as `a`, `b`, and `c` are too short and not at all descriptive (in general) for meaningful variable names.\n",
    "\n",
    "On the other hand, something like `number_of_particles_in_target_region` is too long;\n",
    "\n",
    "A better balance might be `num_target_particles`. Perhaps instead of underscore, we prefer camel case i.e. `numTargetParticles`. This is quite important for code readability. \n",
    "\n",
    "People think about this a lot. See: [Naming stuff matters](https://speakerdeck.com/jennybc/how-to-name-files)! \n",
    "\n",
    "Variable names (and file names) should be:\n",
    "* machine readable (i.e., no spaces)\n",
    "* Human readable (m_import_clean_data.R)\n",
    "* Makes default ordering easy (i.e., dates are always YYYY-MM-DD)\n",
    "\n",
    "#### Variable naming DON'Ts\n",
    "\n",
    "* Don't override builtin names in the standard library! --> Introduces errors"
   ]
  },
  {
   "cell_type": "code",
   "execution_count": 29,
   "metadata": {},
   "outputs": [
    {
     "ename": "TypeError",
     "evalue": "'str' object is not callable",
     "output_type": "error",
     "traceback": [
      "\u001b[0;31m---------------------------------------------------------------------------\u001b[0m",
      "\u001b[0;31mTypeError\u001b[0m                                 Traceback (most recent call last)",
      "Cell \u001b[0;32mIn[29], line 1\u001b[0m\n\u001b[0;32m----> 1\u001b[0m \u001b[38;5;28mprint\u001b[39m(\u001b[38;5;28;43mabs\u001b[39;49m\u001b[43m(\u001b[49m\u001b[38;5;241;43m-\u001b[39;49m\u001b[38;5;241;43m7\u001b[39;49m\u001b[43m)\u001b[49m)\n\u001b[1;32m      2\u001b[0m \u001b[38;5;28mabs\u001b[39m \u001b[38;5;241m=\u001b[39m \u001b[38;5;124m\"\u001b[39m\u001b[38;5;124msome string\u001b[39m\u001b[38;5;124m\"\u001b[39m\n\u001b[1;32m      3\u001b[0m \u001b[38;5;28mprint\u001b[39m(\u001b[38;5;28mabs\u001b[39m(\u001b[38;5;241m-\u001b[39m\u001b[38;5;241m4\u001b[39m)) \u001b[38;5;66;03m# TypeError: 'str' object is not callable.\u001b[39;00m\n",
      "\u001b[0;31mTypeError\u001b[0m: 'str' object is not callable"
     ]
    }
   ],
   "source": [
    "print(abs(-7))\n",
    "abs = \"some string\"\n",
    "print(abs(-4)) # TypeError: 'str' object is not callable."
   ]
  },
  {
   "cell_type": "markdown",
   "metadata": {},
   "source": [
    "## Packages  \n",
    "\n",
    "Packages are modules that are not included with the standard library. We already saw how the standard libarary extend the functionality of \"pure\" python - the standard library package `math` can be helpful in determining $\\pi$"
   ]
  },
  {
   "cell_type": "code",
   "execution_count": 26,
   "metadata": {},
   "outputs": [
    {
     "data": {
      "text/plain": [
       "3.141592653589793"
      ]
     },
     "execution_count": 26,
     "metadata": {},
     "output_type": "execute_result"
    }
   ],
   "source": [
    "import math\n",
    "math.pi"
   ]
  },
  {
   "cell_type": "markdown",
   "metadata": {},
   "source": [
    "Indeed, we can leverage packages for *many* useful programming tasks (all the way through plotting and machine learning!). \n",
    "\n",
    "Third-party packages extend Python’s capabilities, allowing users to handle tasks like web development (Django), data science (NumPy, pandas), and more. Packages are not included in the standard library and must be installed. Package managers are a convenient way to install key packages. "
   ]
  },
  {
   "cell_type": "markdown",
   "metadata": {},
   "source": [
    "### Package managers  \n",
    "\n",
    "Package Managers are tools that help manage Python packages, including installation, upgrades, and dependency handling. Generally, package managers interact with the command line interface.\n",
    "\n",
    "Key Python package managers:\n",
    "\n",
    "#### Conda  \n",
    "* Conda - A popular package and environment manager, particularly in scientific computing and data science.\n",
    "    * Works well with non-Python dependencies.\n",
    "    * Installation: `conda install package_name`\n",
    "\n",
    "#### Pip  \n",
    "* Pip - The default Python package manager, suitable for most Python packages.\n",
    "    * Installation: `pip install package_name`\n",
    "\n",
    "#### Mamba  \n",
    "* Mamba - A faster alternative to Conda, using the same commands but significantly improving installation speed.\n",
    "    * Installation: `mamba install package_name`\n",
    "\n",
    "#### Building packages  from source (e.g. via .zip or .tar)  \n",
    "* Building Packages from Source\n",
    "    * Sometimes, packages may not be available through package managers. In such cases, users can download source files (e.g., .zip or .tar).\n",
    "    * Unpack the file, navigate to the directory, and run `python setup.py install` to install the package manually.\n",
    "    * CAUTION - BE SURE THAT THE SOFTWARE YOU INSTALL COMES FROM A TRUSTED SOURCE! \n",
    "    \n",
    "\n",
    "Note: We will get an error if we try to import a package that we don't have"
   ]
  },
  {
   "cell_type": "code",
   "execution_count": 32,
   "metadata": {},
   "outputs": [
    {
     "ename": "ModuleNotFoundError",
     "evalue": "No module named 'somepackage'",
     "output_type": "error",
     "traceback": [
      "\u001b[0;31m---------------------------------------------------------------------------\u001b[0m",
      "\u001b[0;31mModuleNotFoundError\u001b[0m                       Traceback (most recent call last)",
      "Cell \u001b[0;32mIn[32], line 1\u001b[0m\n\u001b[0;32m----> 1\u001b[0m \u001b[38;5;28;01mimport\u001b[39;00m \u001b[38;5;21;01msomepackage\u001b[39;00m\n",
      "\u001b[0;31mModuleNotFoundError\u001b[0m: No module named 'somepackage'"
     ]
    }
   ],
   "source": [
    "import somepackage"
   ]
  },
  {
   "cell_type": "markdown",
   "metadata": {},
   "source": [
    "### Managing and distributing packages with virtual environments\n",
    "\n",
    "#### Why virtual environments\n",
    "\n",
    "Virtual environments are isolated Python environments, allowing for project-specific dependencies and versioning without interference.\n",
    "\n",
    "`Conda` can create virtual environments for various versions of Python, isolating package versions per environment.\n",
    "\n",
    "#### Best Practices\n",
    "\n",
    "1. Project-based vs. Workstream-based\n",
    "* Project-based environments isolate dependencies to specific projects, ideal for large projects with unique dependencies.\n",
    "* Workstream-based environments organize dependencies for a type of work (e.g., data science, machine learning), enabling shared setup across projects.\n",
    "\n",
    "\n",
    "2. Distribution with Production Code\n",
    "* For production code, virtual environments should be configured with specific dependencies and versions to prevent deployment issues."
   ]
  },
  {
   "cell_type": "markdown",
   "metadata": {},
   "source": [
    "## Distributing Environments\n",
    "\n",
    "Environment Files:\n",
    "* `environment.yaml` file (Conda): Stores all environment dependencies for easy replication.\n",
    "* `requirements.txt` file (Pip): Lists the required packages and their versions for a project.\n",
    "\n",
    "### Example: Creating, Exporting, and Building an Environment\n",
    "\n",
    "Create and activate a virtual environment with Conda. From anaconda prompt, type: \n",
    "```\n",
    "$conda create -n py4wrds python=3.12\n",
    "$conda activate py4wrds\n",
    "```\n",
    "\n",
    "#### Install Key Packages\n",
    "\n",
    "`conda install numpy pandas matplotlib`\n",
    "\n",
    "More on these packages later. \n",
    "\n",
    "#### Create a .yaml File Describing the packages contained in the Environment\n",
    "\n",
    "`$conda env export > environment.yaml`\n",
    "\n",
    "the `environment.yaml` file may now be distributed to colleagues, and can be used to reproduce the environment with the following command: \n",
    "\n",
    "`$conda env create -f environment.yaml`\n",
    "\n",
    "Verification: Check that the new environment has the same packages using `$conda list`.\n",
    "\n",
    "#### Deactivate the Environment\n",
    "\n",
    "`conda deactivate`\n",
    "\n"
   ]
  },
  {
   "cell_type": "markdown",
   "metadata": {},
   "source": [
    "## Integrated Development Environment Setup\n",
    "\n",
    "An Integrated Development Environment, or IDE, is software that provides a suite of tools for writing, testing, and debugging code, all within a single application. Its purpose is to streamline the development process, making it easier and more efficient to write and maintain code. \n",
    "\n",
    "The main purposes and features of an IDE are:\n",
    "\n",
    "**1. Code Editing**:\n",
    "    * Offers a code editor with features like syntax highlighting, autocompletion, and formatting, which help improve code readability and reduce errors.\n",
    "\n",
    "**2. Debugging**:\n",
    "    * Includes built-in debugging tools that let you step through your code, set breakpoints, inspect variables, and catch errors, helping you troubleshoot issues more effectively.\n",
    "\n",
    "**3. Code Navigation**:\n",
    "    * Allows easy navigation through files, classes, functions, and modules. This is particularly useful in large projects where keeping track of all files and references would be difficult otherwise.\n",
    "\n",
    "**4. Project Management**:\n",
    "    * Organizes files, folders, and resources, often with version control integration (e.g., Git), so that developers can manage and collaborate on projects.\n",
    "\n",
    "**5. Environment Integration**:\n",
    "    * Integrates with compilers, interpreters, and virtual environments, so developers can easily run and test their code within the IDE. Some IDEs also support package management and deployment tools.\n",
    "\n",
    "Popular IDEs for Python include PyCharm, Visual Studio Code, and JupyterLab, each offering tailored features for different types of projects and development needs. "
   ]
  },
  {
   "cell_type": "markdown",
   "metadata": {},
   "source": [
    "### Jupyter Notebooks / Lab:\n",
    "\n",
    "Jupyter started as iPython, Fernando Perez's graduate school hobby project to make his PhD data analysis and plotting more interactive.\n",
    "\n",
    "The Jupyter ecosystem has evolved into a set of interactive development tools commonly used in data science, machine learning, and research. They allow users to combine code, text, and multimedia (e.g., plots, images) in a single document, which is ideal for interactive data analysis and storytelling. This tutorial was created using Jupyter Notebook, which are:\n",
    "\n",
    "* Interactive: write and run code in small, manageable chunks (cells), making it easy to test and debug code line by line or section by section.\n",
    "\n",
    "* Data Visualization Friendly: integrates well with visualization libraries (e.g., Matplotlib, Seaborn), allowing users to create and display graphs within the notebook cells, making data analysis highly interactive and visual.\n",
    "\n",
    "* Documentation and Markdown Support: allows users to document their code, add explanations, and format text directly alongside their code, enhancing readability and collaboration.\n",
    "\n",
    "* Support for Multiple Languages: Through various 'kernels', Jupyter supports multiple programming languages including Python, R, Julia, and more\n",
    "\n",
    "* JupyterLab, the next-generation interface, allows users to work with notebooks, terminals, text editors, and file browsers all in one tabbed or split-pane layout.\n"
   ]
  },
  {
   "cell_type": "markdown",
   "metadata": {},
   "source": [
    "### Basic Commands to Launch Jupyter Tools\n",
    "\n",
    "* start Jupyter Notebook: `$jupyter notebook`\n",
    "* launch JupyterLab: `$jupyter lab`\n",
    "* list Available Jupyter Kernels: `$jupyter kernelspec list`"
   ]
  },
  {
   "cell_type": "markdown",
   "metadata": {},
   "source": [
    "### [TODO] VS Code\n",
    "#### .py files\n",
    "#### special comments to make ipynb-like cells"
   ]
  },
  {
   "cell_type": "code",
   "execution_count": null,
   "metadata": {},
   "outputs": [],
   "source": []
  }
 ],
 "metadata": {
  "kernelspec": {
   "display_name": "Python 3 (ipykernel)",
   "language": "python",
   "name": "python3"
  },
  "language_info": {
   "codemirror_mode": {
    "name": "ipython",
    "version": 3
   },
   "file_extension": ".py",
   "mimetype": "text/x-python",
   "name": "python",
   "nbconvert_exporter": "python",
   "pygments_lexer": "ipython3",
   "version": "3.9.18"
  }
 },
 "nbformat": 4,
 "nbformat_minor": 4
}
