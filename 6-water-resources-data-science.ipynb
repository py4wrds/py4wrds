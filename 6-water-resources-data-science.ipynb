{
 "cells": [
  {
   "cell_type": "markdown",
   "metadata": {},
   "source": [
    "# 6. Water resources data science\n",
    "\n",
    "1. Accessing Data with APIs  \n",
    "   1. APIs basics  \n",
    "      1. Similarities and differences to snowflake   \n",
    "      2. Ryan Hankins will post a common dataset  \n",
    "   2. Accessing APIs with the python “requests” module\n",
    "   4. Loading API URL paths directly into pandas dataframes   \n",
    "2. Query OpenET API, get ET data\n",
    "    3. demonstrate point query and polygon query\n",
    "    4. get some ET data - both point and poly \n",
    "    5. Talk about how OpenET is built on Earth Engine\n",
    "        6. benefits of earth engine\n",
    "3. Take ET data over area into a 2d or 3d numpy array \n",
    "4. Create pandas dataframe from time series with the point data, with datetime index \n",
    "5. Interpolate in two dimensions two subsets of the gridded data\n",
    "    6. Use Scipy \n",
    "       1. Morphology  \n",
    "       2. Interpolate.griddata\n",
    "    6. talk about uncertainty \n",
    "    7. Plot ET from several points on the same time series the same time series with pandas / seaborn\n",
    "    8. Determine date of max ET for location\n",
    "    9. Compare to date of max streamflow?"
   ]
  },
  {
   "cell_type": "code",
   "execution_count": null,
   "metadata": {},
   "outputs": [],
   "source": []
  }
 ],
 "metadata": {
  "kernelspec": {
   "display_name": "Python 3 (ipykernel)",
   "language": "python",
   "name": "python3"
  },
  "language_info": {
   "codemirror_mode": {
    "name": "ipython",
    "version": 3
   },
   "file_extension": ".py",
   "mimetype": "text/x-python",
   "name": "python",
   "nbconvert_exporter": "python",
   "pygments_lexer": "ipython3",
   "version": "3.13.1"
  }
 },
 "nbformat": 4,
 "nbformat_minor": 4
}
