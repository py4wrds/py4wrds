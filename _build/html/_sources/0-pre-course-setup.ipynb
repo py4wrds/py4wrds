{
 "cells": [
  {
   "cell_type": "markdown",
   "metadata": {},
   "source": [
    "# 0. Pre-course setup\n",
    "\n",
    "* Install the following (ensuring feasibility with the IT department): \n",
    "  * Visual Studio Code: a text editor for writing python scripts\n",
    "  *  anaconda:  a tool for managing python packages\n",
    "* Sign up for a google earth engine account (https://code.earthengine.google.com/register), and register with your preferred email address\n",
    "* Survey material to ensure all requirements have been installed so we can follow up with students prior to the course and troubleshoot installation issues\n",
    "\n"
   ]
  }
 ],
 "metadata": {
  "language_info": {
   "name": "python"
  }
 },
 "nbformat": 4,
 "nbformat_minor": 2
}
