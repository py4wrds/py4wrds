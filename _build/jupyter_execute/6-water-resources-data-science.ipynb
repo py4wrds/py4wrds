{
 "cells": [
  {
   "cell_type": "markdown",
   "metadata": {},
   "source": [
    "# 6. Water resources data science\n",
    "\n",
    "1. Accessing Data with APIs  \n",
    "   1. APIs basics  \n",
    "      1. Similarities and differences to snowflake   \n",
    "      2. Ryan Hankins will post a common dataset  \n",
    "   2. Accessing APIs with the python “requests” module  \n",
    "   3. Loading API URL paths directly into pandas dataframes   \n",
    "2. Query DWR API, get streamflow data  \n",
    "3. Perform low pass filtering to separate baseflow  \n",
    "   1. Create low pass filter function  \n",
    "   2. Write a docstring describing use  \n",
    "   3. Include markdown of the math being done in the code  \n",
    "   4. Demonstrate on example array  \n",
    "   5. Demonstrate example on dataframe   \n",
    "   6. Plot streamflow and low-pass filtered streamflow (baseflow) on the same time series with pandas / seaborn \n"
   ]
  }
 ],
 "metadata": {
  "language_info": {
   "codemirror_mode": {
    "name": "ipython",
    "version": 3
   },
   "file_extension": ".py",
   "mimetype": "text/x-python",
   "name": "python",
   "nbconvert_exporter": "python",
   "pygments_lexer": "ipython3",
   "version": "3.12.7"
  }
 },
 "nbformat": 4,
 "nbformat_minor": 2
}