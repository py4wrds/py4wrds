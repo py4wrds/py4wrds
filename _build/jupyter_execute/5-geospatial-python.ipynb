{
 "cells": [
  {
   "cell_type": "markdown",
   "metadata": {},
   "source": [
    "# 5. Geospatial python\n",
    "\n",
    "1. Earth Engine  \n",
    "   1. Accessing with python  \n",
    "2. Rasterio   \n",
    "   1. Raster file formats  \n",
    "   2. Basic plotting  \n",
    "   3. Coordinate reference systems  \n",
    "   4. Warping and transforming rasters  \n",
    "   5. Virtual rasters  \n",
    "   6. Analysis with rasterio and numpy  \n",
    "   7. Using the rio command line  \n",
    "3. Geopandas  \n",
    "   1. Data loading and filtering using pandas syntax   \n",
    "   2. Map-based plotting  \n",
    "   3. Geospatial operations  \n",
    "   4. Spatial indexing  \n",
    "   5. Rasterising vector features  \n",
    "4. Xarray  \n",
    "   1. NetCDF and multidimensional datasets  \n",
    "   2. Aggregation and grouping  \n",
    "   3. Rioxarray for working with rasters  \n",
    "   4. Xarray-spatial  \n",
    "      1. DEM analysis  \n",
    "      2. Remote sensing indices  \n",
    "5. Scipy  \n",
    "   1. Morphology  \n",
    "   2. Missing data interpolation\n",
    "\n"
   ]
  }
 ],
 "metadata": {
  "language_info": {
   "codemirror_mode": {
    "name": "ipython",
    "version": 3
   },
   "file_extension": ".py",
   "mimetype": "text/x-python",
   "name": "python",
   "nbconvert_exporter": "python",
   "pygments_lexer": "ipython3",
   "version": "3.12.7"
  }
 },
 "nbformat": 4,
 "nbformat_minor": 2
}