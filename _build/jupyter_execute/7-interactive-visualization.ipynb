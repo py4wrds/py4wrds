{
 "cells": [
  {
   "cell_type": "markdown",
   "metadata": {},
   "source": [
    "# 7. Interactive visualization\n",
    "\n",
    "1. Creating a map with leafmap  \n",
    "2. Selecting a basemap  \n",
    "3. Displaying point data (stream gages)  \n",
    "4. Displaying vector data (linear water bodies)  \n",
    "5. Displaying polygon data (regional boundaries)  \n",
    "6. Displaying raster data (DEM)  \n",
    "7. Displaying multidimensional data (rainfall time series)  \n",
    "8. Exporting map as html\n",
    "\n"
   ]
  }
 ],
 "metadata": {
  "language_info": {
   "codemirror_mode": {
    "name": "ipython",
    "version": 3
   },
   "file_extension": ".py",
   "mimetype": "text/x-python",
   "name": "python",
   "nbconvert_exporter": "python",
   "pygments_lexer": "ipython3",
   "version": "3.12.7"
  }
 },
 "nbformat": 4,
 "nbformat_minor": 2
}