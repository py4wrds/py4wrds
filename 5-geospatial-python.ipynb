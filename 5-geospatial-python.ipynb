{
 "cells": [
  {
   "cell_type": "markdown",
   "metadata": {},
   "source": [
    "# 5. Geospatial python\n",
    "\n",
    "Because of the wide array (pun intended) of open source data science modules that are accessible with python, it has emerged as a flagship language for processing, analyzing, and visualizing geospatial data. There are several key geospatial packages available in python: \n",
    "\n",
    "* [Geopandas](https://geopandas.org/en/stable/) - processing vector data (e.g. shapfiles, `.GeoJSON`, `.KML`, see [here](https://gdal.org/en/stable/drivers/vector/index.html) for a full list of geospatial vector filetypes)\n",
    "* [Rasterio](https://rasterio.readthedocs.io/en/stable/) - processing raster data (e.g. satellite imagery in `.tif` or `.tiff` format)\n",
    "* [Xarray](https://docs.xarray.dev/) - multidimensional array analysis (e.g. time series gridded or satellite datasets in `.nc` or `.hdf` format)\n",
    "* [GDAL](https://gdal.org/) - the key library (originally written in C and C++) that underscores most of the raster and vector processing operations in the above libraries, as well as GUI-based GIS software (ArcMap, QGIS, Google Earth/Maps, etc)"
   ]
  },
  {
   "cell_type": "markdown",
   "metadata": {},
   "source": [
    "## Geopandas\n",
    "\n",
    "Remember `pandas` from last module? Enter `geopandas` - a natural geospatial extension to store tabular vector data (think points, lines, and polygons) and simplify operations by keeping with pandas-like syntax. \n",
    "\n",
    "Let's load the same `stations.csv` file and convert it from a `pandas.DataFrame` to a `geopandas.GeoDataFrame`:"
   ]
  },
  {
   "cell_type": "code",
   "execution_count": null,
   "metadata": {},
   "outputs": [],
   "source": [
    "import pandas as pd"
   ]
  },
  {
   "cell_type": "code",
   "execution_count": null,
   "metadata": {},
   "outputs": [],
   "source": [
    "url = \"https://raw.githubusercontent.com/py4wrds/py4wrds/refs/heads/module-4/data/gwl/stations.csv\"\n",
    "df  = pd.read_csv(url)"
   ]
  },
  {
   "cell_type": "code",
   "execution_count": null,
   "metadata": {},
   "outputs": [],
   "source": [
    "df.head()"
   ]
  },
  {
   "cell_type": "code",
   "execution_count": null,
   "metadata": {},
   "outputs": [],
   "source": [
    "# Create a GeoDataFrame from the DataFrame\n",
    "\n",
    "import geopandas as gp\n",
    "\n",
    "stn_gdf = gp.GeoDataFrame(df, \n",
    "    geometry=gp.points_from_xy(df['LONGITUDE'], df['LATITUDE']),\n",
    "    crs=\"EPSG:4326\"  # Set the coordinate reference system (CRS)\n",
    ")"
   ]
  },
  {
   "cell_type": "code",
   "execution_count": null,
   "metadata": {},
   "outputs": [],
   "source": [
    "# Plot our results:\n",
    "stn_gdf.plot()"
   ]
  },
  {
   "cell_type": "markdown",
   "metadata": {},
   "source": [
    "When printed, the tabular data is identical, and all `pandas`-like syntax can be used to sort and filter data:"
   ]
  },
  {
   "cell_type": "code",
   "execution_count": null,
   "metadata": {},
   "outputs": [],
   "source": [
    "# Get unique county names\n",
    "print(stn_gdf['COUNTY_NAME'].unique())\n",
    "# Plotting all stations in SLO county only \n",
    "stn_gdf[stn_gdf['COUNTY_NAME'] == 'San Luis Obispo'].plot()"
   ]
  },
  {
   "cell_type": "markdown",
   "metadata": {},
   "source": [
    "### Reading and writing files\n",
    "\n",
    "Geopandas excels at making it easy to read and write vector files of several formats, which facilitates conversions and interoperability. \n",
    "\n",
    "simply `import geopandas as gp` and then read any common vector file format with the `gp.read_file('filename')` function, which works for common formats such as `.shp` (and supporting `.dbf` and `.shx` files), `kml`, `kmz`, `geojson`, etc.."
   ]
  },
  {
   "cell_type": "code",
   "execution_count": null,
   "metadata": {},
   "outputs": [],
   "source": [
    "# Read a geojson file\n",
    "url = 'https://raw.githubusercontent.com/scottpham/california-counties/refs/heads/master/caCountiesTopo.json'\n",
    "gdf = gp.read_file(url)\n",
    "gdf.head()"
   ]
  },
  {
   "cell_type": "code",
   "execution_count": null,
   "metadata": {},
   "outputs": [],
   "source": [
    "gdf.plot()"
   ]
  },
  {
   "cell_type": "markdown",
   "metadata": {},
   "source": [
    "To write files, simply use the syntax: `gdf.to_file(\"path/to/out_file.geojson\")` syntax. We recommend storing files as `.geojson` due to readability and simplicity to store and retrieve. "
   ]
  },
  {
   "cell_type": "code",
   "execution_count": null,
   "metadata": {},
   "outputs": [],
   "source": [
    "gdf.to_file(\"ca_counties.geojson\")"
   ]
  },
  {
   "cell_type": "markdown",
   "metadata": {},
   "source": [
    "We received a warning that our CRS was not defined. We can define it using `gdf.set_crs('epsg:4236')`. Similar to other `DataFrame` and `pandas`-like operations, we must specify the `inplace = True` argument: "
   ]
  },
  {
   "cell_type": "code",
   "execution_count": null,
   "metadata": {},
   "outputs": [],
   "source": [
    "gdf.set_crs('epsg:4326', inplace = True)\n",
    "gdf.to_file(\"ca_counties.geojson\")"
   ]
  },
  {
   "cell_type": "code",
   "execution_count": null,
   "metadata": {},
   "outputs": [],
   "source": [
    "# verify that file was written in our current directory: \n",
    "import os\n",
    "[x for x in os.listdir(os.getcwd()) if 'geojson' in x]"
   ]
  },
  {
   "cell_type": "markdown",
   "metadata": {},
   "source": [
    "### Managing Projections\n",
    "\n",
    "We can inspect the [coordinate system](https://en.wikipedia.org/wiki/Spatial_reference_system) by using the `gdf.crs` syntax: "
   ]
  },
  {
   "cell_type": "code",
   "execution_count": null,
   "metadata": {},
   "outputs": [],
   "source": [
    "# Geographic CRS example:\n",
    "stn_gdf.crs"
   ]
  },
  {
   "cell_type": "markdown",
   "metadata": {},
   "source": [
    "#### Reprojections\n",
    "\n",
    "Let's reproject the geodataframe into a projected CRS for California - UTM Zone 10 N, which is `epsg:32611`: "
   ]
  },
  {
   "cell_type": "code",
   "execution_count": null,
   "metadata": {},
   "outputs": [],
   "source": [
    "gdf_rpj = gdf.to_crs('epsg:32611')\n",
    "gdf_rpj.crs"
   ]
  },
  {
   "cell_type": "markdown",
   "metadata": {},
   "source": [
    "the `estimate_utm_crs()` function may be convenient for going between geographic and projected CRS: df.estimate_utm_crs() "
   ]
  },
  {
   "cell_type": "code",
   "execution_count": null,
   "metadata": {},
   "outputs": [],
   "source": [
    "gdf.estimate_utm_crs() "
   ]
  },
  {
   "cell_type": "markdown",
   "metadata": {},
   "source": [
    "### Geometric Operations\n",
    "\n",
    "We can easily calculate geometry properties such as area, centroids, bounds, and distances using geopandas.\n",
    "\n",
    "#### Calculating Areas"
   ]
  },
  {
   "cell_type": "code",
   "execution_count": null,
   "metadata": {},
   "outputs": [],
   "source": [
    "# Calculate area for each polygon in a UTM CRS\n",
    "# Note - the units depend on the coordinate system, \n",
    "# Be sure to reproject appropriately and perform conversions\n",
    "\n",
    "gdf_rpj['area_sqkm'] = gdf_rpj.area * 1e-6 # Sq m to sq km"
   ]
  },
  {
   "cell_type": "code",
   "execution_count": null,
   "metadata": {},
   "outputs": [],
   "source": [
    "gdf_rpj.head()"
   ]
  },
  {
   "cell_type": "markdown",
   "metadata": {},
   "source": [
    "#### Centroids\n",
    "\n",
    "Calculating centroids can be done with the `gdf.centroid` function:"
   ]
  },
  {
   "cell_type": "code",
   "execution_count": null,
   "metadata": {},
   "outputs": [],
   "source": [
    "print(gdf_rpj.centroid.head())\n",
    "gdf_rpj.centroid.plot()"
   ]
  },
  {
   "cell_type": "markdown",
   "metadata": {},
   "source": [
    "#### Boundaries\n",
    "\n",
    "Similarly, boundaries can be obtained with the `gdf.boundary` function: "
   ]
  },
  {
   "cell_type": "code",
   "execution_count": null,
   "metadata": {},
   "outputs": [],
   "source": [
    "# Get the boundary of each polygon\n",
    "print(gdf.boundary.head())\n",
    "gdf.boundary.plot()"
   ]
  },
  {
   "cell_type": "markdown",
   "metadata": {},
   "source": [
    "#### Distances\n",
    "\n",
    "Similarly, distances between two points can be computed with the `distance` function: \n",
    "\n",
    "Let's calculate the distance between each of the stations in our dataset"
   ]
  },
  {
   "cell_type": "code",
   "execution_count": null,
   "metadata": {},
   "outputs": [],
   "source": [
    "stn_gdf.plot()"
   ]
  },
  {
   "cell_type": "code",
   "execution_count": null,
   "metadata": {},
   "outputs": [],
   "source": [
    "# Reproject to UTM zone 11N\n",
    "stn_gdf.to_crs(stn_gdf.estimate_utm_crs(), inplace = True)\n",
    "\n",
    "# calculate distance between each station from the first station\n",
    "stn_gdf['dist_from_stn_1'] = stn_gdf.distance(stn_gdf.iloc[0].geometry)"
   ]
  },
  {
   "cell_type": "code",
   "execution_count": null,
   "metadata": {},
   "outputs": [],
   "source": [
    "# Plot stations, colored by distance \n",
    "ax = stn_gdf.plot(column = 'dist_from_stn_1', legend = True)\n",
    "# Plot the first station \n",
    "stn_gdf.loc[[0],'geometry'].plot(markersize = 50,color = 'red', ax = ax, label = '0th station')\n",
    "# add a legend a title \n",
    "ax.legend()\n",
    "ax.set_title('dist from 0th station')"
   ]
  },
  {
   "cell_type": "markdown",
   "metadata": {},
   "source": [
    "### Plotting \n",
    "\n",
    "Just above we see an example of how to color a `GeoDataFrame` by a column, by specifying the `column = 'column_name'` argument into `gdf.plot()`. \n",
    "\n",
    "We can create interactive plots with the `gdf.explore()` funtion: "
   ]
  },
  {
   "cell_type": "code",
   "execution_count": null,
   "metadata": {},
   "outputs": [],
   "source": [
    "slo_gdf = stn_gdf[stn_gdf['COUNTY_NAME'] == 'San Luis Obispo']\n",
    "\n",
    "slo_gdf.explore(legend=False)"
   ]
  },
  {
   "cell_type": "markdown",
   "metadata": {},
   "source": [
    "### Spatial Operations \n",
    "\n",
    "Geopandas makes it easy to perform basic spatial operations such as Buffers, Convex Hull, and Spatial Joins\n",
    "\n",
    "#### Buffer"
   ]
  },
  {
   "cell_type": "code",
   "execution_count": null,
   "metadata": {},
   "outputs": [],
   "source": [
    "# Apply a 500m buffer to the first 5 points in the SLO well data \n",
    "ax = slo_gdf[:5].buffer(1000).plot()\n",
    "# Plot the same 5 but with a smaller (50m) buffer \n",
    "slo_gdf[:5].buffer(100).plot(ax = ax, color = 'red')"
   ]
  },
  {
   "cell_type": "code",
   "execution_count": null,
   "metadata": {},
   "outputs": [],
   "source": []
  },
  {
   "cell_type": "markdown",
   "metadata": {},
   "source": [
    "#### Convex Hull"
   ]
  },
  {
   "cell_type": "code",
   "execution_count": null,
   "metadata": {},
   "outputs": [],
   "source": [
    "gdf[\"convex_hull\"] = gdf.convex_hull\n",
    "# Plot the convex hulls\n",
    "ax = gdf[\"convex_hull\"].plot(alpha=0.5, color=\"lightblue\", edgecolor=\"black\")\n",
    "ax.set_title(\"Convex Hull of CA Counties\")"
   ]
  },
  {
   "cell_type": "markdown",
   "metadata": {},
   "source": [
    "#### Spatial Union"
   ]
  },
  {
   "cell_type": "code",
   "execution_count": null,
   "metadata": {},
   "outputs": [],
   "source": [
    "slo_gdf['buf_geom'] = slo_gdf[:5].buffer(1000)\n",
    "slo_gdf['buf_geom'].plot()"
   ]
  },
  {
   "cell_type": "code",
   "execution_count": null,
   "metadata": {},
   "outputs": [],
   "source": [
    "slo_gdf['buf_geom'].head()"
   ]
  },
  {
   "cell_type": "code",
   "execution_count": null,
   "metadata": {},
   "outputs": [],
   "source": [
    "slo_gdf['buf_geom'].union_all()"
   ]
  },
  {
   "cell_type": "markdown",
   "metadata": {},
   "source": [
    "### Spatial Joins, Queries, and Relations\n",
    "\n",
    "#### Intersections\n",
    "To check for spatial intersection between two datasets, we can use the `intersection` function: "
   ]
  },
  {
   "cell_type": "code",
   "execution_count": null,
   "metadata": {},
   "outputs": [],
   "source": [
    "# Check which buffered boroughs intersect with SLO's geometry\n",
    "slo_co = gdf[gdf['name'] == 'San Luis Obispo'].to_crs(gdf.estimate_utm_crs())\n",
    "\n",
    "slo_co.plot()"
   ]
  },
  {
   "cell_type": "code",
   "execution_count": null,
   "metadata": {},
   "outputs": [],
   "source": [
    "slo_co_stns = gp.overlay(stn_gdf, slo_co, how='intersection')"
   ]
  },
  {
   "cell_type": "code",
   "execution_count": null,
   "metadata": {},
   "outputs": [],
   "source": [
    "slo_co_stns.plot()"
   ]
  },
  {
   "cell_type": "code",
   "execution_count": null,
   "metadata": {},
   "outputs": [],
   "source": [
    "ax = slo_co.plot(color = 'white', edgecolor = 'red')\n",
    "slo_co_stns.plot(alpha = 0.5, markersize = 5, color = 'gray', label = 'stations', ax = ax)"
   ]
  },
  {
   "cell_type": "code",
   "execution_count": null,
   "metadata": {},
   "outputs": [],
   "source": []
  },
  {
   "cell_type": "markdown",
   "metadata": {},
   "source": [
    "## Rasterio\n",
    "\n",
    "Rasterio is a powerful library for working with [raster data](https://en.wikipedia.org/wiki/Raster_graphics) (think: images or grids of numbers with pixels) written on top of the Geospatial Data Abstraction Library [(GDAL)](https://gdal.org/), making it easier to perform a wide variety of raster processing and visualization tasks. \n",
    "\n",
    "### Reading and inspecting data \n",
    "\n",
    "We can open geospatial raster datasets (e.g. `.tif` and `.tiff` files) using the `.open` function:"
   ]
  },
  {
   "cell_type": "code",
   "execution_count": null,
   "metadata": {},
   "outputs": [],
   "source": [
    "import rasterio as rio\n",
    "\n",
    "raster_path = \"https://github.com/opengeos/datasets/releases/download/raster/dem_90m.tif\"\n",
    "src = rio.open(raster_path)\n",
    "print(src)"
   ]
  },
  {
   "cell_type": "markdown",
   "metadata": {},
   "source": [
    "Notice that we are reading a file from a URL here, but this function works identically for local files. \n",
    "\n",
    "Once a dataset has been opened, we can inspect lots of useful information, including:\n",
    "* Projection information\n",
    "* Bounding box\n",
    "* Spatial resolution\n",
    "* Dimensions - width / height\n",
    "* Other metadata"
   ]
  },
  {
   "cell_type": "code",
   "execution_count": null,
   "metadata": {},
   "outputs": [],
   "source": [
    "# Inspect crs\n",
    "src.crs"
   ]
  },
  {
   "cell_type": "code",
   "execution_count": null,
   "metadata": {},
   "outputs": [],
   "source": [
    "# Inspect metadata\n",
    "src.meta"
   ]
  },
  {
   "cell_type": "code",
   "execution_count": null,
   "metadata": {},
   "outputs": [],
   "source": [
    "# Inspect spatial res\n",
    "src.res"
   ]
  },
  {
   "cell_type": "code",
   "execution_count": null,
   "metadata": {},
   "outputs": [],
   "source": [
    "# Inspect dimensions or width / height \n",
    "print(src.shape, src.width, src.height)"
   ]
  },
  {
   "cell_type": "code",
   "execution_count": null,
   "metadata": {},
   "outputs": [],
   "source": [
    "# Inspect bounding box\n",
    "src.bounds"
   ]
  },
  {
   "cell_type": "markdown",
   "metadata": {},
   "source": [
    "### Plotting and visualizing\n",
    "\n",
    "We can use the `read` function to read raster bands from `.tiff` or `.tif` files as `numpy` arrays, and then make use the `imshow` function from the trusty module `matplotlib`! "
   ]
  },
  {
   "cell_type": "code",
   "execution_count": null,
   "metadata": {},
   "outputs": [],
   "source": [
    "import numpy as np\n",
    "import matplotlib.pyplot as plt\n",
    "\n",
    "arr = src.read(1)\n",
    "plt.imshow(arr); plt.colorbar()"
   ]
  },
  {
   "cell_type": "markdown",
   "metadata": {},
   "source": [
    "In the above code, we are reading the first band from the raster using `src.read(1)`. For multiband rasters, we can read the other bands using the same syntax. \n",
    "\n",
    "Note that **this method does not preserve any projection information in the plot** - the x and y axes are just the number of rows / cols in the dataset. \n",
    "\n",
    "If we want to preserve any geospatial coordinate information, we can use the rasterio plotting module:"
   ]
  },
  {
   "cell_type": "code",
   "execution_count": null,
   "metadata": {},
   "outputs": [],
   "source": [
    "import rasterio.plot \n",
    "\n",
    "rio.plot.show(src)"
   ]
  },
  {
   "cell_type": "markdown",
   "metadata": {},
   "source": [
    "#### Formatting Plots\n",
    "\n",
    "We can leverage [matplotlib's functionality](https://matplotlib.org/stable/gallery/images_contours_and_fields/image_demo.html) to style our plots, including adding titles and choosing colormaps:"
   ]
  },
  {
   "cell_type": "code",
   "execution_count": null,
   "metadata": {},
   "outputs": [],
   "source": [
    "fig, ax = plt.subplots(figsize=(8, 8))\n",
    "rasterio.plot.show(src, cmap=\"terrain\", ax=ax, title=\"Digital Elevation Model (DEM)\")\n",
    "plt.show()"
   ]
  },
  {
   "cell_type": "markdown",
   "metadata": {},
   "source": [
    "#### Plotting vector and raster data"
   ]
  },
  {
   "cell_type": "code",
   "execution_count": null,
   "metadata": {},
   "outputs": [],
   "source": [
    "Tuolumne_co = gdf[gdf['name'] == 'Tuolumne']\n",
    "Tuolumne_co.to_crs(src.crs, inplace = True)"
   ]
  },
  {
   "cell_type": "code",
   "execution_count": null,
   "metadata": {},
   "outputs": [],
   "source": [
    "fig, ax = plt.subplots(figsize=(8, 8))\n",
    "rasterio.plot.show(src, cmap=\"terrain\", ax=ax, title=\"Digital Elevation Model (DEM) and Tuolumne co\")\n",
    "Tuolumne_co.plot(ax=ax, edgecolor=\"red\", facecolor=\"none\", lw=2)"
   ]
  },
  {
   "cell_type": "markdown",
   "metadata": {},
   "source": [
    "### Clipping raster to vector data\n",
    "\n",
    "A common task involves clipping a raster to a vector dataset. We can use `rasterio.mask` to clip the DEM above to the boundary of Tuolumne county, defined in the `ca_counties.geojson` file: "
   ]
  },
  {
   "cell_type": "code",
   "execution_count": null,
   "metadata": {},
   "outputs": [],
   "source": [
    "import rasterio.mask \n",
    "\n",
    "# Read raster \n",
    "raster_path = \"https://github.com/opengeos/datasets/releases/download/raster/dem_90m.tif\"\n",
    "src = rio.open(raster_path)\n",
    "\n",
    "# Read shape, isolate Tuolumne\n",
    "shp_geom = gp.read_file(\"ca_counties.geojson\")\n",
    "Tuolumne_co = shp_geom[shp_geom['name'] == 'Tuolumne']\n",
    "\n",
    "# Ensure CRS are consistent\n",
    "Tuolumne_co.to_crs(src.crs, inplace = True)\n",
    "\n",
    "# Perform clip \n",
    "out_image, out_transform = rio.mask.mask(src, Tuolumne_co['geometry'], crop=True)"
   ]
  },
  {
   "cell_type": "code",
   "execution_count": null,
   "metadata": {},
   "outputs": [],
   "source": [
    "# Verify results:\n",
    "\n",
    "rasterio.plot.show(out_image[0,:,:]);"
   ]
  },
  {
   "cell_type": "markdown",
   "metadata": {},
   "source": [
    "Notice that rasterio returns by default an array with 3 dimensions (`out_image`), for which we have selected the first band manually. This functionality exists to deal with multiband rasters. "
   ]
  },
  {
   "cell_type": "markdown",
   "metadata": {},
   "source": [
    "### Writing rasters\n",
    "\n",
    "Let's save the raster we just clipped"
   ]
  },
  {
   "cell_type": "code",
   "execution_count": null,
   "metadata": {},
   "outputs": [],
   "source": [
    "# Set the output file \n",
    "output_raster_path = \"./data/clipped.tif\"\n",
    "\n",
    "# Extract some information from the image we processed \n",
    "kwargs = src.meta\n",
    "kwargs.update(\n",
    "    height=out_image.shape[1],\n",
    "    width=out_image.shape[2],\n",
    "    count=out_image.shape[0],\n",
    "    dtype=out_image.dtype,\n",
    "    crs=src.crs)\n",
    "\n",
    "# Save\n",
    "with rasterio.open(output_raster_path, \"w\", **kwargs) as dst:\n",
    "    dst.write(out_image)\n",
    "\n",
    "print(f\"Raster data has been written to {output_raster_path}\")\n"
   ]
  },
  {
   "cell_type": "markdown",
   "metadata": {},
   "source": [
    "### Reprojecting Rasters\n",
    "\n",
    "We use the `rasterio.warp` module to change raster projections. \n",
    "\n",
    "Let's reproject our clipped raster to the WGS 84 (EPSG:3857) CRS and save the reprojected raster to a new file."
   ]
  },
  {
   "cell_type": "code",
   "execution_count": null,
   "metadata": {},
   "outputs": [],
   "source": [
    "from rasterio.warp import calculate_default_transform, reproject, Resampling\n",
    "\n",
    "# Set output filename \n",
    "raster_path = \"./data/clipped.tif\"\n",
    "dst_crs = \"EPSG:4326\"  # WGS 84\n",
    "output_reprojected_path = \"./data/clipped_reprojected.tif\"\n",
    "\n",
    "with rasterio.open(raster_path) as src:\n",
    "    transform, width, height = calculate_default_transform(\n",
    "        src.crs, dst_crs, src.width, src.height, *src.bounds)\n",
    "\n",
    "    profile = src.profile\n",
    "    profile.update(crs=dst_crs, transform=transform, width=width, height=height)\n",
    "\n",
    "    with rasterio.open(output_reprojected_path, \"w\", **profile) as dst:\n",
    "        for i in range(1, src.count + 1):\n",
    "            reproject(\n",
    "                source=rasterio.band(src, i),\n",
    "                destination=rasterio.band(dst, i),\n",
    "                src_transform=src.transform,\n",
    "                src_crs=src.crs,\n",
    "                dst_transform=transform,\n",
    "                dst_crs=dst_crs,\n",
    "                resampling=Resampling.nearest,\n",
    "            )\n",
    "print(f\"Reprojected raster saved at {output_reprojected_path}\")\n"
   ]
  },
  {
   "cell_type": "markdown",
   "metadata": {},
   "source": [
    "### Multiband Rasters \n",
    "\n",
    "Satellite data is generally composed of a number of [spectral bands](https://landsat.gsfc.nasa.gov/satellites/landsat-8/landsat-8-bands/). Each band measures the light reflected between two wavelengths (hence the term 'band'). Rasterio allows us to work with these bands individually and in concert. \n",
    "\n",
    "For example, NASA's Landsat Satellites record the following bands: \n",
    "\n",
    "| Name   | Wavelength       | Description                                        |\n",
    "|--------|------------------|----------------------------------------------------|\n",
    "| SR_B1  | 0.435-0.451 μm   | Band 1 (ultra blue, coastal aerosol) surface reflectance |\n",
    "| SR_B2  | 0.452-0.512 μm   | Band 2 (blue) surface reflectance                   |\n",
    "| SR_B3  | 0.533-0.590 μm   | Band 3 (green) surface reflectance                  |\n",
    "| SR_B4  | 0.636-0.673 μm   | Band 4 (red) surface reflectance                    |\n",
    "| SR_B5  | 0.851-0.879 μm   | Band 5 (near infrared) surface reflectance          |\n",
    "| SR_B6  | 1.566-1.651 μm   | Band 6 (shortwave infrared 1) surface reflectance   |\n",
    "| SR_B7  | 2.107-2.294 μm   | Band 7 (shortwave infrared 2) surface reflectance   |\n",
    "\n",
    "Let's plot all the bands in this raster"
   ]
  },
  {
   "cell_type": "code",
   "execution_count": null,
   "metadata": {},
   "outputs": [],
   "source": [
    "# Read multiband Landsat image: \n",
    "raster_path = \"https://github.com/opengeos/datasets/releases/download/raster/LC09_039035_20240708_90m.tif\"\n",
    "src = rasterio.open(raster_path)\n",
    "print(src)\n",
    "\n",
    "# Specify band names: \n",
    "band_names = [\"Coastal Aerosol\", \"Blue\", \"Green\", \"Red\", \"NIR\", \"SWIR1\", \"SWIR2\"]"
   ]
  },
  {
   "cell_type": "code",
   "execution_count": null,
   "metadata": {},
   "outputs": [],
   "source": [
    "# Plot raster: \n",
    "\n",
    "fig, axes = plt.subplots(nrows=3, ncols=2, figsize=(8, 10))\n",
    "axes = axes.flatten()  # Flatten the 2D array of axes to 1D for easy iteration\n",
    "\n",
    "for band in range(1, src.count):\n",
    "    data = src.read(band)\n",
    "    ax = axes[band - 1]\n",
    "    im = ax.imshow(data, cmap=\"gray\", vmin=0, vmax=0.5)\n",
    "    ax.set_title(f\"Band {band_names[band - 1]}\")\n",
    "    ax.axis(\"off\")\n",
    "    fig.colorbar(im, ax=ax, label=\"Reflectance\", shrink=0.5)\n",
    "\n",
    "plt.tight_layout()\n",
    "plt.show()\n"
   ]
  },
  {
   "cell_type": "markdown",
   "metadata": {},
   "source": [
    "### True color image\n",
    "\n",
    "In order to visualize a true color image, we need to visualize band 2 (blue), band 3 (green), and band 4 (red) in the same image: "
   ]
  },
  {
   "cell_type": "code",
   "execution_count": null,
   "metadata": {},
   "outputs": [],
   "source": [
    "nir_band = src.read(5)\n",
    "red_band = src.read(4)\n",
    "green_band = src.read(3)\n",
    "\n",
    "# Stack the bands into a single array\n",
    "rgb = np.dstack((nir_band, red_band, green_band)).clip(0, 1)\n",
    "\n",
    "# Plot the stacked array\n",
    "plt.figure(figsize=(6, 6))\n",
    "plt.imshow(rgb)\n",
    "plt.axis(\"off\")\n",
    "plt.title(\"Bands NIR, Red, and Green combined\")\n",
    "plt.show()"
   ]
  },
  {
   "cell_type": "markdown",
   "metadata": {},
   "source": [
    "#### Band math: Calculating NDVI \n",
    "\n",
    "A common metric that we can derive from multiple bands is [Normalized Difference Vegetation Index (NDVI)](https://en.wikipedia.org/wiki/Normalized_difference_vegetation_index), which is defined as: \n",
    "\n",
    "```\n",
    "$$NDVI = (NIR - Red) / (NIR + Red)$$\n",
    "```"
   ]
  },
  {
   "cell_type": "code",
   "execution_count": null,
   "metadata": {},
   "outputs": [],
   "source": [
    "# NDVI Calculation: NDVI = (NIR - Red) / (NIR + Red)\n",
    "ndvi = (nir_band - red_band) / (nir_band + red_band)\n",
    "ndvi = ndvi.clip(-1, 1)\n",
    "\n",
    "plt.figure(figsize=(6, 6))\n",
    "plt.imshow(ndvi, cmap=\"RdYlGn\", vmin=-1, vmax=1)\n",
    "plt.colorbar(label=\"NDVI\", shrink=0.5)\n",
    "plt.title(\"NDVI\")\n",
    "plt.xlabel(\"Column #\")\n",
    "plt.ylabel(\"Row #\")\n",
    "plt.show()"
   ]
  },
  {
   "cell_type": "markdown",
   "metadata": {},
   "source": [
    "## Xarray\n",
    "\n",
    "Xarray makes working with labelled multi-dimensional arrays in Python simple, efficient, and fun!\n",
    "\n",
    "Xarray extends NumPy functionality by providing data structures specifically for geospatial multi-dimensional arrays:\n",
    "\n",
    "    * DataArray: A labeled, multi-dimensional array, which includes dimensions, coordinates, and attributes.\n",
    "\n",
    "    * Dataset: A collection of DataArray objects that share the same dimensions.\n",
    "\n",
    "\n",
    "### Xarray data representation\n",
    "Xarray represents stacks of images as 'cubes', where two axes represent the latitude and longitude coordinates of spatial data, and a third axis represents time. Note that an xarray dataset can contain more than one variable! \n",
    "\n",
    "The schematic below shows examples for temperature and precipitation\n",
    "\n",
    "![xarray](img/5-xarray-dataset-diagram.png)"
   ]
  },
  {
   "cell_type": "markdown",
   "metadata": {},
   "source": [
    "### Loading Data and inspecting attributes\n",
    "\n",
    "This data was downloaded from NOAA: https://psl.noaa.gov/data/gridded/data.ncep.reanalysis.html "
   ]
  },
  {
   "cell_type": "code",
   "execution_count": null,
   "metadata": {},
   "outputs": [],
   "source": [
    "import xarray as xr \n",
    "\n",
    "ds = xr.open_dataset(\"./data/runof.sfc.mon.mean.nc\")\n",
    "ds"
   ]
  },
  {
   "cell_type": "code",
   "execution_count": null,
   "metadata": {},
   "outputs": [],
   "source": [
    "ds[\"runof\"].mean(dim=\"time\").plot()"
   ]
  },
  {
   "cell_type": "code",
   "execution_count": null,
   "metadata": {},
   "outputs": [],
   "source": [
    "# Select the data array describing runoff\n",
    "ro = ds[\"runof\"]"
   ]
  },
  {
   "cell_type": "code",
   "execution_count": null,
   "metadata": {},
   "outputs": [],
   "source": [
    "# Plot some of the data array attributes\n",
    "\n",
    "# Obtain a numpy array of the values\n",
    "print(ro.values.shape)\n",
    "print(ro.values)"
   ]
  },
  {
   "cell_type": "code",
   "execution_count": null,
   "metadata": {},
   "outputs": [],
   "source": [
    "print(ro.coords)"
   ]
  },
  {
   "cell_type": "code",
   "execution_count": null,
   "metadata": {},
   "outputs": [],
   "source": [
    "print(ro.attrs)"
   ]
  },
  {
   "cell_type": "code",
   "execution_count": null,
   "metadata": {},
   "outputs": [],
   "source": [
    "print(ro.dims)"
   ]
  },
  {
   "cell_type": "markdown",
   "metadata": {},
   "source": [
    "### Filtering and subsetting\n",
    "\n",
    "We can easily select data based on dimension labels, which is very intuitive when working with geospatial data."
   ]
  },
  {
   "cell_type": "code",
   "execution_count": null,
   "metadata": {},
   "outputs": [],
   "source": [
    "# Select data for a specific time and location\n",
    "selected_data = ro.sel(time=\"2000-01-01\", lat=40.0, lon=120.0, method = 'nearest')\n",
    "selected_data"
   ]
  },
  {
   "cell_type": "code",
   "execution_count": null,
   "metadata": {},
   "outputs": [],
   "source": [
    "# Slice data across a range of times\n",
    "time_slice = ro.sel(time=slice(\"2013-01-01\", \"2013-01-31\"))\n",
    "time_slice"
   ]
  },
  {
   "cell_type": "code",
   "execution_count": null,
   "metadata": {},
   "outputs": [],
   "source": [
    "# Calculate the mean SWE over time\n",
    "mean_ro = ro.mean(dim=\"time\")\n",
    "mean_ro"
   ]
  },
  {
   "cell_type": "markdown",
   "metadata": {},
   "source": [
    "### Plotting and visualization\n",
    "\n",
    "Xarray provides builtin plotting methods that can be readily modified and integrated with standard `matplotlib` syntax"
   ]
  },
  {
   "cell_type": "code",
   "execution_count": null,
   "metadata": {},
   "outputs": [],
   "source": [
    "mean_ro.plot(cmap=\"jet\", figsize=(10, 6))\n",
    "plt.xlabel(\"Longitude\")\n",
    "plt.ylabel(\"Latitude\")\n",
    "plt.title(\"Mean Monthly Runoff\")"
   ]
  },
  {
   "cell_type": "markdown",
   "metadata": {},
   "source": [
    "We can use the `.isel` method to select a spatial subset of the data by index:"
   ]
  },
  {
   "cell_type": "code",
   "execution_count": null,
   "metadata": {},
   "outputs": [],
   "source": [
    "cropped_ds = mean_ro.isel(lat=slice(20,40), lon=slice(120,160))\n",
    "cropped_ds.plot()\n"
   ]
  },
  {
   "cell_type": "code",
   "execution_count": null,
   "metadata": {},
   "outputs": [],
   "source": [
    "# Plot a time series for a specific location\n",
    "ro.sel(lat=35.0, lon=240, method = 'nearest').plot()\n",
    "plt.show()"
   ]
  },
  {
   "cell_type": "code",
   "execution_count": null,
   "metadata": {},
   "outputs": [],
   "source": []
  }
 ],
 "metadata": {
  "kernelspec": {
   "display_name": "Python 3 (ipykernel)",
   "language": "python",
   "name": "python3"
  },
  "language_info": {
   "codemirror_mode": {
    "name": "ipython",
    "version": 3
   },
   "file_extension": ".py",
   "mimetype": "text/x-python",
   "name": "python",
   "nbconvert_exporter": "python",
   "pygments_lexer": "ipython3",
   "version": "3.12.7"
  }
 },
 "nbformat": 4,
 "nbformat_minor": 4
}
