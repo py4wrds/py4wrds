{
 "cells": [
  {
   "cell_type": "markdown",
   "metadata": {},
   "source": [
    "# 7. Interactive visualization\n",
    "\n",
    "\n",
    "In this module, were going to cover interactive visualization with [leafmap](https://leafmap.org/).\n",
    "\n",
    "The end result will be similar to GIS tools like ArcGIS. But by having the visualization in python you get some big benefits compared to GIS\n",
    "\n",
    "* Programatic nature means you can tweak your analaysis/data, and rebuild the visualization instantly.\n",
    "* You get access to all python's tools, more than gis toolboxes.\n",
    "* Because your viz is code, it can be repeated, version controlled, forked.\n",
    "\n",
    "We'll cover vizualising each of the different \"cardinalities\" of geospatial data\n",
    "\n",
    "* Points\n",
    "* Lines\n",
    "* Polygons\n",
    "* Rasters\n",
    "\n",
    "\n",
    "## Creating a map with leafmap\n",
    "\n",
    "Leafmap is a python library that contains tools for creating an interactive map-based visualisation, as well as a wide variety of tools for downloading and processing geospatial data.\n",
    "\n",
    "Most everything in leafmap starts by creating a new `Map` instance. To view the map in your notebook, we put just the variable of our map `m` on the last line of the cell: remember, notebooks auto-display their final line\n"
   ]
  },
  {
   "cell_type": "code",
   "execution_count": null,
   "metadata": {},
   "outputs": [],
   "source": [
    "import leafmap\n",
    "\n",
    "m = leafmap.Map()\n",
    "m"
   ]
  },
  {
   "cell_type": "markdown",
   "metadata": {},
   "source": [
    "By default, almost the entire world is shown. We can aim the map at our area of interest using the `center` and `zoom` arguments."
   ]
  },
  {
   "cell_type": "code",
   "execution_count": null,
   "metadata": {},
   "outputs": [],
   "source": [
    "latlon_carmel = (36.5506, -121.9220)\n",
    "m = leafmap.Map(\n",
    "    center=latlon_carmel,\n",
    "    zoom=13,\n",
    ")\n",
    "m"
   ]
  },
  {
   "cell_type": "markdown",
   "metadata": {},
   "source": [
    "Zooming can be disabled by setting `min_zoom` and `max_zoom`. Panning can be disabled with `dragging`. And leafmap's tools can be hidden with  the `clear_controls()` method.\n",
    "\n",
    "Here's a static map:"
   ]
  },
  {
   "cell_type": "code",
   "execution_count": null,
   "metadata": {},
   "outputs": [],
   "source": [
    "latlon_carmel = (36.5506, -121.9220)\n",
    "zoom = 13\n",
    "m = leafmap.Map(\n",
    "    center=latlon_carmel,\n",
    "    zoom=zoom,\n",
    "    min_zoom=zoom,\n",
    "    max_zoom=zoom,\n",
    "    dragging=False,\n",
    ")\n",
    "m.clear_controls()\n",
    "m"
   ]
  },
  {
   "cell_type": "markdown",
   "metadata": {},
   "source": [
    "## Basemap selection\n",
    "\n",
    "By default, leafmap uses an OpenStreetMap basemap. But for some applications you want other basemaps.\n",
    "\n",
    "Leafmap comes with a number of basemaps, the latest list is [here](https://xyzservices.readthedocs.io/en/stable/gallery.html).\n",
    "\n",
    "Some particularly useful ones are `Esri.WorldTopoMap` for terrain shading and contours"
   ]
  },
  {
   "cell_type": "code",
   "execution_count": null,
   "metadata": {},
   "outputs": [],
   "source": [
    "m = leafmap.Map(\n",
    "    center=latlon_carmel,\n",
    "    zoom=13,\n",
    "    basemap=\"Esri.WorldTopoMap\",\n",
    ")\n",
    "m"
   ]
  },
  {
   "cell_type": "markdown",
   "metadata": {},
   "source": [
    "`CartoDB.Positron` as a simple map that won't clash with your vizualisation overlays (there's also `CartoDB.PositronNoLabels` and `CartoDB.DarkMatter`, can you guess what they look like?)"
   ]
  },
  {
   "cell_type": "code",
   "execution_count": null,
   "metadata": {},
   "outputs": [],
   "source": [
    "m = leafmap.Map(\n",
    "    center=latlon_carmel,\n",
    "    zoom=13,\n",
    "    basemap=\"CartoDB.Positron\",\n",
    ")\n",
    "m"
   ]
  },
  {
   "cell_type": "markdown",
   "metadata": {},
   "source": [
    "`Esri.WorldImagery` has aerial imagery"
   ]
  },
  {
   "cell_type": "code",
   "execution_count": null,
   "metadata": {},
   "outputs": [],
   "source": [
    "m = leafmap.Map(\n",
    "    center=latlon_carmel,\n",
    "    zoom=13,\n",
    "    basemap=\"Esri.WorldImagery\",\n",
    ")\n",
    "m"
   ]
  },
  {
   "cell_type": "markdown",
   "metadata": {},
   "source": [
    "It can be useful to switch between base maps: for examply, you may want a simple layer for data visualisation, but also switch to aerial imagery to orient yourself.\n",
    "\n",
    "Additional basemaps can be added with the `add_basemap()` method. The `add_layer_control()` method adds a popup to toggle layer visibility.\n",
    "\n",
    "To keep our plots simple, we're also hiding the `draw` and `toolbar` controls here."
   ]
  },
  {
   "cell_type": "code",
   "execution_count": null,
   "metadata": {},
   "outputs": [],
   "source": [
    "m = leafmap.Map(\n",
    "    center=latlon_carmel,\n",
    "    zoom=13,\n",
    "    basemap=\"Esri.WorldImagery\",\n",
    "    draw_control=False,\n",
    "    toolbar_control=False,\n",
    ")\n",
    "m.add_basemap(\"CartoDB.PositronNoLabels\")\n",
    "m.add_layer_control()\n",
    "m"
   ]
  },
  {
   "cell_type": "markdown",
   "metadata": {},
   "source": [
    "## Loading data from SQL\n",
    "\n",
    "Now we have our base map ready, lets load some data to visualise!\n",
    "\n",
    "`data/USGSStreamgages.sqlite` is a database file that contains a table `SWIM_gage_loc` with [US streamgage information](https://www.sciencebase.gov/catalog/item/5ebe92af82ce476925e44b8f). \n",
    "\n",
    "For this course we're using a [sqlite](https://en.wikipedia.org/wiki/SQLite) database, as no server or authenticaion is needed: just a URL or file path. But the principles will be the same for other databases like Snowflake and PostGIS: you'll just provide your server hostname and credentials to connect instead.\n",
    "\n",
    "The pandas function `read_sql_table()` loads all columns and rows from a database into a `DataFrame` object.\n",
    "\n",
    "\n",
    "\n"
   ]
  },
  {
   "cell_type": "code",
   "execution_count": null,
   "metadata": {},
   "outputs": [],
   "source": [
    "import pandas as pd\n",
    "from sqlalchemy import create_engine\n",
    "\n",
    "\n",
    "# Connect to database.\n",
    "#\n",
    "# This will vary depending on the database being used.\n",
    "db_connection_string = \"sqlite:///data/USGSStreamgages.sqlite\"\n",
    "db_connection = create_engine(db_connection_string)\n",
    "\n",
    "# Load the entire table.\n",
    "#\n",
    "# This will be the same for any SQL database, just provide a database connection object,\n",
    "# pandas will handle the rest.\n",
    "df_gage_full = pd.read_sql_table(table_name=\"SWIM_gage_loc\", con=db_connection)\n",
    "\n",
    "df_gage_full.head()"
   ]
  },
  {
   "cell_type": "markdown",
   "metadata": {},
   "source": [
    "That's a lot of columns! A tip for viewing a dataframe that's so wide that has too many columns for the notebook to display them all, is to take the transpose of the first few rows."
   ]
  },
  {
   "cell_type": "code",
   "execution_count": null,
   "metadata": {},
   "outputs": [],
   "source": [
    "df_gage_full.head(2).transpose()"
   ]
  },
  {
   "cell_type": "markdown",
   "metadata": {},
   "source": [
    "Lets extract just a subset of this data. We could of course use our pandas skills to filter out the relevant rows and columns! But this kind of simple filtering is exactly what SQL is designed for, and should load much faster as  we're not requesting unneeded data from the database.\n",
    "\n",
    "Can you guess what our dataframe will look like after running this query?\n"
   ]
  },
  {
   "cell_type": "code",
   "execution_count": null,
   "metadata": {},
   "outputs": [],
   "source": [
    "query = \"\"\"\n",
    "SELECT\n",
    "    Gage_no,\n",
    "    Gage_name,\n",
    "    Lat_nwis,\n",
    "    Long_nwis,\n",
    "    Pass\n",
    "FROM SWIM_gage_loc\n",
    "WHERE State = 'CA'\n",
    "\"\"\"\n",
    "\n",
    "df_gage = pd.read_sql_query(query, db_connection)\n",
    "df_gage.head()"
   ]
  },
  {
   "cell_type": "markdown",
   "metadata": {},
   "source": [
    "Finally, because we have geospatial information in the dataframe, let's convert it from a `pandas` to a `geopandas` data frame, to give us access to the handy geospatial methods for processing the point locations."
   ]
  },
  {
   "cell_type": "code",
   "execution_count": null,
   "metadata": {},
   "outputs": [],
   "source": [
    "import geopandas as gpd\n",
    "\n",
    "gdf_gage = gpd.GeoDataFrame(\n",
    "    df_gage, geometry=gpd.points_from_xy(df_gage.Long_nwis, df_gage.Lat_nwis), crs=\"EPSG:4326\"\n",
    ")\n",
    "\n",
    "gdf_gage.head()"
   ]
  },
  {
   "cell_type": "markdown",
   "metadata": {},
   "source": [
    "## Displaying point data\n",
    "\n",
    "Leafmap provides `add_markers_from_xy()` to add points from a dataframe.\n",
    "\n"
   ]
  },
  {
   "cell_type": "code",
   "execution_count": null,
   "metadata": {},
   "outputs": [],
   "source": [
    "latlon_fresno = 36.857, -119.786\n",
    "m = leafmap.Map(\n",
    "    center=latlon_fresno,\n",
    "    zoom=6,\n",
    "    basemap=\"Esri.WorldTopoMap\",\n",
    "    draw_control=False,\n",
    "    toolbar_control=False,\n",
    ")\n",
    "\n",
    "m.add_circle_markers_from_xy(\n",
    "    data=gdf_gage,\n",
    ")\n",
    "\n",
    "\n",
    "m"
   ]
  },
  {
   "cell_type": "markdown",
   "metadata": {},
   "source": [
    "Try clicking on one of the points: you get a popup showing the value of the other attributes of that streamgage.\n",
    "\n",
    "With so many points, it's a bit hard to make sense of the data. Leafmap gives you [options](https://leafmap.org/leafmap/?h=add_circle_markers_from_xy#leafmap.leafmap.Map.add_circle_markers_from_xy) to style your markers: lets decrease the radius and opacity of the markers to get a better sense of the density.\n",
    "\n",
    "As well as passing a constant value like `opacity=0.5`, we can also pass a list of values representing a different value for each marker. We'll also color-code the markers individually based on the \"Pass\" column of our dataframe (whether the streamgage data passed a QA check):\n"
   ]
  },
  {
   "cell_type": "code",
   "execution_count": null,
   "metadata": {},
   "outputs": [],
   "source": [
    "latlon_fresno = 36.857, -119.786\n",
    "m = leafmap.Map(\n",
    "    center=latlon_fresno,\n",
    "    zoom=6,\n",
    "    basemap=\"Esri.WorldTopoMap\",\n",
    "    draw_control=False,\n",
    "    toolbar_control=False,\n",
    ")\n",
    "\n",
    "color = [\"blue\" if passed else \"gray\" for passed in gdf_gage.Pass]\n",
    "\n",
    "m.add_circle_markers_from_xy(\n",
    "    data=gdf_gage,\n",
    "    radius=2,  # Default is 10.\n",
    "    opacity=0.5,  # Default is 1.\n",
    "    color=color,\n",
    ")\n",
    "\n",
    "m"
   ]
  },
  {
   "cell_type": "markdown",
   "metadata": {},
   "source": [
    "\n",
    "\n",
    "Reducing the marker size and opacity makes the map fairly readable. But for larger numbers, both visibility and browsing performance will start to suffer!\n",
    "\n",
    "For even larger numbers of points, leafmap provides `add_marker_cluster()`. Each cluster displays how many points it includes: zooming in breaks up the clusters. "
   ]
  },
  {
   "cell_type": "code",
   "execution_count": null,
   "metadata": {},
   "outputs": [],
   "source": []
  },
  {
   "cell_type": "code",
   "execution_count": null,
   "metadata": {},
   "outputs": [],
   "source": [
    "latlon_fresno = 36.857, -119.786\n",
    "m = leafmap.Map(\n",
    "    center=latlon_fresno,\n",
    "    zoom=6,\n",
    "    basemap=\"Esri.WorldTopoMap\",\n",
    "    draw_control=False,\n",
    "    toolbar_control=False,\n",
    ")\n",
    "\n",
    "m.add_marker_cluster(\n",
    "    data=gdf_gage,\n",
    "    x=\"Long_nwis\",  # Must provide the names of the x/y columns.\n",
    "    y=\"Lat_nwis\",\n",
    ")\n",
    "\n",
    "m"
   ]
  },
  {
   "cell_type": "markdown",
   "metadata": {},
   "source": [
    "## Displaying vector data\n",
    "\n",
    "Leafmap provides the `add_gdf()` function that can plot geopandas `GeoDataFrame` objects, including those with line and polygon geometry.\n",
    "\n",
    "Here we load some streamlines around the SF bay area."
   ]
  },
  {
   "cell_type": "code",
   "execution_count": null,
   "metadata": {},
   "outputs": [],
   "source": [
    "gdf_streamlines = gpd.read_file(\"./data/California_Streams.SanFranciscoBay.geojson\")\n",
    "\n",
    "latlon_sf = 37.715, -122.475\n",
    "m = leafmap.Map(\n",
    "    center=latlon_sf,\n",
    "    zoom=10,\n",
    "    basemap=\"CartoDB.DarkMatter\",\n",
    "    draw_control=False,\n",
    "    toolbar_control=False,\n",
    ")\n",
    "\n",
    "# Color the lines.\n",
    "subbasin_colors = {\n",
    "    \"Tomales-Drake Bays\": \"blue\",\n",
    "    \"San Francisco Coastal South\": \"purple\",\n",
    "}\n",
    "style_callback = lambda feat: {\"color\": subbasin_colors[feat[\"properties\"][\"Hydrologic_Subbasin\"]], \"weight\": 1}\n",
    "\n",
    "# Plot the lines.\n",
    "m.add_gdf(\n",
    "    gdf_streamlines,\n",
    "    style_callback=style_callback,\n",
    ")\n",
    "\n",
    "# Add a legend.\n",
    "m.add_legend(title=\"Sub Basin\", legend_dict=subbasin_colors)\n",
    "\n",
    "m"
   ]
  },
  {
   "cell_type": "markdown",
   "metadata": {},
   "source": [
    "## Displaying polygon data\n",
    "\n",
    "Leafmap also comes with a number of helpful tools for downloading data.\n",
    "\n",
    "The `get_wbd()` function returns watershed polygons based on a spatial query."
   ]
  },
  {
   "cell_type": "code",
   "execution_count": null,
   "metadata": {},
   "outputs": [],
   "source": [
    "m = leafmap.Map(\n",
    "    center=latlon_carmel,\n",
    "    zoom=12,\n",
    "    basemap=\"Esri.WorldImagery\",\n",
    "    draw_control=False,\n",
    "    toolbar_control=False,\n",
    ")\n",
    "\n",
    "point_geometry = {\"y\": latlon_carmel[0], \"x\": latlon_carmel[1]}\n",
    "gdf_huc12 = leafmap.get_wbd(point_geometry, digit=12, return_geometry=True)\n",
    "m.add_gdf(\n",
    "    gdf_huc12,\n",
    ")\n",
    "\n",
    "m"
   ]
  },
  {
   "cell_type": "markdown",
   "metadata": {},
   "source": [
    "Geopandas has the concept of a [spatial join](https://geopandas.org/en/stable/gallery/spatial_joins.html), using the `sjoin()` method. It lets you merge GeoDataFrame objects be finding rows whose geometry intersects.\n",
    "\n",
    "For example: we can use a spatial join take our streamgage data frame, and for each gage row,  find the watershed that contains the point, and add the watershed attributes to the gage row."
   ]
  },
  {
   "cell_type": "code",
   "execution_count": null,
   "metadata": {},
   "outputs": [],
   "source": [
    "# Get HUC4 watershed boundaries for the area containing our streamgages.\n",
    "xmin, ymin, xmax, ymax = gdf_gage.total_bounds\n",
    "bbox_geometry = {\"xmin\": xmin, \"ymin\": ymin, \"xmax\": xmax, \"ymax\": ymax}\n",
    "gdf_huc2 = leafmap.get_wbd(bbox_geometry, digit=2, return_geometry=True)\n",
    "\n",
    "# Spatial join with gages.\n",
    "gdf_gage_watershed = gdf_gage.sjoin(gdf_huc2, how=\"left\", predicate=\"contains\")\n",
    "\n",
    "# Base map.\n",
    "m = leafmap.Map(\n",
    "    center=latlon_fresno,\n",
    "    zoom=7,\n",
    "    basemap=\"Esri.WorldImagery\",\n",
    "    draw_control=False,\n",
    "    toolbar_control=False,\n",
    ")\n",
    "\n",
    "# Add the watershed boundaries as the 1st layer.\n",
    "m.add_gdf(\n",
    "    gdf_huc2,\n",
    "    layer_name=\"watershed\",\n",
    "    style={\"opacity\": 0.5},\n",
    ")\n",
    "\n",
    "# Add our points on top.\n",
    "m.add_circle_markers_from_xy(\n",
    "    data=gdf_gage_watershed,\n",
    "    color=\"magenta\",\n",
    "    layer_name=\"gage\",\n",
    "    radius=3,  # Default is 10.\n",
    "    opacity=0.5,  # Default is 1.\n",
    ")\n",
    "\n",
    "\n",
    "m\n",
    "\n"
   ]
  },
  {
   "cell_type": "markdown",
   "metadata": {},
   "source": [
    "Now the tooltip for each point contains not only the information about the gage, but also the attributes of the containing watershed."
   ]
  },
  {
   "cell_type": "markdown",
   "metadata": {},
   "source": [
    "## Displaying raster data\n",
    "\n",
    "Raster data can be displayed with the `add_raster()` method. \n",
    "\n",
    "The [viridis](https://cran.r-project.org/web/packages/viridis/vignettes/intro-to-viridis.html) colormap uses hue (color) to communicate more information than grayscale, and was engineered to be easier to read by people with most form of color blindness and color deficiency."
   ]
  },
  {
   "cell_type": "code",
   "execution_count": null,
   "metadata": {},
   "outputs": [],
   "source": [
    "m = leafmap.Map(\n",
    "    center=(37, -118),\n",
    "    zoom=6,\n",
    "    draw_control=False,\n",
    "    toolbar_control=False,\n",
    ")\n",
    "\n",
    "m.add_raster(\"./data/dem_90m.tif\", colormap=\"viridis\")\n",
    "\n",
    "m"
   ]
  },
  {
   "cell_type": "markdown",
   "metadata": {},
   "source": [
    "## Exporting visualizations\n",
    "\n",
    "Leafmap provides the `to_html()` method for saving maps to disk. The resulting html file can be shared to others and opened in their browser, even without having python installed."
   ]
  },
  {
   "cell_type": "code",
   "execution_count": null,
   "metadata": {},
   "outputs": [],
   "source": [
    "m = leafmap.Map(\n",
    "    center=latlon_carmel,\n",
    "    zoom=13,\n",
    "    basemap=\"Esri.WorldTopoMap\",\n",
    ")\n",
    "m.to_html(\"./tmp/exported_map_analysis.html\")"
   ]
  }
 ],
 "metadata": {
  "language_info": {
   "name": "python"
  }
 },
 "nbformat": 4,
 "nbformat_minor": 2
}
