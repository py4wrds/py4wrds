{
 "cells": [
  {
   "cell_type": "markdown",
   "metadata": {},
   "source": [
    "# 7. Interactive visualization\n",
    "\n",
    "1. Creating a map with leafmap  \n",
    "2. Selecting a basemap  \n",
    "3. Displaying point data (stream gages)  \n",
    "4. Displaying vector data (linear water bodies)  \n",
    "5. Displaying polygon data (regional boundaries)  \n",
    "6. Displaying raster data (DEM)  \n",
    "7. Displaying multidimensional data (rainfall time series)  \n",
    "8. Exporting map as html\n",
    "\n"
   ]
  }
 ],
 "metadata": {
  "language_info": {
   "name": "python"
  }
 },
 "nbformat": 4,
 "nbformat_minor": 2
}
