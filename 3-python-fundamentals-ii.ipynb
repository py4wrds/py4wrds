{
 "cells": [
  {
   "cell_type": "markdown",
   "metadata": {},
   "source": [
    "# 3. Python fundamentals II\n",
    "\n",
    "As your programs get larger, you'll want to get organized. This module covers the main concepts in Python for grouping and reusing code: functions, objects, and modules.\n",
    "\n",
    "\n",
    "## Functions\n",
    "\n",
    "A function is a chunk of code that takes inputs, does some processing on them, then returns an output. The code within the function runs only when it is called.\n",
    "\n",
    "Functions can be reused without having to write all the code out again, making your software more **reproducable** and **consistent**. \n",
    "\n",
    "Grouping code into functions also keeps your software **organised**.\n",
    "\n",
    "\n",
    "\n",
    "### Anatomy of a python function\n",
    "\n",
    "In Python, all functions have a **name**, zero or more **input arguments**, and an **output**. \n",
    "\n",
    "We're also going to give all our functions a descriptive **docstring** for this course: I recommend you do the same in your code!\n",
    "\n",
    "You write a function by using the `def` keyword. Here's an example with these four basic components:\n"
   ]
  },
  {
   "cell_type": "code",
   "execution_count": null,
   "metadata": {},
   "outputs": [],
   "source": [
    "def acre_feet_to_m3(volume_acre_feet):\n",
    "    \"\"\"Converts volume in US acre-feet to SI m³.\"\"\"\n",
    "    volume_m3 = volume_acre_feet * 1_233.482\n",
    "    return volume_m3"
   ]
  },
  {
   "cell_type": "markdown",
   "metadata": {},
   "source": [
    "Running this function works just like we've already seen with builtin python functions like `print` and `str`:"
   ]
  },
  {
   "cell_type": "code",
   "execution_count": null,
   "metadata": {},
   "outputs": [],
   "source": [
    "lake_tahoe_volume_acre_feet = 120_000_000\n",
    "acre_feet_to_m3(lake_tahoe_volume_acre_feet)"
   ]
  },
  {
   "cell_type": "markdown",
   "metadata": {},
   "source": [
    "Any variables created inside the function are only available inside the function. Try to use `volume_m3` now, you will see an error. This scoping of variables inside functions is one of the benefits of functions that keep your workspace clean of variables.\n",
    "\n",
    "\n",
    "```python\n",
    "print(volume_m3)\n",
    "```\n",
    "\n",
    "```text\n",
    "---------------------------------------------------------------------------\n",
    "NameError                                 Traceback (most recent call last)\n",
    "Cell In[3], line 1\n",
    "----> 1 volume_m3\n",
    "\n",
    "NameError: name 'volume_m3' is not defined\n",
    "```"
   ]
  },
  {
   "cell_type": "markdown",
   "metadata": {},
   "source": [
    "### Default arguments\n",
    "\n",
    "Input arguments can have **default** values. Normally, running a function without specifying all of its arguments results in an error.\n",
    "\n",
    "But when default values are given for arguments using an `=` sign in the function definition, Python will use that default for any missing arguments.\n",
    "\n"
   ]
  },
  {
   "cell_type": "code",
   "execution_count": null,
   "metadata": {},
   "outputs": [],
   "source": [
    "def say_hello(user=None):\n",
    "    if user is None:\n",
    "        print(\"Hi!\")\n",
    "    else:\n",
    "        print(f\"Hi {user}!\")"
   ]
  },
  {
   "cell_type": "code",
   "execution_count": null,
   "metadata": {},
   "outputs": [],
   "source": [
    "say_hello(\"Andrew\")"
   ]
  },
  {
   "cell_type": "code",
   "execution_count": null,
   "metadata": {},
   "outputs": [],
   "source": [
    "say_hello()"
   ]
  },
  {
   "cell_type": "markdown",
   "metadata": {},
   "source": [
    "It's nice to give your arguments defaults when you know what the value will be most of the time, but still allow the possibility of using a different input."
   ]
  },
  {
   "cell_type": "markdown",
   "metadata": {},
   "source": [
    "### Named arguments\n",
    "\n",
    "A function will receive the arguments in the order you use them when running the function:"
   ]
  },
  {
   "cell_type": "code",
   "execution_count": null,
   "metadata": {},
   "outputs": [],
   "source": [
    "def bounds_area(left, bottom, right, top, force_positive=True):\n",
    "    \"\"\"Area of rectangular bounding box.\"\"\"\n",
    "    height = top - bottom\n",
    "    width = right - left\n",
    "    area = height * width\n",
    "    if force_positive:\n",
    "        area = abs(area)\n",
    "    return area\n",
    "\n",
    "\n",
    "bounds_area(4137299, 606008, 4137399, 606009)"
   ]
  },
  {
   "cell_type": "markdown",
   "metadata": {},
   "source": [
    "Using argument names lets you control the order of the arguments. Plus, will make the code much easier to understand when you're trying to understand it later!"
   ]
  },
  {
   "cell_type": "code",
   "execution_count": null,
   "metadata": {},
   "outputs": [],
   "source": [
    "bounds_area(left=4137299, right=4137399, bottom=606008, top=606009)"
   ]
  },
  {
   "cell_type": "markdown",
   "metadata": {},
   "source": [
    "In science and geospatial coding, we frequently work between different lat/lon x/y row/col ordering customs, as well as just very complicated algorithms with a large level of parameters.\n",
    "\n",
    "By writing out argument names in full wherever they're not completely obvious, we help others and our future selves to read our code, and make our code more resilient to bugs.\n",
    "\n"
   ]
  },
  {
   "cell_type": "markdown",
   "metadata": {},
   "source": [
    "\n",
    "### Outputs\n",
    "\n",
    "Technically, Python can only return a single variable as output. But if we want **zero output** we can just return `None` (this is also what happens when we have a function without a `return` statement):\n"
   ]
  },
  {
   "cell_type": "code",
   "execution_count": null,
   "metadata": {},
   "outputs": [],
   "source": [
    "def check_number_is_non_negative(num):\n",
    "    \"\"\"Throw an error for non-negative numbers.\"\"\"\n",
    "    assert num >= 0\n",
    "\n",
    "page_number = 7\n",
    "result = check_number_is_non_negative(page_number)\n",
    "print(result)"
   ]
  },
  {
   "cell_type": "markdown",
   "metadata": {},
   "source": [
    "To stuff **multiple outputs** in one variable, we can use a tuple"
   ]
  },
  {
   "cell_type": "code",
   "execution_count": null,
   "metadata": {},
   "outputs": [],
   "source": [
    "def extract_lat_lon(latlon):\n",
    "    \"\"\"Extract lat,lon from a string like '37.364,-122.010'\"\"\"\n",
    "    parts = latlon.split(\",\")\n",
    "    lat = float(parts[0])\n",
    "    lon = float(parts[1])\n",
    "    return (lat, lon)\n",
    "\n",
    "result_lat, result_lon = extract_lat_lon(\"37.364,-122.010\")\n",
    "\n",
    "print(result_lat)"
   ]
  },
  {
   "cell_type": "markdown",
   "metadata": {},
   "source": [
    "### Type annotations\n",
    "\n",
    "Modern versions of Python (like the one we're using in our conda environment!) let you document and restrict the types of your input arguments and output using a special syntax.\n",
    "\n",
    "For the `extract_lat_lon` function above that would look like this:\n",
    "\n",
    "\n",
    "```python\n",
    "def extract_lat_lon(latlon: str) -> tuple(float, float):\n",
    "    ...\n",
    "```\n",
    "\n",
    "These **type annotations** are slowly being adopted by many new software projects. But their use isn't widespread in scientific computing.\n",
    "\n",
    "We chose not to use type annotations for this course as many of the core scientific Python packages we'll be using don't support them (yet!). But you may see them when viewing Python code in the future.\n",
    "\n"
   ]
  },
  {
   "cell_type": "markdown",
   "metadata": {},
   "source": [
    "### When to use functions?\n",
    "\n",
    "There's a balance to strike here with functions. Not enough functions makes for code that's hard to navigate and prone to bugs. But wrapping every little statement in a function slows development and adds counter-productive complexity.\n",
    "\n",
    "Here are some suggestions for when it's time to put code in a function:\n",
    "\n",
    "* To avoid repetition.\n",
    "  * If you've already written some code to read data from Snowflake, there's no need to re-write that every time in your code that needs snowflake data. Be kind to yourself, make a `read_from_snowflake` function!\n",
    "  * There's no need to force it though. Sometimes it makes sense to copy and modify code, rather than trying to write a single function that handles two slightly different situations.\n",
    "* When consistency is needed.\n",
    "  * There are two different definitions of the [acre-foot](https://en.wikipedia.org/wiki/Acre-foot) unit. By using our `acre_feet_to_m3` function instead of dividing by 1,233.4892 throughout your code, we can ensure that all parts of our program are using a consistent definition of the unit.\n",
    "* To structure a program.\n",
    "  * You can use functions to split up your program so that it reads almost like English.\n",
    "  * Good rules of thumb: all lines of a function should fit on a computer screen.\n",
    "  * For example, the top-level of this flow rate forecasting program is split into 7 high-level functions: \n",
    "    ```python\n",
    "    def forecast_flow_rate(streamgage_id, forecast_date):\n",
    "        \"\"\"Single day ML forecast for flow at a streamgage location.\"\"\"\n",
    "        # Inputs.\n",
    "        historic_flow = load_historic_flow(streamgage_id)\n",
    "        watershed = load_watershed(streamgage_id)\n",
    "        dem = load_dem(watershed.bounds)\n",
    "        precip = load_precipitation_forecast(watershed.bounds, forecast_date)\n",
    "\n",
    "        # Run model.\n",
    "        forecast_result = run_lstm_flow_simulation(dem, precip, forecast_date)\n",
    "        validate_single_gage_forecast(forecast_result)\n",
    "\n",
    "        # Save result.\n",
    "        save_result_to_snowflake(forecast_result)\n",
    "    ```\n",
    "    Skipping through just that function gives the reader a good overview of how the program works, and offers a clear directory of where to look to resolve a `Invalid Forecast Result` error for example.\n",
    "\n"
   ]
  },
  {
   "cell_type": "markdown",
   "metadata": {},
   "source": [
    "### Library functions\n",
    "\n",
    "Python comes with a large standard (builtin) library of modules, and the conda environment we installed adds many more. Library modules are accessed using `import`. For example, to use the builtin `statistics` module:\n",
    "\n"
   ]
  },
  {
   "cell_type": "code",
   "execution_count": null,
   "metadata": {},
   "outputs": [],
   "source": [
    "import statistics\n",
    "\n",
    "states = [\"CA\", \"NV\", \"NV\", \"AZ\"]\n",
    "statistics.mode(states)"
   ]
  },
  {
   "cell_type": "markdown",
   "metadata": {},
   "source": [
    "## Errors in functions\n",
    "\n",
    "By now you've probably seen what happens in Python when you trigger an errror!\n",
    "\n",
    "```python\n",
    "42 / 0\n",
    "```\n",
    "\n",
    "```text\n",
    "ZeroDivisionError                         Traceback (most recent call last)\n",
    "Cell In[71], line 1\n",
    "----> 1 42 / 0\n",
    "\n",
    "ZeroDivisionError: division by zero\n",
    "```\n",
    "\n",
    "In this simple example Python is telling you a few pieces of information\n",
    "\n",
    "* The error name: `ZeroDivisionError`. This is the bit you should use for googling more information about the error!\n",
    "* A plain-english description of the error: `division by zero`.\n",
    "* The line of code that triggered the error: `42 / 0`.\n",
    "* You also get a line number: `line 1`. In notebooks this is less helpful, but for Python files this can help you quickly find the problematic line (you also get the filename).\n",
    "\n",
    "\n",
    "Often in Python our code gets deeply nested: we have a function, that calls another function in a different module, which then calls a different function. In the example below we have `build_bounds` which calls `print_bounds_details` which calls `calculate_aspect_ratio`:\n",
    "\n"
   ]
  },
  {
   "cell_type": "code",
   "execution_count": null,
   "metadata": {},
   "outputs": [],
   "source": [
    "def calculate_aspect_ratio(width, height):\n",
    "    return height / width\n",
    "\n",
    "def print_bounds_details(bounds):\n",
    "    print(f\"{bounds=}\")\n",
    "    \n",
    "    width = bounds[2] - bounds[0]\n",
    "    height = bounds[3] - bounds[1]\n",
    "    print(f\"{width=} {height=}\")\n",
    "    \n",
    "    aspect_ratio = calculate_aspect_ratio(width, height)\n",
    "    print(f\"{aspect_ratio=}\")\n",
    "\n",
    "def build_bounds(left, bottom, right, top):\n",
    "    bounds = (left, bottom, right, top)\n",
    "    print_bounds_details(bounds)\n",
    "    return bounds"
   ]
  },
  {
   "cell_type": "markdown",
   "metadata": {},
   "source": [
    "\n",
    "\n",
    "Look what happens when we try to build a bounding box with zero width:\n",
    "\n",
    "```python\n",
    "build_bounds(1, 100, 1, 101)\n",
    "```\n",
    "\n",
    "\n",
    "```text\n",
    "ZeroDivisionError                         Traceback (most recent call last)\n",
    "Cell In[75], line 20\n",
    "     16     print_bounds_details(bounds)\n",
    "     17     return bounds\n",
    "---> 20 build_bounds(1, 100, 1, 101)\n",
    "\n",
    "Cell In[75], line 16, in build_bounds(left, bottom, right, top)\n",
    "     14 def build_bounds(left, bottom, right, top):\n",
    "     15     bounds = (left, bottom, right, top)\n",
    "---> 16     print_bounds_details(bounds)\n",
    "     17     return bounds\n",
    "\n",
    "Cell In[75], line 11, in print_bounds_details(bounds)\n",
    "      8 height = bounds[3] - bounds[1]\n",
    "      9 print(f\"{width=} {height=}\")\n",
    "---> 11 aspect_ratio = calculate_aspect_ratio(width, height)\n",
    "     12 print(f\"{aspect_ratio=}\")\n",
    "\n",
    "Cell In[75], line 2, in calculate_aspect_ratio(width, height)\n",
    "      1 def calculate_aspect_ratio(width, height):\n",
    "----> 2     return height / width\n",
    "\n",
    "ZeroDivisionError: division by zero\n",
    "```\n",
    "\n",
    "Now python is giving is a **Traceback**: it shows the line that triggered the error at each level.\n",
    "\n",
    "This is helpful because often the line that caused Python to fail in the *code* isn't the one that is problematic at the *conceptual* level.\n",
    "\n",
    "In the example above, Python crashed because it was trying to divide by zero when calculating the aspect ratio of the bounds. But we can fix the mathematics of that line: the proper fix might be at the `build_bounds` level of nesting to detect and reject zero-width bounding boxes before trying to `print_bounds_details`.\n",
    "\n",
    "---\n",
    "\n",
    "One last note on errors: **embrace errors** during development! Except in a few circumstances (writing to a database, deleting files), crashing your code has zero negative concequences, and gives you direct valuable feedback via the error message. Instead of wondering \"will this code work?\" it's often faster just to run it and see!\n",
    "\n",
    "As we move into more complex coding, we'll rely more heavily on errors and tracebacks.\n",
    "\n"
   ]
  },
  {
   "cell_type": "markdown",
   "metadata": {},
   "source": [
    "\n",
    "\n",
    "\n",
    "### Triggering errors\n",
    "\n",
    "You can trigger an error using the `raise` keyword with an error type (there are [many to choose from](https://docs.python.org/3/library/exceptions.html), `ValueError` is the most common) and an error message string:"
   ]
  },
  {
   "cell_type": "code",
   "execution_count": null,
   "metadata": {},
   "outputs": [],
   "source": [
    "def build_bounds(left, bottom, right, top):\n",
    "    bounds = (left, bottom, right, top)\n",
    "    if left == right or bottom == top:\n",
    "        raise ValueError(\"Zero-area bounds detected!\")\n",
    "    print_bounds_details(bounds)\n",
    "    return bounds"
   ]
  },
  {
   "cell_type": "markdown",
   "metadata": {},
   "source": [
    "Why would you want to crash your code?! Well now when we try to create a bad bounding box, our code fails early (avoiding running code that's doomed to fail), and we get a clear error message about what went wrong, rather than a long traceback triggered in a utility function:\n",
    "\n",
    "```python\n",
    "build_bounds(1, 100, 1, 101)\n",
    "```\n",
    "\n",
    "```text\n",
    "ValueError                                Traceback (most recent call last)\n",
    "Cell In[76], line 29\n",
    "     24     print_bounds_details(bounds)\n",
    "     25     return bounds\n",
    "---> 29 build_bounds(1, 100, 1, 101)\n",
    "\n",
    "Cell In[76], line 22, in build_bounds(left, bottom, right, top)\n",
    "     20 def build_bounds(left, bottom, right, top):\n",
    "     21     if left == right or bottom == top:\n",
    "---> 22         raise ValueError(\"Zero-area bounds detected!\")\n",
    "     23     bounds = (left, bottom, right, top)\n",
    "     24     print_bounds_details(bounds)\n",
    "\n",
    "ValueError: Zero-area bounds detected!\n",
    "```\n",
    "\n",
    "In general, we want our code to fail as early as possible, with the best description possible.\n",
    "\n"
   ]
  },
  {
   "cell_type": "markdown",
   "metadata": {},
   "source": []
  },
  {
   "cell_type": "code",
   "execution_count": null,
   "metadata": {},
   "outputs": [],
   "source": []
  },
  {
   "cell_type": "markdown",
   "metadata": {},
   "source": [
    "### Function decorators\n",
    "\n",
    "A decorator (signified with a `@` symbol) modifies the functionality of a function.\n",
    "\n",
    "Mastering decorators is a more advanced topic. But there's one super useful decorator you should now about: the `cache` decorator in the builtin `functools` library.\n",
    "\n",
    "Say you have a function that is very slow and always returns the same output when given the same input argument. (This is really common in data science, think loading data from remote servers or performing very complicated but deterministic calculations). \n",
    "\n",
    "Adding the `@functools.cache` before your slow deterministic function means that the first time it's called, the result is stored by Python. Any subsequent times the function is called with the same input arguments, that stored result is returned instantly!\n",
    "\n",
    "In the example below, `load_webpage` is our slow function."
   ]
  },
  {
   "cell_type": "code",
   "execution_count": null,
   "metadata": {},
   "outputs": [],
   "source": [
    "import functools\n",
    "import requests\n",
    "\n",
    "@functools.cache\n",
    "def load_webpage(url):\n",
    "    requests.get(url)"
   ]
  },
  {
   "cell_type": "code",
   "execution_count": null,
   "metadata": {},
   "outputs": [],
   "source": [
    "%%time\n",
    "load_webpage(\"https://example.com/\")"
   ]
  },
  {
   "cell_type": "markdown",
   "metadata": {},
   "source": [
    "The first time the function is run, it takes over 50ms to query the server and download the webpage.\n",
    "\n",
    "(Note the `%%time` notebook syntax here, which prints out the time taken to run a cell)."
   ]
  },
  {
   "cell_type": "code",
   "execution_count": null,
   "metadata": {},
   "outputs": [],
   "source": [
    "%%time\n",
    "load_webpage(\"https://example.com/about.html\")"
   ]
  },
  {
   "cell_type": "markdown",
   "metadata": {},
   "source": [
    "Running the function a second time with different input also takes over 50ms."
   ]
  },
  {
   "cell_type": "code",
   "execution_count": null,
   "metadata": {},
   "outputs": [],
   "source": [
    "%%time\n",
    "load_webpage(\"https://example.com/\")"
   ]
  },
  {
   "cell_type": "markdown",
   "metadata": {},
   "source": [
    "But when run with an input that the decorated function has already seen, the result takes a few μs. That's about as close to instantaneous you get with Python!"
   ]
  },
  {
   "cell_type": "markdown",
   "metadata": {},
   "source": [
    "## Classes\n",
    "\n",
    "The next step on our organizational journey is classes and objects.\n",
    "\n",
    "Just like functions group related *statements* together, classes group related *variables* and *functions*.\n",
    "\n",
    "And just like how organizing your code into functions is optional, so is defining your own classes. The programming technique where most things are organised into classes is called Object Oriented Programming (OOP), but you don't have to go full OOP to selectively enjoy many of the benefits of classes!\n",
    "\n",
    "\n",
    "### Defining classes\n",
    "\n",
    "\n",
    "Classes are defined with the `class` keyword. Here's a simple class representing a point on a map."
   ]
  },
  {
   "cell_type": "code",
   "execution_count": null,
   "metadata": {},
   "outputs": [],
   "source": [
    "class Point:\n",
    "    \"\"\"A lat/lon point.\"\"\""
   ]
  },
  {
   "cell_type": "markdown",
   "metadata": {},
   "source": [
    "We can set create an **instance** of the class using the `()` syntax. An instance of a class is also called an **object** in Python."
   ]
  },
  {
   "cell_type": "code",
   "execution_count": null,
   "metadata": {},
   "outputs": [],
   "source": [
    "point_half_dome = Point()"
   ]
  },
  {
   "cell_type": "markdown",
   "metadata": {},
   "source": [
    "### Object attributes\n",
    "\n",
    "Ok so what do we do with classes and instances?\n",
    "\n",
    "Classes group together variables and functions. Lets start with the variables: you can create variables known as **attributes** on your instances using the `.` syntax. Lets give our point a latitude and a longitude."
   ]
  },
  {
   "cell_type": "code",
   "execution_count": null,
   "metadata": {},
   "outputs": [],
   "source": [
    "point_half_dome.lat = 37.745\n",
    "point_half_dome.lon = -119.533"
   ]
  },
  {
   "cell_type": "markdown",
   "metadata": {},
   "source": [
    "We can use these object attributes as variables like any other:"
   ]
  },
  {
   "cell_type": "code",
   "execution_count": null,
   "metadata": {},
   "outputs": [],
   "source": [
    "print(point_half_dome.lat)\n",
    "print(round(point_half_dome.lon))"
   ]
  },
  {
   "cell_type": "markdown",
   "metadata": {},
   "source": [
    "### The \\_\\_init\\_\\_ method\n",
    "\n",
    "Despite the example above, it's best not to set attributes directly. It's too easy to introduce inconsistency: you might have `point.lat` in one place and `point.latitude` in another, resulting in chaos.\n",
    "\n",
    "Instead, we let the class define it's own attribute names using a function. The functions of a class are called **methods**.\n",
    "\n",
    "Python gives us a few special method names we can use that have special functionality. The `__init__` method is used to initialize (create) an instance of the class.\n",
    "\n",
    "Lets rewrite our `Point` class:"
   ]
  },
  {
   "cell_type": "code",
   "execution_count": null,
   "metadata": {},
   "outputs": [],
   "source": [
    "class Point:\n",
    "    \"\"\"A lat/lon point.\"\"\"\n",
    "    def __init__(self, lat, lon):\n",
    "        self.lat = lat\n",
    "\n",
    "        # Wrap longitude to range (-180, 180].\n",
    "        while lon > 180:\n",
    "            lon = lon - 360\n",
    "        while lon <= -180:\n",
    "            lon = lon + 360\n",
    "        self.lon = lon\n",
    "\n",
    "\n",
    "point_half_dome = Point(lat=37.745, lon=-119.533)\n",
    "print(point_half_dome.lat)"
   ]
  },
  {
   "cell_type": "markdown",
   "metadata": {},
   "source": [
    "The initializer now stores the first argument as an attribute called `lat`: no room for `latitude` ambiguity! The initializer also takes the opportunity to ensure that the longitude is between -180 and 180: by putting this check in a single place, we can be sure of the longitude convention used by all `Point` objects.\n",
    "\n",
    "All class methods get the instance passed as an initial first argument called `self`.\n"
   ]
  },
  {
   "cell_type": "markdown",
   "metadata": {},
   "source": [
    "### Custom methods\n",
    "\n",
    "Pretty much all of your classes are going to start like this"
   ]
  },
  {
   "cell_type": "code",
   "execution_count": null,
   "metadata": {},
   "outputs": [],
   "source": [
    "class SomeClass:\n",
    "    \"\"\"What SomeClass does.\"\"\"\n",
    "    def __init__(self, arg1, arg2, arg3):\n",
    "        self.arg1 = arg1\n",
    "        self.arg2 = arg2\n",
    "        ..."
   ]
  },
  {
   "cell_type": "markdown",
   "metadata": {},
   "source": [
    "But as you expand the functionality of each class, you'll add more attributes and methods.\n",
    "\n",
    "A big feature of methods is that they can modify the object. Lets add a `move` method to our `Point` class. Remember that `self` is always inserted as the first argument."
   ]
  },
  {
   "cell_type": "code",
   "execution_count": null,
   "metadata": {},
   "outputs": [],
   "source": [
    "class Point:\n",
    "    \"\"\"A lon/lon point.\"\"\"\n",
    "    def __init__(self, lat, lon):\n",
    "        self.lat = lat\n",
    "\n",
    "        # Wrap longitude to range (-180, 180].\n",
    "        while lon > 180:\n",
    "            lon = lon - 360\n",
    "        while lon <= -180:\n",
    "            lon = lon + 360\n",
    "        self.lon = lon\n",
    "\n",
    "    def move(self, delta_lat=0, delta_lon=0):\n",
    "        \"\"\"Shifts the point.\"\"\"\n",
    "        self.lat = self.lat + delta_lat\n",
    "        self.lon = self.lon + delta_lon\n",
    "\n",
    "point_half_dome = Point(lat=37.745, lon=-119.533)\n",
    "print(point_half_dome.lat)\n"
   ]
  },
  {
   "cell_type": "code",
   "execution_count": null,
   "metadata": {},
   "outputs": [],
   "source": [
    "point_half_dome.move(delta_lat=0.1)\n",
    "print(point_half_dome.lat)"
   ]
  },
  {
   "cell_type": "markdown",
   "metadata": {},
   "source": [
    "Using the `move` method on the object has permanently modified the instance's `lat` attribute."
   ]
  },
  {
   "cell_type": "markdown",
   "metadata": {},
   "source": [
    "### The \\_\\_repr\\_\\_ method\n",
    "\n",
    "The `__repr__` method (like all methods beginning with double underscore) is another special method. It lets you control the representation when you print your instance.\n",
    "\n",
    "Python classes have a default `__repr__` method that isn't very user friendly:"
   ]
  },
  {
   "cell_type": "code",
   "execution_count": null,
   "metadata": {},
   "outputs": [],
   "source": [
    "print(point_half_dome)"
   ]
  },
  {
   "cell_type": "markdown",
   "metadata": {},
   "source": [
    "Adding our own method can help with debugging and logging:"
   ]
  },
  {
   "cell_type": "code",
   "execution_count": null,
   "metadata": {},
   "outputs": [],
   "source": [
    "class Point:\n",
    "    \"\"\"A lon/lon point.\"\"\"\n",
    "    def __init__(self, lat, lon):\n",
    "        self.lat = lat\n",
    "\n",
    "        # Wrap longitude to range (-180, 180].\n",
    "        while lon > 180:\n",
    "            lon = lon - 360\n",
    "        while lon <= -180:\n",
    "            lon = lon + 360\n",
    "        self.lon = lon\n",
    "\n",
    "    def move(self, delta_lat=0, delta_lon=0):\n",
    "        \"\"\"Shifts the point.\"\"\"\n",
    "        self.lat = self.lat + delta_lat\n",
    "        self.lon = self.lon + delta_lon\n",
    "    \n",
    "    def __repr__(self):\n",
    "        return f\"{self.lat}, {self.lon}\"\n",
    "    \n",
    "point_half_dome = Point(lat=37.745, lon=-119.533)\n",
    "print(point_half_dome)"
   ]
  },
  {
   "cell_type": "markdown",
   "metadata": {},
   "source": [
    "### Inheritance\n",
    "\n",
    "Inheritance is used to specialise existing classes.\n",
    "\n",
    "With inheritance you take an existing class and add new attributes, or add/modify existing methods.\n",
    "\n",
    "Lets make a new class that represents a streamgage. We can add a new attribute by overriding the `__init__` method:\n",
    "\n"
   ]
  },
  {
   "cell_type": "code",
   "execution_count": null,
   "metadata": {},
   "outputs": [],
   "source": [
    "class Streamgage(Point):\n",
    "    \"\"\"A USGS streamgage.\"\"\"\n",
    "    def __init__(self, lat, lon, usgs_id):\n",
    "        super().__init__(lat, lon)\n",
    "        self.usgs_id = usgs_id"
   ]
  },
  {
   "cell_type": "markdown",
   "metadata": {},
   "source": [
    "The line `super.__init__(lat, lon)` call's the parent's `__init__` method. It's a bit like going `self = Point(lat, lon)`."
   ]
  },
  {
   "cell_type": "markdown",
   "metadata": {},
   "source": [
    "And we can also add a brand new method that wouldn't make sense on the generic parent `Point` class."
   ]
  },
  {
   "cell_type": "code",
   "execution_count": null,
   "metadata": {},
   "outputs": [],
   "source": [
    "class Streamgage(Point):\n",
    "    \"\"\"A USGS streamgage.\"\"\"\n",
    "    def __init__(self, lat, lon, usgs_id):\n",
    "        super().__init__(lat, lon)\n",
    "        self.usgs_id = usgs_id\n",
    "\n",
    "    def current_flowrate(self):\n",
    "        \"\"\"The curent flowrate at the gage, in ft³s⁻¹.\"\"\"\n",
    "        return query_usgs_api(site=self.usgs_id, field=\"streamflow\")"
   ]
  },
  {
   "cell_type": "markdown",
   "metadata": {},
   "source": [
    "Because `Streamgage` inherits from `Point`, and because we called Point's `__init__` method inside of our own, we get to keep all the helpful functionality of `Point` like the longitude wrapping and moving:"
   ]
  },
  {
   "cell_type": "code",
   "execution_count": null,
   "metadata": {},
   "outputs": [],
   "source": [
    "gage = Streamgage(lat=35.8494, lon=243.7692, usgs_id=\"10251300\")\n",
    "gage.move(delta_lat=0.00025)\n",
    "gage"
   ]
  },
  {
   "cell_type": "markdown",
   "metadata": {},
   "source": [
    "You can see we've also inherited the `__repr__` method that only displays the coordinated. As an exercise, can you copy the `Point` and `Streamgage` classes, then add a `__repr__` method to `Streamgage` that also displays the id?"
   ]
  },
  {
   "cell_type": "markdown",
   "metadata": {},
   "source": [
    "### Dataclassess\n",
    "\n",
    "Classes are helpful but as you can see, object oriented programming gets complicated fast!\n",
    "\n",
    "If you just want a simple structure to hold a few variables together, the builtin `dataclasses` automates away some of the annoying boilerplate. You create a using the `dataclasses.dataclass` decorator, and have to specify the type of your attributes:"
   ]
  },
  {
   "cell_type": "code",
   "execution_count": null,
   "metadata": {},
   "outputs": [],
   "source": [
    "import dataclasses\n",
    "\n",
    "@dataclasses.dataclass\n",
    "class SimulationConfig:\n",
    "    results_path: str\n",
    "    num_iterations: int\n",
    "    num_trials: int = 1\n",
    "\n",
    "    def total_num_steps(self):\n",
    "        return self.num_iterations * self.num_trials\n",
    "    \n",
    "\n",
    "SimulationConfig(\"/tmp/results.csv\", num_iterations=5)"
   ]
  },
  {
   "cell_type": "markdown",
   "metadata": {},
   "source": [
    "See how we didn't need define an `__init__` method, and `__repr__` was also handled for us!\n",
    "\n",
    "In data science, I often start out with dataclasses, and upgrade them to normal classes when I need control over `__init__` or complex inheritance."
   ]
  },
  {
   "cell_type": "markdown",
   "metadata": {},
   "source": [
    "### When to use OOP in data science\n",
    "\n",
    "OOP is great for representing *complex systems* of different structures of data.\n",
    "\n",
    "Data science, in constrast, often deals with simple data forms that undergo *complex transformations*.\n",
    "\n",
    "As a result, functional programming tends to be dominant approach in data science. \n",
    "\n",
    "That said, there's lots of places where OOP can help your data science development:\n",
    "\n",
    "* Productionizing data science analysis as an external tool or service.\n",
    "* Representing configuration and model inputs.\n",
    "* Data that's too complex to be a row in a datatable: rasters, experiment results, other domain-specific data structures.\n",
    "\n",
    "And finally, some of the biggest tools in data science are very object oriented (pandas, scikit-learn). So even if you're not writing custom classes, understanding classes will help."
   ]
  },
  {
   "cell_type": "markdown",
   "metadata": {},
   "source": [
    "## Modules\n",
    "\n",
    "The highest-level tool Python gives is for code organization is modules.\n",
    "\n",
    "A module is just a python file, while a package is a collection of modules.\n",
    "\n"
   ]
  },
  {
   "cell_type": "code",
   "execution_count": null,
   "metadata": {},
   "outputs": [],
   "source": []
  },
  {
   "cell_type": "markdown",
   "metadata": {},
   "source": [
    "\n",
    "\n",
    "\n",
    "\n",
    "\n",
    "\n",
    "\n",
    "\n",
    "\n",
    "\n",
    "\n",
    "\n",
    "\n",
    "1. Functions   \n",
    "   1. Anatomy of a function  \n",
    "      1. Arguments (positional, default, keyword, variable)  \n",
    "      2. Returning outputs  \n",
    "      3. Variable scope  \n",
    "      4. Documenting functionality with docstrings  \n",
    "      5. Type annotations  \n",
    "   2. Modularization: when to use a function  \n",
    "   4. Function decorators  \n",
    "   5. The functools library  \n",
    "      1. Freezing arguments with functools.partial  \n",
    "      2. Storing outputs with functools.cache  \n",
    "3. Object oriented programing  \n",
    "   1. Objects and classes  \n",
    "      1. Class syntax  \n",
    "      2. Instances vs classes  \n",
    "      3. Methods  \n",
    "         1. Init  \n",
    "         2. \\_\\_str\\_\\_  \n",
    "         3. Classmethod and staticmethod  \n",
    "      4. Property methods  \n",
    "      5. When to use classes  \n",
    "      6. OOP for data science  \n",
    "   2. Dataclasses  \n",
    "      1. Constructing dataclasses  \n",
    "      2. Dataclasses vs dictionaries  \n",
    "   3. Inheritance  \n",
    "      1. Overriding functionality  \n",
    "      2. Calling super()  \n",
    "      3. Extending dataclasses\n",
    "   3. Debugging nested errors with tracebacks  \n",
    "\n",
    "2. Modules  \n",
    "   1. Importing code from other modules  \n",
    "   2. Module layout  \n",
    "   3. Auto-reloading imported modules in jupyter  \n",
    "   4. Packages  \n"
   ]
  }
 ],
 "metadata": {
  "language_info": {
   "name": "python"
  }
 },
 "nbformat": 4,
 "nbformat_minor": 2
}
