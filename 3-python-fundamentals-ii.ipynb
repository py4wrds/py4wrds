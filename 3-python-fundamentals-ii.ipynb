{
 "cells": [
  {
   "cell_type": "markdown",
   "metadata": {},
   "source": [
    "# 3. Python fundamentals II\n",
    "\n",
    "\n",
    "\n",
    "\n",
    "\n",
    "Grouping, organizing, and reusing code!\n",
    "\n",
    "* Functions\n",
    "* Objects\n",
    "* Modules\n",
    "\n",
    "\n",
    "## Functions\n",
    "\n",
    "A function is a chunk of code that takes some inputs, does some processing on them, then returns some outputs. The code within the function runs only when it is called.\n",
    "\n",
    "Functions can be reused without having to write all the code out again, making your software more **reproducable** and **consistent**. \n",
    "\n",
    "Grouping code into functions also keeps your software **organised**.\n",
    "\n",
    "\n",
    "\n",
    "### Anatomy of a python function\n",
    "\n",
    "In Python, all functions have a **name**, zero or more **input arguments**, and an **output**. \n",
    "\n",
    "We're also going to give all our functions a descriptive **docstring** for this course: I recommend you do the same in your code!\n",
    "\n",
    "Here's a function with these four basic components:\n"
   ]
  },
  {
   "cell_type": "code",
   "execution_count": null,
   "metadata": {},
   "outputs": [],
   "source": [
    "def acre_feet_to_m3(volume_acre_feet):\n",
    "    \"\"\"Converts volume in US acre-feet to SI m³.\"\"\"\n",
    "    volume_m3 = volume_acre_feet * 1_233.482\n",
    "    return volume_m3"
   ]
  },
  {
   "cell_type": "markdown",
   "metadata": {},
   "source": [
    "Running this function works just like we've already seen with builtin python functions like `print` and `str`:"
   ]
  },
  {
   "cell_type": "code",
   "execution_count": null,
   "metadata": {},
   "outputs": [],
   "source": [
    "lake_tahoe_volume_acre_feet = 120_000_000\n",
    "acre_feet_to_m3(lake_tahoe_volume_acre_feet)"
   ]
  },
  {
   "cell_type": "markdown",
   "metadata": {},
   "source": [
    "Any variables created inside the function are only available inside the function. Try to use `volume_m3` now, you will see an error. \n",
    "\n",
    "This scoping of variables inside functions is one of the benefits of functions that keep your workspace clean of variables.\n",
    "\n",
    "\n",
    "```python\n",
    "print(volume_m3)\n",
    "```\n",
    "\n",
    "```text\n",
    "---------------------------------------------------------------------------\n",
    "NameError                                 Traceback (most recent call last)\n",
    "Cell In[3], line 1\n",
    "----> 1 volume_m3\n",
    "\n",
    "NameError: name 'volume_m3' is not defined\n",
    "```"
   ]
  },
  {
   "cell_type": "markdown",
   "metadata": {},
   "source": [
    "### Default arguments\n",
    "\n",
    "Input arguments can have **default** values. Normally, running a function without specifying all of its arguments results in an error.\n",
    "\n",
    "But when default values are given for arguments using an `=` sign in the function definition, Python will use that default for any missing arguments.\n",
    "\n"
   ]
  },
  {
   "cell_type": "code",
   "execution_count": null,
   "metadata": {},
   "outputs": [],
   "source": [
    "def say_hello(user=None):\n",
    "    if user is None:\n",
    "        print(\"Hi!\")\n",
    "    else:\n",
    "        print(f\"Hi {user}!\")"
   ]
  },
  {
   "cell_type": "code",
   "execution_count": null,
   "metadata": {},
   "outputs": [],
   "source": [
    "say_hello(\"Andrew\")"
   ]
  },
  {
   "cell_type": "code",
   "execution_count": null,
   "metadata": {},
   "outputs": [],
   "source": [
    "say_hello()"
   ]
  },
  {
   "cell_type": "markdown",
   "metadata": {},
   "source": [
    "It's nice to give your arguments defaults when you know what the value will be most of the time, but still allow the possibility of using a different input."
   ]
  },
  {
   "cell_type": "markdown",
   "metadata": {},
   "source": [
    "### Named arguments\n",
    "\n",
    "A function will receive the arguments in the order you use them when running the function:"
   ]
  },
  {
   "cell_type": "code",
   "execution_count": null,
   "metadata": {},
   "outputs": [],
   "source": [
    "def bounds_area(left, bottom, right, top, force_positive=True):\n",
    "    \"\"\"Area of rectangular bounding box.\"\"\"\n",
    "    height = top - bottom\n",
    "    width = right - left\n",
    "    area = height * width\n",
    "    if force_positive:\n",
    "        area = abs(area)\n",
    "    return area\n",
    "\n",
    "\n",
    "bounds_area(4137299, 606008, 4137399, 606009)"
   ]
  },
  {
   "cell_type": "markdown",
   "metadata": {},
   "source": [
    "Using argument names lets you control the order of the arguments. Plus, will make the code much easier to understand when you're trying to understand it later!"
   ]
  },
  {
   "cell_type": "code",
   "execution_count": null,
   "metadata": {},
   "outputs": [],
   "source": [
    "bounds_area(left=4137299, right=4137399, bottom=606008, top=606009)"
   ]
  },
  {
   "cell_type": "markdown",
   "metadata": {},
   "source": [
    "In science and geospatial coding, we frequently work between different lat/lon x/y row/col ordering customs, as well as just very complicated algorithms with a large level of parameters.\n",
    "\n",
    "By writing out argument names in full wherever they're not completely obvious, we help others and our future selves to read our code, and make our code more resilient to bugs.\n",
    "\n"
   ]
  },
  {
   "cell_type": "markdown",
   "metadata": {},
   "source": [
    "\n",
    "### Outputs\n",
    "\n",
    "Technically, Python can only return a single variable as output. But if we want **zero output** we can just return `None` (this is also what happens when we have a function without a `return` statement):\n"
   ]
  },
  {
   "cell_type": "code",
   "execution_count": null,
   "metadata": {},
   "outputs": [],
   "source": [
    "def check_number_is_non_negative(num):\n",
    "    \"\"\"Throw an error for non-negative numbers.\"\"\"\n",
    "    assert num >= 0\n",
    "\n",
    "page_number = 7\n",
    "result = check_number_is_non_negative(page_number)\n",
    "print(result)"
   ]
  },
  {
   "cell_type": "markdown",
   "metadata": {},
   "source": [
    "To stuff **multiple outputs** in one variable, we can use a tuple"
   ]
  },
  {
   "cell_type": "code",
   "execution_count": null,
   "metadata": {},
   "outputs": [],
   "source": [
    "def extract_lat_lon(latlon):\n",
    "    \"\"\"Extract lat,lon from a string like '37.364,-122.010'\"\"\"\n",
    "    parts = latlon.split(\",\")\n",
    "    lat = float(parts[0])\n",
    "    lon = float(parts[1])\n",
    "    return (lat, lon)\n",
    "\n",
    "result_lat, result_lon = extract_lat_lon(\"37.364,-122.010\")\n",
    "\n",
    "print(result_lat)"
   ]
  },
  {
   "cell_type": "markdown",
   "metadata": {},
   "source": [
    "### Type annotations\n",
    "\n",
    "Modern versions of Python (like the one we're using in our conda environment!) let you document and restrict the types of your input arguments and output using a special syntax.\n",
    "\n",
    "For the `extract_lat_lon` function above that would look like this:\n",
    "\n",
    "\n",
    "```python\n",
    "def extract_lat_lon(latlon: str) -> tuple(float, float):\n",
    "    ...\n",
    "```\n",
    "\n",
    "These **type annotations** are slowly being adopted by many new software projects. But their use isn't widespread in scientific computing.\n",
    "\n",
    "We chose not to use type annotations for this course as many of the core scientific Python packages we'll be using don't support them (yet!). But you may see them when viewing Python code in the future.\n",
    "\n"
   ]
  },
  {
   "cell_type": "markdown",
   "metadata": {},
   "source": [
    "### When to use functions\n",
    "\n",
    "\n",
    "* When code needs to be reproducable\n",
    "* WHen code is \"done\"\n",
    "    * When you've finished some helper function, scoop all that code into a function and put it at the top of your notebook or in a utils file.\n",
    "* To avoid repetition\n",
    "    * Though copy-paste can be better than jamming multiple purposes in one function"
   ]
  },
  {
   "cell_type": "markdown",
   "metadata": {},
   "source": [
    "### Function decorators\n",
    "\n"
   ]
  },
  {
   "cell_type": "code",
   "execution_count": null,
   "metadata": {},
   "outputs": [],
   "source": [
    "import functools\n",
    "import requests\n",
    "\n",
    "@functools.cache\n",
    "def load_webpage(url):\n",
    "    requests.get(url)"
   ]
  },
  {
   "cell_type": "code",
   "execution_count": null,
   "metadata": {},
   "outputs": [],
   "source": [
    "%%time\n",
    "load_webpage(\"https://example.com/\")"
   ]
  },
  {
   "cell_type": "code",
   "execution_count": null,
   "metadata": {},
   "outputs": [],
   "source": [
    "%%time\n",
    "load_webpage(\"https://example.com/about.html\")"
   ]
  },
  {
   "cell_type": "code",
   "execution_count": null,
   "metadata": {},
   "outputs": [],
   "source": [
    "%%time\n",
    "load_webpage(\"https://example.com/\")"
   ]
  },
  {
   "cell_type": "code",
   "execution_count": null,
   "metadata": {},
   "outputs": [],
   "source": []
  },
  {
   "cell_type": "markdown",
   "metadata": {},
   "source": [
    "\n",
    "\n",
    "\n",
    "\n",
    "\n",
    "\n",
    "\n",
    "\n",
    "\n",
    "\n",
    "\n",
    "\n",
    "\n",
    "1. Functions   \n",
    "   1. Anatomy of a function  \n",
    "      1. Arguments (positional, default, keyword, variable)  \n",
    "      2. Returning outputs  \n",
    "      3. Variable scope  \n",
    "      4. Documenting functionality with docstrings  \n",
    "      5. Type annotations  \n",
    "   2. Modularization: when to use a function  \n",
    "   4. Function decorators  \n",
    "   5. The functools library  \n",
    "      1. Freezing arguments with functools.partial  \n",
    "      2. Storing outputs with functools.cache  \n",
    "3. Object oriented programing  \n",
    "   1. Objects and classes  \n",
    "      1. Class syntax  \n",
    "      2. Instances vs classes  \n",
    "      3. Methods  \n",
    "         1. Init  \n",
    "         2. \\_\\_str\\_\\_  \n",
    "         3. Classmethod and staticmethod  \n",
    "      4. Property methods  \n",
    "      5. When to use classes  \n",
    "      6. OOP for data science  \n",
    "   2. Dataclasses  \n",
    "      1. Constructing dataclasses  \n",
    "      2. Dataclasses vs dictionaries  \n",
    "   3. Inheritance  \n",
    "      1. Overriding functionality  \n",
    "      2. Calling super()  \n",
    "      3. Extending dataclasses\n",
    "   3. Debugging nested errors with tracebacks  \n",
    "\n",
    "2. Modules  \n",
    "   1. Importing code from other modules  \n",
    "   2. Module layout  \n",
    "   3. Auto-reloading imported modules in jupyter  \n",
    "   4. Packages  \n"
   ]
  }
 ],
 "metadata": {
  "language_info": {
   "name": "python"
  }
 },
 "nbformat": 4,
 "nbformat_minor": 2
}
