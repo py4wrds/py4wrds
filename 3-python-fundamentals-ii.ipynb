{
 "cells": [
  {
   "cell_type": "markdown",
   "metadata": {},
   "source": [
    "# 3. Python fundamentals II\n",
    "\n",
    "As your programs get larger, you'll want to get organized. This module covers the hierarchy of concepts in Python for grouping and reusing code:\n",
    "\n",
    "* Functions\n",
    "* Classes\n",
    "* Modules\n",
    "* Packages\n",
    "\n",
    "\n",
    "## Functions\n",
    "\n",
    "A function is a chunk of code that takes inputs, does some processing on them, then returns an output.\n",
    "\n",
    "Functions allow us to\n",
    "\n",
    "* Reuse code without having to write it out again\n",
    "* Ensure consistency and reproducibility by confining logic to a single implementation\n",
    "* Group related code to keep things organized\n",
    "* Use code developed by others\n",
    "\n",
    "\n",
    "\n",
    "### Anatomy of a python function\n",
    "\n",
    "Let's dive right in and look at a function. Here's a function that converts volume amounts from acre-feet to cubic meters.\n",
    "\n"
   ]
  },
  {
   "cell_type": "code",
   "execution_count": null,
   "metadata": {},
   "outputs": [],
   "source": [
    "def acre_feet_to_m3(volume_acre_feet):\n",
    "    \"\"\"Converts volume in US acre-feet to SI m³.\"\"\"\n",
    "    volume_m3 = volume_acre_feet * 1_233.482\n",
    "    return volume_m3"
   ]
  },
  {
   "cell_type": "markdown",
   "metadata": {},
   "source": [
    "A python function has the following bits\n",
    "\n",
    "* Functions are created using the `def` keyword\n",
    "* Then the **name** of the function\n",
    "* Zero or more **input arguments** inside parentheses `()`\n",
    "* A colon `:`\n",
    "* A **docstring** documenting the function\n",
    "    * Technically these are optional, but they really help with understanding code!\n",
    "* The code of the function, indented one level (like a for loop)\n",
    "* An **output**, signified by the `return` keyword"
   ]
  },
  {
   "cell_type": "markdown",
   "metadata": {},
   "source": [
    "Nothing is displayed when *defining* a function: the code within the function runs only when it is *called*.\n",
    "\n",
    "\n",
    "Running this function works just like we've already seen with builtin python functions like `print` and `str`:"
   ]
  },
  {
   "cell_type": "code",
   "execution_count": null,
   "metadata": {},
   "outputs": [],
   "source": [
    "lake_tahoe_volume_acre_feet = 120_000_000\n",
    "acre_feet_to_m3(lake_tahoe_volume_acre_feet)"
   ]
  },
  {
   "cell_type": "markdown",
   "metadata": {},
   "source": [
    "```{note}\n",
    "Python lets you use underscores `_` to group digits. So writing `120_000_000` is the same as `120000000`. This really helps reading large numbers!\n",
    "```"
   ]
  },
  {
   "cell_type": "markdown",
   "metadata": {},
   "source": [
    "### Scoping"
   ]
  },
  {
   "cell_type": "markdown",
   "metadata": {},
   "source": [
    "Any variables created inside the function are only available inside the function. Try to use `volume_m3` now, you will see an error. This scoping of variables inside functions is one of the benefits of functions that keep your workspace clean of variables.\n",
    "\n",
    "\n",
    "```python\n",
    "print(volume_m3)\n",
    "```\n",
    "\n",
    "```text\n",
    "---------------------------------------------------------------------------\n",
    "NameError                                 Traceback (most recent call last)\n",
    "Cell In[3], line 1\n",
    "----> 1 volume_m3\n",
    "\n",
    "NameError: name 'volume_m3' is not defined\n",
    "```"
   ]
  },
  {
   "cell_type": "markdown",
   "metadata": {},
   "source": [
    "### Default arguments\n",
    "\n",
    "Input arguments can have **default** values.\n",
    "\n",
    "Normally, running a function without specifying all of its arguments results in an error.\n",
    "\n",
    "\n",
    "```python\n",
    "acre_feet_to_m3()\n",
    "```\n",
    "\n",
    "\n",
    "```\n",
    "Traceback (most recent call last):\n",
    "  File \"<stdin>\", line 1, in <module>\n",
    "TypeError: acre_feet_to_m3() missing 1 required positional argument: 'volume_acre_feet'\n",
    "\n",
    "```\n",
    "\n",
    "\n",
    "But when default values are given for arguments using an `=` sign in the function definition, Python will use that default for any missing arguments.\n",
    "\n"
   ]
  },
  {
   "cell_type": "code",
   "execution_count": null,
   "metadata": {},
   "outputs": [],
   "source": [
    "def say_hello(user=\"anonymous user\"):\n",
    "    print(\"Hi {}!\".format(user))"
   ]
  },
  {
   "cell_type": "code",
   "execution_count": null,
   "metadata": {},
   "outputs": [],
   "source": [
    "say_hello(\"Andrew\")"
   ]
  },
  {
   "cell_type": "code",
   "execution_count": null,
   "metadata": {},
   "outputs": [],
   "source": [
    "say_hello()"
   ]
  },
  {
   "cell_type": "markdown",
   "metadata": {},
   "source": [
    "It's nice to give your arguments defaults when you know what the value will be most of the time, but still allow the possibility of using a different input when you need to override that common case."
   ]
  },
  {
   "cell_type": "markdown",
   "metadata": {},
   "source": [
    "### Named arguments\n",
    "\n",
    "A function will receive the arguments in the order you provide them when calling the function"
   ]
  },
  {
   "cell_type": "code",
   "execution_count": null,
   "metadata": {},
   "outputs": [],
   "source": [
    "def bounds_area(left, bottom, right, top, force_positive=True):\n",
    "    \"\"\"Area of rectangular bounding box.\"\"\"\n",
    "    height = top - bottom\n",
    "    width = right - left\n",
    "    area = height * width\n",
    "    if force_positive:\n",
    "        area = abs(area)\n",
    "    return area\n",
    "\n",
    "\n",
    "bounds_area(4137299, 606008, 4137399, 606009)"
   ]
  },
  {
   "cell_type": "markdown",
   "metadata": {},
   "source": [
    "Using argument names lets you control the order of the arguments. Plus, will make the code much easier to understand when you're trying to read it later!"
   ]
  },
  {
   "cell_type": "code",
   "execution_count": null,
   "metadata": {},
   "outputs": [],
   "source": [
    "bounds_area(left=4137299, right=4137399, bottom=606008, top=606009)"
   ]
  },
  {
   "cell_type": "markdown",
   "metadata": {},
   "source": [
    "In science and geospatial coding, we frequently work between different lat/lon x/y row/col ordering customs, as well as just very complicated algorithms with a large level of parameters.\n",
    "\n",
    "By writing out argument names in full wherever they're not completely obvious, we help others and our future selves to read our code, and make our code more resilient to bugs.\n",
    "\n"
   ]
  },
  {
   "cell_type": "markdown",
   "metadata": {},
   "source": [
    "\n",
    "### Outputs\n",
    "\n",
    "Technically, Python can only return a single variable as output.\n",
    "\n",
    "But if we want **zero output** we can just return `None` (this is also what happens when we have a function without a `return` statement):\n"
   ]
  },
  {
   "cell_type": "code",
   "execution_count": null,
   "metadata": {},
   "outputs": [],
   "source": [
    "from pathlib import Path\n",
    "\n",
    "\n",
    "def delete_temp_run_files(run_id):\n",
    "    \"\"\"Tidy up any temporary files from the last run.\"\"\"\n",
    "    tmp_folder_path = Path(\"./runs/{}/tmp/\".format(run_id))\n",
    "    if tmp_folder_path.exists():\n",
    "        tmp_folder_path.unlink()\n",
    "\n",
    "\n",
    "result = delete_temp_run_files(run_id=\"2025-02-01_v2\")\n",
    "print(result)"
   ]
  },
  {
   "cell_type": "markdown",
   "metadata": {},
   "source": [
    "To pack **multiple outputs** in one variable, we can use a tuple"
   ]
  },
  {
   "cell_type": "code",
   "execution_count": null,
   "metadata": {},
   "outputs": [],
   "source": [
    "def extract_lat_lon(latlon):\n",
    "    \"\"\"Extract lat,lon from a string like '37.364,-122.010'\"\"\"\n",
    "    parts = latlon.split(\",\")\n",
    "    lat = float(parts[0])\n",
    "    lon = float(parts[1])\n",
    "    return (lat, lon)\n",
    "\n",
    "\n",
    "result_lat, result_lon = extract_lat_lon(\"37.364,-122.010\")\n",
    "\n",
    "result_lat"
   ]
  },
  {
   "cell_type": "markdown",
   "metadata": {},
   "source": [
    "### Function decorators\n",
    "\n",
    "A decorator (signified with a `@` symbol) modifies the functionality of a function.\n",
    "\n",
    "Mastering decorators is a more advanced topic. But there's one super useful decorator you should now about: the `cache` decorator in the builtin `functools` library.\n",
    "\n",
    "Say you have a function that is very slow and always returns the same output when given the same input argument. (This is really common in data science, think loading data from remote servers or performing very complicated but deterministic calculations). \n",
    "\n",
    "Adding `@functools.cache` before your slow deterministic function means that the first time it's called, the result is stored by Python. Any subsequent times the function is called with the same input arguments, that stored result is returned instantly!\n",
    "\n",
    "In the example below, `load_webpage` is our slow function."
   ]
  },
  {
   "cell_type": "code",
   "execution_count": null,
   "metadata": {},
   "outputs": [],
   "source": [
    "import functools\n",
    "import requests\n",
    "\n",
    "\n",
    "@functools.cache\n",
    "def load_webpage(url):\n",
    "    requests.get(url)"
   ]
  },
  {
   "cell_type": "markdown",
   "metadata": {},
   "source": [
    "The first time the function is run, it takes over 50ms to query the server and download the webpage.\n",
    "\n",
    "(Note the `%%time` notebook syntax here, which prints out the time taken to run a cell)."
   ]
  },
  {
   "cell_type": "code",
   "execution_count": null,
   "metadata": {},
   "outputs": [],
   "source": [
    "%%time\n",
    "load_webpage(\"https://example.com/\")"
   ]
  },
  {
   "cell_type": "markdown",
   "metadata": {},
   "source": [
    "But running the function again with the same input, the result takes a few μs. That's about as close to instantaneous you get with Python!"
   ]
  },
  {
   "cell_type": "code",
   "execution_count": null,
   "metadata": {},
   "outputs": [],
   "source": [
    "%%time\n",
    "load_webpage(\"https://example.com/\")"
   ]
  },
  {
   "cell_type": "markdown",
   "metadata": {},
   "source": [
    "Running the function with a new input goes back to the \"slow\" timing of 50ms+. Results are only cached for the same inputs."
   ]
  },
  {
   "cell_type": "code",
   "execution_count": null,
   "metadata": {},
   "outputs": [],
   "source": [
    "%%time\n",
    "load_webpage(\"https://example.com/about.html\")"
   ]
  },
  {
   "cell_type": "markdown",
   "metadata": {},
   "source": [
    "The caching decorator is great wherever you have a function that is slow, and will be called repeatedly with the same input. \n",
    "\n",
    "Common applications include URL queries, API requests, SQL queries, and data loading."
   ]
  },
  {
   "cell_type": "markdown",
   "metadata": {},
   "source": [
    "### Type annotations\n",
    "\n",
    "Modern versions of Python (like the one we're using in our conda environment!) let you document and restrict the types of your input arguments and output using a special syntax.\n",
    "\n",
    "For the `extract_lat_lon` function above that would look like this:\n",
    "\n",
    "\n",
    "```python\n",
    "def extract_lat_lon(latlon: str) -> tuple[float, float]:\n",
    "    ...\n",
    "```\n",
    "\n",
    "These **type annotations** are slowly being adopted by many new software projects. But their use isn't widespread in scientific computing.\n",
    "\n",
    "We chose not to use type annotations for this course as many of the core scientific Python packages we'll be using don't support them (yet!). But you may see them when viewing Python code in the future.\n",
    "\n"
   ]
  },
  {
   "cell_type": "markdown",
   "metadata": {},
   "source": [
    "### When to use functions?\n",
    "\n",
    "There's a balance to strike here with functions. Not enough functions makes for code that's hard to navigate and prone to bugs. But wrapping every little statement in a function slows development and adds counter-productive complexity.\n",
    "\n",
    "Here are some suggestions for when it's time to put code in a function:\n",
    "\n",
    "* To avoid repetition.\n",
    "  * If you've already written some code to read data from Snowflake, there's no need to re-write that every time in your code that needs snowflake data. Be kind to yourself, make a `read_from_snowflake` function!\n",
    "  * There's no need to force it though. Sometimes it makes sense to copy and modify code, rather than trying to write a single function that handles two slightly different situations.\n",
    "* When consistency is needed.\n",
    "  * There are two different definitions of the [acre-foot](https://en.wikipedia.org/wiki/Acre-foot) unit. By using our `acre_feet_to_m3` function instead of dividing by 1,233.4892 throughout your code, we can ensure that all parts of our program are using a consistent definition of the unit.\n",
    "  * The [Mars Climate Orbiter](https://en.wikipedia.org/wiki/Mars_Climate_Orbiter#Cause_of_failure) failed because NASA's calculations were in metric units while Lockheed Martin used US units. If the manufacturers had used a shared library of unit conversion functions, perhaps the orbiter would have made it to orbit!\n",
    "* To structure a program.\n",
    "  * You can use functions to split up your program so that it reads almost like English.\n",
    "  * A good guideline: all lines of a function should fit on a computer screen.\n",
    "  * For example, the top-level of this flow rate forecasting program is split into 7 high-level functions: \n",
    "    ```python\n",
    "    def forecast_flow_rate(streamgage_id, forecast_date):\n",
    "        \"\"\"Single day ML forecast for flow at a streamgage location.\"\"\"\n",
    "        # Inputs.\n",
    "        historic_flow = load_historic_flow(streamgage_id)\n",
    "        watershed = load_watershed(streamgage_id)\n",
    "        dem = load_dem(watershed.bounds)\n",
    "        precip = load_precipitation_forecast(watershed.bounds, forecast_date)\n",
    "\n",
    "        # Run model.\n",
    "        forecast_result = run_lstm_flow_simulation(dem, precip, forecast_date)\n",
    "        validate_single_gage_forecast(forecast_result)\n",
    "\n",
    "        # Save result.\n",
    "        save_result_to_snowflake(forecast_result)\n",
    "    ```\n",
    "    Skipping through just that function gives the reader a good overview of how the program works, and offers a clear directory of where to look to resolve a `Invalid Forecast Result` error for example.\n",
    "\n"
   ]
  },
  {
   "cell_type": "markdown",
   "metadata": {},
   "source": [
    "### Library functions\n",
    "\n",
    "Python comes with a large standard (builtin) library of functions for all sorts of different things.\n",
    "\n",
    "In Python, functions are grouped together for distribution into **modules**, which are accessed using `import`. For example, to use the `mode` function that's in the builtin `statistics` module:\n",
    "\n"
   ]
  },
  {
   "cell_type": "code",
   "execution_count": null,
   "metadata": {},
   "outputs": [],
   "source": [
    "import statistics\n",
    "\n",
    "states = [\"CA\", \"NV\", \"NV\", \"AZ\"]\n",
    "statistics.mode(states)"
   ]
  },
  {
   "cell_type": "markdown",
   "metadata": {},
   "source": [
    "We'll cover modules in more detail towards the end of this unit!"
   ]
  },
  {
   "cell_type": "markdown",
   "metadata": {},
   "source": [
    "## Errors in functions\n",
    "\n",
    "By now you've probably seen what happens in Python when you trigger an error!\n",
    "\n",
    "```python\n",
    "42 / 0\n",
    "```\n",
    "\n",
    "```text\n",
    "ZeroDivisionError                         Traceback (most recent call last)\n",
    "Cell In[71], line 1\n",
    "----> 1 42 / 0\n",
    "\n",
    "ZeroDivisionError: division by zero\n",
    "```\n",
    "\n",
    "In this simple example Python is telling you a few pieces of information\n",
    "\n",
    "* The error name: `ZeroDivisionError`. This is the bit you should use for googling more information about the error!\n",
    "* A plain-english description of the error: `division by zero`.\n",
    "* The line of code that triggered the error: `42 / 0`.\n",
    "* You also get a line number: `line 1`. In notebooks this is less helpful, but for Python files this can help you quickly find the problematic line (you also get the filename).\n",
    "\n"
   ]
  },
  {
   "cell_type": "markdown",
   "metadata": {},
   "source": [
    "### Tracebacks\n",
    "\n",
    "Often in Python our code gets deeply nested: we have a function, that calls another function in a different module, which then calls a different function. In the example below we have `build_bounds` which calls `print_bounds_details` which calls `calculate_aspect_ratio`:\n",
    "\n"
   ]
  },
  {
   "cell_type": "code",
   "execution_count": null,
   "metadata": {},
   "outputs": [],
   "source": [
    "def calculate_aspect_ratio(width, height):\n",
    "    return height / width\n",
    "\n",
    "\n",
    "def print_bounds_details(bounds):\n",
    "    print(f\"{bounds=}\")\n",
    "\n",
    "    width = bounds[2] - bounds[0]\n",
    "    height = bounds[3] - bounds[1]\n",
    "    print(f\"{width=} {height=}\")\n",
    "\n",
    "    aspect_ratio = calculate_aspect_ratio(width, height)\n",
    "    print(f\"{aspect_ratio=}\")\n",
    "\n",
    "\n",
    "def build_bounds(left, bottom, right, top):\n",
    "    bounds = (left, bottom, right, top)\n",
    "    print_bounds_details(bounds)\n",
    "    return bounds"
   ]
  },
  {
   "cell_type": "markdown",
   "metadata": {},
   "source": [
    "Look what happens when we try to build a bounding box with zero width:\n",
    "\n",
    "```python\n",
    "build_bounds(1, 100, 1, 101)\n",
    "```\n",
    "\n",
    "\n",
    "```text\n",
    "ZeroDivisionError                         Traceback (most recent call last)\n",
    "Cell In[75], line 20\n",
    "     16     print_bounds_details(bounds)\n",
    "     17     return bounds\n",
    "---> 20 build_bounds(1, 100, 1, 101)\n",
    "\n",
    "Cell In[75], line 16, in build_bounds(left, bottom, right, top)\n",
    "     14 def build_bounds(left, bottom, right, top):\n",
    "     15     bounds = (left, bottom, right, top)\n",
    "---> 16     print_bounds_details(bounds)\n",
    "     17     return bounds\n",
    "\n",
    "Cell In[75], line 11, in print_bounds_details(bounds)\n",
    "      8 height = bounds[3] - bounds[1]\n",
    "      9 print(f\"{width=} {height=}\")\n",
    "---> 11 aspect_ratio = calculate_aspect_ratio(width, height)\n",
    "     12 print(f\"{aspect_ratio=}\")\n",
    "\n",
    "Cell In[75], line 2, in calculate_aspect_ratio(width, height)\n",
    "      1 def calculate_aspect_ratio(width, height):\n",
    "----> 2     return height / width\n",
    "\n",
    "ZeroDivisionError: division by zero\n",
    "```\n",
    "\n",
    "Now python is giving is a **Traceback**: it shows the line that triggered the error at each level.\n",
    "\n",
    "This is helpful because often the line that caused Python to fail in the *code* isn't the one that is problematic at the *conceptual* level.\n",
    "\n",
    "In the example above, Python crashed because it was trying to divide by zero when calculating the aspect ratio of the bounds. But we can't fix the mathematics of that line: the proper fix might be at the `build_bounds` level of nesting to detect and reject zero-width bounding boxes before trying to `print_bounds_details`.\n",
    "\n",
    "---\n",
    "\n",
    "One last note on errors: **embrace errors** during development! Except in a few circumstances (writing to a database, deleting files), crashing your code has zero negative consequences, and gives you direct valuable feedback via the error message. Instead of wondering \"will this code work?\" it's often faster just to run it and see!\n",
    "\n",
    "As we move into more complex coding, we'll rely more heavily on errors and tracebacks.\n",
    "\n"
   ]
  },
  {
   "cell_type": "markdown",
   "metadata": {},
   "source": [
    "\n",
    "\n",
    "\n",
    "### Triggering errors\n",
    "\n",
    "You can trigger an error using the `raise` keyword with an error type (there are [many to choose from](https://docs.python.org/3/library/exceptions.html), `ValueError` is the most common) and an error message string:"
   ]
  },
  {
   "cell_type": "code",
   "execution_count": null,
   "metadata": {},
   "outputs": [],
   "source": [
    "def build_bounds(left, bottom, right, top):\n",
    "    bounds = (left, bottom, right, top)\n",
    "    if left == right or bottom == top:\n",
    "        raise ValueError(\"Zero-area bounds detected!\")\n",
    "    print_bounds_details(bounds)\n",
    "    return bounds"
   ]
  },
  {
   "cell_type": "markdown",
   "metadata": {},
   "source": [
    "Why would you want to crash your code?! Well now when we try to create a bad bounding box, our code fails early (avoiding running code that's doomed to fail), and we get a clear error message about what went wrong, rather than a long traceback triggered in a utility function:\n",
    "\n",
    "```python\n",
    "build_bounds(1, 100, 1, 101)\n",
    "```\n",
    "\n",
    "```text\n",
    "ValueError                                Traceback (most recent call last)\n",
    "Cell In[76], line 29\n",
    "     24     print_bounds_details(bounds)\n",
    "     25     return bounds\n",
    "---> 29 build_bounds(1, 100, 1, 101)\n",
    "\n",
    "Cell In[76], line 22, in build_bounds(left, bottom, right, top)\n",
    "     20 def build_bounds(left, bottom, right, top):\n",
    "     21     if left == right or bottom == top:\n",
    "---> 22         raise ValueError(\"Zero-area bounds detected!\")\n",
    "     23     bounds = (left, bottom, right, top)\n",
    "     24     print_bounds_details(bounds)\n",
    "\n",
    "ValueError: Zero-area bounds detected!\n",
    "```\n",
    "\n",
    "In general, we want our code to fail as early as possible, with the best description possible.\n",
    "\n"
   ]
  },
  {
   "cell_type": "markdown",
   "metadata": {},
   "source": [
    "### Catching errors\n",
    "\n",
    "By default, when Python encounters an error, it immediately quits without running any more code.\n",
    "\n",
    "When we want Python to continue after an error in some way, we can use the `try` and  `except Exception` keywords. When any code under `try` results in an error, the code under `except` will be run.\n",
    "\n",
    "For example, we could catch the generic string processing error and give something more useful:\n",
    "\n"
   ]
  },
  {
   "cell_type": "code",
   "execution_count": 1,
   "metadata": {},
   "outputs": [],
   "source": [
    "def process_latlon(x):\n",
    "    \"\"\"Parse a lat,lon string.\"\"\"\n",
    "    try:\n",
    "        parts = x.split(\",\")\n",
    "        lat = float(parts[0])\n",
    "        lon = float(parts[1])\n",
    "        return lat, lon\n",
    "    except Exception:\n",
    "        print(\"Unable to parse coordinates, they should be in 'lat,lon' format.\")\n",
    "        return None"
   ]
  },
  {
   "cell_type": "code",
   "execution_count": 2,
   "metadata": {},
   "outputs": [
    {
     "data": {
      "text/plain": [
       "(37.366, -122.027)"
      ]
     },
     "execution_count": 2,
     "metadata": {},
     "output_type": "execute_result"
    }
   ],
   "source": [
    "process_latlon(\"37.366, -122.027\")"
   ]
  },
  {
   "cell_type": "code",
   "execution_count": 3,
   "metadata": {},
   "outputs": [
    {
     "name": "stdout",
     "output_type": "stream",
     "text": [
      "Unable to parse coordinates, they should be in 'lat,lon' format.\n"
     ]
    }
   ],
   "source": [
    "process_latlon(\"45°45’32.4″N 009°23’39.9″E\")"
   ]
  },
  {
   "cell_type": "markdown",
   "metadata": {},
   "source": [
    "Another common situation is where we still want Python to crash on an error, but do something before crashing. Common examples include retrying what just failed, cleaning up any work we did do, or logging any information that might help us debug the error.\n",
    "\n",
    "In the example below we save our data after a crash, which might help with debugging later. When we use `except Exception as e`, Python stores the error into the variable `e` which we can `raise` once we're done cleaning up.\n",
    "\n",
    "```python\n",
    "df = load_data_frame()\n",
    "\n",
    "try:\n",
    "    x, y = prepare_ml_features()\n",
    "    model = RandomForestClassifier(max_depth=2)\n",
    "    model.fit(x, y)\n",
    "except Exception as e:\n",
    "    df.to_csv(\"./df-that-caused-training-to-fail.csv\")\n",
    "    raise e\n",
    "```"
   ]
  },
  {
   "cell_type": "markdown",
   "metadata": {},
   "source": [
    "Lastly, we can treat different error types differently by providing multiple `except` blocks."
   ]
  },
  {
   "cell_type": "code",
   "execution_count": null,
   "metadata": {},
   "outputs": [],
   "source": [
    "def load_demand(basin_id):\n",
    "    \"\"\"Query snowflake for the mean demand.\"\"\"\n",
    "    try:\n",
    "        df = pd.read_sql_table(\"basin_demand\", snowflake_connection)\n",
    "        df_basin = df[df.basin_id == basin_id]\n",
    "        demand = df_basin.demand.mean()\n",
    "        return demand\n",
    "    except snowflake.ForbiddenError as e:\n",
    "        print(\"Snowflake permission error, check with IT that you have access to 'basin_demand'\")\n",
    "        raise e\n",
    "    except AttributeError:\n",
    "        # If the basin table has no demand column, then the demand is zero.\n",
    "        return 0"
   ]
  },
  {
   "cell_type": "markdown",
   "metadata": {},
   "source": [
    "You don't need to know all the ways your code might fail before using `try` `except`: code like this is typically built up over time as you encounter different errors."
   ]
  },
  {
   "cell_type": "markdown",
   "metadata": {},
   "source": []
  },
  {
   "cell_type": "markdown",
   "metadata": {},
   "source": [
    "### Assertions\n",
    "\n",
    "The `assert` keyword is a quick way to enforce and document assumptions.\n",
    "\n",
    "This check of a simulation data\n",
    "\n",
    "\n",
    "```python\n",
    "assert simulation_year <= 2027, \"We don't have forecast data after 2027.\"\n",
    "```\n",
    "\n",
    "is the same as writing\n",
    "\n",
    "```python\n",
    "if not (simulation_year <= 2027):\n",
    "    raise AssertionError(\"We don't have forecast data after 2027.\")\n",
    "```\n",
    "\n",
    "\n",
    "When an invalid assertion is encountered, the error message is displayed and Python crashes"
   ]
  },
  {
   "cell_type": "markdown",
   "metadata": {},
   "source": [
    "```python\n",
    "simulation_year = 2030\n",
    "\n",
    "assert simulation_year <= 2027, \"We don't have forecast data after 2027.\"\n",
    "```\n",
    "\n",
    "```\n",
    "AssertionError                            Traceback (most recent call last)\n",
    "Cell In[17], line 3\n",
    "      1 simulation_year = 2030\n",
    "----> 3 assert simulation_year <= 2027, \"We don't have forecast data after 2027.\"\n",
    "\n",
    "AssertionError: We don't have forecast data after 2027.\n",
    "```\n"
   ]
  },
  {
   "cell_type": "markdown",
   "metadata": {},
   "source": [
    "A common application of this is to perform assertions after loading your data, based on how you expect the data to look, and any assumptions that your model makes about the data.\n",
    "\n",
    "```python\n",
    "# Load demand data.\n",
    "df = pd.read_csv(\"RUSSIAN_RIVER_DATABASE_2022.csv\")\n",
    "assert len(df) > 0, \"Empty csv found\"\n",
    "assert np.all(np.isfinite(df.LATITUDE)), \"Missing latitudes\"\n",
    "```\n",
    "\n",
    "These assertions give a number of benefits\n",
    "* Invalid data gives an immediate failure with a clear message, rather than trying to debug a \"Coordinate Transform Error\" later in the code.\n",
    "* As a reader, I know that there are no missing latitudes. So if use this dataframe I don't need to handle missing data. And if I add code that modifies the latitudes, it's important that I don't introduce missing data.\n",
    "* Asserts can turn sneaky bugs into clear errors. For example, code that divides by `len(df)` might introduce invalid `NaN` values into your results without raising an error. Better to fail early and clearly.\n",
    "\n",
    "Common validations include\n",
    "\n",
    "* Column data formats (make sure your numbers are floats `7.5` rather than strings `\"7.5\"`) \n",
    "* Any columns that shouldn't contain `NaN` or `None` values\n",
    "* Min/max values\n",
    "* The format of strings\n",
    "\n",
    "Again there's a tradeoff here: start with anything critical to the subsequent analysis, and add more whenever you encounter an error!\n",
    "\n"
   ]
  },
  {
   "cell_type": "markdown",
   "metadata": {},
   "source": [
    "## Classes\n",
    "\n",
    "The next step on our organizational journey is classes and objects.\n",
    "\n",
    "Just like functions group related *statements* together, classes group related *variables* and *functions*.\n",
    "\n",
    "And just like how organizing your code into functions is optional, so is defining your own classes. The programming technique where most things are organised into classes is called Object Oriented Programming (OOP), but you don't have to go full OOP to selectively enjoy many of the benefits of classes!\n",
    "\n",
    "\n",
    "### Defining classes\n",
    "\n",
    "\n",
    "Classes are defined with the `class` keyword. Here's a simple class representing a point on a map."
   ]
  },
  {
   "cell_type": "code",
   "execution_count": null,
   "metadata": {},
   "outputs": [],
   "source": [
    "class Point:\n",
    "    \"\"\"A lat/lon point.\"\"\""
   ]
  },
  {
   "cell_type": "markdown",
   "metadata": {},
   "source": [
    "We can set create an **instance** of the class using the `()` syntax. An instance of a class is also called an **object** in Python."
   ]
  },
  {
   "cell_type": "code",
   "execution_count": null,
   "metadata": {},
   "outputs": [],
   "source": [
    "point_half_dome = Point()"
   ]
  },
  {
   "cell_type": "markdown",
   "metadata": {},
   "source": [
    "### Object attributes\n",
    "\n",
    "Ok so what do we do with classes and instances?\n",
    "\n",
    "Classes group together variables and functions. Lets start with the variables: you can create variables known as **attributes** on your instances using the `.` syntax. Lets give our point a latitude and a longitude."
   ]
  },
  {
   "cell_type": "code",
   "execution_count": null,
   "metadata": {},
   "outputs": [],
   "source": [
    "point_half_dome.lat = 37.745\n",
    "point_half_dome.lon = -119.533"
   ]
  },
  {
   "cell_type": "markdown",
   "metadata": {},
   "source": [
    "We can use these object attributes as variables like any other:"
   ]
  },
  {
   "cell_type": "code",
   "execution_count": null,
   "metadata": {},
   "outputs": [],
   "source": [
    "print(point_half_dome.lat)\n",
    "print(round(point_half_dome.lon))"
   ]
  },
  {
   "cell_type": "markdown",
   "metadata": {},
   "source": [
    "### The \\_\\_init\\_\\_ method\n",
    "\n",
    "Despite the example above, it's best not to set attributes directly. It's too easy to introduce inconsistency: you might have `point.lat` in one place and `point.latitude` in another, resulting in chaos.\n",
    "\n",
    "Instead, we let the class define it's own attribute names using a function. The functions of a class are called **methods**.\n",
    "\n",
    "Python gives us a few special method names we can use that have special functionality. The `__init__` method is used to initialize (create) an instance of the class.\n",
    "\n",
    "Lets rewrite our `Point` class:"
   ]
  },
  {
   "cell_type": "code",
   "execution_count": null,
   "metadata": {},
   "outputs": [],
   "source": [
    "class Point:\n",
    "    \"\"\"A lat/lon point.\"\"\"\n",
    "\n",
    "    def __init__(self, lat, lon):\n",
    "        self.lat = lat\n",
    "\n",
    "        # Wrap longitude to range (-180, 180].\n",
    "        while lon > 180:\n",
    "            lon = lon - 360\n",
    "        while lon <= -180:\n",
    "            lon = lon + 360\n",
    "        self.lon = lon\n",
    "\n",
    "\n",
    "point_half_dome = Point(lat=37.745, lon=-119.533)\n",
    "print(point_half_dome.lat)"
   ]
  },
  {
   "cell_type": "markdown",
   "metadata": {},
   "source": [
    "The initializer now stores the first argument as an attribute called `lat`: no room for `latitude` ambiguity! The initializer also takes the opportunity to ensure that the longitude is between -180 and 180: by putting this check in a single place, we can be sure of the longitude convention used by all `Point` objects.\n",
    "\n",
    "All class methods get the instance passed as an initial first argument called `self`.\n"
   ]
  },
  {
   "cell_type": "markdown",
   "metadata": {},
   "source": [
    "### Custom methods\n",
    "\n",
    "Pretty much all of your classes are going to start like this"
   ]
  },
  {
   "cell_type": "code",
   "execution_count": null,
   "metadata": {},
   "outputs": [],
   "source": [
    "class SomeClass:\n",
    "    \"\"\"What SomeClass does.\"\"\"\n",
    "\n",
    "    def __init__(self, arg1, arg2, arg3):\n",
    "        self.arg1 = arg1\n",
    "        self.arg2 = arg2\n",
    "        ..."
   ]
  },
  {
   "cell_type": "markdown",
   "metadata": {},
   "source": [
    "But as you expand the functionality of each class, you'll add more attributes and methods.\n",
    "\n",
    "A big feature of methods is that they can modify the object. Lets add a `move` method to our `Point` class. Remember that `self` is always inserted as the first argument."
   ]
  },
  {
   "cell_type": "code",
   "execution_count": null,
   "metadata": {},
   "outputs": [],
   "source": [
    "class Point:\n",
    "    \"\"\"A lon/lon point.\"\"\"\n",
    "\n",
    "    def __init__(self, lat, lon):\n",
    "        self.lat = lat\n",
    "\n",
    "        # Wrap longitude to range (-180, 180].\n",
    "        while lon > 180:\n",
    "            lon = lon - 360\n",
    "        while lon <= -180:\n",
    "            lon = lon + 360\n",
    "        self.lon = lon\n",
    "\n",
    "    def move(self, delta_lat=0, delta_lon=0):\n",
    "        \"\"\"Shifts the point.\"\"\"\n",
    "        self.lat = self.lat + delta_lat\n",
    "        self.lon = self.lon + delta_lon\n",
    "\n",
    "\n",
    "point_half_dome = Point(lat=37.745, lon=-119.533)\n",
    "print(point_half_dome.lat)"
   ]
  },
  {
   "cell_type": "markdown",
   "metadata": {},
   "source": [
    "Like data attributes, we also access our method functions using the dot `.` syntax:"
   ]
  },
  {
   "cell_type": "code",
   "execution_count": null,
   "metadata": {},
   "outputs": [],
   "source": [
    "point_half_dome.move(delta_lat=0.1)\n",
    "print(point_half_dome.lat)"
   ]
  },
  {
   "cell_type": "markdown",
   "metadata": {},
   "source": [
    "Using the `move` method on the object has permanently modified the instance's `lat` attribute."
   ]
  },
  {
   "cell_type": "markdown",
   "metadata": {},
   "source": [
    "### The \\_\\_repr\\_\\_ method\n",
    "\n",
    "The `__repr__` method (like all methods beginning with double underscore) is another special method. It lets you control the representation when you print your instance.\n",
    "\n",
    "Python classes have a default `__repr__` method that isn't very user friendly:"
   ]
  },
  {
   "cell_type": "code",
   "execution_count": null,
   "metadata": {},
   "outputs": [],
   "source": [
    "print(point_half_dome)"
   ]
  },
  {
   "cell_type": "markdown",
   "metadata": {},
   "source": [
    "Adding our own method can help with debugging and logging:"
   ]
  },
  {
   "cell_type": "code",
   "execution_count": null,
   "metadata": {},
   "outputs": [],
   "source": [
    "class Point:\n",
    "    \"\"\"A lon/lon point.\"\"\"\n",
    "\n",
    "    def __init__(self, lat, lon):\n",
    "        self.lat = lat\n",
    "\n",
    "        # Wrap longitude to range (-180, 180].\n",
    "        while lon > 180:\n",
    "            lon = lon - 360\n",
    "        while lon <= -180:\n",
    "            lon = lon + 360\n",
    "        self.lon = lon\n",
    "\n",
    "    def move(self, delta_lat=0, delta_lon=0):\n",
    "        \"\"\"Shifts the point.\"\"\"\n",
    "        self.lat = self.lat + delta_lat\n",
    "        self.lon = self.lon + delta_lon\n",
    "\n",
    "    def __repr__(self):\n",
    "        return f\"{self.lat}, {self.lon}\"\n",
    "\n",
    "\n",
    "point_half_dome = Point(lat=37.745, lon=-119.533)\n",
    "print(point_half_dome)"
   ]
  },
  {
   "cell_type": "markdown",
   "metadata": {},
   "source": [
    "### Inheritance\n",
    "\n",
    "Inheritance is used to specialise existing classes.\n",
    "\n",
    "With inheritance you take an existing class and add new attributes, or add/modify existing methods.\n",
    "\n",
    "Lets make a new class that represents a streamgage. We can add a new attribute by overriding the `__init__` method:\n",
    "\n"
   ]
  },
  {
   "cell_type": "code",
   "execution_count": null,
   "metadata": {},
   "outputs": [],
   "source": [
    "class Streamgage(Point):\n",
    "    \"\"\"A USGS streamgage.\"\"\"\n",
    "\n",
    "    def __init__(self, lat, lon, usgs_id):\n",
    "        super().__init__(lat, lon)\n",
    "        self.usgs_id = usgs_id"
   ]
  },
  {
   "cell_type": "markdown",
   "metadata": {},
   "source": [
    "OOP sometimes uses a family-tree metaphor to describe the relationship between classes\n",
    "\n",
    "* Streamgage is a subclass aka child of Point\n",
    "* Point is the superclass aka parent of Streamgage\n",
    "\n",
    "The line `super.__init__(lat, lon)` call's the parent's `__init__` method. It's a bit like going `self = Point(lat, lon)`."
   ]
  },
  {
   "cell_type": "markdown",
   "metadata": {},
   "source": [
    "And we can also add a brand new method that wouldn't make sense on the generic parent `Point` class."
   ]
  },
  {
   "cell_type": "code",
   "execution_count": null,
   "metadata": {},
   "outputs": [],
   "source": [
    "class Streamgage(Point):\n",
    "    \"\"\"A USGS streamgage.\"\"\"\n",
    "\n",
    "    def __init__(self, lat, lon, usgs_id):\n",
    "        super().__init__(lat, lon)\n",
    "        self.usgs_id = usgs_id\n",
    "\n",
    "    def current_flowrate(self):\n",
    "        \"\"\"The curent flowrate at the gage, in ft³s⁻¹.\"\"\"\n",
    "        return query_usgs_api(site=self.usgs_id, field=\"streamflow\")"
   ]
  },
  {
   "cell_type": "markdown",
   "metadata": {},
   "source": [
    "Because `Streamgage` inherits from `Point`, and because we called Point's `__init__` method inside of our own, we get to keep all the helpful functionality of `Point` like the longitude wrapping and moving:"
   ]
  },
  {
   "cell_type": "code",
   "execution_count": null,
   "metadata": {},
   "outputs": [],
   "source": [
    "gage = Streamgage(lat=35.8494, lon=243.7692, usgs_id=\"10251300\")\n",
    "gage.move(delta_lat=0.00025)\n",
    "gage"
   ]
  },
  {
   "cell_type": "markdown",
   "metadata": {},
   "source": [
    "You can see we've also inherited the `__repr__` method that only displays the coordinates. As an exercise, can you copy the `Point` and `Streamgage` classes, then add a `__repr__` method to `Streamgage` that also displays the id?"
   ]
  },
  {
   "cell_type": "markdown",
   "metadata": {},
   "source": [
    "### Dataclassess\n",
    "\n",
    "Classes are helpful but as you can see, object oriented programming gets complicated fast!\n",
    "\n",
    "If you just want a simple structure to hold a few variables together, the builtin `dataclasses` automates away some of the annoying boilerplate. You create a using the `dataclasses.dataclass` decorator, and have to specify the type of your attributes:"
   ]
  },
  {
   "cell_type": "code",
   "execution_count": null,
   "metadata": {},
   "outputs": [],
   "source": [
    "import dataclasses\n",
    "\n",
    "\n",
    "@dataclasses.dataclass\n",
    "class SimulationConfig:\n",
    "    results_path: str\n",
    "    num_iterations: int\n",
    "    num_trials: int = 1\n",
    "\n",
    "    def total_num_steps(self):\n",
    "        return self.num_iterations * self.num_trials\n",
    "\n",
    "\n",
    "SimulationConfig(\"/tmp/results.csv\", num_iterations=5)"
   ]
  },
  {
   "cell_type": "markdown",
   "metadata": {},
   "source": [
    "See how we didn't need define an `__init__` method, and `__repr__` was also handled for us!\n",
    "\n",
    "In data science, consider starting out with dataclasses, and upgrade them to normal classes when you need control over `__init__` or complex inheritance."
   ]
  },
  {
   "cell_type": "markdown",
   "metadata": {},
   "source": [
    "### When to use OOP in data science\n",
    "\n",
    "OOP is great for *simply representing* a *complex data structure*.\n",
    "\n",
    "Data science, in contrast, often deals with *simple data  structures* (data tables) that undergo *complex transformations*.\n",
    "\n",
    "As a result, functional programming tends to be dominant approach in data science. \n",
    "\n",
    "That said, there's lots of places where OOP can help your data science development:\n",
    "\n",
    "* Productionizing data science analysis as an external tool or service.\n",
    "* Representing configuration and model inputs.\n",
    "* Data that's too complex to be a row in a data table: rasters, experiment results, other domain-specific data structures.\n",
    "\n",
    "And finally, some of the biggest tools in data science are very object oriented (e.g., pandas, scikit-learn). So even if you're not writing custom classes, understanding classes will help."
   ]
  },
  {
   "cell_type": "markdown",
   "metadata": {},
   "source": [
    "## Modules\n",
    "\n",
    "A module is just a python file, typically grouping together related functions and classes.\n",
    "\n",
    "We might put all our unit conversion functions in one file. This keeps them in one place so they're easier to find, reduces clutter and distraction in our main code, and means these helpful utilities can be reused by multiple parts of our program.\n",
    "\n",
    "```python\n",
    "# conversion.py\n",
    "ONE_DAY_IN_SECONDS = 86_400\n",
    "\n",
    "def acre_feet_to_m3(volume_acre_feet):\n",
    "    \"\"\"Converts volume in US acre-feet to SI m³.\"\"\"\n",
    "    volume_m3 = volume_acre_feet * 1_233.482\n",
    "    return volume_m3\n",
    "\n",
    "def cms_to_cfs(flow_cms):\n",
    "    \"\"\"Converts flow rate in cubic feet per second to cubic metres per second.\"\"\"\n",
    "    flow_cfs = flow_cms * 35.3146662\n",
    "    return flow_cfs\n",
    "```\n",
    "\n",
    "The `import` statement loads and executes the module, so we can use the functions it defines"
   ]
  },
  {
   "cell_type": "code",
   "execution_count": null,
   "metadata": {},
   "outputs": [],
   "source": [
    "import conversion\n",
    "\n",
    "conversion.cms_to_cfs(10)"
   ]
  },
  {
   "cell_type": "markdown",
   "metadata": {},
   "source": [
    "### Import as\n",
    "\n",
    "By default, a module is imported as the name of the file (`conversion`), but you can rename the module using the `as` keyword:"
   ]
  },
  {
   "cell_type": "code",
   "execution_count": null,
   "metadata": {},
   "outputs": [],
   "source": [
    "import conversion as units\n",
    "\n",
    "units.ONE_DAY_IN_SECONDS"
   ]
  },
  {
   "cell_type": "markdown",
   "metadata": {},
   "source": [
    "Really the only time you want to do this is for external modules and packages that are frequently used. It's standard in Python data science to import these modules with short names, typing out `matplotlib.pyplot` in full would get annoying fast!"
   ]
  },
  {
   "cell_type": "code",
   "execution_count": null,
   "metadata": {},
   "outputs": [],
   "source": [
    "import numpy as np  # Array math.\n",
    "import pandas as pd  # Data tables.\n",
    "import matplotlib.pyplot as plt  # Plotting."
   ]
  },
  {
   "cell_type": "markdown",
   "metadata": {},
   "source": [
    "### Import from\n",
    "\n",
    "You can import individual functions, variables, and classes out of a module."
   ]
  },
  {
   "cell_type": "code",
   "execution_count": null,
   "metadata": {},
   "outputs": [],
   "source": [
    "from conversion import acre_feet_to_m3\n",
    "\n",
    "acre_feet_to_m3(1e-3)"
   ]
  },
  {
   "cell_type": "markdown",
   "metadata": {},
   "source": [
    "The makes code shorter by not having to type out the whole module name each time you want to use the function.\n",
    "\n",
    "The downside is that it's harder to keep track of where `acre_feet_to_m3` came from, so use sparingly."
   ]
  },
  {
   "cell_type": "markdown",
   "metadata": {},
   "source": [
    "### Module execution\n",
    "\n",
    "When a module is imported, all the code in the module is executed.\n",
    "\n",
    "Avoid doing things that are slow (like reading data) or that have side-effects (like writing data) in the top level of a module:\n",
    "\n",
    "```python\n",
    "# badmodule.py\n",
    "\n",
    "rain_data = load_massive_table_from_snowflake()\n",
    "rain_data.save(overwrite=True)\n",
    "```\n",
    "\n",
    "Just calling `import badmodule` now will cause your program/notebook to hang for 30s, then overwite some of your data!\n",
    "\n",
    "Instead, stick to defining functions, classes and simple variables in your modules. Let the caller decide when to trigger the functionality.\n",
    "\n",
    "```python\n",
    "# bettermodule.py\n",
    "\n",
    "# Quick, simple calculations are fine.\n",
    "ONE_DAY_IN_SECONDS = 60 * 60 * 24\n",
    "\n",
    "\n",
    "# Everything else, wrap in a function\n",
    "#\n",
    "# Remember, the code inside functions only runs when called (not when imported/defined!)\n",
    "def refresh_rain_data():\n",
    "    \"\"\"Load the latest rainfall and save it locally.\"\"\"\n",
    "    rain_data = load_massive_table_from_snowflake()\n",
    "    rain_data.save(overwrite=True)\n",
    "```"
   ]
  },
  {
   "cell_type": "markdown",
   "metadata": {},
   "source": [
    "### Modules and notebooks\n",
    "\n",
    "For the most part, using `import` in a notebook is not different from inside a Python file. \n",
    "\n",
    "One potential catch is that an imported module loads only once. Repeated imports just return the previously-imported module.\n",
    "\n",
    "That means if we add a new function to `conversion.py` and import it again (either with a new import statement, or by rerunning the import cell), the new function still won't be available.\n",
    "\n",
    "We can change this by adding the following to the first cell of our notebook:\n",
    "\n",
    "```python\n",
    "%load_ext autoreload\n",
    "%autoreload 2\n",
    "```\n",
    "\n",
    "Now, VS Code will monitor all our modules, and if one changes, reload it for us in the background.\n",
    "\n",
    "\n",
    "Finally, you can't import a notebook file as a module, and you generally wouldn't want to anyway, as executing the full notebook on import would be slow!\n"
   ]
  },
  {
   "cell_type": "markdown",
   "metadata": {},
   "source": [
    "## Packages\n",
    "\n",
    "A package is a collection of modules. It's the top of the Python organizational food chain: packages can also contain subpackages.\n",
    "\n",
    "We're going to be relying on external packages extensively for the remainder of the course. They're used much like modules but with more dots representing the extra level of organization.\n",
    "\n",
    "Check out this import statement:\n",
    "\n"
   ]
  },
  {
   "cell_type": "code",
   "execution_count": null,
   "metadata": {},
   "outputs": [],
   "source": [
    "from numpy.random import uniform"
   ]
  },
  {
   "cell_type": "markdown",
   "metadata": {},
   "source": [
    "\n",
    "Here\n",
    "* `numpy` is the package name (providing extended mathematical tools)\n",
    "* `random` is a module inside the numpy package (that groups together random distribution samplers)\n",
    "* `uniform` is a function inside the random module (which samples randomly from the uyniform distribution)\n",
    "\n",
    "You can also make your own packages for distributing code. For more details, [this tutorial](https://realpython.com/python-modules-packages/) has a great overview of Python packaging.\n",
    "\n"
   ]
  }
 ],
 "metadata": {
  "kernelspec": {
   "display_name": "Python 3 (ipykernel)",
   "language": "python",
   "name": "python3"
  },
  "language_info": {
   "codemirror_mode": {
    "name": "ipython",
    "version": 3
   },
   "file_extension": ".py",
   "mimetype": "text/x-python",
   "name": "python",
   "nbconvert_exporter": "python",
   "pygments_lexer": "ipython3",
   "version": "3.12.7"
  }
 },
 "nbformat": 4,
 "nbformat_minor": 4
}
