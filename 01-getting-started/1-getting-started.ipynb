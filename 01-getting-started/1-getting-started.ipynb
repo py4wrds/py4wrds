{
 "cells": [
  {
   "cell_type": "markdown",
   "metadata": {},
   "source": [
    "# 1. Getting started\n",
    "\n",
    "1. Terminal and basic UNIX commands  \n",
    "      1. Operating Systems (windows, mac, linux, unix)   \n",
    "      2. Directories: print, change, make, remove, copy  \n",
    "         1. A note on project organization   \n",
    "         2. Example project repo structure  \n",
    "      3. Files: create, remove, copy, edit, open, edit (e.g., vim, nano)  \n",
    "      4. Text files: file types, text editors   \n",
    "   2. Interacting with Python  \n",
    "      1. Python interpreter / shell   \n",
    "      2. Python as a calculator   \n",
    "      3. Exiting the interpreter   \n",
    "      4. Python scripts (.py files)  \n",
    "         1. Hello world  \n",
    "         2. Fibonacci sequence  \n",
    "   3. Python modules  \n",
    "      1. Standard Library   \n",
    "         1. Math  \n",
    "      2. Printing  \n",
    "   4. Values, Types, Variables  \n",
    "      1. strings, numbers, bools   \n",
    "      2. Types (intro)  \n",
    "      3. Variables   \n",
    "         1. Variable naming conventions   \n",
    "         2. Don't override builtin names in the standard library\\!   \n",
    "   5. Installing packages  \n",
    "      1. Standard Library vs Packages   \n",
    "      2. Package managers  \n",
    "         1. Conda  \n",
    "         2. Pip  \n",
    "         3. Mamba  \n",
    "         4. Building packages  from source (e.g. via .zip or .tar)  \n",
    "   6. Managing and distributing packages with virtual environments   \n",
    "      1. Why virtual environments  \n",
    "         1. Conda  \n",
    "      2. Virtual environment best practices   \n",
    "         1. Project based vs workstream based   \n",
    "         2. Distribution with production code  \n",
    "   7. Distributing Environments  \n",
    "      1. yaml  \n",
    "      2. requirements.txt  \n",
    "      3. Example \\- clone and build an environment   \n",
    "         1. Create and activate a virtual environment with conda  \n",
    "         2. Install key packages (we’ll get into some of these later)  \n",
    "         3. Create a .yaml file describing the environment  \n",
    "         4. Deactivate the environment  \n",
    "         5. Create a new environment using the yaml file  \n",
    "            1. verify that it has the same packages as the first environment  \n",
    "   8. IDE Setup:  \n",
    "      1. Jupyter Notebooks / Lab:  \n",
    "         1. Customizing   \n",
    "         2. Available Kernels: Python, R, Julia  \n",
    "         3. Markdown (.Md files)  \n",
    "      2. VS Code  \n",
    "         1. .py files  \n",
    "         2. special comments to make ipynb-like cells\n",
    "\n"
   ]
  },
  {
   "attachments": {},
   "cell_type": "markdown",
   "metadata": {},
   "source": [
    "## Why Python\n",
    "Python is among the most popular and versatile general purpose programming languages. \n",
    "\n",
    "Common uses include: \n",
    "* Data Science\n",
    "* Application Development\n",
    "* AI and Machine Learning\n",
    "* Backend Infrastructure\n",
    "* Rapid Prototyping\n",
    "* many more\n"
   ]
  },
  {
   "cell_type": "markdown",
   "metadata": {},
   "source": [
    "## Python is among the most popular languages as of 2024\n",
    "\n",
    "![tiobe_idx.jpg](tiobe_idx.jpg)"
   ]
  },
  {
   "cell_type": "markdown",
   "metadata": {},
   "source": [
    "## Python is in demand and has a large community of users and applications\n",
    "\n",
    "![stackoverflow-trends-chart.svg](stackoverflow-trends-chart.svg)"
   ]
  },
  {
   "cell_type": "markdown",
   "metadata": {},
   "source": [
    "## Operating Systems\n",
    "\n",
    "An operating system (OS) is the software that manages a computer's hardware and software, allowing users to interact with their device\n",
    "\n",
    "Examples\n",
    "* windows\n",
    "* mac\n",
    "* linux\n",
    "* unix\n",
    "* android\n",
    "* ios"
   ]
  },
  {
   "cell_type": "markdown",
   "metadata": {},
   "source": [
    "## Directories\n",
    "\n",
    "Hierarchical structure that organizes files on a computer\n",
    "\n",
    "```\n",
    "/C://Users/aakash/Desktop/folder1/\n",
    "                        file1.txt\n",
    "                        file2.txt\n",
    "                        file3.txt\n",
    "                        file4.txt\n",
    "/C://Users/aakash/Desktop/folder2/\n",
    "                        file1.txt\n",
    "                        file2.txt\n",
    "                        file3.txt\n",
    "                        file4.txt\n",
    "\n",
    "```"
   ]
  },
  {
   "cell_type": "markdown",
   "metadata": {},
   "source": [
    "## Command Line Interface (CLI)\n",
    "\n",
    "A **command line interface (CLI)** means of interacting with a computer program by inputting lines of text called commands\n",
    "\n",
    "It takes some getting used to, if you've only previously interacted with a **graphical user interface (GUI)** that allows users to interact with electronic devices through graphical icons and visual indicators.\n",
    "\n",
    "But the investment is worth it - for instance - it's much easier to send a quick command to a colleague, rather than instructions for how to navigate a GUI.\n"
   ]
  },
  {
   "cell_type": "markdown",
   "metadata": {},
   "source": [
    "## Notation\n",
    "\n",
    "In these materials, we will use a dollar sign ($) to denote a shell command issued to a CLI. \n",
    "\n",
    "`$ this is a shell command`\n",
    "\n",
    "We will use the anaconda prompt CLI, though the commands should work with most unix-based systems, and the equivalent commands may be easily retrieved for windows-based systems.\n",
    "\n",
    "We will use a pound sign / hashtag (#) to denote a 'comment' - more on that soon\n",
    "\n",
    "`# this is a comment`\n",
    "\n"
   ]
  },
  {
   "cell_type": "code",
   "execution_count": null,
   "metadata": {},
   "outputs": [],
   "source": []
  }
 ],
 "metadata": {
  "kernelspec": {
   "display_name": "Python 3 (ipykernel)",
   "language": "python",
   "name": "python3"
  },
  "language_info": {
   "codemirror_mode": {
    "name": "ipython",
    "version": 3
   },
   "file_extension": ".py",
   "mimetype": "text/x-python",
   "name": "python",
   "nbconvert_exporter": "python",
   "pygments_lexer": "ipython3",
   "version": "3.11.5"
  }
 },
 "nbformat": 4,
 "nbformat_minor": 4
}
