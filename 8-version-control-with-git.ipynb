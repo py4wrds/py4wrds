{
 "cells": [
  {
   "cell_type": "markdown",
   "metadata": {},
   "source": [
    "# 8. Version control with git\n",
    "\n",
    "1. Installing git  \n",
    "2. The Git workflow  \n",
    "   1. Cloning and creating repositories  \n",
    "   2. Committing changes  \n",
    "      1. Using gitignore to simplify codebases  \n",
    "      2. What makes a good commit message  \n",
    "   3. Pushing  \n",
    "   4. Recovering from mistakes  \n",
    "3. Using GitHub  \n",
    "   1. Browsing repositories  \n",
    "   2. Exploring historical changes  \n",
    "   3. Writing in markdown  \n",
    "4. Branching  \n",
    "   1. A simple branching model  \n",
    "   2. Merging branches  \n",
    "   3. Resolving merge conflicts  \n",
    "   4. Pull requests on github  \n",
    "   5. Reviewing code  \n",
    "5. Notebooks and git  \n",
    "   1. GitHub jupyter renderer  \n",
    "   2. Cell output control  \n",
    "6. Software development best practices  \n",
    "   1. Example organization for a data science project  \n",
    "   2. Moving from jupyter notebook to python modules  \n",
    "   3. Error handling in production software  \n",
    "      1. Use of assert to document and guarantee assumptions  \n",
    "      2. Input data validation  \n",
    "      3. Fast failing to limit error propagation  \n",
    "      4. Writing clear error messages\n",
    "\n"
   ]
  }
 ],
 "metadata": {
  "language_info": {
   "name": "python"
  }
 },
 "nbformat": 4,
 "nbformat_minor": 2
}
