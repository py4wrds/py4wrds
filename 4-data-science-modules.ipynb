{
 "cells": [
  {
   "cell_type": "markdown",
   "metadata": {},
   "source": [
    "# 4. Python data science modules\n",
    "\n",
    "The core packages for data science in Python are\n",
    "\n",
    "* numpy - arrays\n",
    "* pandas - data tables\n",
    "* matplotlib and seaborn - plotting\n",
    "\n",
    "\n",
    "\n",
    "\n",
    "## Numpy\n",
    "\n",
    "Numpy is a Python package for representing **array data**, and comes with a large library of tools and mathematical functions that operate efficiently on arrays.\n",
    "\n",
    "If you're familiar with more math-oriented programming languages like R or MATLAB, numpy brings much of the builtin math and data functionality from those languages into Python.\n",
    "\n",
    "Numpy is by far the most popular Python package for data science, and is one of the [most-downloaded](https://pypistats.org/top) python packages overall. It's so useful and reliable, that most of the mathematical functionality of the other packages covered in this module (pandas, seaborn, matplotlib) is provided by numpy under the hood.\n",
    "\n",
    "Because numpy is used a lot, it's convention to import it with the `np` abbreviation:"
   ]
  },
  {
   "cell_type": "code",
   "execution_count": null,
   "metadata": {},
   "outputs": [],
   "source": [
    "import numpy as np"
   ]
  },
  {
   "cell_type": "markdown",
   "metadata": {},
   "source": [
    "\n",
    "### Why numpy?\n",
    "\n",
    "A numpy array is similar to a Python list: they can both serve as containers for numbers."
   ]
  },
  {
   "cell_type": "code",
   "execution_count": null,
   "metadata": {},
   "outputs": [],
   "source": [
    "python_list = [0, 2, 4, 6]\n",
    "print(python_list)"
   ]
  },
  {
   "cell_type": "code",
   "execution_count": null,
   "metadata": {},
   "outputs": [],
   "source": [
    "numpy_array = np.array([0, 2, 4, 6])\n",
    "print(numpy_array)"
   ]
  },
  {
   "cell_type": "markdown",
   "metadata": {},
   "source": [
    "So why use numpy instead of lists?\n",
    "\n",
    "* Speed\n",
    "    * Although numpy is a Python package, most of the functionality is written in fast C or Fortran code.\n",
    "* Memory efficient\n",
    "    * Numpy uses less memory to store numbers than Python, so you can work on larger datasets.\n",
    "* Functionality\n",
    "    * Numpy comes with a huge range of modules with fast and thoroughly-validated algorithms from interpolation to fourier transforms.\n",
    "* Manipulation syntax\n",
    "    * Numpy's syntax makes it clear and easy to perform common array operations, like slicing, filtering, and summarization.\n",
    "\n",
    "\n",
    "But there are some usecases where lists make more sense\n",
    "\n",
    "* Storing different kinds of data together\n",
    "    * Numpy arrays are homogeneous, all the elements must be the same type\n",
    "* Working with non-numerical data\n",
    "    * Some numpy functionality works with strings and other types, but performance can suffer\n",
    "\n"
   ]
  },
  {
   "cell_type": "markdown",
   "metadata": {},
   "source": [
    "\n",
    "### Array slicing and indexing\n",
    "\n",
    "\n",
    "One way to create an array is from a Python sequence like a list\n"
   ]
  },
  {
   "cell_type": "code",
   "execution_count": null,
   "metadata": {},
   "outputs": [],
   "source": [
    "days_per_month = np.array([31, 28, 31, 30, 31, 30, 31, 31, 30, 31, 30, 31])\n",
    "days_per_month"
   ]
  },
  {
   "cell_type": "markdown",
   "metadata": {},
   "source": [
    "Like the original Python list, arrays can be sliced"
   ]
  },
  {
   "cell_type": "code",
   "execution_count": null,
   "metadata": {},
   "outputs": [],
   "source": [
    "days_per_month[0:3]"
   ]
  },
  {
   "cell_type": "markdown",
   "metadata": {},
   "source": [
    "and individual elements can be index out"
   ]
  },
  {
   "cell_type": "code",
   "execution_count": null,
   "metadata": {},
   "outputs": [],
   "source": [
    "print(days_per_month[1])"
   ]
  },
  {
   "cell_type": "markdown",
   "metadata": {},
   "source": [
    "Two-dimensional (and higher dimensional, there's no limit in numpy!) arrays can be created from nested Python sequences:\n",
    "\n"
   ]
  },
  {
   "cell_type": "code",
   "execution_count": null,
   "metadata": {},
   "outputs": [],
   "source": [
    "array_2d = np.array([[1, 2, 3, 4], [5, 6, 7, 8], [9, 10, 11, 12]])\n",
    "array_2d"
   ]
  },
  {
   "cell_type": "markdown",
   "metadata": {},
   "source": [
    "You index a 2D array using the same notation: first your row slicing, then a comma `,`, then your column slicing.\n",
    "\n",
    "For example the first element of the second row:"
   ]
  },
  {
   "cell_type": "code",
   "execution_count": null,
   "metadata": {},
   "outputs": [],
   "source": [
    "print(array_2d[1, 0])"
   ]
  },
  {
   "cell_type": "markdown",
   "metadata": {},
   "source": [
    "or the top three values of the last column"
   ]
  },
  {
   "cell_type": "code",
   "execution_count": null,
   "metadata": {},
   "outputs": [],
   "source": [
    "print(array_2d[0:3, -1])"
   ]
  },
  {
   "cell_type": "markdown",
   "metadata": {},
   "source": [
    "Note how our column has lost its \"verticalness\": once we've sliced it out, it's just a regular 1D array."
   ]
  },
  {
   "cell_type": "markdown",
   "metadata": {},
   "source": [
    "### Creating arrays\n",
    "\n",
    "As well as converting Python lists to arrays, numpy can create its own arrays!\n",
    "\n",
    "You can create an array that's filled with zeros"
   ]
  },
  {
   "cell_type": "code",
   "execution_count": null,
   "metadata": {},
   "outputs": [],
   "source": [
    "np.zeros(5)"
   ]
  },
  {
   "cell_type": "markdown",
   "metadata": {},
   "source": [
    "or ones (remember numpy uses the row, col ordering)"
   ]
  },
  {
   "cell_type": "code",
   "execution_count": null,
   "metadata": {},
   "outputs": [],
   "source": [
    "np.ones((2, 5))"
   ]
  },
  {
   "cell_type": "markdown",
   "metadata": {},
   "source": [
    "Numpy has it's own version of the Python `range` function:"
   ]
  },
  {
   "cell_type": "code",
   "execution_count": null,
   "metadata": {},
   "outputs": [],
   "source": [
    "np.arange(2, 9, 2)"
   ]
  },
  {
   "cell_type": "markdown",
   "metadata": {},
   "source": [
    "and a related `linspace` function to create an array with elements evenly spaced"
   ]
  },
  {
   "cell_type": "code",
   "execution_count": null,
   "metadata": {},
   "outputs": [],
   "source": [
    "np.linspace(0, 10, num=5)"
   ]
  },
  {
   "cell_type": "markdown",
   "metadata": {},
   "source": [
    "### Array attributes\n",
    "\n",
    "The shape attribute gives the rows and cols (in that order!) of an array"
   ]
  },
  {
   "cell_type": "code",
   "execution_count": null,
   "metadata": {},
   "outputs": [],
   "source": [
    "array_2d.shape"
   ]
  },
  {
   "cell_type": "markdown",
   "metadata": {},
   "source": [
    "\n",
    "\n",
    "```python\n",
    "\n",
    "\n",
    "\n",
    "\n",
    "1. Standard library  \n",
    "2. Numpy  \n",
    "   1. Why numpy?   \n",
    "   2. Creating Arrays  \n",
    "   3. Array Dimensions  \n",
    "   4. Array Operations   \n",
    "   5. Slicing, Indexing, and Broadcasting  \n",
    "   6. Dot product, cross product, matrix multiplication  \n",
    "   7. Exporting and loading arrays   \n",
    "3. Pandas  \n",
    "   1. Dataframes  \n",
    "   2. DataFrame structure  \n",
    "      1. Columns  \n",
    "      2. Index, datetime index, datetime module   \n",
    "   3. Loading dataframes from .csv and .xls files   \n",
    "      1. Dealing with messy data  \n",
    "      2. Example dataset  \n",
    "      3. Cleaning real messy data  \n",
    "   4. Selecting columns  \n",
    "   5. Filtering by conditionals  \n",
    "   6. Helpful dataframe functions   \n",
    "      1. Convert a dict to a dataframe   \n",
    "   7. Advanced dataframe topics  \n",
    "      1. Multiindex   \n",
    "      2. .apply   \n",
    "      3. .groupby   \n",
    "4. Matplotlib  \n",
    "   1. Line plot  \n",
    "   2. Scatterplot  \n",
    "   3. Plotting 2d arrays with imshow  \n",
    "   4. Formatting plots   \n",
    "      1. Title  \n",
    "      2. Axis labels  \n",
    "      3. Legend  \n",
    "5. Seaborn  \n",
    "   1. Relplot  \n",
    "   2. Distplot   \n",
    "   3. Catplot   \n",
    "6. Practical Example \\- scatterplot and linear regression   \n",
    "   1. Load two datasets  \n",
    "   2. Create pandas dataframe with each as a column  \n",
    "   3. Do a linear regression between two columns  \n",
    "   4. Plot scatterplot and linear regression using matplotlib  \n",
    "   5. Add axis labels, legend, title, regression equation   \n",
    "   6. Save plot to .png \n"
   ]
  }
 ],
 "metadata": {
  "language_info": {
   "name": "python"
  }
 },
 "nbformat": 4,
 "nbformat_minor": 2
}
