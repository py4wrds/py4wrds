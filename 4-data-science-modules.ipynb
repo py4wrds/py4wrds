{
 "cells": [
  {
   "cell_type": "markdown",
   "metadata": {},
   "source": [
    "# 4. Python data science modules\n",
    "\n",
    "1. Standard library  \n",
    "2. Numpy  \n",
    "   1. Why numpy?   \n",
    "   2. Creating Arrays  \n",
    "   3. Array Dimensions  \n",
    "   4. Array Operations   \n",
    "   5. Slicing, Indexing, and Broadcasting  \n",
    "   6. Dot product, cross product, matrix multiplication  \n",
    "   7. Exporting and loading arrays   \n",
    "3. Pandas  \n",
    "   1. Dataframes  \n",
    "   2. DataFrame structure  \n",
    "      1. Columns  \n",
    "      2. Index, datetime index, datetime module   \n",
    "   3. Loading dataframes from .csv and .xls files   \n",
    "      1. Dealing with messy data  \n",
    "      2. Example dataset  \n",
    "      3. Cleaning real messy data  \n",
    "   4. Selecting columns  \n",
    "   5. Filtering by conditionals  \n",
    "   6. Helpful dataframe functions   \n",
    "      1. Convert a dict to a dataframe   \n",
    "   7. Advanced dataframe topics  \n",
    "      1. Multiindex   \n",
    "      2. .apply   \n",
    "      3. .groupby   \n",
    "4. Matplotlib  \n",
    "   1. Line plot  \n",
    "   2. Scatterplot  \n",
    "   3. Plotting 2d arrays with imshow  \n",
    "   4. Formatting plots   \n",
    "      1. Title  \n",
    "      2. Axis labels  \n",
    "      3. Legend  \n",
    "5. Seaborn  \n",
    "   1. Relplot  \n",
    "   2. Distplot   \n",
    "   3. Catplot   \n",
    "6. Practical Example \\- scatterplot and linear regression   \n",
    "   1. Load two datasets  \n",
    "   2. Create pandas dataframe with each as a column  \n",
    "   3. Do a linear regression between two columns  \n",
    "   4. Plot scatterplot and linear regression using matplotlib  \n",
    "   5. Add axis labels, legend, title, regression equation   \n",
    "   6. Save plot to .png \n"
   ]
  }
 ],
 "metadata": {
  "language_info": {
   "name": "python"
  }
 },
 "nbformat": 4,
 "nbformat_minor": 2
}
