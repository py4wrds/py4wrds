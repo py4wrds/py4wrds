{
 "cells": [
  {
   "cell_type": "markdown",
   "metadata": {},
   "source": [
    "# 2. Python Fundamentals I: \n",
    "\n",
    "Data Types,  Data Structures, and Control Flow"
   ]
  },
  {
   "cell_type": "markdown",
   "metadata": {},
   "source": [
    "## Data Types\n",
    "\n",
    "### Fundamentals\n",
    "There are several fundamental types of objects in python:\n",
    "* `bool`: with values True and False\n",
    "* `str`: for alphanumeric text like \"Hello world\"\n",
    "* `int`: for integers like 1, 42, and -5\n",
    "* `float`: for floating point numbers like 96.8\n",
    "\n",
    "### Containers \n",
    "\n",
    "There are several types of 'continers' which can store multiple values of the previous data types: \n",
    "* `list`: a mutable ordered list of data values\n",
    "* `tuple`: an immutable, unordered list of data values\n",
    "* `set`: an unordered mutable collection of unique data values\n",
    "* `dict`: a hash map which permits lookup on the basis of keys and values\n",
    "\n",
    "We will explore each of these data types and containers in this module. \n",
    "\n",
    "### Checking Types with the `type()` function\n",
    "\n",
    "We can check the type of any python object by issuing the `type()` command and inspecting the output\n",
    "\n",
    "### Casting\n",
    "\n",
    "We can convert between objects by calling one of data types with a python object in parenthesis. For example:"
   ]
  },
  {
   "cell_type": "code",
   "execution_count": 1,
   "metadata": {},
   "outputs": [
    {
     "name": "stdout",
     "output_type": "stream",
     "text": [
      "42\n",
      "<class 'int'>\n",
      "42\n",
      "<class 'str'>\n"
     ]
    }
   ],
   "source": [
    "my_var = 42\n",
    "print(my_var)\n",
    "print(type(my_var))\n",
    "my_string_var = str(my_var)\n",
    "print(my_string_var)\n",
    "print(type(my_string_var))\n",
    "\n",
    "# Notice that the `int` and `str` data types print identical values on the command line! "
   ]
  },
  {
   "cell_type": "markdown",
   "metadata": {},
   "source": [
    "## Strings\n",
    "\n",
    "Strings are a very important data type in all languages. In Python, strings may be quoted several ways:\n",
    "\n",
    "### Construction"
   ]
  },
  {
   "cell_type": "code",
   "execution_count": 2,
   "metadata": {},
   "outputs": [
    {
     "name": "stdout",
     "output_type": "stream",
     "text": [
      "woah! strings can\n",
      "split lines \n"
     ]
    }
   ],
   "source": [
    "output_file = 'output.txt'\n",
    "triplequotes = \"\"\"woah! strings can\n",
    "split lines \"\"\"\n",
    "print(triplequotes) # Split onto multiple lines; newline char embedded.\n"
   ]
  },
  {
   "cell_type": "markdown",
   "metadata": {},
   "source": [
    "Equivalently, with single quotes: "
   ]
  },
  {
   "cell_type": "code",
   "execution_count": 3,
   "metadata": {},
   "outputs": [
    {
     "name": "stdout",
     "output_type": "stream",
     "text": [
      "I am a string too.\n",
      "I can span multiple lines!\n"
     ]
    }
   ],
   "source": [
    "trip_single_quotes = '''I am a string too.\n",
    "I can span multiple lines!'''\n",
    "print(trip_single_quotes)"
   ]
  },
  {
   "cell_type": "markdown",
   "metadata": {},
   "source": [
    "#### Quotes in strings\n",
    "\n",
    "We construct strings using either single quotes (`'this is a string'`), double quotes (`\"this is also a string\"`) or triple quotes (`'''yet another string!'''`). Sometimes, we will want to include quotes in a string (say, a paragraph of text with some apostrophes). If the same type of quote that is used to define the string is used within the string, the interpreter will think that is the end of the string: "
   ]
  },
  {
   "cell_type": "code",
   "execution_count": 4,
   "metadata": {},
   "outputs": [
    {
     "ename": "SyntaxError",
     "evalue": "unterminated string literal (detected at line 1) (2059763243.py, line 1)",
     "output_type": "error",
     "traceback": [
      "\u001b[0;36m  Cell \u001b[0;32mIn[4], line 1\u001b[0;36m\u001b[0m\n\u001b[0;31m    print('defining a string with a contraction such as you're')\u001b[0m\n\u001b[0m                                                              ^\u001b[0m\n\u001b[0;31mSyntaxError\u001b[0m\u001b[0;31m:\u001b[0m unterminated string literal (detected at line 1)\n"
     ]
    }
   ],
   "source": [
    "print('defining a string with a contraction such as you're')"
   ]
  },
  {
   "cell_type": "markdown",
   "metadata": {},
   "source": [
    "We can fix this by mixing quotes: "
   ]
  },
  {
   "cell_type": "code",
   "execution_count": 5,
   "metadata": {},
   "outputs": [
    {
     "name": "stdout",
     "output_type": "stream",
     "text": [
      "defining a string with a contraction such as you're\n"
     ]
    }
   ],
   "source": [
    "print(\"defining a string with a contraction such as you're\")"
   ]
  },
  {
   "cell_type": "markdown",
   "metadata": {},
   "source": [
    "Alternatively, we can escape the quote with a backslash, i.e. a `\\`:"
   ]
  },
  {
   "cell_type": "code",
   "execution_count": 6,
   "metadata": {},
   "outputs": [
    {
     "name": "stdout",
     "output_type": "stream",
     "text": [
      "defining a string with a contraction such as you're\n"
     ]
    }
   ],
   "source": [
    "print('defining a string with a contraction such as you\\'re')"
   ]
  },
  {
   "cell_type": "markdown",
   "metadata": {},
   "source": [
    "We recommend using double quotes `\" \"` to be consistent with [PEP8 style](https://peps.python.org/pep-0008/)"
   ]
  },
  {
   "cell_type": "markdown",
   "metadata": {},
   "source": [
    "### String methods\n",
    "\n",
    "There are several built in python methods which operate on strings, and can make manipulating strings much simpler and easier. \n",
    "\n",
    "#### Slicing / Indexing\n",
    "\n",
    "We can access any singular character, within a string through 'slicing', also sometimes called 'indexing', by placing square brackets after a variable name:"
   ]
  },
  {
   "cell_type": "code",
   "execution_count": 7,
   "metadata": {},
   "outputs": [
    {
     "data": {
      "text/plain": [
       "'this'"
      ]
     },
     "execution_count": 7,
     "metadata": {},
     "output_type": "execute_result"
    }
   ],
   "source": [
    "string_to_index = 'this is a string that will be indexed'\n",
    "string_to_index[0:4]"
   ]
  },
  {
   "cell_type": "markdown",
   "metadata": {},
   "source": [
    "In this command, we select all values between the 0th index and the 4th index (non - inclusive). This means we are accessing the characters 'this' in the example above, the 0th, 1st, 2nd, and 3rd characters. \n",
    "\n",
    "The `:` tells the computer to select values starting at one index and ending at another. We can also access any individual character: "
   ]
  },
  {
   "cell_type": "code",
   "execution_count": 8,
   "metadata": {},
   "outputs": [
    {
     "name": "stdout",
     "output_type": "stream",
     "text": [
      "h\n",
      "e\n",
      "r\n",
      "e\n"
     ]
    }
   ],
   "source": [
    "another_string = \"here's another string to index~\"\n",
    "print(another_string[0])\n",
    "print(another_string[1])\n",
    "print(another_string[2])\n",
    "print(another_string[3])"
   ]
  },
  {
   "cell_type": "markdown",
   "metadata": {},
   "source": [
    "You may have observed a very important characteristic here: **python is zero indexed** meaning that the first value in a string is given the zero index: \n",
    "\n",
    "Let's play around with some other indexing commands to get the hang of it:"
   ]
  },
  {
   "cell_type": "code",
   "execution_count": 9,
   "metadata": {},
   "outputs": [
    {
     "name": "stdout",
     "output_type": "stream",
     "text": [
      "is a string that will be indexed\n",
      "is a string tha\n",
      "be indexed\n"
     ]
    }
   ],
   "source": [
    "string_to_index = 'this is a string that will be indexed'\n",
    "print(string_to_index[5:])\n",
    "print(string_to_index[5:20])\n",
    "print(string_to_index[-10:])"
   ]
  },
  {
   "cell_type": "markdown",
   "metadata": {},
   "source": [
    "Note that when slicing, we do not have to supply the 0th or last index, python is able to figure out the start / end indices automatically. The following returns every character in the string, beginning with the 5th character:"
   ]
  },
  {
   "cell_type": "code",
   "execution_count": 10,
   "metadata": {},
   "outputs": [
    {
     "data": {
      "text/plain": [
       "'is a string that will be indexed'"
      ]
     },
     "execution_count": 10,
     "metadata": {},
     "output_type": "execute_result"
    }
   ],
   "source": [
    "string_to_index[5:]"
   ]
  },
  {
   "cell_type": "markdown",
   "metadata": {},
   "source": [
    "Note that we can also use negative indices, which count backwards from the end of the string. The following returns every character in the string, beginning with the 10th character from the end:"
   ]
  },
  {
   "cell_type": "code",
   "execution_count": 11,
   "metadata": {},
   "outputs": [
    {
     "name": "stdout",
     "output_type": "stream",
     "text": [
      "be indexed\n"
     ]
    }
   ],
   "source": [
    "print(string_to_index[-10:])"
   ]
  },
  {
   "cell_type": "markdown",
   "metadata": {},
   "source": [
    "The following diagram summarizes python string indexing and slicing for an example string `'Python'`:\n",
    "\n",
    "![str_idx](img/2-str-index.png)\n",
    "\n",
    "#### Strings are immutable!\n",
    "\n",
    "While we can access any individual character of a string, we cannot ever directly change characters:"
   ]
  },
  {
   "cell_type": "code",
   "execution_count": 12,
   "metadata": {},
   "outputs": [
    {
     "ename": "TypeError",
     "evalue": "'str' object does not support item assignment",
     "output_type": "error",
     "traceback": [
      "\u001b[0;31m---------------------------------------------------------------------------\u001b[0m",
      "\u001b[0;31mTypeError\u001b[0m                                 Traceback (most recent call last)",
      "Cell \u001b[0;32mIn[12], line 1\u001b[0m\n\u001b[0;32m----> 1\u001b[0m \u001b[43mstring_to_index\u001b[49m\u001b[43m[\u001b[49m\u001b[38;5;241;43m10\u001b[39;49m\u001b[43m]\u001b[49m \u001b[38;5;241m=\u001b[39m \u001b[38;5;124m'\u001b[39m\u001b[38;5;124ma\u001b[39m\u001b[38;5;124m'\u001b[39m\n",
      "\u001b[0;31mTypeError\u001b[0m: 'str' object does not support item assignment"
     ]
    }
   ],
   "source": [
    "string_to_index[10] = 'a'"
   ]
  },
  {
   "cell_type": "markdown",
   "metadata": {},
   "source": [
    "### String functions\n",
    "\n",
    "There are several handy built-in string functions that make manipulating data in strings easier: \n",
    "* Concatenate strings: `+`\n",
    "* Split strings based on substring: `split('substr')`\n",
    "* Find substring: `find('substr')`\n",
    "* Replace substring with another substring `replace('substr1','substr2')`\n",
    "\n",
    "1. **Combining strings (AKA concatennation):** Strings can be concatennated using the `+` sign: "
   ]
  },
  {
   "cell_type": "code",
   "execution_count": 13,
   "metadata": {},
   "outputs": [
    {
     "data": {
      "text/plain": [
       "'some string another string'"
      ]
     },
     "execution_count": 13,
     "metadata": {},
     "output_type": "execute_result"
    }
   ],
   "source": [
    "'some string ' + 'another string'"
   ]
  },
  {
   "cell_type": "markdown",
   "metadata": {},
   "source": [
    "note that we had to include a trailing space on `some string ` in order to produce a concatennated string with spaces - the spaces are not added automatically. \n",
    "\n",
    "2. **Splitting strings**: strings can easily be separated based on a character using the `split()` function:"
   ]
  },
  {
   "cell_type": "code",
   "execution_count": 14,
   "metadata": {},
   "outputs": [
    {
     "data": {
      "text/plain": [
       "['we will s', 'lit this string into ', 'ieces']"
      ]
     },
     "execution_count": 14,
     "metadata": {},
     "output_type": "execute_result"
    }
   ],
   "source": [
    "'we will split this string into pieces'.split(\"p\") "
   ]
  },
  {
   "cell_type": "markdown",
   "metadata": {},
   "source": [
    "This returns 3 separate strings, which are broken out by wherever `p` occurs in the substring.\n",
    "\n",
    "Strings can also be separated by a sequence of characters "
   ]
  },
  {
   "cell_type": "code",
   "execution_count": 15,
   "metadata": {},
   "outputs": [
    {
     "data": {
      "text/plain": [
       "['we will split ',\n",
       " ' this other string ',\n",
       " ' on the basis ',\n",
       " ' of where the ',\n",
       " ' words occur']"
      ]
     },
     "execution_count": 15,
     "metadata": {},
     "output_type": "execute_result"
    }
   ],
   "source": [
    "'we will split um this other string um on the basis um of where the um words occur'.split('um')"
   ]
  },
  {
   "cell_type": "markdown",
   "metadata": {},
   "source": [
    "3. **Finding the first index where a character appears in a string** with the `find()` function:"
   ]
  },
  {
   "cell_type": "code",
   "execution_count": 16,
   "metadata": {},
   "outputs": [
    {
     "data": {
      "text/plain": [
       "5"
      ]
     },
     "execution_count": 16,
     "metadata": {},
     "output_type": "execute_result"
    }
   ],
   "source": [
    "'here is a test string for which we will find the first ooccurrence of the letter i'.find('i')"
   ]
  },
  {
   "cell_type": "markdown",
   "metadata": {},
   "source": [
    "4. **Replacing characters appearing in a strings** with the `replace()` function:"
   ]
  },
  {
   "cell_type": "code",
   "execution_count": 17,
   "metadata": {},
   "outputs": [
    {
     "data": {
      "text/plain": [
       "'here js a test strjng for whjch we wjll replace ooccurrence of one letter wjth another'"
      ]
     },
     "execution_count": 17,
     "metadata": {},
     "output_type": "execute_result"
    }
   ],
   "source": [
    "'here is a test string for which we will replace ooccurrence of one letter with another'.replace('i','j')"
   ]
  },
  {
   "cell_type": "code",
   "execution_count": 18,
   "metadata": {},
   "outputs": [
    {
     "data": {
      "text/plain": [
       "'this also works for full words and phrases, pretty swell, huh?'"
      ]
     },
     "execution_count": 18,
     "metadata": {},
     "output_type": "execute_result"
    }
   ],
   "source": [
    "'this also works for full words and phrases, pretty neat, huh?'.replace('neat','swell')"
   ]
  },
  {
   "cell_type": "markdown",
   "metadata": {},
   "source": [
    "The `len()` function returns the number of characters in the string"
   ]
  },
  {
   "cell_type": "code",
   "execution_count": 19,
   "metadata": {},
   "outputs": [
    {
     "data": {
      "text/plain": [
       "53"
      ]
     },
     "execution_count": 19,
     "metadata": {},
     "output_type": "execute_result"
    }
   ],
   "source": [
    "test_str = \"use len() to count the number of chars in this string\"\n",
    "len(test_str)"
   ]
  },
  {
   "cell_type": "markdown",
   "metadata": {},
   "source": [
    "It's easy to convert strings between upper and lower case with the `string.upper()` and `string.lower()` methods\""
   ]
  },
  {
   "cell_type": "code",
   "execution_count": 20,
   "metadata": {},
   "outputs": [
    {
     "name": "stdout",
     "output_type": "stream",
     "text": [
      "alternating cases\n",
      "ALTERNATING CASES\n"
     ]
    }
   ],
   "source": [
    "test_str = \"AlTeRnAtInG cAsEs\"\n",
    "print(test_str.lower()) # Converts all chars to lowercase\n",
    "print(test_str.upper()) # Converts all chars to uppercase"
   ]
  },
  {
   "cell_type": "markdown",
   "metadata": {},
   "source": [
    "### String formatting\n",
    "\n",
    "It's often convenient to  create strings formatted from a combination of strings, numbers, and other data. In Python 3 this can be handled in two ways: the format string method. E.g.:\n"
   ]
  },
  {
   "cell_type": "code",
   "execution_count": 21,
   "metadata": {},
   "outputs": [
    {
     "name": "stdout",
     "output_type": "stream",
     "text": [
      "My name is Aakash. I am an instructor for py4wrds.\n"
     ]
    }
   ],
   "source": [
    "name = \"Aakash\"\n",
    "course = \"py4wrds\"\n",
    "# Prints: My name is Andreas. I am the instructor for CME211.\n",
    "print(\"My name is {0}. I am an instructor for {1}.\".format(name,course))"
   ]
  },
  {
   "cell_type": "markdown",
   "metadata": {},
   "source": [
    "Format strings contain “replacement fields” surrounded by curly braces `{}`. Anything that is not contained in braces is considered literal text, which is copied unchanged to the output. \n",
    "\n",
    "If you need to include a brace character in the literal text, it can be escaped by doubling the braces: i.e. use {{ and }}. The number in the braces refers to the order of arguments passed to format. \n",
    "\n",
    "Numbers don’t need to be specified if the sequence of braces has the same order as arguments:"
   ]
  },
  {
   "cell_type": "code",
   "execution_count": 22,
   "metadata": {},
   "outputs": [
    {
     "name": "stdout",
     "output_type": "stream",
     "text": [
      "this course is py4wrds, and 25 students are in attendance\n"
     ]
    }
   ],
   "source": [
    "course = 'py4wrds'\n",
    "number_of_students = 25\n",
    "print(\"this course is {}, and {} students are in attendance\".format(course ,number_of_students))"
   ]
  },
  {
   "cell_type": "markdown",
   "metadata": {},
   "source": [
    "Another way to handle string formatting is with F-strings, where variable names can be inserted directly into the curly braces"
   ]
  },
  {
   "cell_type": "code",
   "execution_count": 23,
   "metadata": {},
   "outputs": [
    {
     "name": "stdout",
     "output_type": "stream",
     "text": [
      "The area of a circle of radius 4 is 50.26548245743669\n"
     ]
    }
   ],
   "source": [
    "import math\n",
    "r = 4\n",
    "print(f\"The area of a circle of radius {r} is {math.pi * math.pow(r, 2)}\")"
   ]
  },
  {
   "cell_type": "markdown",
   "metadata": {},
   "source": [
    "To summarize, string formatting is a good way to combine text and numeric data. It’s also how we control the output of floating point numbers:"
   ]
  },
  {
   "cell_type": "code",
   "execution_count": 24,
   "metadata": {},
   "outputs": [
    {
     "name": "stdout",
     "output_type": "stream",
     "text": [
      " {:f}: 42.420000\n",
      " {:g}: 42.42\n",
      " {:e}: 4.242000e+01\n",
      " {:.2e}: 4.24e+01\n",
      "{: 8.2e}:  4.24e+01\n",
      "{: 8.2e}: -1.00e+00\n"
     ]
    }
   ],
   "source": [
    "# Fixed point precision (always uses six significant decimal digits).\n",
    "print(\" {{:f}}: {:f}\".format(42.42)) # Prints 42.40000\n",
    "# General format (knows how to drop trailing zeros in decimals).\n",
    "print(\" {{:g}}: {:g}\".format(42.42)) # Prints 42.42\n",
    "# Exponent (scientific) notation.\n",
    "print(\" {{:e}}: {:e}\".format(42.42)) # Prints 4.242000e+01\n",
    "\n",
    "# We can also specify how many digits of precision we want.\n",
    "print(\" {{:.2e}}: {:.2e}\".format(42.42)) # Prints 4.24e+01.\n",
    "\n",
    "# Or we can specify the width of our output (excluding +/- signs).\n",
    "print(\"{{: 8.2e}}: {: 8.2e}\".format(42.42)) # Prints total of 8 chars: 4.24e+01\n",
    "print(\"{{: 8.2e}}: {: 8.2e}\".format(-1.0)) # Prints -1.00e+00"
   ]
  },
  {
   "cell_type": "markdown",
   "metadata": {},
   "source": [
    "## Numbers\n",
    "\n",
    "Recall that numbers in python are represented by the `int` and `float` types. We can perform all standard numerical operations: \n",
    "\n",
    "* `x + y` : sum of `x` and `y`\n",
    "* `x - y` : differenceof `x` and `y`\n",
    "* `x * y` : productof `x` and `y`\n",
    "* `x / y` : quotientof `x` and `y`\n",
    "* `x//y` : floored quotient of x and y\n",
    "* `x % y` : remainderof `x` / `y`\n",
    "* `-x` : `x` negated\n",
    "* `+x` : `x` unchanged\n",
    "* `abs(x)` : absolute value (i.e. magnitude)\n",
    "* `int(x)` : `x` converted to integer\n",
    "* `float(x)` : `x` converted to floating point\n",
    "* `x ** y` : `x` tothepower `y`\n",
    "\n",
    "A full list of numerical operations can be found in the [official python documentation](https://docs.python.org/3/library/stdtypes.html#numeric-types-int-float-complex)"
   ]
  },
  {
   "cell_type": "markdown",
   "metadata": {},
   "source": [
    "### Complex Numbers\n",
    "Python supports complex numbers, with the character `j` denoting the imaginary part:"
   ]
  },
  {
   "cell_type": "code",
   "execution_count": 25,
   "metadata": {},
   "outputs": [],
   "source": [
    "complex_num = 3 + 4j"
   ]
  },
  {
   "cell_type": "markdown",
   "metadata": {},
   "source": [
    "The real and imaginary parts can be accessed by using `.real` and `.imag` synyax"
   ]
  },
  {
   "cell_type": "code",
   "execution_count": 26,
   "metadata": {},
   "outputs": [
    {
     "name": "stdout",
     "output_type": "stream",
     "text": [
      "3.0\n",
      "4.0\n"
     ]
    }
   ],
   "source": [
    "print(complex_num.real)\n",
    "print(complex_num.imag)"
   ]
  },
  {
   "cell_type": "markdown",
   "metadata": {},
   "source": [
    "### Numerical Conversions\n",
    "Python will automatically convert between numerical types of when performing operations:"
   ]
  },
  {
   "cell_type": "code",
   "execution_count": 27,
   "metadata": {},
   "outputs": [
    {
     "name": "stdout",
     "output_type": "stream",
     "text": [
      "5.4\n"
     ]
    }
   ],
   "source": [
    "float_num = 3.4\n",
    "int_num = 2\n",
    "print(float_num + int_num)"
   ]
  },
  {
   "cell_type": "markdown",
   "metadata": {},
   "source": [
    "Notice that the **integer** in the operation was converted to a **float** type automatically before performing the calculation. This is known as **widening** \n",
    "\n",
    "The same type of **widening** occurs when combining floats/ints with complex numbers: "
   ]
  },
  {
   "cell_type": "code",
   "execution_count": 28,
   "metadata": {},
   "outputs": [
    {
     "name": "stdout",
     "output_type": "stream",
     "text": [
      "(10.2+13.6j)\n",
      "(6+8j)\n"
     ]
    }
   ],
   "source": [
    "print(float_num * complex_num)\n",
    "print(int_num * complex_num)"
   ]
  },
  {
   "cell_type": "markdown",
   "metadata": {},
   "source": [
    "In python, converting between `float` and `int` types is also easy: "
   ]
  },
  {
   "cell_type": "code",
   "execution_count": 29,
   "metadata": {},
   "outputs": [
    {
     "name": "stdout",
     "output_type": "stream",
     "text": [
      "<class 'int'>\n"
     ]
    }
   ],
   "source": [
    "float_num = 2.7\n",
    "x = int(float_num)\n",
    "print(type(x))"
   ]
  },
  {
   "cell_type": "markdown",
   "metadata": {},
   "source": [
    "Notice that floats converted to ints are automatically **rounded towards zero** : "
   ]
  },
  {
   "cell_type": "code",
   "execution_count": 30,
   "metadata": {},
   "outputs": [
    {
     "name": "stdout",
     "output_type": "stream",
     "text": [
      "2\n"
     ]
    }
   ],
   "source": [
    "print(x)"
   ]
  },
  {
   "cell_type": "markdown",
   "metadata": {},
   "source": [
    "We can observe this to be true by testing a negative number:"
   ]
  },
  {
   "cell_type": "code",
   "execution_count": 31,
   "metadata": {},
   "outputs": [
    {
     "data": {
      "text/plain": [
       "-3"
      ]
     },
     "execution_count": 31,
     "metadata": {},
     "output_type": "execute_result"
    }
   ],
   "source": [
    "x = -3.8\n",
    "int(x)"
   ]
  },
  {
   "cell_type": "markdown",
   "metadata": {},
   "source": [
    "### Converting numbers to/from strings\n",
    "\n",
    "Python makes it simple to convert numbers to/from strings. This is especially useful when reading data from a text file:"
   ]
  },
  {
   "cell_type": "code",
   "execution_count": 32,
   "metadata": {},
   "outputs": [
    {
     "name": "stdout",
     "output_type": "stream",
     "text": [
      "234\n",
      "<class 'int'>\n"
     ]
    }
   ],
   "source": [
    "string_num = '234'\n",
    "print(int(string_num))\n",
    "print(type(int(string_num)))"
   ]
  },
  {
   "cell_type": "code",
   "execution_count": 33,
   "metadata": {},
   "outputs": [
    {
     "name": "stdout",
     "output_type": "stream",
     "text": [
      "234.0\n",
      "<class 'float'>\n"
     ]
    }
   ],
   "source": [
    "string_num = '234'\n",
    "print(float(string_num))\n",
    "print(type(float(string_num)))"
   ]
  },
  {
   "cell_type": "markdown",
   "metadata": {},
   "source": [
    "Simiarly, it's simple to convert from a numerical type to a string, using the `str()` constructor`"
   ]
  },
  {
   "cell_type": "code",
   "execution_count": 34,
   "metadata": {},
   "outputs": [
    {
     "name": "stdout",
     "output_type": "stream",
     "text": [
      "25.0\n",
      "<class 'str'>\n"
     ]
    }
   ],
   "source": [
    "float_num = 25.\n",
    "print(str(float_num))\n",
    "print(type(str(float_num)))"
   ]
  },
  {
   "cell_type": "markdown",
   "metadata": {},
   "source": [
    "Note that attempting to concatenate a string with a numerical type will yield an error: "
   ]
  },
  {
   "cell_type": "code",
   "execution_count": 35,
   "metadata": {},
   "outputs": [
    {
     "ename": "TypeError",
     "evalue": "can only concatenate str (not \"int\") to str",
     "output_type": "error",
     "traceback": [
      "\u001b[0;31m---------------------------------------------------------------------------\u001b[0m",
      "\u001b[0;31mTypeError\u001b[0m                                 Traceback (most recent call last)",
      "Cell \u001b[0;32mIn[35], line 1\u001b[0m\n\u001b[0;32m----> 1\u001b[0m \u001b[38;5;28mprint\u001b[39m(\u001b[38;5;124;43m'\u001b[39;49m\u001b[38;5;124;43mstringy string string \u001b[39;49m\u001b[38;5;124;43m'\u001b[39;49m\u001b[43m \u001b[49m\u001b[38;5;241;43m+\u001b[39;49m\u001b[43m \u001b[49m\u001b[38;5;241;43m58\u001b[39;49m)\n",
      "\u001b[0;31mTypeError\u001b[0m: can only concatenate str (not \"int\") to str"
     ]
    }
   ],
   "source": [
    "print('stringy string string ' + 58)"
   ]
  },
  {
   "cell_type": "markdown",
   "metadata": {},
   "source": [
    "This is best handled using F-strings or string formatting: "
   ]
  },
  {
   "cell_type": "code",
   "execution_count": 36,
   "metadata": {},
   "outputs": [
    {
     "name": "stdout",
     "output_type": "stream",
     "text": [
      "stringy string string 58 with fstrings 456 \n"
     ]
    }
   ],
   "source": [
    "my_int = 456\n",
    "print(f'stringy string string {58} with fstrings {my_int} ')"
   ]
  },
  {
   "cell_type": "markdown",
   "metadata": {},
   "source": [
    "### Booleans \n",
    "\n",
    "A **Boolean** or **Bool** for short, is simply a value of `True` or `False`. You've probably heard of these if you have doen any programming. \n",
    "\n",
    "Booleans are useful for checking data types, and lots of other things we'll cover later. \n",
    "\n",
    "For now, consider the following examples: "
   ]
  },
  {
   "cell_type": "code",
   "execution_count": 37,
   "metadata": {},
   "outputs": [
    {
     "data": {
      "text/plain": [
       "True"
      ]
     },
     "execution_count": 37,
     "metadata": {},
     "output_type": "execute_result"
    }
   ],
   "source": [
    "my_int_var = 42\n",
    "type(my_int_var) is int"
   ]
  },
  {
   "cell_type": "code",
   "execution_count": 38,
   "metadata": {},
   "outputs": [
    {
     "data": {
      "text/plain": [
       "False"
      ]
     },
     "execution_count": 38,
     "metadata": {},
     "output_type": "execute_result"
    }
   ],
   "source": [
    "my_int_var = 42\n",
    "type(my_int_var) is float"
   ]
  },
  {
   "cell_type": "markdown",
   "metadata": {},
   "source": [
    "Notice we are usint the word `is` here to check whether the variable is an `int` type or a `float` type\n",
    "\n",
    "We can also string together multiple statements using the following **Boolean Operators** : `and`, `or`, `not`"
   ]
  },
  {
   "cell_type": "code",
   "execution_count": 39,
   "metadata": {},
   "outputs": [
    {
     "data": {
      "text/plain": [
       "True"
      ]
     },
     "execution_count": 39,
     "metadata": {},
     "output_type": "execute_result"
    }
   ],
   "source": [
    "my_int_var = 42\n",
    "my_float_var = 42.\n",
    "\n",
    "# Returns True\n",
    "type(my_int_var) is int and type(my_float_var) is float"
   ]
  },
  {
   "cell_type": "code",
   "execution_count": 40,
   "metadata": {},
   "outputs": [
    {
     "data": {
      "text/plain": [
       "False"
      ]
     },
     "execution_count": 40,
     "metadata": {},
     "output_type": "execute_result"
    }
   ],
   "source": [
    "# Returns False\n",
    "type(my_int_var) is int and type(my_int_var) is float"
   ]
  },
  {
   "cell_type": "code",
   "execution_count": 41,
   "metadata": {},
   "outputs": [
    {
     "name": "stdout",
     "output_type": "stream",
     "text": [
      "True\n"
     ]
    }
   ],
   "source": [
    "# Returns True\n",
    "print(type(my_int_var) is int or type(my_int_var) is float)"
   ]
  },
  {
   "cell_type": "code",
   "execution_count": 42,
   "metadata": {},
   "outputs": [
    {
     "data": {
      "text/plain": [
       "True"
      ]
     },
     "execution_count": 42,
     "metadata": {},
     "output_type": "execute_result"
    }
   ],
   "source": [
    "# Returns True\n",
    "type(my_int_var) is not float"
   ]
  },
  {
   "cell_type": "code",
   "execution_count": 43,
   "metadata": {},
   "outputs": [
    {
     "data": {
      "text/plain": [
       "False"
      ]
     },
     "execution_count": 43,
     "metadata": {},
     "output_type": "execute_result"
    }
   ],
   "source": [
    "# Returns False\n",
    "type(my_int_var) is not int"
   ]
  },
  {
   "cell_type": "markdown",
   "metadata": {},
   "source": [
    "These operators can be combined to form complex expressions and improve the readability and robustness of python programs. We will use these operators and revisit boolean logic througout this course."
   ]
  },
  {
   "cell_type": "markdown",
   "metadata": {},
   "source": [
    "## If / Else Statements \n",
    "Perhaps the most well-known concept in programming is that of an `if` statement. \n",
    "The `if` statement is used for conditional execution: "
   ]
  },
  {
   "cell_type": "code",
   "execution_count": 44,
   "metadata": {},
   "outputs": [
    {
     "name": "stdout",
     "output_type": "stream",
     "text": [
      "value is positive\n"
     ]
    }
   ],
   "source": [
    "# Try changing the value of `my_value` to get a sense for the `if`, `elif`, and `else` logic. \n",
    "my_value = 10\n",
    "\n",
    "if my_value > 0: # If this expression evaluates to True, the following line will be printed. \n",
    "# If it evaluates to False, we move to the 'elif' statement \n",
    "    print(\"value is positive\")\n",
    "elif my_value == 0: # If this expression evaluates to True, the following line will be printed. \n",
    "# If it evaluates to False, we move to the 'else' statement \n",
    "    print(\"value is zero\")\n",
    "else:\n",
    "    print(\"value is negative\") "
   ]
  },
  {
   "cell_type": "markdown",
   "metadata": {},
   "source": [
    "There can be zero or more `elif:` parts, and the `else:` part is optional. \n",
    "\n",
    "The keyword `elif` is short for ‘else if’, and is useful to avoid excessive indentation. \n",
    "\n",
    "An `if` ... `elif` ... `elif` ... sequence is a substitute for the `switch` or `case` statements found in other languages. See [Switch Statement](https://en.wikipedia.org/wiki/Switch_statement) for more info. "
   ]
  },
  {
   "cell_type": "markdown",
   "metadata": {},
   "source": [
    "## Lists\n",
    "\n",
    "**Lists** are the most important and common data type in Python. A list is simply an ordered collection of items. Think of a vector in mathematics, or a grocery list of items to be purchased. In python, we can create lists using the square brackets `[ ]`: "
   ]
  },
  {
   "cell_type": "code",
   "execution_count": 45,
   "metadata": {},
   "outputs": [
    {
     "name": "stdout",
     "output_type": "stream",
     "text": [
      "[1, 2, 3, 4, 5]\n",
      "['a', 'b', 'c', 'd', 'e']\n"
     ]
    }
   ],
   "source": [
    "list_a = [1,2,3,4,5]\n",
    "print(list_a)\n",
    "list_b = ['a','b','c','d','e']\n",
    "print(list_b)"
   ]
  },
  {
   "cell_type": "markdown",
   "metadata": {},
   "source": [
    "A list can be comprised of any data type, or multiple data types: "
   ]
  },
  {
   "cell_type": "code",
   "execution_count": 46,
   "metadata": {},
   "outputs": [
    {
     "name": "stdout",
     "output_type": "stream",
     "text": [
      "['a', 2, False, 4, 'am I a list, or an element?', 17.5, True]\n"
     ]
    }
   ],
   "source": [
    "list_of_many_types = [\"a\", 2, False, 4, \"am I a list, or an element?\", 17.5, True]\n",
    "print(list_of_many_types)"
   ]
  },
  {
   "cell_type": "markdown",
   "metadata": {},
   "source": [
    "Each item in a list is called an **element** \n",
    "\n",
    "We can call the `len()` operator to determine the number of elements in a list:"
   ]
  },
  {
   "cell_type": "code",
   "execution_count": 47,
   "metadata": {},
   "outputs": [
    {
     "data": {
      "text/plain": [
       "7"
      ]
     },
     "execution_count": 47,
     "metadata": {},
     "output_type": "execute_result"
    }
   ],
   "source": [
    "len(list_of_many_types)"
   ]
  },
  {
   "cell_type": "markdown",
   "metadata": {},
   "source": [
    "### Accessing elements in lists\n",
    "\n",
    "We can access any element of a list using the same style of indexing used to access characters in strings (square brackets after the variable name).\n",
    "\n",
    "Remember - the first element in a list is index 0:"
   ]
  },
  {
   "cell_type": "code",
   "execution_count": 48,
   "metadata": {},
   "outputs": [
    {
     "name": "stdout",
     "output_type": "stream",
     "text": [
      "a\n",
      "2\n",
      "False\n",
      "am I a list, or an element?\n"
     ]
    }
   ],
   "source": [
    "print(list_of_many_types[0])\n",
    "print(list_of_many_types[1])\n",
    "print(list_of_many_types[2])\n",
    "print(list_of_many_types[4])"
   ]
  },
  {
   "cell_type": "markdown",
   "metadata": {},
   "source": [
    "We can also index lists negatively, similar to how we were able to access characters in strings:"
   ]
  },
  {
   "cell_type": "code",
   "execution_count": 49,
   "metadata": {},
   "outputs": [
    {
     "name": "stdout",
     "output_type": "stream",
     "text": [
      "True\n",
      "17.5\n"
     ]
    }
   ],
   "source": [
    "print(list_of_many_types[-1])\n",
    "print(list_of_many_types[-2])"
   ]
  },
  {
   "cell_type": "markdown",
   "metadata": {},
   "source": [
    "### Slicing\n",
    "We can access a subset of a list using **Slicing** in the same way that we are able to access substrings:"
   ]
  },
  {
   "cell_type": "code",
   "execution_count": 50,
   "metadata": {},
   "outputs": [
    {
     "data": {
      "text/plain": [
       "[False, 4, 'am I a list, or an element?']"
      ]
     },
     "execution_count": 50,
     "metadata": {},
     "output_type": "execute_result"
    }
   ],
   "source": [
    "list_of_many_types = [\"a\", 2, False, 4, \"am I a list, or an element?\", 17.5, True]\n",
    "list_of_many_types[2:5]"
   ]
  },
  {
   "cell_type": "markdown",
   "metadata": {},
   "source": [
    "We call the `[2:5]` a **slice**, which also returns a list of with elements at positions 2,3, and 4 in the original list. \n",
    "\n",
    "We can also slice to presesrve the start or end of the list, by keeping one side of the colon blank: "
   ]
  },
  {
   "cell_type": "code",
   "execution_count": 51,
   "metadata": {},
   "outputs": [
    {
     "name": "stdout",
     "output_type": "stream",
     "text": [
      "[False, 4, 'am I a list, or an element?', 17.5, True]\n"
     ]
    },
    {
     "data": {
      "text/plain": [
       "['a', 2, False]"
      ]
     },
     "execution_count": 51,
     "metadata": {},
     "output_type": "execute_result"
    }
   ],
   "source": [
    "# Start with third element, go to end. \n",
    "print(list_of_many_types[2:]) \n",
    "\n",
    "# Extract elements indexed at positions 0, 1, and 2.\n",
    "list_of_many_types[:3] "
   ]
  },
  {
   "cell_type": "markdown",
   "metadata": {},
   "source": [
    "Let's say we want to slice a list and select every `k`th entry - we can add an extra set of parantheses to the slicing syntax to set the 'step':"
   ]
  },
  {
   "cell_type": "code",
   "execution_count": 52,
   "metadata": {},
   "outputs": [
    {
     "data": {
      "text/plain": [
       "[4, 25, 64]"
      ]
     },
     "execution_count": 52,
     "metadata": {},
     "output_type": "execute_result"
    }
   ],
   "source": [
    "list_of_squares =[1,4,9,16,25,36,49,64,81]\n",
    "# slice the list starting at 2nd element, ending at 9th element, selecting every 3rd element\n",
    "list_of_squares[1:9:3] "
   ]
  },
  {
   "cell_type": "markdown",
   "metadata": {},
   "source": [
    "### List operations\n",
    "The `+` operator combines lists. This is also called concatenation. "
   ]
  },
  {
   "cell_type": "code",
   "execution_count": 53,
   "metadata": {},
   "outputs": [
    {
     "name": "stdout",
     "output_type": "stream",
     "text": [
      "['a', 4, 'one', 3.4, 'b', 6, 'two', 7.8]\n"
     ]
    }
   ],
   "source": [
    "list_one = ['a',4,'one',3.4]\n",
    "list_two = ['b',6,'two',7.8]\n",
    "print(list_one + list_two)"
   ]
  },
  {
   "cell_type": "markdown",
   "metadata": {},
   "source": [
    "The `*` operator can be used to repeat lists:"
   ]
  },
  {
   "cell_type": "code",
   "execution_count": 54,
   "metadata": {},
   "outputs": [
    {
     "data": {
      "text/plain": [
       "['a', 4, 'one', 3.4, 'a', 4, 'one', 3.4]"
      ]
     },
     "execution_count": 54,
     "metadata": {},
     "output_type": "execute_result"
    }
   ],
   "source": [
    "list_one * 2"
   ]
  },
  {
   "cell_type": "code",
   "execution_count": 55,
   "metadata": {},
   "outputs": [
    {
     "data": {
      "text/plain": [
       "['b', 6, 'two', 7.8, 'b', 6, 'two', 7.8]"
      ]
     },
     "execution_count": 55,
     "metadata": {},
     "output_type": "execute_result"
    }
   ],
   "source": [
    "2 * list_two"
   ]
  },
  {
   "cell_type": "markdown",
   "metadata": {},
   "source": [
    "### Lists are mutable\n",
    "\n",
    "Lists can be modified 'in place', meaning that individual elements can be changed"
   ]
  },
  {
   "cell_type": "code",
   "execution_count": 56,
   "metadata": {},
   "outputs": [
    {
     "name": "stdout",
     "output_type": "stream",
     "text": [
      "['a', 4, 'one', 3.4]\n"
     ]
    }
   ],
   "source": [
    "list_one = ['a',4,'one',3.4]\n",
    "print(list_one)"
   ]
  },
  {
   "cell_type": "code",
   "execution_count": 57,
   "metadata": {},
   "outputs": [
    {
     "name": "stdout",
     "output_type": "stream",
     "text": [
      "['a', 4, 'one', 'last element']\n"
     ]
    }
   ],
   "source": [
    "# assign a new value to index -1, i.e. replace float 3.4 with string \"last element\"\n",
    "list_one[-1] = 'last element'\n",
    "print(list_one)"
   ]
  },
  {
   "cell_type": "markdown",
   "metadata": {},
   "source": [
    "We can also assign slices:"
   ]
  },
  {
   "cell_type": "code",
   "execution_count": 58,
   "metadata": {},
   "outputs": [
    {
     "name": "stdout",
     "output_type": "stream",
     "text": [
      "['a', 2, 3, 'last element']\n"
     ]
    }
   ],
   "source": [
    "list_one[1:3] = [2,3]\n",
    "print(list_one)"
   ]
  },
  {
   "cell_type": "markdown",
   "metadata": {},
   "source": [
    "### Copying lists \n",
    "\n",
    "Let’s attempt to copy a list referenced by variable `a` to another variable `b`:"
   ]
  },
  {
   "cell_type": "code",
   "execution_count": 59,
   "metadata": {},
   "outputs": [
    {
     "name": "stdout",
     "output_type": "stream",
     "text": [
      "['a', 1, 'c']\n",
      "['a', 1, 'c']\n"
     ]
    }
   ],
   "source": [
    "a = ['a','b', 'c'] # define list a\n",
    "b = a # attempt to copy a to b\n",
    "b[1] = 1 # changing an element in list b\n",
    "print(b) # confirming the change was made to the second element in list b\n",
    "print(a) # but HOLD UP! we also modified the second element in list a ! "
   ]
  },
  {
   "cell_type": "markdown",
   "metadata": {},
   "source": [
    "This is very interesting - we modified list b, but that caused list a to change. \n",
    "\n",
    "Let's try another way to copy the list: "
   ]
  },
  {
   "cell_type": "code",
   "execution_count": 60,
   "metadata": {},
   "outputs": [
    {
     "name": "stdout",
     "output_type": "stream",
     "text": [
      "a:  ['a', 1, 'c']\n",
      "b:  ['a', 1, 'c']\n",
      "c:  ['a', 'b', 'c']\n",
      "d:  ['a', 'b', 'c']\n"
     ]
    }
   ],
   "source": [
    "a = ['a', 'b', 'c']\n",
    "b = a #first attempt to copy a to b\n",
    "c = list(a) # second attempt to copy a to c using the list constructor\n",
    "d = a[:]\n",
    "\n",
    "b[1] = 1 # now we want to change an element in b\n",
    "\n",
    "print(\"a: \", a) # list 'a' got modified (unintentionally).\n",
    "print(\"b: \", b) # list 'b' of course got modified (intentionally).\n",
    "print(\"c: \", c) # list 'c' got preserved, success!\n",
    "print(\"d: \", d) # list 'd' got preserved, another success!"
   ]
  },
  {
   "cell_type": "markdown",
   "metadata": {},
   "source": [
    "What do we observe?  A list can be copied with b = list(a) or b = a[:]. \n",
    "The second option is a slice including all elements! Why does python work this way? "
   ]
  },
  {
   "cell_type": "markdown",
   "metadata": {},
   "source": [
    "### Python's data model\n",
    "\n",
    "Why do we observe the behavior in the previous example? \n",
    "* **Variables in Python are references to objects in memory.**\n",
    "* **Assignment with the = operator sets the variable to refer to an object.**\n",
    "\n",
    "Here is a simple example:"
   ]
  },
  {
   "cell_type": "code",
   "execution_count": 61,
   "metadata": {},
   "outputs": [
    {
     "name": "stdout",
     "output_type": "stream",
     "text": [
      "[1, 'modified', 3, 4]\n",
      "[1, 'modified', 3, 4]\n"
     ]
    }
   ],
   "source": [
    "a = [1,2,3,4]\n",
    "b = a\n",
    "b[1] = 'modified'\n",
    "print(a)\n",
    "print(b)"
   ]
  },
  {
   "cell_type": "markdown",
   "metadata": {},
   "source": [
    "Notice that list `a` and list `b` are identical - In this example, we assigned `a` to `b` via `b = a`. \n",
    "\n",
    "**This did not copy the data**, it only copied the **reference to the list object in memory**. \n",
    "\n",
    "Thus, modifying the list through object `b` also changes the data that you will see when accessing object `a`. \n",
    "\n",
    "We can inspect the memory addresses in Python with the `id` command:"
   ]
  },
  {
   "cell_type": "code",
   "execution_count": 62,
   "metadata": {},
   "outputs": [
    {
     "name": "stdout",
     "output_type": "stream",
     "text": [
      "id(a):  4361720448\n",
      "id(b):  4361720448\n"
     ]
    }
   ],
   "source": [
    "print(\"id(a): \", id(a)) # These two variables...\n",
    "print(\"id(b): \", id(b)) # ...both refer to the same object.\n"
   ]
  },
  {
   "cell_type": "markdown",
   "metadata": {},
   "source": [
    "Those numbers refer to memory addresses on the computer. "
   ]
  },
  {
   "cell_type": "markdown",
   "metadata": {},
   "source": [
    "### Copying objects and data\n",
    "\n",
    "So how do we copy objects and data generally, without having to call the appropriate constructor every time?\n",
    "\n",
    "The `copy` function in the `copy` module is a generic way to copy a list:"
   ]
  },
  {
   "cell_type": "code",
   "execution_count": 63,
   "metadata": {},
   "outputs": [],
   "source": [
    "import copy"
   ]
  },
  {
   "cell_type": "code",
   "execution_count": 64,
   "metadata": {},
   "outputs": [
    {
     "name": "stdout",
     "output_type": "stream",
     "text": [
      "[1, 2, 3, 'xyz']\n",
      "[1, 2, 3, 'abc']\n"
     ]
    }
   ],
   "source": [
    "a = [1,2,3,'abc']\n",
    "b = copy.copy(a)\n",
    "b[3] = 'xyz'\n",
    "print(b) # Variable b has its last element replaced.\n",
    "print(a) # Variabla a is unchanged, like we hoped."
   ]
  },
  {
   "cell_type": "markdown",
   "metadata": {},
   "source": [
    "Elements in a list (the individual items) are also references to memory location. For example if your list contains a list, this will happen when using copy.copy():"
   ]
  },
  {
   "cell_type": "code",
   "execution_count": 65,
   "metadata": {},
   "outputs": [
    {
     "name": "stdout",
     "output_type": "stream",
     "text": [
      "[2, 'string', [5555, 2, 3]]\n",
      "[2, 'string', [5555, 2, 3]]\n"
     ]
    }
   ],
   "source": [
    "sublist = [1,2,3]\n",
    "a = [2, 'string', sublist]\n",
    "b = copy.copy(a)\n",
    "b[2][0] = 5555\n",
    "print(b) # We modified the nested list...\n",
    "print(a) # ...which also affected the contents of variable 'a'."
   ]
  },
  {
   "cell_type": "markdown",
   "metadata": {},
   "source": [
    "What just happened? The element for the sub-list [5555, 2, 3] is actually a memory reference - when we copy the outer list, only references for the contained objects are copied. Therefore, modifying the copy `b` modifies the original `a`. Thus, we may need the function `copy.deepcopy()`:"
   ]
  },
  {
   "cell_type": "code",
   "execution_count": 66,
   "metadata": {},
   "outputs": [
    {
     "name": "stdout",
     "output_type": "stream",
     "text": [
      "[2, 'string', [5555, 2, 3]]\n",
      "[2, 'string', [1, 2, 3]]\n"
     ]
    }
   ],
   "source": [
    "sublist = [1,2,3]\n",
    "a = [2, 'string', sublist]\n",
    "b = copy.deepcopy(a)\n",
    "b[2][0] = 5555\n",
    "print(b) # Variable b had its third element modified.\n",
    "print(a) # But we can observe here that variable a is unchanged"
   ]
  },
  {
   "cell_type": "markdown",
   "metadata": {},
   "source": [
    "### Sorting lists \n",
    "\n",
    "Sorting lists in python is easy and can be very useful for lots of reasons."
   ]
  },
  {
   "cell_type": "code",
   "execution_count": 67,
   "metadata": {},
   "outputs": [
    {
     "name": "stdout",
     "output_type": "stream",
     "text": [
      "[0, 1, 2, 3, 4, 5, 6, 7, 8, 9]\n"
     ]
    }
   ],
   "source": [
    "my_list = list(range(10))\n",
    "print(my_list)"
   ]
  },
  {
   "cell_type": "code",
   "execution_count": 68,
   "metadata": {},
   "outputs": [
    {
     "name": "stdout",
     "output_type": "stream",
     "text": [
      "[5, 3, 0, 1, 8, 9, 6, 7, 4, 2]\n"
     ]
    }
   ],
   "source": [
    "import random\n",
    "random.shuffle(my_list)\n",
    "print(my_list)"
   ]
  },
  {
   "cell_type": "markdown",
   "metadata": {},
   "source": [
    "The command `random.shuffle` sorts the list in place, meaning the original list is modified. If we want to create a new list that is sorted, we can use the `sorted` function:"
   ]
  },
  {
   "cell_type": "code",
   "execution_count": 69,
   "metadata": {},
   "outputs": [
    {
     "name": "stdout",
     "output_type": "stream",
     "text": [
      "[0, 1, 2, 3, 4, 5, 6, 7, 8, 9]\n"
     ]
    }
   ],
   "source": [
    "my_sorted_list = sorted(my_list)\n",
    "print(my_sorted_list)"
   ]
  },
  {
   "cell_type": "markdown",
   "metadata": {},
   "source": [
    "we can also sort in place using the `.sort()` function:"
   ]
  },
  {
   "cell_type": "code",
   "execution_count": 70,
   "metadata": {},
   "outputs": [
    {
     "name": "stdout",
     "output_type": "stream",
     "text": [
      "[0, 1, 2, 3, 4, 5, 6, 7, 8, 9]\n"
     ]
    }
   ],
   "source": [
    "my_list.sort()\n",
    "print(my_list)"
   ]
  },
  {
   "cell_type": "markdown",
   "metadata": {},
   "source": [
    "#### List operations\n",
    "\n",
    "The following is a summary of operations that can be performed on lists: \n",
    "\n",
    "**`x` refers to an element, `s` refers to a list, and `n` refers to any integer**\n",
    "\n",
    "* `x in s`: returns `True` if an item of `s` is equal to `x`, else `False`\n",
    "* `x not in s`: returns False if an item of `s` is equal to `x`, else `True`\n",
    "* `s + t`, where `t` is another list: the concatenation of `s` and `t`.\n",
    "* `s * n` or `n * s`: equivalent to adding `s` to itself `n` times\n",
    "* `s[i]`: `i`th item of `s`, with start index of 0\n",
    "* `s[i:j]`: slice of `s` from index `i` to `j`\n",
    "* `s[i:j:k]`: slice of `s` from index `i` to index `j` with step `k`\n",
    "* `len(s)`: length of `s`\n",
    "* `min(s)`: smallest item of `s`\n",
    "* `max(s)`: largest item of `s`\n",
    "* `s.index(x)`: index of the first occurrence of `x` in `s`\n",
    "* `s.count(x)`: total number of occurrences of `x` in `s`\n",
    "* `s[i] = x`: assign element with index `i` in list `s` a new value of `x`\n",
    "\n",
    "In the examples below, **`x` refers to an element, `s` refers to a list, and `t` refers to another list**\n",
    "\n",
    "* `s[i:j] = t`: slice of `s` from `i` to `j` is replaced by the contents of another list `t`\n",
    "* `del s[i:j]`: remove elements between index `i` and `j` from `s`\n",
    "* `s[i:j] = []`: remove elements between index `i` and `j` from `s`\n",
    "* `s[i:j:k] = t`: the elements of `s[i:j:k]` are replaced by those of another list `t`\n",
    "* `del s[i:j:k]`: removes the elements of `s[i:j:k]` from the list `s`\n",
    "* `s.append(x)`: appends `x` to the end of the existing list `s`\n",
    "* `s.clear()`: removes all items from `s` (equivalent to `del s[:]`)\n",
    "* `s.copy()`: creates a shallow copy of `s` (equivalent to `s[:]`)\n",
    "* `s.extend(t)` or `s += t`: extends `s` with the contents of t (for the most part the same as `s[len(s):len(s)] = t`)\n",
    "* `s *= n`: updates `s` with its contents repeated `n` times\n",
    "* `s.insert(i, x)`: inserts `x` into `s` at the index given by `i` (equivalent to `s[i:i] = [x]`)\n",
    "* `s.pop([i])`: retrieves the item at `i` and also removes it from `s`\n",
    "* `s.remove(x)`: remove the first item from `s` where `s[i] == x`\n",
    "* `s.reverse()`: reverses the items of `s` in place\n",
    "* `s.sort()`: sorts the items of `s` in place"
   ]
  },
  {
   "cell_type": "markdown",
   "metadata": {},
   "source": [
    "**Lists** are the most important and common data type in Python, so understanding their construction and manipulation is important. \n",
    "\n",
    "The following are helpful resources about lists:\n",
    "* [Python tutorial on lists](https://docs.python.org/3/tutorial/introduction.html#lists)\n",
    "* [Python reference section on sequences](https://docs.python.org/3/library/stdtypes.html#sequence-types-list-tuple-range)\n",
    "* Python documentation, accessible by executing the command `help(list)`"
   ]
  },
  {
   "cell_type": "code",
   "execution_count": 71,
   "metadata": {},
   "outputs": [
    {
     "name": "stdout",
     "output_type": "stream",
     "text": [
      "Help on class list in module builtins:\n",
      "\n",
      "class list(object)\n",
      " |  list(iterable=(), /)\n",
      " |\n",
      " |  Built-in mutable sequence.\n",
      " |\n",
      " |  If no argument is given, the constructor creates a new empty list.\n",
      " |  The argument must be an iterable if specified.\n",
      " |\n",
      " |  Methods defined here:\n",
      " |\n",
      " |  __add__(self, value, /)\n",
      " |      Return self+value.\n",
      " |\n",
      " |  __contains__(self, key, /)\n",
      " |      Return bool(key in self).\n",
      " |\n",
      " |  __delitem__(self, key, /)\n",
      " |      Delete self[key].\n",
      " |\n",
      " |  __eq__(self, value, /)\n",
      " |      Return self==value.\n",
      " |\n",
      " |  __ge__(self, value, /)\n",
      " |      Return self>=value.\n",
      " |\n",
      " |  __getattribute__(self, name, /)\n",
      " |      Return getattr(self, name).\n",
      " |\n",
      " |  __getitem__(self, index, /)\n",
      " |      Return self[index].\n",
      " |\n",
      " |  __gt__(self, value, /)\n",
      " |      Return self>value.\n",
      " |\n",
      " |  __iadd__(self, value, /)\n",
      " |      Implement self+=value.\n",
      " |\n",
      " |  __imul__(self, value, /)\n",
      " |      Implement self*=value.\n",
      " |\n",
      " |  __init__(self, /, *args, **kwargs)\n",
      " |      Initialize self.  See help(type(self)) for accurate signature.\n",
      " |\n",
      " |  __iter__(self, /)\n",
      " |      Implement iter(self).\n",
      " |\n",
      " |  __le__(self, value, /)\n",
      " |      Return self<=value.\n",
      " |\n",
      " |  __len__(self, /)\n",
      " |      Return len(self).\n",
      " |\n",
      " |  __lt__(self, value, /)\n",
      " |      Return self<value.\n",
      " |\n",
      " |  __mul__(self, value, /)\n",
      " |      Return self*value.\n",
      " |\n",
      " |  __ne__(self, value, /)\n",
      " |      Return self!=value.\n",
      " |\n",
      " |  __repr__(self, /)\n",
      " |      Return repr(self).\n",
      " |\n",
      " |  __reversed__(self, /)\n",
      " |      Return a reverse iterator over the list.\n",
      " |\n",
      " |  __rmul__(self, value, /)\n",
      " |      Return value*self.\n",
      " |\n",
      " |  __setitem__(self, key, value, /)\n",
      " |      Set self[key] to value.\n",
      " |\n",
      " |  __sizeof__(self, /)\n",
      " |      Return the size of the list in memory, in bytes.\n",
      " |\n",
      " |  append(self, object, /)\n",
      " |      Append object to the end of the list.\n",
      " |\n",
      " |  clear(self, /)\n",
      " |      Remove all items from list.\n",
      " |\n",
      " |  copy(self, /)\n",
      " |      Return a shallow copy of the list.\n",
      " |\n",
      " |  count(self, value, /)\n",
      " |      Return number of occurrences of value.\n",
      " |\n",
      " |  extend(self, iterable, /)\n",
      " |      Extend list by appending elements from the iterable.\n",
      " |\n",
      " |  index(self, value, start=0, stop=9223372036854775807, /)\n",
      " |      Return first index of value.\n",
      " |\n",
      " |      Raises ValueError if the value is not present.\n",
      " |\n",
      " |  insert(self, index, object, /)\n",
      " |      Insert object before index.\n",
      " |\n",
      " |  pop(self, index=-1, /)\n",
      " |      Remove and return item at index (default last).\n",
      " |\n",
      " |      Raises IndexError if list is empty or index is out of range.\n",
      " |\n",
      " |  remove(self, value, /)\n",
      " |      Remove first occurrence of value.\n",
      " |\n",
      " |      Raises ValueError if the value is not present.\n",
      " |\n",
      " |  reverse(self, /)\n",
      " |      Reverse *IN PLACE*.\n",
      " |\n",
      " |  sort(self, /, *, key=None, reverse=False)\n",
      " |      Sort the list in ascending order and return None.\n",
      " |\n",
      " |      The sort is in-place (i.e. the list itself is modified) and stable (i.e. the\n",
      " |      order of two equal elements is maintained).\n",
      " |\n",
      " |      If a key function is given, apply it once to each list item and sort them,\n",
      " |      ascending or descending, according to their function values.\n",
      " |\n",
      " |      The reverse flag can be set to sort in descending order.\n",
      " |\n",
      " |  ----------------------------------------------------------------------\n",
      " |  Class methods defined here:\n",
      " |\n",
      " |  __class_getitem__(...)\n",
      " |      See PEP 585\n",
      " |\n",
      " |  ----------------------------------------------------------------------\n",
      " |  Static methods defined here:\n",
      " |\n",
      " |  __new__(*args, **kwargs)\n",
      " |      Create and return a new object.  See help(type) for accurate signature.\n",
      " |\n",
      " |  ----------------------------------------------------------------------\n",
      " |  Data and other attributes defined here:\n",
      " |\n",
      " |  __hash__ = None\n",
      "\n"
     ]
    }
   ],
   "source": [
    "help(list)"
   ]
  },
  {
   "cell_type": "markdown",
   "metadata": {},
   "source": [
    "## For loops and while loops\n",
    "\n",
    "**Loops** are another foundational concept in python programming. They are useful for repeating actions. \n",
    "\n",
    "There are two types of loops: `for` and `while`.\n",
    "\n",
    "Let's say we want to compute the square of each integer between 1 and 8. We can use a `for` loop to make this much more efficient than computing each square individually:"
   ]
  },
  {
   "cell_type": "code",
   "execution_count": 72,
   "metadata": {},
   "outputs": [
    {
     "name": "stdout",
     "output_type": "stream",
     "text": [
      "0\n",
      "1\n",
      "4\n",
      "9\n",
      "16\n",
      "25\n",
      "36\n",
      "49\n",
      "64\n"
     ]
    }
   ],
   "source": [
    "for i in range(9):\n",
    "    print(i**2)"
   ]
  },
  {
   "cell_type": "markdown",
   "metadata": {},
   "source": [
    "the syntax `for i in range(n):` will execute the indented code `print (i**2)` a total of `n` times, with `i = 0, 1, 2, ... n-1`\n",
    "\n",
    "#### An important note on python syntax\n",
    "\n",
    "Indents in python code matter, unlike in C, C++, or Java. Indents are actually a form of syntax in python. \n",
    "\n",
    "Python requires indenting loops and conditionals (we will get to these a bit later). Indenting can be achieved using either **one <kbd>TAB</kbd>** or **four <kbd>SPACEBAR</kbd>** keystrokes. There is a lively debate over which of these is preferred. Text editors now make it easy to switch between tabs an spaces - the important thing is to remain consistent. "
   ]
  },
  {
   "cell_type": "markdown",
   "metadata": {},
   "source": [
    "### The `range()` function\n",
    "\n",
    "Let's say you want to make a list of numbers - the `range()` function is a handy and convenient way to do that. We can convert a `range()` object to a python list by using the `list()` constructor: "
   ]
  },
  {
   "cell_type": "code",
   "execution_count": 73,
   "metadata": {},
   "outputs": [
    {
     "name": "stdout",
     "output_type": "stream",
     "text": [
      "[0, 1, 2, 3, 4, 5, 6, 7]\n"
     ]
    }
   ],
   "source": [
    "# Get a range 0,1,2,...,7\n",
    "print(list(range(8)))"
   ]
  },
  {
   "cell_type": "code",
   "execution_count": 74,
   "metadata": {},
   "outputs": [
    {
     "name": "stdout",
     "output_type": "stream",
     "text": [
      "[5, 6, 7, 8, 9]\n"
     ]
    }
   ],
   "source": [
    "# Get a range from 5 to 9\n",
    "print(list(range(5,10)))"
   ]
  },
  {
   "cell_type": "code",
   "execution_count": 75,
   "metadata": {},
   "outputs": [
    {
     "name": "stdout",
     "output_type": "stream",
     "text": [
      "[4, 8, 12]\n"
     ]
    }
   ],
   "source": [
    "# Get a range from 4 to 16 with a step of 4\n",
    "print(list(range(4,16,4)))"
   ]
  },
  {
   "cell_type": "markdown",
   "metadata": {},
   "source": [
    "### For loops and Lists\n",
    "\n",
    "We can use a for loop to iterate over items in a list:"
   ]
  },
  {
   "cell_type": "code",
   "execution_count": 76,
   "metadata": {},
   "outputs": [
    {
     "name": "stdout",
     "output_type": "stream",
     "text": [
      "1\n",
      "41.99\n",
      "True\n",
      "this is a string\n",
      "['sub', 'list', 'of', 'strings']\n"
     ]
    }
   ],
   "source": [
    "my_list = [1, 41.99, True, \"this is a string\", [\"sub\", \"list\", \"of\", \"strings\"]]\n",
    "for item in my_list:\n",
    "    print(item)"
   ]
  },
  {
   "cell_type": "markdown",
   "metadata": {},
   "source": [
    "#### The `enumerate()` function\n",
    "\n",
    "When iterating through a for loop, if we want to access the index of each item in the list, along with the item, we can use the `enumerate()` function:"
   ]
  },
  {
   "cell_type": "code",
   "execution_count": 77,
   "metadata": {},
   "outputs": [
    {
     "name": "stdout",
     "output_type": "stream",
     "text": [
      "index 0: 1\n",
      "index 1: 41.99\n",
      "index 2: True\n",
      "index 3: this is a string\n",
      "index 4: ['sub', 'list', 'of', 'strings']\n"
     ]
    }
   ],
   "source": [
    "my_list = [1, 41.99, True, \"this is a string\", [\"sub\", \"list\", \"of\", \"strings\"]]\n",
    "for index,item in enumerate(my_list):\n",
    "    print(\"index {}: {}\".format(index, item))"
   ]
  },
  {
   "cell_type": "markdown",
   "metadata": {},
   "source": [
    "### While loops\n",
    "\n",
    "If we don't know how many iterations are needed, we can use a `while` loop: "
   ]
  },
  {
   "cell_type": "code",
   "execution_count": 78,
   "metadata": {},
   "outputs": [
    {
     "name": "stdout",
     "output_type": "stream",
     "text": [
      "4, 16, 256, "
     ]
    }
   ],
   "source": [
    "i = 2\n",
    "while i < 100: # loop body will only execute if conditional statement is True\n",
    "    print(i**2,end=\", \") \n",
    "    i = i**2"
   ]
  },
  {
   "cell_type": "markdown",
   "metadata": {},
   "source": [
    "This loop prints the values of $i^2$ and updates the value of $i$, while i is <100. Notice the loop stops since 256 > 100"
   ]
  },
  {
   "cell_type": "markdown",
   "metadata": {},
   "source": [
    "### The infinite loop\n",
    "\n",
    "Beware the infamous infinite loop! Consider the following example, where the condition will never become false:\n",
    "\n",
    "**NOTE** to stop this, you will have to press <kbd>CTRL</kbd> + <kbd>c</kbd> in the interpreter, or the \"STOP\" button in jupyter lab / notebook"
   ]
  },
  {
   "cell_type": "code",
   "execution_count": 79,
   "metadata": {},
   "outputs": [],
   "source": [
    "# Uncomment the below lines to run, but beware that this code will execute forever unless stopped. \n",
    "# while True:\n",
    "    # print(\"infinite loop\")"
   ]
  },
  {
   "cell_type": "markdown",
   "metadata": {},
   "source": [
    "### Nested loops\n",
    "\n",
    "We can  put loops within loops - these are called 'nested loops'\n",
    "\n",
    "Consider the following example:"
   ]
  },
  {
   "cell_type": "code",
   "execution_count": 80,
   "metadata": {},
   "outputs": [
    {
     "name": "stdout",
     "output_type": "stream",
     "text": [
      " \n",
      "0  \n",
      "0 1  \n",
      "0 1 2  \n",
      "0 1 2 3  \n",
      "0 1 2 3 4  \n",
      "0 1 2 3 4 5  \n",
      "0 1 2 3 4 5 6  \n"
     ]
    }
   ],
   "source": [
    "for i in range (8): # outer loop\n",
    "    for j in range (i): # inner loop\n",
    "        print(j, end = \" \") # inner loop body \n",
    "    print(' ') # outer loop body "
   ]
  },
  {
   "cell_type": "markdown",
   "metadata": {},
   "source": [
    "#### Continue and Break\n",
    "\n",
    "We can exit a loop, or move to the next iteration if desired. \n",
    "\n",
    "* `break` is used to exit the loop immediately, skipping any remaining iterations.\n",
    "* `continue` is used to skip the current iteration and move to the next one."
   ]
  },
  {
   "cell_type": "code",
   "execution_count": 81,
   "metadata": {},
   "outputs": [
    {
     "name": "stdout",
     "output_type": "stream",
     "text": [
      "2 is a prime number\n",
      "3 is a prime number\n",
      "4 equals 2 * 2.0\n",
      "5 is a prime number\n",
      "6 equals 2 * 3.0\n",
      "7 is a prime number\n",
      "8 equals 2 * 4.0\n",
      "9 equals 3 * 3.0\n"
     ]
    }
   ],
   "source": [
    "# Using break to find prime numbers\n",
    "max_n = 10\n",
    "\n",
    "for n in range(2, max_n):\n",
    "    for x in range(2, n):\n",
    "        if n % x == 0: # modulo of n divisible by x is zero\n",
    "            print(n, 'equals', x, '*', n/x)\n",
    "            break\n",
    "    else: # executed if no break in for loop\n",
    "        # loop fell through without finding a factor\n",
    "        print(n, 'is a prime number')\n"
   ]
  },
  {
   "cell_type": "code",
   "execution_count": 82,
   "metadata": {},
   "outputs": [
    {
     "name": "stdout",
     "output_type": "stream",
     "text": [
      "1\n",
      "3\n",
      "5\n",
      "7\n",
      "9\n"
     ]
    }
   ],
   "source": [
    "# Using continue to skip even numbners\n",
    "for num in range(10): \n",
    "    if num % 2 == 0:  # Skip even numbers\n",
    "        continue\n",
    "    print(num)"
   ]
  },
  {
   "cell_type": "markdown",
   "metadata": {},
   "source": [
    "#### An(other) note on loop syntax best practices \n",
    "\n",
    "It is bad practice to define a variable inside of a conditional or loop body and then reference it outside:"
   ]
  },
  {
   "cell_type": "code",
   "execution_count": 83,
   "metadata": {},
   "outputs": [
    {
     "name": "stdout",
     "output_type": "stream",
     "text": [
      "Nick's age is 45\n"
     ]
    }
   ],
   "source": [
    "name = \"Nick\"\n",
    "if name == \"Nick\":\n",
    "    age = 45 # newly created variable \n",
    "\n",
    "print(\"Nick's age is {}\".format(age))"
   ]
  },
  {
   "cell_type": "code",
   "execution_count": 84,
   "metadata": {},
   "outputs": [
    {
     "ename": "NameError",
     "evalue": "name 'id_number' is not defined",
     "output_type": "error",
     "traceback": [
      "\u001b[0;31m---------------------------------------------------------------------------\u001b[0m",
      "\u001b[0;31mNameError\u001b[0m                                 Traceback (most recent call last)",
      "Cell \u001b[0;32mIn[84], line 5\u001b[0m\n\u001b[1;32m      2\u001b[0m \u001b[38;5;28;01mif\u001b[39;00m name \u001b[38;5;241m==\u001b[39m \u001b[38;5;124m\"\u001b[39m\u001b[38;5;124mNick\u001b[39m\u001b[38;5;124m\"\u001b[39m:\n\u001b[1;32m      3\u001b[0m     id_number \u001b[38;5;241m=\u001b[39m \u001b[38;5;241m45\u001b[39m \u001b[38;5;66;03m# also newly created variable\u001b[39;00m\n\u001b[0;32m----> 5\u001b[0m \u001b[38;5;28mprint\u001b[39m(\u001b[38;5;124m\"\u001b[39m\u001b[38;5;132;01m{}\u001b[39;00m\u001b[38;5;124m'\u001b[39m\u001b[38;5;124ms id number is \u001b[39m\u001b[38;5;132;01m{}\u001b[39;00m\u001b[38;5;124m\"\u001b[39m\u001b[38;5;241m.\u001b[39mformat(name, \u001b[43mid_number\u001b[49m))\n\u001b[1;32m      6\u001b[0m \u001b[38;5;66;03m# NameError: name 'id_number' is not defined\u001b[39;00m\n",
      "\u001b[0;31mNameError\u001b[0m: name 'id_number' is not defined"
     ]
    }
   ],
   "source": [
    "name = \"Bob\"\n",
    "if name == \"Nick\":\n",
    "    id_number = 45 # also newly created variable\n",
    "\n",
    "print(\"{}'s id number is {}\".format(name, id_number))\n",
    "# NameError: name 'id_number' is not defined"
   ]
  },
  {
   "cell_type": "markdown",
   "metadata": {},
   "source": [
    "Good practice is to define/initialize variables at the same level they will be used:"
   ]
  },
  {
   "cell_type": "code",
   "execution_count": 85,
   "metadata": {},
   "outputs": [
    {
     "name": "stdout",
     "output_type": "stream",
     "text": [
      "Bob's age is 55\n"
     ]
    }
   ],
   "source": [
    "name = \"Bob\"\n",
    "age = 55 \n",
    "if name == \"Nick\": \n",
    "    age = 45 \n",
    "\n",
    "print(f\"{name}'s age is {age}\")"
   ]
  },
  {
   "cell_type": "markdown",
   "metadata": {},
   "source": [
    "### Tuples\n",
    "\n",
    "Tuples are essentially **immutable** lists, meaning they cannot be modified. Elements in a list can be heterogenous.\n",
    "\n",
    "Use Case: \n",
    "* You have a set of (possibly non-unique or heterogeneous) data that you wish to remain ordered and immutable for the lifetime of the object.\n",
    "* E.g. we may expect that a person’s name should be invariant over the course of a peron’s lifetime, and therefore may choose to represent first and last names via a length-two tuple.\n",
    "\n",
    "#### Tuples are denoted by parantheses: `tup = (1,2,3)`.\n",
    "* Create an empty tuple: `empty_tup = ()`, or equivalently `empty_tup = tuple()`.\n",
    "* Create a tuple with some data: `tup = (42, 3.14, \"abc\")`.\n",
    "\n",
    "Values within tuples can be of any type.\n",
    "\n",
    "#### Properties of Tuples \n",
    "\n",
    "* **Immutability** - The number of items in a tuple, or what those fixed number of items reference, are not allowed to change after creation. Put differently, the size and type signature of a tuple are fixed at the time of creation.\n",
    "* **Order matters**, and is defined at construction time - Since tuples are immutable, their elements are ordered. We can access items via indexing and slicing, similar to lists.\n",
    "\n",
    "#### Similrities with Lists: Indexing, Slicing, and Looping"
   ]
  },
  {
   "cell_type": "code",
   "execution_count": 86,
   "metadata": {},
   "outputs": [
    {
     "name": "stdout",
     "output_type": "stream",
     "text": [
      "2\n",
      "(2, 3)\n"
     ]
    }
   ],
   "source": [
    "my_tuple = (1, 2, 3, 4)\n",
    "print(my_tuple[1]) # Prints the second value\n",
    "print(my_tuple[1:3]) # Prints the second and third values "
   ]
  },
  {
   "cell_type": "markdown",
   "metadata": {},
   "source": [
    "Similar to lists, we can also loop through tuples:"
   ]
  },
  {
   "cell_type": "code",
   "execution_count": 87,
   "metadata": {},
   "outputs": [
    {
     "name": "stdout",
     "output_type": "stream",
     "text": [
      "1\n",
      "2\n",
      "3\n",
      "4\n"
     ]
    }
   ],
   "source": [
    "for element in my_tuple:\n",
    "    print(element)"
   ]
  },
  {
   "cell_type": "markdown",
   "metadata": {},
   "source": [
    "#### Immutability: "
   ]
  },
  {
   "cell_type": "code",
   "execution_count": 88,
   "metadata": {},
   "outputs": [
    {
     "name": "stdout",
     "output_type": "stream",
     "text": [
      "my_list: ['I still', 'am', 'a', 'list']\n"
     ]
    },
    {
     "ename": "TypeError",
     "evalue": "'tuple' object does not support item assignment",
     "output_type": "error",
     "traceback": [
      "\u001b[0;31m---------------------------------------------------------------------------\u001b[0m",
      "\u001b[0;31mTypeError\u001b[0m                                 Traceback (most recent call last)",
      "Cell \u001b[0;32mIn[88], line 8\u001b[0m\n\u001b[1;32m      6\u001b[0m \u001b[38;5;66;03m# Tuples are not mutable (immutable) \u001b[39;00m\n\u001b[1;32m      7\u001b[0m my_tuple \u001b[38;5;241m=\u001b[39m (\u001b[38;5;124m\"\u001b[39m\u001b[38;5;124mI\u001b[39m\u001b[38;5;124m\"\u001b[39m, \u001b[38;5;124m\"\u001b[39m\u001b[38;5;124mam\u001b[39m\u001b[38;5;124m\"\u001b[39m, \u001b[38;5;124m\"\u001b[39m\u001b[38;5;124ma\u001b[39m\u001b[38;5;124m\"\u001b[39m, \u001b[38;5;124m\"\u001b[39m\u001b[38;5;124mtuple\u001b[39m\u001b[38;5;124m\"\u001b[39m)\n\u001b[0;32m----> 8\u001b[0m \u001b[43mmy_tuple\u001b[49m\u001b[43m[\u001b[49m\u001b[38;5;241;43m2\u001b[39;49m\u001b[43m]\u001b[49m \u001b[38;5;241m=\u001b[39m \u001b[38;5;124m\"\u001b[39m\u001b[38;5;124mstill a\u001b[39m\u001b[38;5;124m\"\u001b[39m\n",
      "\u001b[0;31mTypeError\u001b[0m: 'tuple' object does not support item assignment"
     ]
    }
   ],
   "source": [
    "# Lists are mutable\n",
    "my_list = [\"I\", \"am\", \"a\", \"list\"]\n",
    "my_list[0] = \"I still\" # Modifying elements of a list is OK.\n",
    "print(\"my_list:\", my_list) # --> my_list: [\"I still\", \"am\", \"a\", \"list\"].\n",
    "\n",
    "# Tuples are not mutable (immutable) \n",
    "my_tuple = (\"I\", \"am\", \"a\", \"tuple\")\n",
    "my_tuple[2] = \"still a\""
   ]
  },
  {
   "cell_type": "markdown",
   "metadata": {},
   "source": [
    "However, keep in mind that if a tuple contains a list element, that can be modified, since lists ARE mutable: "
   ]
  },
  {
   "cell_type": "code",
   "execution_count": 89,
   "metadata": {},
   "outputs": [
    {
     "name": "stdout",
     "output_type": "stream",
     "text": [
      "('I', 'am', 'a', 'tuple', ['containing', 'a mutable', 'sub', 'list'])\n"
     ]
    }
   ],
   "source": [
    "my_tuple = (\"I\", \"am\", \"a\", \"tuple\", ['containing','a','sub','list'])\n",
    "my_tuple[4][1] = 'a mutable'\n",
    "print(my_tuple)"
   ]
  },
  {
   "cell_type": "markdown",
   "metadata": {},
   "source": [
    "#### Unpacking Tuples\n",
    "\n",
    "Python offers a convenient way to \"unpack\" tuples. \n",
    "\n",
    "In tuple unpacking, we can store the elements of a tuple into multiple variables in one line of code:"
   ]
  },
  {
   "cell_type": "code",
   "execution_count": 90,
   "metadata": {},
   "outputs": [
    {
     "name": "stdout",
     "output_type": "stream",
     "text": [
      "a string 43 99.9\n",
      "a string 43 99.9\n"
     ]
    }
   ],
   "source": [
    "# Define tuple, and unpack into 3 variables \n",
    "my_tuple = (\"a string\", 43, 99.9)\n",
    "my_str , my_int , my_flt = my_tuple\n",
    "\n",
    "print(my_str, my_int, my_flt)\n",
    "\n",
    "# Equivalently:\n",
    "my_str = my_tuple[0]\n",
    "my_int = my_tuple[1]\n",
    "my_flt = my_tuple[2]\n",
    "\n",
    "print(my_str, my_int, my_flt)"
   ]
  },
  {
   "cell_type": "markdown",
   "metadata": {},
   "source": [
    "## Sets \n",
    "\n",
    "In Python, a set is an unordered, mutable collection of **unique items**. \n",
    "Use Case: Checking for Existence of Usernames\n",
    "\n",
    "* We care about existence, and not duplicity;\n",
    "* testing for existence is “fast”. E.g. When a new-user signs up for a service, we want to check if their proposed username is available instantly.\n",
    "\n",
    "Sets are constructed with curly braces: `my_set = {5, 8, \"str\", 49.2}`, or with the `set()` constructor: `my_set = set([1, 2, 3])`\n",
    "\n",
    "We can add items to a set with the `.add()` method"
   ]
  },
  {
   "cell_type": "code",
   "execution_count": 91,
   "metadata": {},
   "outputs": [],
   "source": [
    "# create and update using add method\n",
    "myclasses = set()\n",
    "myclasses.add(\"math\")\n",
    "myclasses.add(\"chemistry\")\n",
    "myclasses.add(\"literature\")\n",
    "\n",
    "# create using {} notation\n",
    "yourclasses = {\"physics\", \"gym\", \"math\"}"
   ]
  },
  {
   "cell_type": "markdown",
   "metadata": {},
   "source": [
    "#### Set Operations\n",
    "\n",
    "We can easily compute the **[Union](https://en.wikipedia.org/wiki/Union_(set_theory))** or the **[Intersection](https://en.wikipedia.org/wiki/Intersection_(set_theory))** between multiple sets, using the `&` and `|` characters respectively:"
   ]
  },
  {
   "cell_type": "code",
   "execution_count": 92,
   "metadata": {},
   "outputs": [
    {
     "name": "stdout",
     "output_type": "stream",
     "text": [
      "{'math'}\n",
      "{'math', 'literature', 'gym', 'chemistry', 'physics'}\n"
     ]
    }
   ],
   "source": [
    "print(myclasses & yourclasses) # Returns only elements in  either myclasses AND yourclasses\n",
    "print(myclasses | yourclasses) # Returns elements found in either myclasses OR yourclasses"
   ]
  },
  {
   "cell_type": "markdown",
   "metadata": {},
   "source": [
    "#### Example: finding unique elements in a list: \n",
    "\n",
    "Say we have a 'shopping basket' with lots of (non unique) items, we can use `set()` to identify the unique elements: "
   ]
  },
  {
   "cell_type": "code",
   "execution_count": 93,
   "metadata": {},
   "outputs": [
    {
     "name": "stdout",
     "output_type": "stream",
     "text": [
      "{'yogurt', 'bread', 'milk', 'granola', 'bananas', 'apples'}\n"
     ]
    }
   ],
   "source": [
    "grocery_list = ['apples', 'bananas', 'yogurt', 'apples','milk','bananas', 'yogurt', 'granola', 'bread']\n",
    "print(set(grocery_list))"
   ]
  },
  {
   "cell_type": "markdown",
   "metadata": {},
   "source": [
    "#### Set Methods\n",
    "\n",
    "we saw that we could append an element to a set with the `.add()` method. There are many other useful operations, such as `.remove()`,`.intersection()`,`.difference()`, etc... Have a look at the [official documentation](https://docs.python.org/3/tutorial/datastructures.html#sets) for a comprehensive list. \n",
    "\n",
    "Or, simply type `help(set)` into the python interpreter. "
   ]
  },
  {
   "cell_type": "markdown",
   "metadata": {},
   "source": [
    "## Dictionaries\n",
    "\n",
    "Dictionaries relate a `key` to a `value`. \n",
    "\n",
    "Think of a real-world dictionary of word definitions. **They unique `key` is a word, the `value` associated with the key is the definition of the word**. \n",
    "\n",
    "In Python, this is represented with the built-in `dict` or Dictionary type. \n",
    "\n",
    "They are commonly called 'maps', 'hashes', 'key-value pairs', and ['associative arrays'](https://en.wikipedia.org/wiki/Associative_array), in other programming languages and in mathematics. \n",
    "\n",
    "#### Example use case: Phone book / cell phone contacts: \n",
    "\n",
    "You want to repeatedly “look up” values that are associated with identifiers. E.g. your contacts list, which might pair a name (the `key`) with a phone-number (the `value`). Want to look up a friends phone number? Just type their name (the `key`) and you get their phone number (the `value`) instantly.\n",
    "\n",
    "##### Dictionary Syntax: \n",
    "* Dictionaries can be created using curly braces `{}`, or with the `dict()` constructor:\n",
    "* Create an empty dictionary: `empty_dict = {}`, or equivalently, `empty_dict = dict{}`\n",
    "* Create a dictionary with data: `emails={'aakash':'aaahamed@calpoly.edu', 'andrew':'ajnisbet@gmail.com'}`\n",
    "\n",
    "**Keys** must be immutable - e.g. numbers, strings, or tuples \n",
    "\n",
    "**Values** can be any python data type - e.g. lists, strings, or even other dictionaries\n",
    "\n",
    "**Access** we can access values associated with a key with square brackets: `value = dictionary[key]`"
   ]
  },
  {
   "cell_type": "code",
   "execution_count": 94,
   "metadata": {},
   "outputs": [
    {
     "name": "stdout",
     "output_type": "stream",
     "text": [
      "{'aakash': 'aaahamed@calpoly.edu', 'andrew': 'andrew@ajnisbet.com'}\n"
     ]
    }
   ],
   "source": [
    "# One example to initialize and populate a dictionary\n",
    "emails={}\n",
    "emails['aakash'] = 'aaahamed@calpoly.edu'\n",
    "emails['andrew'] = 'andrew@ajnisbet.com'\n",
    "print(emails)"
   ]
  },
  {
   "cell_type": "code",
   "execution_count": 95,
   "metadata": {},
   "outputs": [
    {
     "name": "stdout",
     "output_type": "stream",
     "text": [
      "{'aakash': 'aaahamed@calpoly.edu', 'andrew': 'ajnisbet@gmail.com'}\n"
     ]
    }
   ],
   "source": [
    "# Another equivalent example to initialize a dictionary\n",
    "emails={'aakash':'aaahamed@calpoly.edu', 'andrew':'ajnisbet@gmail.com'}\n",
    "print(emails)"
   ]
  },
  {
   "cell_type": "code",
   "execution_count": 96,
   "metadata": {},
   "outputs": [
    {
     "name": "stdout",
     "output_type": "stream",
     "text": [
      "{'aakash': 'aaahamed@calpoly.edu', 'andrew': 'ajnisbet@gmail.com'}\n"
     ]
    }
   ],
   "source": [
    "# Another equivalent example to initialize and populate a dictionary\n",
    "emails=dict()\n",
    "emails['aakash'] = 'aaahamed@calpoly.edu'\n",
    "emails['andrew'] = 'ajnisbet@gmail.com'\n",
    "print(emails)"
   ]
  },
  {
   "cell_type": "markdown",
   "metadata": {},
   "source": [
    "We can easily access a single element of a dictionary by using bracket notation, and placing the key inside the brackets:"
   ]
  },
  {
   "cell_type": "code",
   "execution_count": 97,
   "metadata": {},
   "outputs": [
    {
     "data": {
      "text/plain": [
       "'ajnisbet@gmail.com'"
      ]
     },
     "execution_count": 97,
     "metadata": {},
     "output_type": "execute_result"
    }
   ],
   "source": [
    "emails['andrew']"
   ]
  },
  {
   "cell_type": "markdown",
   "metadata": {},
   "source": [
    "Equivalently, we can access a value using the `.get(key)` syntax:"
   ]
  },
  {
   "cell_type": "code",
   "execution_count": 98,
   "metadata": {},
   "outputs": [
    {
     "data": {
      "text/plain": [
       "'ajnisbet@gmail.com'"
      ]
     },
     "execution_count": 98,
     "metadata": {},
     "output_type": "execute_result"
    }
   ],
   "source": [
    "emails.get('andrew')"
   ]
  },
  {
   "cell_type": "markdown",
   "metadata": {},
   "source": [
    "If the key is not contained within our `dict`, we receive a `KeyError`"
   ]
  },
  {
   "cell_type": "code",
   "execution_count": 99,
   "metadata": {},
   "outputs": [
    {
     "ename": "KeyError",
     "evalue": "'payman'",
     "output_type": "error",
     "traceback": [
      "\u001b[0;31m---------------------------------------------------------------------------\u001b[0m",
      "\u001b[0;31mKeyError\u001b[0m                                  Traceback (most recent call last)",
      "Cell \u001b[0;32mIn[99], line 1\u001b[0m\n\u001b[0;32m----> 1\u001b[0m \u001b[43memails\u001b[49m\u001b[43m[\u001b[49m\u001b[38;5;124;43m'\u001b[39;49m\u001b[38;5;124;43mpayman\u001b[39;49m\u001b[38;5;124;43m'\u001b[39;49m\u001b[43m]\u001b[49m\n",
      "\u001b[0;31mKeyError\u001b[0m: 'payman'"
     ]
    }
   ],
   "source": [
    "emails['payman']"
   ]
  },
  {
   "cell_type": "markdown",
   "metadata": {},
   "source": [
    "Let's walk through a more comprehensive example to illustrate some of the usefulness of dictionaries:"
   ]
  },
  {
   "cell_type": "code",
   "execution_count": 100,
   "metadata": {},
   "outputs": [
    {
     "name": "stdout",
     "output_type": "stream",
     "text": [
      "{'Fargo': 1996, 'Fellowship of the Ring': 2001, 'The Departed': 2006, 'Godfather Part 1': 1972, 'Dune': 2021, 'Monty Python and the Holy Grail': 1975, '2001 a Space Odyssey': 1968, 'A Clockwork Orange': 1972}\n"
     ]
    }
   ],
   "source": [
    "# Initialize an empty dictionary\n",
    "movie_years = {} # Equivalently: movie_years = dict()\n",
    "# Populate dictionary with movie names (keys) and release years (values) \n",
    "movie_years[\"Fargo\"] = 1996\n",
    "movie_years[\"Fellowship of the Ring\"] = 2001\n",
    "movie_years[\"The Departed\"] = 2006\n",
    "movie_years[\"Godfather Part 1\"] = 1972\n",
    "movie_years[\"Dune\"] = 2021\n",
    "movie_years[\"Monty Python and the Holy Grail\"] = 1975\n",
    "movie_years[\"2001 a Space Odyssey\"] = 1968\n",
    "movie_years[\"A Clockwork Orange\"] = 1972\n",
    "print(movie_years)"
   ]
  },
  {
   "cell_type": "markdown",
   "metadata": {},
   "source": [
    "We can get determine the number of keys in the dictionary with the `len()` function: "
   ]
  },
  {
   "cell_type": "code",
   "execution_count": 101,
   "metadata": {},
   "outputs": [
    {
     "data": {
      "text/plain": [
       "8"
      ]
     },
     "execution_count": 101,
     "metadata": {},
     "output_type": "execute_result"
    }
   ],
   "source": [
    "len(movie_years)"
   ]
  },
  {
   "cell_type": "markdown",
   "metadata": {},
   "source": [
    "**Dicts are mutable** - we can change the value associated with a key: "
   ]
  },
  {
   "cell_type": "code",
   "execution_count": 102,
   "metadata": {},
   "outputs": [
    {
     "name": "stdout",
     "output_type": "stream",
     "text": [
      "{'Fargo': 2008, 'Fellowship of the Ring': 2001, 'The Departed': 2006, 'Godfather Part 1': 1972, 'Dune': 2021, 'Monty Python and the Holy Grail': 1975, '2001 a Space Odyssey': 1968, 'A Clockwork Orange': 1972}\n",
      "----------------------------------------------------------------------------------------------------\n",
      "{'Fargo': 1996, 'Fellowship of the Ring': 2001, 'The Departed': 2006, 'Godfather Part 1': 1972, 'Dune': 2021, 'Monty Python and the Holy Grail': 1975, '2001 a Space Odyssey': 1968, 'A Clockwork Orange': 1972}\n"
     ]
    }
   ],
   "source": [
    "movie_years[\"Fargo\"] = 2008\n",
    "print(movie_years)\n",
    "print(\"-----\"*20)\n",
    "movie_years[\"Fargo\"] = 1996\n",
    "print(movie_years)"
   ]
  },
  {
   "cell_type": "markdown",
   "metadata": {},
   "source": [
    "**Dicts are mutable** - we can also delete a key:value pair if desired by using the `del` command and supplying the dict `key` to be deleted: "
   ]
  },
  {
   "cell_type": "code",
   "execution_count": 103,
   "metadata": {},
   "outputs": [
    {
     "name": "stdout",
     "output_type": "stream",
     "text": [
      "{'Fargo': 1996, 'Fellowship of the Ring': 2001, 'The Departed': 2006, 'Godfather Part 1': 1972, 'Dune': 2021, 'Monty Python and the Holy Grail': 1975, '2001 a Space Odyssey': 1968}\n"
     ]
    }
   ],
   "source": [
    "del movie_years[\"A Clockwork Orange\"]\n",
    "print(movie_years)"
   ]
  },
  {
   "cell_type": "markdown",
   "metadata": {},
   "source": [
    "#### Accessing Keys and Values\n",
    "\n",
    "We can access the dictionary keys and values as a list if desired using the following syntax: "
   ]
  },
  {
   "cell_type": "code",
   "execution_count": 104,
   "metadata": {},
   "outputs": [
    {
     "name": "stdout",
     "output_type": "stream",
     "text": [
      "dict_keys(['Fargo', 'Fellowship of the Ring', 'The Departed', 'Godfather Part 1', 'Dune', 'Monty Python and the Holy Grail', '2001 a Space Odyssey'])\n",
      "dict_values([1996, 2001, 2006, 1972, 2021, 1975, 1968])\n"
     ]
    }
   ],
   "source": [
    "names = movie_years.keys()\n",
    "print(names)\n",
    "years = movie_years.values()\n",
    "print(years)"
   ]
  },
  {
   "cell_type": "markdown",
   "metadata": {},
   "source": [
    "It's often convenient to convert these to python lists by using the list constructor:"
   ]
  },
  {
   "cell_type": "code",
   "execution_count": 105,
   "metadata": {},
   "outputs": [
    {
     "name": "stdout",
     "output_type": "stream",
     "text": [
      "['Fargo', 'Fellowship of the Ring', 'The Departed', 'Godfather Part 1', 'Dune', 'Monty Python and the Holy Grail', '2001 a Space Odyssey']\n",
      "<class 'list'>\n",
      "[1996, 2001, 2006, 1972, 2021, 1975, 1968]\n",
      "<class 'list'>\n"
     ]
    }
   ],
   "source": [
    "names = list(movie_years.keys())\n",
    "print(names)\n",
    "print(type(names))\n",
    "years = list(movie_years.values())\n",
    "print(years)\n",
    "print(type(years))"
   ]
  },
  {
   "cell_type": "markdown",
   "metadata": {},
   "source": [
    "If we have two lists of the same length, and want to create a dictionary, using one list as keys, and the other list as values, we can use the `zip()` function within the `dict()` constructor to achieve this. "
   ]
  },
  {
   "cell_type": "code",
   "execution_count": 106,
   "metadata": {},
   "outputs": [
    {
     "name": "stdout",
     "output_type": "stream",
     "text": [
      "{'Fargo': 1996, 'Fellowship of the Ring': 2001, 'The Departed': 2006, 'Godfather Part 1': 1972, 'Dune': 2021, 'Monty Python and the Holy Grail': 1975, '2001 a Space Odyssey': 1968}\n"
     ]
    }
   ],
   "source": [
    "another_movie_year_dict = dict(zip(names,years))\n",
    "print(another_movie_year_dict)"
   ]
  },
  {
   "cell_type": "markdown",
   "metadata": {},
   "source": [
    "#### Looping Through Dictionaries \n",
    "\n",
    "We can loop through the keys of a dictionary, similar to how we can loop through the elements of a list: "
   ]
  },
  {
   "cell_type": "code",
   "execution_count": 107,
   "metadata": {},
   "outputs": [
    {
     "name": "stdout",
     "output_type": "stream",
     "text": [
      "Fargo\n",
      "Fellowship of the Ring\n",
      "The Departed\n",
      "Godfather Part 1\n",
      "Dune\n",
      "Monty Python and the Holy Grail\n",
      "2001 a Space Odyssey\n"
     ]
    }
   ],
   "source": [
    "for movie in movie_years:\n",
    "    print(movie)"
   ]
  },
  {
   "cell_type": "markdown",
   "metadata": {},
   "source": [
    "We can also loop through the values: "
   ]
  },
  {
   "cell_type": "code",
   "execution_count": 108,
   "metadata": {},
   "outputs": [
    {
     "name": "stdout",
     "output_type": "stream",
     "text": [
      "1996\n",
      "2001\n",
      "2006\n",
      "1972\n",
      "2021\n",
      "1975\n",
      "1968\n"
     ]
    }
   ],
   "source": [
    "for year in movie_years.values():\n",
    "    print(year)"
   ]
  },
  {
   "cell_type": "markdown",
   "metadata": {},
   "source": [
    "If we want to loop through both the keys and values, we can use the `.items()` syntax:"
   ]
  },
  {
   "cell_type": "code",
   "execution_count": 109,
   "metadata": {},
   "outputs": [
    {
     "name": "stdout",
     "output_type": "stream",
     "text": [
      "Fargo was released in 1996\n",
      "Fellowship of the Ring was released in 2001\n",
      "The Departed was released in 2006\n",
      "Godfather Part 1 was released in 1972\n",
      "Dune was released in 2021\n",
      "Monty Python and the Holy Grail was released in 1975\n",
      "2001 a Space Odyssey was released in 1968\n"
     ]
    }
   ],
   "source": [
    "for key,value in movie_years.items():\n",
    "    print(f'{key} was released in {value}')"
   ]
  },
  {
   "cell_type": "markdown",
   "metadata": {},
   "source": [
    "#### Dictionaries are Unordered\n",
    "\n",
    "**There is no order in a python dictionary**. When looping through keys, values, or both, there is no guarantee that items will appear in any given order. \n",
    "\n",
    "For example: if you observe a particular ordering when iterating over a fixed dictionary in a python interpreter, this ordering is not guaranteed to persist when the same dictionary is created in a new session."
   ]
  },
  {
   "cell_type": "markdown",
   "metadata": {},
   "source": [
    "#### Saving and Loading Dicts\n",
    "\n",
    "It is often convenient to write and read dictionaries. This can be achieved easily using the `json` module (more on modules later). `.json` is also a file format that mirrors dictionary format. "
   ]
  },
  {
   "cell_type": "code",
   "execution_count": 110,
   "metadata": {},
   "outputs": [],
   "source": [
    "import json\n",
    "\n",
    "with open('movie_years.json', 'w') as fp:\n",
    "    json.dump(movie_years, fp)\n"
   ]
  },
  {
   "cell_type": "markdown",
   "metadata": {},
   "source": [
    "Notice that a file with the name `movie_years.json` was written to the directory where this command executed.\n",
    "\n",
    "It is equally easy to load the file we wrote as a dictionary: "
   ]
  },
  {
   "cell_type": "code",
   "execution_count": 111,
   "metadata": {},
   "outputs": [],
   "source": [
    "with open('movie_years.json','r') as f:\n",
    "    my_other_movie_dict = json.load(f)"
   ]
  },
  {
   "cell_type": "code",
   "execution_count": 112,
   "metadata": {},
   "outputs": [
    {
     "name": "stdout",
     "output_type": "stream",
     "text": [
      "{'Fargo': 1996, 'Fellowship of the Ring': 2001, 'The Departed': 2006, 'Godfather Part 1': 1972, 'Dune': 2021, 'Monty Python and the Holy Grail': 1975, '2001 a Space Odyssey': 1968}\n"
     ]
    }
   ],
   "source": [
    "print(my_other_movie_dict)"
   ]
  },
  {
   "cell_type": "markdown",
   "metadata": {},
   "source": [
    "## Comprehensions \n",
    "\n",
    "Python has a special feature known as 'comprehensions', in which operations can be applied to each element in a container (list, dictionary, tuple, or set), without using a `for` loop. These expressions are very common in python code. \n",
    "\n",
    "All comprehensions can be equivalently expressed as `for` loops. The key thing to remember is that comprehensions can implement `for` loops in a more concise and compact syntax. While this may sometimes be convenient, it can also be less readable than a `for` loop. \n",
    "\n",
    "Consider our `movie_years` dictionary. Perhaps we want to increment each of the release years by one year and store the result in a dict called `movie_years_updated`. We can achieve this with a for loop:"
   ]
  },
  {
   "cell_type": "code",
   "execution_count": 113,
   "metadata": {},
   "outputs": [
    {
     "name": "stdout",
     "output_type": "stream",
     "text": [
      "{'Fargo': 1996, 'Fellowship of the Ring': 2001, 'The Departed': 2006, 'Godfather Part 1': 1972, 'Dune': 2021, 'Monty Python and the Holy Grail': 1975, '2001 a Space Odyssey': 1968}\n",
      "{'Fargo': 1997, 'Fellowship of the Ring': 2002, 'The Departed': 2007, 'Godfather Part 1': 1973, 'Dune': 2022, 'Monty Python and the Holy Grail': 1976, '2001 a Space Odyssey': 1969}\n"
     ]
    }
   ],
   "source": [
    "movie_years_updated = {}\n",
    "\n",
    "for k,v in movie_years.items():\n",
    "    movie_years_updated[k] = v+1\n",
    "\n",
    "print(movie_years)\n",
    "print(movie_years_updated)"
   ]
  },
  {
   "cell_type": "markdown",
   "metadata": {},
   "source": [
    "The same result can be achieved with a 'dictionary comprehension' with the following: "
   ]
  },
  {
   "cell_type": "code",
   "execution_count": 114,
   "metadata": {},
   "outputs": [
    {
     "data": {
      "text/plain": [
       "{'Fargo': 1997,\n",
       " 'Fellowship of the Ring': 2002,\n",
       " 'The Departed': 2007,\n",
       " 'Godfather Part 1': 1973,\n",
       " 'Dune': 2022,\n",
       " 'Monty Python and the Holy Grail': 1976,\n",
       " '2001 a Space Odyssey': 1969}"
      ]
     },
     "execution_count": 114,
     "metadata": {},
     "output_type": "execute_result"
    }
   ],
   "source": [
    "{k:v+1 for k,v in movie_years.items()}"
   ]
  },
  {
   "cell_type": "markdown",
   "metadata": {},
   "source": [
    "Notice that we use the curly braces `{}` to denote a dictionary result. We can ue the regular brackets `[]` to return a list: "
   ]
  },
  {
   "cell_type": "code",
   "execution_count": 115,
   "metadata": {},
   "outputs": [
    {
     "data": {
      "text/plain": [
       "[2001, 2006, 2011, 1977, 2026, 1980, 1973]"
      ]
     },
     "execution_count": 115,
     "metadata": {},
     "output_type": "execute_result"
    }
   ],
   "source": [
    "[v+5 for v in movie_years.values()]"
   ]
  },
  {
   "cell_type": "markdown",
   "metadata": {},
   "source": [
    "## Reading and manipulating text files\n",
    "\n",
    "Let's synthesize some of the materials we covered in this chapter, and use python tools to:\n",
    "1. open a text file containing movie names and years, using `with open(filename):`\n",
    "2. loop through the rows, extract the information we want using string operations, and store that information in a python object\n",
    "3. write the resulting objects to a file\n",
    "\n",
    "\n",
    "To open text files, we can use the `with open(filename):` syntax: "
   ]
  },
  {
   "cell_type": "code",
   "execution_count": 116,
   "metadata": {
    "scrolled": true
   },
   "outputs": [],
   "source": [
    "lines = []\n",
    "\n",
    "with open('./data/movies.txt', 'r') as file: # the 'r' means read only\n",
    "    lines = file.readlines() # read each line of the textfile into a list element\n",
    "    file.close() # close the file \n"
   ]
  },
  {
   "cell_type": "markdown",
   "metadata": {},
   "source": [
    "We now have each line of the textfile stored as an element in a list called `lines`. Let's loop through the list, and create a dictionary like `movie_years` that we can write to a `.json` file. "
   ]
  },
  {
   "cell_type": "code",
   "execution_count": 117,
   "metadata": {
    "scrolled": true
   },
   "outputs": [
    {
     "data": {
      "text/plain": [
       "['1,Toy Story (1995)\\n',\n",
       " '2,Jumanji (1995)\\n',\n",
       " '3,Grumpier Old Men (1995)\\n',\n",
       " '4,Waiting to Exhale (1995)\\n',\n",
       " '5,Father of the Bride Part II (1995)\\n',\n",
       " '6,Heat (1995)\\n',\n",
       " '7,Sabrina (1995)\\n',\n",
       " '8,Tom and Huck (1995)\\n',\n",
       " '9,Sudden Death (1995)\\n',\n",
       " '10,GoldenEye (1995)\\n',\n",
       " '11,American President  The (1995)\\n',\n",
       " '12,Dracula: Dead and Loving It (1995)\\n',\n",
       " '13,Balto (1995)\\n',\n",
       " '14,Nixon (1995)\\n',\n",
       " '15,Cutthroat Island (1995)\\n',\n",
       " '16,Casino (1995)\\n',\n",
       " '17,Sense and Sensibility (1995)\\n',\n",
       " '18,Four Rooms (1995)\\n',\n",
       " '19,Ace Ventura: When Nature Calls (1995)\\n',\n",
       " '20,Money Train (1995)\\n',\n",
       " '21,Get Shorty (1995)\\n',\n",
       " '22,Copycat (1995)\\n',\n",
       " '23,Assassins (1995)\\n',\n",
       " '24,Powder (1995)\\n',\n",
       " '25,Leaving Las Vegas (1995)\\n',\n",
       " '26,Othello (1995)\\n',\n",
       " '27,Now and Then (1995)\\n',\n",
       " '28,Persuasion (1995)\\n',\n",
       " '29,City of Lost Children  The (CitÌ© des enfants perdus  La) (1995)\\n',\n",
       " '30,Shanghai Triad (Yao a yao yao dao waipo qiao) (1995)\\n',\n",
       " '31,Dangerous Minds (1995)\\n',\n",
       " '32,Twelve Monkeys (a.k.a. 12 Monkeys) (1995)\\n',\n",
       " '34,Babe (1995)\\n',\n",
       " '35,Carrington (1995)\\n',\n",
       " '36,Dead Man Walking (1995)\\n',\n",
       " '37,Across the Sea of Time (1995)\\n',\n",
       " '38,It Takes Two (1995)\\n',\n",
       " '39,Clueless (1995)\\n',\n",
       " '40,Cry  the Beloved Country (1995)\\n',\n",
       " '41,Richard III (1995)\\n',\n",
       " '42,Dead Presidents (1995)\\n',\n",
       " '43,Restoration (1995)\\n',\n",
       " '44,Mortal Kombat (1995)\\n',\n",
       " '45,To Die For (1995)\\n',\n",
       " '46,How to Make an American Quilt (1995)\\n',\n",
       " '47,Seven (a.k.a. Se7en) (1995)\\n',\n",
       " '48,Pocahontas (1995)\\n',\n",
       " '50,Usual Suspects  The (1995)\\n',\n",
       " '52,Mighty Aphrodite (1995)\\n',\n",
       " '54,Big Green  The (1995)\\n',\n",
       " '55,Georgia (1995)\\n',\n",
       " '57,Home for the Holidays (1995)\\n',\n",
       " '58,Postman  The (Postino  Il) (1994)\\n',\n",
       " '59,Confessional  The (Confessionnal  Le) (1995)\\n',\n",
       " '60,Indian in the Cupboard  The (1995)\\n',\n",
       " '61,Eye for an Eye (1996)\\n',\n",
       " \"62,Mr. Holland's Opus (1995)\\n\",\n",
       " \"63,Don't Be a Menace to South Central While Drinking Your Juice in the Hood (1996)\\n\",\n",
       " '64,Two if by Sea (1996)\\n',\n",
       " '65,Bio-Dome (1996)\\n',\n",
       " '66,Lawnmower Man 2: Beyond Cyberspace (1996)\\n',\n",
       " '67,Two Bits (1995)\\n',\n",
       " '68,French Twist (Gazon maudit) (1995)\\n',\n",
       " '69,Friday (1995)\\n',\n",
       " '70,From Dusk Till Dawn (1996)\\n',\n",
       " '71,Fair Game (1995)\\n',\n",
       " '72,Kicking and Screaming (1995)\\n',\n",
       " '73,MisÌ©rables  Les (1995)\\n',\n",
       " '74,Bed of Roses (1996)\\n',\n",
       " '75,Big Bully (1996)\\n',\n",
       " '76,Screamers (1995)\\n',\n",
       " '78,Crossing Guard  The (1995)\\n',\n",
       " '79,Juror  The (1996)\\n',\n",
       " '80,White Balloon  The (Badkonake sefid) (1995)\\n',\n",
       " \"81,Things to Do in Denver When You're Dead (1995)\\n\",\n",
       " \"82,Antonia's Line (Antonia) (1995)\\n\",\n",
       " '83,Once Upon a Time... When We Were Colored (1995)\\n',\n",
       " '85,Angels and Insects (1995)\\n',\n",
       " '86,White Squall (1996)\\n',\n",
       " '87,Dunston Checks In (1996)\\n',\n",
       " '88,Black Sheep (1996)\\n',\n",
       " '89,Nick of Time (1995)\\n',\n",
       " '92,Mary Reilly (1996)\\n',\n",
       " '93,Vampire in Brooklyn (1995)\\n',\n",
       " '94,Beautiful Girls (1996)\\n',\n",
       " '95,Broken Arrow (1996)\\n',\n",
       " '96,In the Bleak Midwinter (1995)\\n',\n",
       " '97,Hate (Haine  La) (1995)\\n',\n",
       " '99,Heidi Fleiss: Hollywood Madam (1995)\\n',\n",
       " '100,City Hall (1996)\\n',\n",
       " '101,Bottle Rocket (1996)\\n',\n",
       " '102,Mr. Wrong (1996)\\n',\n",
       " '103,Unforgettable (1996)\\n',\n",
       " '104,Happy Gilmore (1996)\\n',\n",
       " '105,Bridges of Madison County  The (1995)\\n',\n",
       " '106,Nobody Loves Me (Keiner liebt mich) (1994)\\n',\n",
       " '107,Muppet Treasure Island (1996)\\n',\n",
       " '110,Braveheart (1995)\\n',\n",
       " '111,Taxi Driver (1976)\\n',\n",
       " '112,Rumble in the Bronx (Hont faan kui) (1995)\\n',\n",
       " '113,Before and After (1996)\\n',\n",
       " \"114,Margaret's Museum (1995)\\n\",\n",
       " '116,Anne Frank Remembered (1995)\\n',\n",
       " \"117,Young Poisoner's Handbook  The (1995)\\n\",\n",
       " '118,If Lucy Fell (1996)\\n',\n",
       " '119,Steal Big  Steal Little (1995)\\n',\n",
       " '120,Race the Sun (1996)\\n',\n",
       " '121,Boys of St. Vincent  The (1992)\\n',\n",
       " '122,Boomerang (1992)\\n',\n",
       " '123,Chungking Express (Chung Hing sam lam) (1994)\\n',\n",
       " \"124,Star Maker  The (Uomo delle stelle  L') (1995)\\n\",\n",
       " '125,Flirting With Disaster (1996)\\n',\n",
       " '126,NeverEnding Story III  The (1994)\\n',\n",
       " \"128,Jupiter's Wife (1994)\\n\",\n",
       " '129,Pie in the Sky (1996)\\n',\n",
       " '130,Angela (1995)\\n',\n",
       " '132,Jade (1995)\\n',\n",
       " '135,Down Periscope (1996)\\n',\n",
       " '136,From the Journals of Jean Seberg (1995)\\n',\n",
       " '138,Neon Bible  The (1995)\\n',\n",
       " '140,Up Close and Personal (1996)\\n',\n",
       " '141,Birdcage  The (1996)\\n',\n",
       " '144,Brothers McMullen  The (1995)\\n',\n",
       " '145,Bad Boys (1995)\\n',\n",
       " '147,Basketball Diaries  The (1995)\\n',\n",
       " '148,Awfully Big Adventure  An (1995)\\n',\n",
       " '149,Amateur (1994)\\n',\n",
       " '150,Apollo 13 (1995)\\n',\n",
       " '151,Rob Roy (1995)\\n',\n",
       " '152,Addiction  The (1995)\\n',\n",
       " '153,Batman Forever (1995)\\n',\n",
       " '154,Beauty of the Day (Belle de jour) (1967)\\n',\n",
       " '155,Beyond Rangoon (1995)\\n',\n",
       " '156,Blue in the Face (1995)\\n',\n",
       " '157,Canadian Bacon (1995)\\n',\n",
       " '158,Casper (1995)\\n',\n",
       " '159,Clockers (1995)\\n',\n",
       " '160,Congo (1995)\\n',\n",
       " '161,Crimson Tide (1995)\\n',\n",
       " '162,Crumb (1994)\\n',\n",
       " '163,Desperado (1995)\\n',\n",
       " '164,Devil in a Blue Dress (1995)\\n',\n",
       " '165,Die Hard: With a Vengeance (1995)\\n',\n",
       " '166,Doom Generation  The (1995)\\n',\n",
       " '167,Feast of July (1995)\\n',\n",
       " '168,First Knight (1995)\\n',\n",
       " '169,Free Willy 2: The Adventure Home (1995)\\n',\n",
       " '170,Hackers (1995)\\n',\n",
       " '171,Jeffrey (1995)\\n',\n",
       " '172,Johnny Mnemonic (1995)\\n',\n",
       " '173,Judge Dredd (1995)\\n',\n",
       " '174,Jury Duty (1995)\\n',\n",
       " '175,Kids (1995)\\n',\n",
       " '176,Living in Oblivion (1995)\\n',\n",
       " '177,Lord of Illusions (1995)\\n',\n",
       " '178,Love & Human Remains (1993)\\n',\n",
       " '179,Mad Love (1995)\\n',\n",
       " '180,Mallrats (1995)\\n',\n",
       " '181,Mighty Morphin Power Rangers: The Movie (1995)\\n',\n",
       " '182,Moonlight and Valentino (1995)\\n',\n",
       " '183,Mute Witness (1994)\\n',\n",
       " '184,Nadja (1994)\\n',\n",
       " '185,Net  The (1995)\\n',\n",
       " '186,Nine Months (1995)\\n',\n",
       " '187,Party Girl (1995)\\n',\n",
       " '188,Prophecy  The (1995)\\n',\n",
       " '189,Reckless (1995)\\n',\n",
       " '190,Safe (1995)\\n',\n",
       " '191,Scarlet Letter  The (1995)\\n',\n",
       " '192,Show  The (1995)\\n',\n",
       " '193,Showgirls (1995)\\n',\n",
       " '194,Smoke (1995)\\n',\n",
       " '195,Something to Talk About (1995)\\n',\n",
       " '196,Species (1995)\\n',\n",
       " '197,Stars Fell on Henrietta  The (1995)\\n',\n",
       " '198,Strange Days (1995)\\n',\n",
       " '199,Umbrellas of Cherbourg  The (Parapluies de Cherbourg  Les) (1964)\\n',\n",
       " '200,Tie That Binds  The (1995)\\n',\n",
       " '201,Three Wishes (1995)\\n',\n",
       " '202,Total Eclipse (1995)\\n',\n",
       " '203,To Wong Foo  Thanks for Everything! Julie Newmar (1995)\\n',\n",
       " '204,Under Siege 2: Dark Territory (1995)\\n',\n",
       " '205,Unstrung Heroes (1995)\\n',\n",
       " '206,Unzipped (1995)\\n',\n",
       " '207,Walk in the Clouds  A (1995)\\n',\n",
       " '208,Waterworld (1995)\\n',\n",
       " \"209,White Man's Burden (1995)\\n\",\n",
       " '210,Wild Bill (1995)\\n',\n",
       " '211,Browning Version  The (1994)\\n',\n",
       " '212,Bushwhacked (1995)\\n',\n",
       " '213,Burnt by the Sun (Utomlyonnye solntsem) (1994)\\n',\n",
       " '214,Before the Rain (Pred dozhdot) (1994)\\n',\n",
       " '215,Before Sunrise (1995)\\n',\n",
       " '216,Billy Madison (1995)\\n',\n",
       " '218,Boys on the Side (1995)\\n',\n",
       " '220,Castle Freak (1995)\\n',\n",
       " '222,Circle of Friends (1995)\\n',\n",
       " '223,Clerks (1994)\\n',\n",
       " '224,Don Juan DeMarco (1995)\\n',\n",
       " '225,Disclosure (1994)\\n',\n",
       " '227,Drop Zone (1994)\\n',\n",
       " '229,Death and the Maiden (1994)\\n',\n",
       " '230,Dolores Claiborne (1995)\\n',\n",
       " '231,Dumb & Dumber (Dumb and Dumber) (1994)\\n',\n",
       " '232,Eat Drink Man Woman (Yin shi nan nu) (1994)\\n',\n",
       " '233,Exotica (1994)\\n',\n",
       " '234,Exit to Eden (1994)\\n',\n",
       " '235,Ed Wood (1994)\\n',\n",
       " '236,French Kiss (1995)\\n',\n",
       " '237,Forget Paris (1995)\\n',\n",
       " '238,Far From Home: The Adventures of Yellow Dog (1995)\\n',\n",
       " '239,Goofy Movie  A (1995)\\n',\n",
       " '240,Hideaway (1995)\\n',\n",
       " '241,Fluke (1995)\\n',\n",
       " '242,Farinelli: il castrato (1994)\\n',\n",
       " '243,Gordy (1995)\\n',\n",
       " '244,Gumby: The Movie (1995)\\n',\n",
       " '246,Hoop Dreams (1994)\\n',\n",
       " '247,Heavenly Creatures (1994)\\n',\n",
       " '248,Houseguest (1994)\\n',\n",
       " '249,Immortal Beloved (1994)\\n',\n",
       " '250,Heavyweights (Heavy Weights) (1995)\\n',\n",
       " '252,I.Q. (1994)\\n',\n",
       " '253,Interview with the Vampire: The Vampire Chronicles (1994)\\n',\n",
       " '254,Jefferson in Paris (1995)\\n',\n",
       " '255,Jerky Boys  The (1995)\\n',\n",
       " '256,Junior (1994)\\n',\n",
       " '257,Just Cause (1995)\\n',\n",
       " \"258,Kid in King Arthur's Court  A (1995)\\n\",\n",
       " '259,Kiss of Death (1995)\\n',\n",
       " '260,Star Wars: Episode IV - A New Hope (1977)\\n',\n",
       " '261,Little Women (1994)\\n',\n",
       " '262,Little Princess  A (1995)\\n',\n",
       " '263,Ladybird Ladybird (1994)\\n',\n",
       " \"264,Enfer  L' (1994)\\n\",\n",
       " '265,Like Water for Chocolate (Como agua para chocolate) (1992)\\n',\n",
       " '266,Legends of the Fall (1994)\\n',\n",
       " '267,Major Payne (1995)\\n',\n",
       " '268,Little Odessa (1994)\\n',\n",
       " '269,My Crazy Life (Mi vida loca) (1993)\\n',\n",
       " '270,Love Affair (1994)\\n',\n",
       " '271,Losing Isaiah (1995)\\n',\n",
       " '272,Madness of King George  The (1994)\\n',\n",
       " \"273,Mary Shelley's Frankenstein (Frankenstein) (1994)\\n\",\n",
       " '274,Man of the House (1995)\\n',\n",
       " '275,Mixed Nuts (1994)\\n',\n",
       " '276,Milk Money (1994)\\n',\n",
       " '277,Miracle on 34th Street (1994)\\n',\n",
       " '278,Miami Rhapsody (1995)\\n',\n",
       " '279,My Family (1995)\\n',\n",
       " '280,Murder in the First (1995)\\n',\n",
       " \"281,Nobody's Fool (1994)\\n\",\n",
       " '282,Nell (1994)\\n',\n",
       " '283,New Jersey Drive (1995)\\n',\n",
       " '286,Nemesis 2: Nebula (1995)\\n',\n",
       " '287,Nina Takes a Lover (1994)\\n',\n",
       " '288,Natural Born Killers (1994)\\n',\n",
       " '289,Only You (1994)\\n',\n",
       " '290,Once Were Warriors (1994)\\n',\n",
       " '291,Poison Ivy II (1996)\\n',\n",
       " '292,Outbreak (1995)\\n',\n",
       " '293,LÌ©on: The Professional (a.k.a. The Professional) (LÌ©on) (1994)\\n',\n",
       " '294,Perez Family  The (1995)\\n',\n",
       " \"295,Pyromaniac's Love Story  A (1995)\\n\",\n",
       " '296,Pulp Fiction (1994)\\n',\n",
       " '297,Panther (1995)\\n',\n",
       " '298,Pushing Hands (Tui shou) (1992)\\n',\n",
       " '299,Priest (1994)\\n',\n",
       " '300,Quiz Show (1994)\\n',\n",
       " '301,Picture Bride (Bijo photo) (1994)\\n',\n",
       " '302,Queen Margot (Reine Margot  La) (1994)\\n',\n",
       " '303,Quick and the Dead  The (1995)\\n',\n",
       " '304,Roommates (1995)\\n',\n",
       " '305,Ready to Wear (Pret-A-Porter) (1994)\\n',\n",
       " '306,Three Colors: Red (Trois couleurs: Rouge) (1994)\\n',\n",
       " '307,Three Colors: Blue (Trois couleurs: Bleu) (1993)\\n',\n",
       " '308,Three Colors: White (Trzy kolory: Bialy) (1994)\\n',\n",
       " '309,Red Firecracker  Green Firecracker (Pao Da Shuang Deng) (1994)\\n',\n",
       " '310,Rent-a-Kid (1995)\\n',\n",
       " '312,Stuart Saves His Family (1995)\\n',\n",
       " '313,Swan Princess  The (1994)\\n',\n",
       " '314,Secret of Roan Inish  The (1994)\\n',\n",
       " '315,Specialist  The (1994)\\n',\n",
       " '316,Stargate (1994)\\n',\n",
       " '317,Santa Clause  The (1994)\\n',\n",
       " '318,Shawshank Redemption  The (1994)\\n',\n",
       " '319,Shallow Grave (1994)\\n',\n",
       " '320,Suture (1993)\\n',\n",
       " '321,Strawberry and Chocolate (Fresa y chocolate) (1993)\\n',\n",
       " '322,Swimming with Sharks (1995)\\n',\n",
       " '324,Sum of Us  The (1994)\\n',\n",
       " \"325,National Lampoon's Senior Trip (1995)\\n\",\n",
       " '326,To Live (Huozhe) (1994)\\n',\n",
       " '327,Tank Girl (1995)\\n',\n",
       " '328,Tales from the Crypt Presents: Demon Knight (1995)\\n',\n",
       " '329,Star Trek: Generations (1994)\\n',\n",
       " '330,Tales from the Hood (1995)\\n',\n",
       " '331,Tom & Viv (1994)\\n',\n",
       " '332,Village of the Damned (1995)\\n',\n",
       " '333,Tommy Boy (1995)\\n',\n",
       " '334,Vanya on 42nd Street (1994)\\n',\n",
       " '335,Underneath (1995)\\n',\n",
       " '336,Walking Dead  The (1995)\\n',\n",
       " \"337,What's Eating Gilbert Grape (1993)\\n\",\n",
       " '338,Virtuosity (1995)\\n',\n",
       " '339,While You Were Sleeping (1995)\\n',\n",
       " '340,War  The (1994)\\n',\n",
       " '341,Double Happiness (1994)\\n',\n",
       " \"342,Muriel's Wedding (1994)\\n\",\n",
       " '343,Baby-Sitters Club  The (1995)\\n',\n",
       " '344,Ace Ventura: Pet Detective (1994)\\n',\n",
       " '345,Adventures of Priscilla  Queen of the Desert  The (1994)\\n',\n",
       " '346,Backbeat (1993)\\n',\n",
       " '347,Bitter Moon (1992)\\n',\n",
       " '348,Bullets Over Broadway (1994)\\n',\n",
       " '349,Clear and Present Danger (1994)\\n',\n",
       " '350,Client  The (1994)\\n',\n",
       " '351,Corrina  Corrina (1994)\\n',\n",
       " '352,Crooklyn (1994)\\n',\n",
       " '353,Crow  The (1994)\\n',\n",
       " '354,Cobb (1994)\\n',\n",
       " '355,Flintstones  The (1994)\\n',\n",
       " '356,Forrest Gump (1994)\\n',\n",
       " '357,Four Weddings and a Funeral (1994)\\n',\n",
       " '358,Higher Learning (1995)\\n',\n",
       " '359,I Like It Like That (1994)\\n',\n",
       " '360,I Love Trouble (1994)\\n',\n",
       " '361,It Could Happen to You (1994)\\n',\n",
       " '362,Jungle Book  The (1994)\\n',\n",
       " '363,Wonderful  Horrible Life of Leni Riefenstahl  The (Macht der Bilder: Leni Riefenstahl  Die) (1993)\\n',\n",
       " '364,Lion King  The (1994)\\n',\n",
       " '365,Little Buddha (1993)\\n',\n",
       " \"366,Wes Craven's New Nightmare (Nightmare on Elm Street Part 7: Freddy's Finale  A) (1994)\\n\",\n",
       " '367,Mask  The (1994)\\n',\n",
       " '368,Maverick (1994)\\n',\n",
       " '369,Mrs. Parker and the Vicious Circle (1994)\\n',\n",
       " '370,Naked Gun 33 1/3: The Final Insult (1994)\\n',\n",
       " '371,Paper  The (1994)\\n',\n",
       " '372,Reality Bites (1994)\\n',\n",
       " '373,Red Rock West (1992)\\n',\n",
       " '374,Richie Rich (1994)\\n',\n",
       " '376,River Wild  The (1994)\\n',\n",
       " '377,Speed (1994)\\n',\n",
       " '378,Speechless (1994)\\n',\n",
       " '379,Timecop (1994)\\n',\n",
       " '380,True Lies (1994)\\n',\n",
       " '381,When a Man Loves a Woman (1994)\\n',\n",
       " '382,Wolf (1994)\\n',\n",
       " '383,Wyatt Earp (1994)\\n',\n",
       " '384,Bad Company (1995)\\n',\n",
       " '387,Low Down Dirty Shame  A (1994)\\n',\n",
       " '388,Boys Life (1995)\\n',\n",
       " '390,Faster Pussycat! Kill! Kill! (1965)\\n',\n",
       " \"391,Jason's Lyric (1994)\\n\",\n",
       " '393,Street Fighter (1994)\\n',\n",
       " '394,Coldblooded (1995)\\n',\n",
       " '397,Fear  The (1995)\\n',\n",
       " '402,Open Season (1996)\\n',\n",
       " '405,Highlander III: The Sorcerer (a.k.a. Highlander: The Final Dimension) (1994)\\n',\n",
       " '407,In the Mouth of Madness (1995)\\n',\n",
       " '408,8 Seconds (1994)\\n',\n",
       " '409,Above the Rim (1994)\\n',\n",
       " '410,Addams Family Values (1993)\\n',\n",
       " '411,Martin Lawrence: You So Crazy (1994)\\n',\n",
       " '412,Age of Innocence  The (1993)\\n',\n",
       " '413,Airheads (1994)\\n',\n",
       " '414,Air Up There  The (1994)\\n',\n",
       " '415,Another Stakeout (1993)\\n',\n",
       " '416,Bad Girls (1994)\\n',\n",
       " '417,Barcelona (1994)\\n',\n",
       " '418,Being Human (1993)\\n',\n",
       " '419,Beverly Hillbillies  The (1993)\\n',\n",
       " '420,Beverly Hills Cop III (1994)\\n',\n",
       " '421,Black Beauty (1994)\\n',\n",
       " '422,Blink (1994)\\n',\n",
       " '423,Blown Away (1994)\\n',\n",
       " '424,Blue Chips (1994)\\n',\n",
       " '425,Blue Sky (1994)\\n',\n",
       " '426,Body Snatchers (1993)\\n',\n",
       " '427,Boxing Helena (1993)\\n',\n",
       " '428,Bronx Tale  A (1993)\\n',\n",
       " '429,Cabin Boy (1994)\\n',\n",
       " \"431,Carlito's Way (1993)\\n\",\n",
       " \"432,City Slickers II: The Legend of Curly's Gold (1994)\\n\",\n",
       " '433,Clean Slate (1994)\\n',\n",
       " '434,Cliffhanger (1993)\\n',\n",
       " '435,Coneheads (1993)\\n',\n",
       " '436,Color of Night (1994)\\n',\n",
       " '437,Cops and Robbersons (1994)\\n',\n",
       " '438,Cowboy Way  The (1994)\\n',\n",
       " '440,Dave (1993)\\n',\n",
       " '441,Dazed and Confused (1993)\\n',\n",
       " '442,Demolition Man (1993)\\n',\n",
       " '443,Endless Summer 2  The (1994)\\n',\n",
       " '444,Even Cowgirls Get the Blues (1993)\\n',\n",
       " '445,Fatal Instinct (1993)\\n',\n",
       " '446,Farewell My Concubine (Ba wang bie ji) (1993)\\n',\n",
       " '447,Favor  The (1994)\\n',\n",
       " '448,Fearless (1993)\\n',\n",
       " '449,Fear of a Black Hat (1994)\\n',\n",
       " '450,With Honors (1994)\\n',\n",
       " '451,Flesh and Bone (1993)\\n',\n",
       " \"452,Widows' Peak (1994)\\n\",\n",
       " '453,For Love or Money (1993)\\n',\n",
       " '454,Firm  The (1993)\\n',\n",
       " '455,Free Willy (1993)\\n',\n",
       " '456,Fresh (1994)\\n',\n",
       " '457,Fugitive  The (1993)\\n',\n",
       " '458,Geronimo: An American Legend (1993)\\n',\n",
       " '459,Getaway  The (1994)\\n',\n",
       " '460,Getting Even with Dad (1994)\\n',\n",
       " '461,Go Fish (1994)\\n',\n",
       " '462,Good Man in Africa  A (1994)\\n',\n",
       " '463,Guilty as Sin (1993)\\n',\n",
       " '464,Hard Target (1993)\\n',\n",
       " '465,Heaven & Earth (1993)\\n',\n",
       " '466,Hot Shots! Part Deux (1993)\\n',\n",
       " '467,Live Nude Girls (1995)\\n',\n",
       " '468,Englishman Who Went Up a Hill But Came Down a Mountain  The (1995)\\n',\n",
       " '469,House of the Spirits  The (1993)\\n',\n",
       " '470,House Party 3 (1994)\\n',\n",
       " '471,Hudsucker Proxy  The (1994)\\n',\n",
       " \"472,I'll Do Anything (1994)\\n\",\n",
       " '473,In the Army Now (1994)\\n',\n",
       " '474,In the Line of Fire (1993)\\n',\n",
       " '475,In the Name of the Father (1993)\\n',\n",
       " '476,Inkwell  The (1994)\\n',\n",
       " \"477,What's Love Got to Do with It? (1993)\\n\",\n",
       " '479,Judgment Night (1993)\\n',\n",
       " '480,Jurassic Park (1993)\\n',\n",
       " '481,Kalifornia (1993)\\n',\n",
       " '482,Killing Zoe (1994)\\n',\n",
       " '483,King of the Hill (1993)\\n',\n",
       " '484,Lassie (1994)\\n',\n",
       " '485,Last Action Hero (1993)\\n',\n",
       " '486,Life with Mikey (1993)\\n',\n",
       " '487,Lightning Jack (1994)\\n',\n",
       " '488,M. Butterfly (1993)\\n',\n",
       " '489,Made in America (1993)\\n',\n",
       " '490,Malice (1993)\\n',\n",
       " '491,Man Without a Face  The (1993)\\n',\n",
       " '492,Manhattan Murder Mystery (1993)\\n',\n",
       " '493,Menace II Society (1993)\\n',\n",
       " '494,Executive Decision (1996)\\n',\n",
       " '495,In the Realm of the Senses (Ai no corrida) (1976)\\n',\n",
       " '496,What Happened Was... (1994)\\n',\n",
       " '497,Much Ado About Nothing (1993)\\n',\n",
       " '498,Mr. Jones (1993)\\n',\n",
       " '499,Mr. Wonderful (1993)\\n',\n",
       " '500,Mrs. Doubtfire (1993)\\n',\n",
       " '501,Naked (1993)\\n',\n",
       " '502,Next Karate Kid  The (1994)\\n',\n",
       " '503,New Age  The (1994)\\n',\n",
       " '504,No Escape (1994)\\n',\n",
       " '505,North (1994)\\n',\n",
       " '506,Orlando (1992)\\n',\n",
       " '507,Perfect World  A (1993)\\n',\n",
       " '508,Philadelphia (1993)\\n',\n",
       " '509,Piano  The (1993)\\n',\n",
       " '510,Poetic Justice (1993)\\n',\n",
       " '511,Program  The (1993)\\n',\n",
       " '512,Puppet Masters  The (1994)\\n',\n",
       " '513,Radioland Murders (1994)\\n',\n",
       " '514,Ref  The (1994)\\n',\n",
       " '515,Remains of the Day  The (1993)\\n',\n",
       " '516,Renaissance Man (1994)\\n',\n",
       " '517,Rising Sun (1993)\\n',\n",
       " '518,Road to Wellville  The (1994)\\n',\n",
       " '519,RoboCop 3 (1993)\\n',\n",
       " '520,Robin Hood: Men in Tights (1993)\\n',\n",
       " '521,Romeo Is Bleeding (1993)\\n',\n",
       " '522,Romper Stomper (1992)\\n',\n",
       " '523,Ruby in Paradise (1993)\\n',\n",
       " '524,Rudy (1993)\\n',\n",
       " \"527,Schindler's List (1993)\\n\",\n",
       " '528,Scout  The (1994)\\n',\n",
       " '529,Searching for Bobby Fischer (1993)\\n',\n",
       " '531,Secret Garden  The (1993)\\n',\n",
       " '532,Serial Mom (1994)\\n',\n",
       " '533,Shadow  The (1994)\\n',\n",
       " '534,Shadowlands (1993)\\n',\n",
       " '535,Short Cuts (1993)\\n',\n",
       " '536,Simple Twist of Fate  A (1994)\\n',\n",
       " '537,Sirens (1994)\\n',\n",
       " '538,Six Degrees of Separation (1993)\\n',\n",
       " '539,Sleepless in Seattle (1993)\\n',\n",
       " '540,Sliver (1993)\\n',\n",
       " '541,Blade Runner (1982)\\n',\n",
       " '542,Son in Law (1993)\\n',\n",
       " '543,So I Married an Axe Murderer (1993)\\n',\n",
       " '544,Striking Distance (1993)\\n',\n",
       " '546,Super Mario Bros. (1993)\\n',\n",
       " '547,Surviving the Game (1994)\\n',\n",
       " '548,Terminal Velocity (1994)\\n',\n",
       " '549,Thirty-Two Short Films About Glenn Gould (1993)\\n',\n",
       " '550,Threesome (1994)\\n',\n",
       " '551,Nightmare Before Christmas  The (1993)\\n',\n",
       " '552,Three Musketeers  The (1993)\\n',\n",
       " '553,Tombstone (1993)\\n',\n",
       " '554,Trial by Jury (1994)\\n',\n",
       " '555,True Romance (1993)\\n',\n",
       " '556,War Room  The (1993)\\n',\n",
       " '558,Pagemaster  The (1994)\\n',\n",
       " '562,Welcome to the Dollhouse (1995)\\n',\n",
       " '563,Germinal (1993)\\n',\n",
       " '564,Chasers (1994)\\n',\n",
       " '565,Cronos (1993)\\n',\n",
       " '568,Bhaji on the Beach (1993)\\n',\n",
       " '569,Little Big League (1994)\\n',\n",
       " '571,Wedding Gift  The (1994)\\n',\n",
       " '572,Foreign Student (1994)\\n',\n",
       " '573,Ciao  Professore! (Io speriamo che me la cavo) (1992)\\n',\n",
       " '574,Spanking the Monkey (1994)\\n',\n",
       " '575,Little Rascals  The (1994)\\n',\n",
       " '576,Fausto (1993)\\n',\n",
       " '577,Andre (1994)\\n',\n",
       " '580,Princess Caraboo (1994)\\n',\n",
       " '581,Celluloid Closet  The (1995)\\n',\n",
       " '582,MÌ©tisse (CafÌ© au Lait) (1993)\\n',\n",
       " '585,Brady Bunch Movie  The (1995)\\n',\n",
       " '586,Home Alone (1990)\\n',\n",
       " '587,Ghost (1990)\\n',\n",
       " '588,Aladdin (1992)\\n',\n",
       " '589,Terminator 2: Judgment Day (1991)\\n',\n",
       " '590,Dances with Wolves (1990)\\n',\n",
       " '592,Batman (1989)\\n',\n",
       " '593,Silence of the Lambs  The (1991)\\n',\n",
       " '594,Snow White and the Seven Dwarfs (1937)\\n',\n",
       " '595,Beauty and the Beast (1991)\\n',\n",
       " '596,Pinocchio (1940)\\n',\n",
       " '597,Pretty Woman (1990)\\n',\n",
       " '598,Window to Paris (Okno v Parizh) (1994)\\n',\n",
       " '599,Wild Bunch  The (1969)\\n',\n",
       " '600,Love and a .45 (1994)\\n',\n",
       " '602,Great Day in Harlem  A (1994)\\n',\n",
       " '603,Bye Bye  Love (1995)\\n',\n",
       " '605,One Fine Day (1996)\\n',\n",
       " '606,Candyman: Farewell to the Flesh (1995)\\n',\n",
       " '608,Fargo (1996)\\n',\n",
       " '609,Homeward Bound II: Lost in San Francisco (1996)\\n',\n",
       " '610,Heavy Metal (1981)\\n',\n",
       " '611,Hellraiser: Bloodline (1996)\\n',\n",
       " '612,Pallbearer  The (1996)\\n',\n",
       " '613,Jane Eyre (1996)\\n',\n",
       " '614,Loaded (1994)\\n',\n",
       " '615,Bread and Chocolate (Pane e cioccolata) (1973)\\n',\n",
       " '616,Aristocats  The (1970)\\n',\n",
       " '618,Two Much (1995)\\n',\n",
       " '619,Ed (1996)\\n',\n",
       " '626,Thin Line Between Love and Hate  A (1996)\\n',\n",
       " '627,Last Supper  The (1995)\\n',\n",
       " '628,Primal Fear (1996)\\n',\n",
       " '630,Carried Away (1996)\\n',\n",
       " '631,All Dogs Go to Heaven 2 (1996)\\n',\n",
       " '632,Land and Freedom (Tierra y libertad) (1995)\\n',\n",
       " '633,Denise Calls Up (1995)\\n',\n",
       " '635,Family Thing  A (1996)\\n',\n",
       " '637,Sgt. Bilko (1996)\\n',\n",
       " '638,Jack and Sarah (1995)\\n',\n",
       " '639,Girl 6 (1996)\\n',\n",
       " '640,Diabolique (1996)\\n',\n",
       " '641,Little Indian  Big City (Un indien dans la ville) (1994)\\n',\n",
       " '645,Nelly & Monsieur Arnaud (1995)\\n',\n",
       " '647,Courage Under Fire (1996)\\n',\n",
       " '648,Mission: Impossible (1996)\\n',\n",
       " '649,Cold Fever (Ì\\x81 kÌ¦ldum klaka) (1995)\\n',\n",
       " '650,Moll Flanders (1996)\\n',\n",
       " '653,Dragonheart (1996)\\n',\n",
       " '656,Eddie (1996)\\n',\n",
       " '659,Purple Noon (Plein soleil) (1960)\\n',\n",
       " '661,James and the Giant Peach (1996)\\n',\n",
       " '662,Fear (1996)\\n',\n",
       " '663,Kids in the Hall: Brain Candy (1996)\\n',\n",
       " '664,Faithful (1996)\\n',\n",
       " '665,Underground (1995)\\n',\n",
       " '666,All Things Fair (Lust och fÌ_gring stor) (1995)\\n',\n",
       " '667,Bloodsport 2 (a.k.a. Bloodsport II: The Next Kumite) (1996)\\n',\n",
       " '668,Song of the Little Road (Pather Panchali) (1955)\\n',\n",
       " '670,World of Apu  The (Apur Sansar) (1959)\\n',\n",
       " '671,Mystery Science Theater 3000: The Movie (1996)\\n',\n",
       " '673,Space Jam (1996)\\n',\n",
       " '674,Barbarella (1968)\\n',\n",
       " '678,Some Folks Call It a Sling Blade (1993)\\n',\n",
       " '679,Run of the Country  The (1995)\\n',\n",
       " '680,Alphaville (Alphaville  une Ì©trange aventure de Lemmy Caution) (1965)\\n',\n",
       " '681,Coup de torchon (Clean Slate) (1981)\\n',\n",
       " \"685,It's My Party (1996)\\n\",\n",
       " '688,Operation Dumbo Drop (1995)\\n',\n",
       " '691,Mrs. Winterbourne (1996)\\n',\n",
       " '692,Solo (1996)\\n',\n",
       " '694,Substitute  The (1996)\\n',\n",
       " '695,True Crime (1996)\\n',\n",
       " '696,Butterfly Kiss (1995)\\n',\n",
       " '697,Feeling Minnesota (1996)\\n',\n",
       " '700,Angus (1995)\\n',\n",
       " '703,Boys (1996)\\n',\n",
       " '704,Quest  The (1996)\\n',\n",
       " '705,Cosi (1996)\\n',\n",
       " '707,Mulholland Falls (1996)\\n',\n",
       " '708,Truth About Cats & Dogs  The (1996)\\n',\n",
       " '709,Oliver & Company (1988)\\n',\n",
       " '710,Celtic Pride (1996)\\n',\n",
       " '711,Flipper (1996)\\n',\n",
       " '712,Captives (1994)\\n',\n",
       " '713,Of Love and Shadows (1994)\\n',\n",
       " '714,Dead Man (1995)\\n',\n",
       " '715,Horseman on the Roof  The (Hussard sur le toit  Le) (1995)\\n',\n",
       " '716,Switchblade Sisters (1975)\\n',\n",
       " '717,Mouth to Mouth (Boca a boca) (1995)\\n',\n",
       " '718,Visitors  The (Visiteurs  Les) (1993)\\n',\n",
       " '719,Multiplicity (1996)\\n',\n",
       " '720,Wallace & Gromit: The Best of Aardman Animation (1996)\\n',\n",
       " '722,Haunted World of Edward D. Wood Jr.  The (1996)\\n',\n",
       " '724,Craft  The (1996)\\n',\n",
       " '725,Great White Hype  The (1996)\\n',\n",
       " '726,Last Dance (1996)\\n',\n",
       " '728,Cold Comfort Farm (1995)\\n',\n",
       " '730,Low Life (1994)\\n',\n",
       " \"731,Heaven's Prisoners (1996)\\n\",\n",
       " '732,Original Gangstas (1996)\\n',\n",
       " '733,Rock  The (1996)\\n',\n",
       " '735,Cemetery Man (Dellamorte Dellamore) (1994)\\n',\n",
       " '736,Twister (1996)\\n',\n",
       " '737,Barb Wire (1996)\\n',\n",
       " '741,Ghost in the Shell (KÌ«kaku kidÌ«tai) (1995)\\n',\n",
       " '742,Thinner (1996)\\n',\n",
       " '743,Spy Hard (1996)\\n',\n",
       " '745,Wallace & Gromit: A Close Shave (1995)\\n',\n",
       " '746,Force of Evil (1948)\\n',\n",
       " '747,Stupids  The (1996)\\n',\n",
       " '748,Arrival  The (1996)\\n',\n",
       " '749,Man from Down Under  The (1943)\\n',\n",
       " '750,Dr. Strangelove or: How I Learned to Stop Worrying and Love the Bomb (1964)\\n',\n",
       " '753,Month by the Lake  A (1995)\\n',\n",
       " '754,Gold Diggers: The Secret of Bear Mountain (1995)\\n',\n",
       " '760,Stalingrad (1993)\\n',\n",
       " '761,Phantom  The (1996)\\n',\n",
       " '762,Striptease (1996)\\n',\n",
       " '764,Heavy (1995)\\n',\n",
       " '765,Jack (1996)\\n',\n",
       " '766,I Shot Andy Warhol (1996)\\n',\n",
       " '767,Grass Harp  The (1995)\\n',\n",
       " \"768,Someone Else's America (1995)\\n\",\n",
       " '769,Marlene Dietrich: Shadow and Light (1996)\\n',\n",
       " '771,Life Is Rosy (a.k.a. Life Is Beautiful) (Vie est belle  La) (1987)\\n',\n",
       " '778,Trainspotting (1996)\\n',\n",
       " \"779,'Til There Was You (1997)\\n\",\n",
       " '780,Independence Day (a.k.a. ID4) (1996)\\n',\n",
       " '781,Stealing Beauty (1996)\\n',\n",
       " '782,Fan  The (1996)\\n',\n",
       " '783,Hunchback of Notre Dame  The (1996)\\n',\n",
       " '784,Cable Guy  The (1996)\\n',\n",
       " '785,Kingpin (1996)\\n',\n",
       " '786,Eraser (1996)\\n',\n",
       " '788,Nutty Professor  The (1996)\\n',\n",
       " '790,Unforgettable Summer  An (Un Ì©tÌ© inoubliable) (1994)\\n',\n",
       " '791,Last Klezmer: Leopold Kozlowski  His Life and Music  The (1994)\\n',\n",
       " '794,Midnight Dancers (Sibak) (1994)\\n',\n",
       " '797,Old Lady Who Walked in the Sea  The (Vieille qui marchait dans la mer  La) (1991)\\n',\n",
       " '798,Daylight (1996)\\n',\n",
       " '799,Frighteners  The (1996)\\n',\n",
       " '800,Lone Star (1996)\\n',\n",
       " '801,Harriet the Spy (1996)\\n',\n",
       " '802,Phenomenon (1996)\\n',\n",
       " '803,Walking and Talking (1996)\\n',\n",
       " \"804,She's the One (1996)\\n\",\n",
       " '805,Time to Kill  A (1996)\\n',\n",
       " '806,American Buffalo (1996)\\n',\n",
       " '808,Alaska (1996)\\n',\n",
       " '809,Fled (1996)\\n',\n",
       " '810,Kazaam (1996)\\n',\n",
       " '813,Larger Than Life (1996)\\n',\n",
       " '816,Two Deaths (1995)\\n',\n",
       " '818,Very Brady Sequel  A (1996)\\n',\n",
       " '819,Stefano Quantestorie (1993)\\n',\n",
       " '821,Crude Oasis  The (1995)\\n',\n",
       " '822,Hedd Wyn (1992)\\n',\n",
       " '824,Kaspar Hauser (1993)\\n',\n",
       " '828,Adventures of Pinocchio  The (1996)\\n',\n",
       " \"829,Joe's Apartment (1996)\\n\",\n",
       " '830,First Wives Club  The (1996)\\n',\n",
       " '831,Stonewall (1995)\\n',\n",
       " '832,Ransom (1996)\\n',\n",
       " '833,High School High (1996)\\n',\n",
       " '834,Phat Beach (1996)\\n',\n",
       " '835,Foxfire (1996)\\n',\n",
       " '836,Chain Reaction (1996)\\n',\n",
       " '837,Matilda (1996)\\n',\n",
       " '838,Emma (1996)\\n',\n",
       " '839,Crow: City of Angels  The (1996)\\n',\n",
       " '840,House Arrest (1996)\\n',\n",
       " '841,Eyes Without a Face (Yeux sans visage  Les) (1959)\\n',\n",
       " '842,Tales from the Crypt Presents: Bordello of Blood (1996)\\n',\n",
       " '843,Lotto Land (1995)\\n',\n",
       " '844,Story of Xinghua  The (Xinghua san yue tian) (1994)\\n',\n",
       " '845,Day the Sun Turned Cold  The (Tianguo niezi) (1994)\\n',\n",
       " '846,Flirt (1995)\\n',\n",
       " '847,Big Squeeze  The (1996)\\n',\n",
       " '848,Spitfire Grill  The (1996)\\n',\n",
       " '849,Escape from L.A. (1996)\\n',\n",
       " '850,Cyclo (Xich lo) (1995)\\n',\n",
       " '851,Basquiat (1996)\\n',\n",
       " '852,Tin Cup (1996)\\n',\n",
       " '853,Dingo (1991)\\n',\n",
       " '854,Ballad of Narayama  The (Narayama Bushiko) (1958)\\n',\n",
       " '855,Every Other Weekend (Un week-end sur deux) (1990)\\n',\n",
       " '856,Mille bolle blu (1993)\\n',\n",
       " '857,Crows and Sparrows (Wuya yu maque) (1949)\\n',\n",
       " '858,Godfather  The (1972)\\n',\n",
       " '861,Supercop (Police Story 3: Supercop) (Jing cha gu shi III: Chao ji jing cha) (1992)\\n',\n",
       " '864,Wife  The (1995)\\n',\n",
       " '865,Small Faces (1996)\\n',\n",
       " '866,Bound (1996)\\n',\n",
       " '868,Death in Brunswick (1991)\\n',\n",
       " '869,Kansas City (1996)\\n',\n",
       " \"870,Gone Fishin' (1997)\\n\",\n",
       " \"871,Lover's Knot (1996)\\n\",\n",
       " '873,Shadow of Angels (Schatten der Engel) (1976)\\n',\n",
       " '875,Nothing to Lose (1994)\\n',\n",
       " '876,Supercop 2 (Project S) (Chao ji ji hua) (1993)\\n',\n",
       " '879,Relic  The (1997)\\n',\n",
       " '880,Island of Dr. Moreau  The (1996)\\n',\n",
       " '881,First Kid (1996)\\n',\n",
       " '882,Trigger Effect  The (1996)\\n',\n",
       " '884,Sweet Nothing (1996)\\n',\n",
       " '885,Bogus (1996)\\n',\n",
       " '886,Bulletproof (1996)\\n',\n",
       " '888,Land Before Time III: The Time of the Great Giving (1995)\\n',\n",
       " '889,1-900 (06) (1994)\\n',\n",
       " '891,Halloween: The Curse of Michael Myers (Halloween 6: The Curse of Michael Myers) (1995)\\n',\n",
       " '892,Twelfth Night (1996)\\n',\n",
       " '893,Mother Night (1996)\\n',\n",
       " '895,Venice/Venice (1992)\\n',\n",
       " '896,Wild Reeds (Les roseaux sauvages) (1994)\\n',\n",
       " '897,For Whom the Bell Tolls (1943)\\n',\n",
       " '898,Philadelphia Story  The (1940)\\n',\n",
       " \"899,Singin' in the Rain (1952)\\n\",\n",
       " '900,American in Paris  An (1951)\\n',\n",
       " '901,Funny Face (1957)\\n',\n",
       " \"902,Breakfast at Tiffany's (1961)\\n\",\n",
       " '903,Vertigo (1958)\\n',\n",
       " '904,Rear Window (1954)\\n',\n",
       " '905,It Happened One Night (1934)\\n',\n",
       " '906,Gaslight (1944)\\n',\n",
       " '907,Gay Divorcee  The (1934)\\n',\n",
       " '908,North by Northwest (1959)\\n',\n",
       " '909,Apartment  The (1960)\\n',\n",
       " '910,Some Like It Hot (1959)\\n',\n",
       " '911,Charade (1963)\\n',\n",
       " '912,Casablanca (1942)\\n',\n",
       " '913,Maltese Falcon  The (1941)\\n',\n",
       " '914,My Fair Lady (1964)\\n',\n",
       " '915,Sabrina (1954)\\n',\n",
       " '916,Roman Holiday (1953)\\n',\n",
       " '917,Little Princess  The (1939)\\n',\n",
       " '918,Meet Me in St. Louis (1944)\\n',\n",
       " '919,Wizard of Oz  The (1939)\\n',\n",
       " '920,Gone with the Wind (1939)\\n',\n",
       " '921,My Favorite Year (1982)\\n',\n",
       " '922,Sunset Blvd. (a.k.a. Sunset Boulevard) (1950)\\n',\n",
       " '923,Citizen Kane (1941)\\n',\n",
       " '924,2001: A Space Odyssey (1968)\\n',\n",
       " '926,All About Eve (1950)\\n',\n",
       " '927,Women  The (1939)\\n',\n",
       " '928,Rebecca (1940)\\n',\n",
       " '929,Foreign Correspondent (1940)\\n',\n",
       " '930,Notorious (1946)\\n',\n",
       " '931,Spellbound (1945)\\n',\n",
       " '932,Affair to Remember  An (1957)\\n',\n",
       " '933,To Catch a Thief (1955)\\n',\n",
       " '934,Father of the Bride (1950)\\n',\n",
       " '935,Band Wagon  The (1953)\\n',\n",
       " '936,Ninotchka (1939)\\n',\n",
       " '937,Love in the Afternoon (1957)\\n',\n",
       " '938,Gigi (1958)\\n',\n",
       " '939,Reluctant Debutante  The (1958)\\n',\n",
       " '940,Adventures of Robin Hood  The (1938)\\n',\n",
       " '941,Mark of Zorro  The (1940)\\n',\n",
       " '942,Laura (1944)\\n',\n",
       " '943,Ghost and Mrs. Muir  The (1947)\\n',\n",
       " '944,Lost Horizon (1937)\\n',\n",
       " '945,Top Hat (1935)\\n',\n",
       " '946,To Be or Not to Be (1942)\\n',\n",
       " '947,My Man Godfrey (1936)\\n',\n",
       " '948,Giant (1956)\\n',\n",
       " '949,East of Eden (1955)\\n',\n",
       " '950,Thin Man  The (1934)\\n',\n",
       " '951,His Girl Friday (1940)\\n',\n",
       " '952,Around the World in 80 Days (1956)\\n',\n",
       " \"953,It's a Wonderful Life (1946)\\n\",\n",
       " '954,Mr. Smith Goes to Washington (1939)\\n',\n",
       " '955,Bringing Up Baby (1938)\\n',\n",
       " '956,Penny Serenade (1941)\\n',\n",
       " '959,Of Human Bondage (1934)\\n',\n",
       " '960,Angel on My Shoulder (1946)\\n',\n",
       " '961,Little Lord Fauntleroy (1936)\\n',\n",
       " '962,They Made Me a Criminal (I Became a Criminal) (They Made Me a Fugitive) (1939)\\n',\n",
       " '963,Inspector General  The (1949)\\n',\n",
       " '964,Angel and the Badman (1947)\\n',\n",
       " '965,39 Steps  The (1935)\\n',\n",
       " '966,Walk in the Sun  A (1945)\\n',\n",
       " '967,Outlaw  The (1943)\\n',\n",
       " '968,Night of the Living Dead (1968)\\n',\n",
       " '969,African Queen  The (1951)\\n',\n",
       " '970,Beat the Devil (1953)\\n',\n",
       " '971,Cat on a Hot Tin Roof (1958)\\n',\n",
       " '972,Last Time I Saw Paris  The (1954)\\n',\n",
       " '973,Meet John Doe (1941)\\n',\n",
       " '974,Algiers (1938)\\n',\n",
       " '976,Farewell to Arms  A (1932)\\n',\n",
       " '981,Dangerous Ground (1997)\\n',\n",
       " '982,Picnic (1955)\\n',\n",
       " '984,Pompatus of Love  The (1996)\\n',\n",
       " '985,Small Wonders (1995)\\n',\n",
       " '986,Fly Away Home (1996)\\n',\n",
       " '988,Grace of My Heart (1996)\\n',\n",
       " '989,Brother of Sleep (Schlafes Bruder) (1995)\\n',\n",
       " '990,Maximum Risk (1996)\\n',\n",
       " '991,Michael Collins (1996)\\n',\n",
       " \"992,Rich Man's Wife  The (1996)\\n\",\n",
       " '993,Infinity (1996)\\n',\n",
       " '994,Big Night (1996)\\n',\n",
       " '996,Last Man Standing (1996)\\n',\n",
       " '997,Caught (1996)\\n',\n",
       " '998,Set It Off (1996)\\n',\n",
       " '999,2 Days in the Valley (1996)\\n',\n",
       " '1000,Curdled (1996)\\n',\n",
       " \"1002,Ed's Next Move (1996)\\n\",\n",
       " '1003,Extreme Measures (1996)\\n',\n",
       " '1004,Glimmer Man  The (1996)\\n',\n",
       " '1005,D3: The Mighty Ducks (1996)\\n',\n",
       " '1006,Chamber  The (1996)\\n',\n",
       " '1007,Apple Dumpling Gang  The (1975)\\n',\n",
       " '1008,Davy Crockett  King of the Wild Frontier (1955)\\n',\n",
       " '1009,Escape to Witch Mountain (1975)\\n',\n",
       " '1010,Love Bug  The (1969)\\n',\n",
       " '1011,Herbie Rides Again (1974)\\n',\n",
       " '1012,Old Yeller (1957)\\n',\n",
       " '1013,Parent Trap  The (1961)\\n',\n",
       " '1014,Pollyanna (1960)\\n',\n",
       " '1015,Homeward Bound: The Incredible Journey (1993)\\n',\n",
       " '1016,Shaggy Dog  The (1959)\\n',\n",
       " '1017,Swiss Family Robinson (1960)\\n',\n",
       " '1018,That Darn Cat! (1965)\\n',\n",
       " '1019,20 000 Leagues Under the Sea (1954)\\n',\n",
       " '1020,Cool Runnings (1993)\\n',\n",
       " '1021,Angels in the Outfield (1994)\\n',\n",
       " '1022,Cinderella (1950)\\n',\n",
       " '1023,Winnie the Pooh and the Blustery Day (1968)\\n',\n",
       " '1024,Three Caballeros  The (1945)\\n',\n",
       " '1025,Sword in the Stone  The (1963)\\n',\n",
       " '1027,Robin Hood: Prince of Thieves (1991)\\n',\n",
       " '1028,Mary Poppins (1964)\\n',\n",
       " '1029,Dumbo (1941)\\n',\n",
       " \"1030,Pete's Dragon (1977)\\n\",\n",
       " '1031,Bedknobs and Broomsticks (1971)\\n',\n",
       " '1032,Alice in Wonderland (1951)\\n',\n",
       " '1033,Fox and the Hound  The (1981)\\n',\n",
       " '1034,Freeway (1996)\\n',\n",
       " '1035,Sound of Music  The (1965)\\n',\n",
       " '1036,Die Hard (1988)\\n',\n",
       " '1037,Lawnmower Man  The (1992)\\n',\n",
       " '1038,Unhook the Stars (1996)\\n',\n",
       " '1040,Secret Agent  The (1996)\\n',\n",
       " '1041,Secrets & Lies (1996)\\n',\n",
       " '1042,That Thing You Do! (1996)\\n',\n",
       " '1043,To Gillian on Her 37th Birthday (1996)\\n',\n",
       " '1044,Surviving Picasso (1996)\\n',\n",
       " '1045,Love Is All There Is (1996)\\n',\n",
       " '1046,Beautiful Thing (1996)\\n',\n",
       " '1047,Long Kiss Goodnight  The (1996)\\n',\n",
       " '1049,Ghost and the Darkness  The (1996)\\n',\n",
       " '1050,Looking for Richard (1996)\\n',\n",
       " '1051,Trees Lounge (1996)\\n',\n",
       " '1052,Proprietor  The (1996)\\n',\n",
       " '1053,Normal Life (1996)\\n',\n",
       " '1054,Get on the Bus (1996)\\n',\n",
       " '1055,Shadow Conspiracy (1997)\\n',\n",
       " '1056,Jude (1996)\\n',\n",
       " '1057,Everyone Says I Love You (1996)\\n',\n",
       " '1058,Bitter Sugar (AzÌ¼car amarga) (1996)\\n',\n",
       " \"1059,William Shakespeare's Romeo + Juliet (1996)\\n\",\n",
       " '1060,Swingers (1996)\\n',\n",
       " '1061,Sleepers (1996)\\n',\n",
       " '1062,Sunchaser  The (1996)\\n',\n",
       " '1063,Johns (1996)\\n',\n",
       " '1064,Aladdin and the King of Thieves (1996)\\n',\n",
       " '1066,Shall We Dance (1937)\\n',\n",
       " '1067,Damsel in Distress  A (1937)\\n',\n",
       " '1068,Crossfire (1947)\\n',\n",
       " '1069,Murder  My Sweet (1944)\\n',\n",
       " '1071,For the Moment (1994)\\n',\n",
       " '1073,Willy Wonka & the Chocolate Factory (1971)\\n',\n",
       " '1076,Innocents  The (1961)\\n',\n",
       " '1077,Sleeper (1973)\\n',\n",
       " '1078,Bananas (1971)\\n',\n",
       " '1079,Fish Called Wanda  A (1988)\\n',\n",
       " \"1080,Monty Python's Life of Brian (1979)\\n\",\n",
       " '1081,Victor/Victoria (1982)\\n',\n",
       " '1082,Candidate  The (1972)\\n',\n",
       " '1083,Great Race  The (1965)\\n',\n",
       " '1084,Bonnie and Clyde (1967)\\n',\n",
       " '1085,Old Man and the Sea  The (1958)\\n',\n",
       " '1086,Dial M for Murder (1954)\\n',\n",
       " '1087,Madame Butterfly (1995)\\n',\n",
       " '1088,Dirty Dancing (1987)\\n',\n",
       " '1089,Reservoir Dogs (1992)\\n',\n",
       " '1090,Platoon (1986)\\n',\n",
       " \"1091,Weekend at Bernie's (1989)\\n\",\n",
       " '1092,Basic Instinct (1992)\\n',\n",
       " '1093,Doors  The (1991)\\n',\n",
       " '1094,Crying Game  The (1992)\\n',\n",
       " '1095,Glengarry Glen Ross (1992)\\n',\n",
       " \"1096,Sophie's Choice (1982)\\n\",\n",
       " '1097,E.T. the Extra-Terrestrial (1982)\\n',\n",
       " '1098,Search for One-eye Jimmy  The (1996)\\n',\n",
       " '1099,Christmas Carol  A (1938)\\n',\n",
       " '1100,Days of Thunder (1990)\\n',\n",
       " '1101,Top Gun (1986)\\n',\n",
       " '1102,American Strays (1996)\\n',\n",
       " '1103,Rebel Without a Cause (1955)\\n',\n",
       " '1104,Streetcar Named Desire  A (1951)\\n',\n",
       " '1105,Children of the Corn IV: The Gathering (1996)\\n',\n",
       " \"1111,Microcosmos (Microcosmos: Le peuple de l'herbe) (1996)\\n\",\n",
       " '1112,Palookaville (1996)\\n',\n",
       " '1113,Associate  The (1996)\\n',\n",
       " '1114,Funeral  The (1996)\\n',\n",
       " '1115,Sleepover (1995)\\n',\n",
       " '1116,Single Girl  A (Fille seule  La) (1995)\\n',\n",
       " '1117,Eighth Day  The (HuitiÌ¬me jour  Le) (1996)\\n',\n",
       " '1118,North Star (a.k.a. Tashunga) (1995)\\n',\n",
       " '1119,Drunks (1995)\\n',\n",
       " '1120,People vs. Larry Flynt  The (1996)\\n',\n",
       " '1123,Perfect Candidate  A (1996)\\n',\n",
       " '1124,On Golden Pond (1981)\\n',\n",
       " '1125,Return of the Pink Panther  The (1975)\\n',\n",
       " '1126,Drop Dead Fred (1991)\\n',\n",
       " '1127,Abyss  The (1989)\\n',\n",
       " '1128,Fog  The (1980)\\n',\n",
       " '1129,Escape from New York (1981)\\n',\n",
       " '1130,Howling  The (1980)\\n',\n",
       " '1131,Jean de Florette (1986)\\n',\n",
       " '1132,Manon of the Spring (Manon des sources) (1986)\\n',\n",
       " '1133,Talking About Sex (1994)\\n',\n",
       " '1134,Johnny 100 Pesos (Johnny cien pesos) (1993)\\n',\n",
       " '1135,Private Benjamin (1980)\\n',\n",
       " '1136,Monty Python and the Holy Grail (1975)\\n',\n",
       " '1137,Hustler White (1996)\\n',\n",
       " '1138,Dadetown (1995)\\n',\n",
       " '1140,Entertaining Angels: The Dorothy Day Story (1996)\\n',\n",
       " '1142,Get Over It (1996)\\n',\n",
       " '1143,Three Lives and Only One Death (Trois vies & une seule mort) (1996)\\n',\n",
       " '1144,Line King: The Al Hirschfeld Story  The (1996)\\n',\n",
       " '1145,Snowriders (1996)\\n',\n",
       " \"1146,Curtis's Charm (1995)\\n\",\n",
       " '1147,When We Were Kings (1996)\\n',\n",
       " '1148,Wallace & Gromit: The Wrong Trousers (1993)\\n',\n",
       " '1149,JLG/JLG (JLG/JLG - autoportrait de dÌ©cembre) (1994)\\n',\n",
       " '1150,Return of Martin Guerre  The (Retour de Martin Guerre  Le) (1982)\\n',\n",
       " '1151,Faust (1994)\\n',\n",
       " '1152,He Walked by Night (1948)\\n',\n",
       " '1153,Raw Deal (1948)\\n',\n",
       " '1154,T-Men (1947)\\n',\n",
       " '1158,Here Comes Cookie (1935)\\n',\n",
       " '1159,Love in Bloom (1935)\\n',\n",
       " '1160,Six of a Kind (1934)\\n',\n",
       " '1161,Tin Drum  The (Blechtrommel  Die) (1979)\\n',\n",
       " '1162,Ruling Class  The (1972)\\n',\n",
       " '1163,Mina Tannenbaum (1994)\\n',\n",
       " '1165,Bloody Child  The (1996)\\n',\n",
       " '1166,Farmer & Chase (1997)\\n',\n",
       " '1167,Dear God (1996)\\n',\n",
       " '1168,Bad Moon (1996)\\n',\n",
       " '1169,American Dream (1990)\\n',\n",
       " '1170,Best of the Best 3: No Turning Back (1995)\\n',\n",
       " '1171,Bob Roberts (1992)\\n',\n",
       " '1172,Cinema Paradiso (Nuovo cinema Paradiso) (1989)\\n',\n",
       " '1173,Cook the Thief His Wife & Her Lover  The (1989)\\n',\n",
       " '1175,Delicatessen (1991)\\n',\n",
       " '1176,Double Life of Veronique  The (Double Vie de VÌ©ronique  La) (1991)\\n',\n",
       " '1177,Enchanted April (1992)\\n',\n",
       " '1178,Paths of Glory (1957)\\n',\n",
       " '1179,Grifters  The (1990)\\n',\n",
       " '1180,Hear My Song (1991)\\n',\n",
       " '1183,English Patient  The (1996)\\n',\n",
       " '1184,Mediterraneo (1991)\\n',\n",
       " '1185,My Left Foot (1989)\\n',\n",
       " '1186,Sex  Lies  and Videotape (1989)\\n',\n",
       " '1187,Passion Fish (1992)\\n',\n",
       " '1188,Strictly Ballroom (1992)\\n',\n",
       " '1189,Thin Blue Line  The (1988)\\n',\n",
       " '1190,Tie Me Up! Tie Me Down! (åÁÌ\\x81tame!) (1990)\\n',\n",
       " '1191,Madonna: Truth or Dare (1991)\\n',\n",
       " '1192,Paris Is Burning (1990)\\n',\n",
       " \"1193,One Flew Over the Cuckoo's Nest (1975)\\n\",\n",
       " \"1194,Cheech and Chong's Up in Smoke (1978)\\n\",\n",
       " '1196,Star Wars: Episode V - The Empire Strikes Back (1980)\\n',\n",
       " '1197,Princess Bride  The (1987)\\n',\n",
       " '1198,Raiders of the Lost Ark (Indiana Jones and the Raiders of the Lost Ark) (1981)\\n',\n",
       " '1199,Brazil (1985)\\n',\n",
       " ...]"
      ]
     },
     "execution_count": 117,
     "metadata": {},
     "output_type": "execute_result"
    }
   ],
   "source": [
    "lines"
   ]
  },
  {
   "cell_type": "markdown",
   "metadata": {},
   "source": [
    "Notice that every line has an index, and a `\\n`, which is an escape sequence that adds a new line (or carriage return) to text, often called a 'newline' character. We want to filter these out. "
   ]
  },
  {
   "cell_type": "code",
   "execution_count": 118,
   "metadata": {
    "scrolled": true
   },
   "outputs": [],
   "source": [
    "movie_years_big = {} # create the empty dictionary we will fill up \n",
    "\n",
    "for idx,line in enumerate(lines): # loop through list of lines read from textfile\n",
    "    # the following line splits each string into a list of strings based on the position of the comma\n",
    "    # and replaces the newline character (\"\\n\"), with nothing (\"\")\n",
    "    info_we_want = line.split(\",\")[1].replace(\"\\n\",\"\") \n",
    "    # the following line splits each string into a list of strings based on the position of the open paranthesis\n",
    "    # We select the first element of the list as the title [0], and remove the trailing space with strip()\n",
    "    title = info_we_want.split(\"(\")[0].strip()\n",
    "    # We select the second element of the list as the year [1], and replace the trailing close paranthesis with nothing\n",
    "    year = info_we_want.split(\"(\")[1].replace(\")\",\"\")\n",
    "    # Lastly, we populate our dictionary\n",
    "    movie_years_big[title] = year\n",
    "    "
   ]
  },
  {
   "cell_type": "code",
   "execution_count": 119,
   "metadata": {
    "scrolled": true
   },
   "outputs": [
    {
     "data": {
      "text/plain": [
       "8617"
      ]
     },
     "execution_count": 119,
     "metadata": {},
     "output_type": "execute_result"
    }
   ],
   "source": [
    "len(movie_years_big)"
   ]
  }
 ],
 "metadata": {
  "kernelspec": {
   "display_name": "Python 3 (ipykernel)",
   "language": "python",
   "name": "python3"
  },
  "language_info": {
   "codemirror_mode": {
    "name": "ipython",
    "version": 3
   },
   "file_extension": ".py",
   "mimetype": "text/x-python",
   "name": "python",
   "nbconvert_exporter": "python",
   "pygments_lexer": "ipython3",
   "version": "3.12.7"
  }
 },
 "nbformat": 4,
 "nbformat_minor": 4
}
