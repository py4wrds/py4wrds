{
 "cells": [
  {
   "cell_type": "markdown",
   "metadata": {},
   "source": [
    "# 2. Python Fundamentals I \n",
    "\n",
    "1. Data types\n",
    "    1. Type checking\n",
    "    2. Type conversions and casting \n",
    "2. Strings\n",
    "    1. Construction - single vs double vs triple quotes \n",
    "    2. Slicing and indexing \n",
    "        1. Python is zero indexed! \n",
    "    3. String functions (add, split, find, replace)\n",
    "    4. String formatting (f-string, .format())\n",
    "3. Numbers\n",
    "    1. Ints vs floats \n",
    "    2. Logical Operations\n",
    "        1. Numeric operators (>,<,==)\n",
    "4. Booleans \n",
    "    1. Boolean Operators \n",
    "    2. AND / OR / NOT \n",
    "5. Control Flow\n",
    "    1. Boolean Logic\n",
    "    2. If / Else statements\n",
    "    3. Raising Errors\n",
    "    4. Exception handling with Try/Except \n",
    "6. Lists\n",
    "    1. Construction\n",
    "    2. Indexing\n",
    "    3. Slicing\n",
    "    4. Appending\n",
    "        1. For loops\n",
    "            1. List comprehension\n",
    "        2. The range() function\n",
    "        3. While loops \n",
    "        4. Continue, break, pass \n",
    "7. Tuples\n",
    "    1. Mutability \n",
    "8. Dictionaries \n",
    "    1. Creation\n",
    "    2. Accessing elements\n",
    "    3. Updating elements \n",
    "    4. Iteration \n",
    "        1. Keys\n",
    "        2. Values\n",
    "        3. Items\n",
    "    5. Json export and loading\n",
    "9. Sets\n",
    "    1. mutability \n",
    "10. File Input/Output\n",
    "    1. Reading text files with for loops \n"
   ]
  },
  {
   "cell_type": "markdown",
   "metadata": {},
   "source": [
    "## Data Types\n",
    "\n",
    "### Fundamentals\n",
    "There are several fundamental types of objects in python:\n",
    "* `bool`: with values True and False\n",
    "* `str`: for alphanumeric text like \"Hello world\"\n",
    "* `int`: for integers like 1, 42, and -5\n",
    "* `float`: for floating point numbers like 96.8\n",
    "\n",
    "### Containers \n",
    "\n",
    "There are several types of 'continers' which can store multiple values of the previous data types: \n",
    "* `list`: a mutable ordered list of data values\n",
    "* `tupale`: an immutable, unordered list of data values\n",
    "* `dict`: a hash map which permits lookup on the basis of keys and values\n",
    "\n",
    "We will explore each of these data types and containers in this module. \n",
    "\n",
    "### Type checking\n",
    "\n",
    "You can check the type of any python object by issuing the `type()` command and inspecting the output\n",
    "\n",
    "### Casting\n",
    "\n",
    "You can convert between objects by calling one of data types with a python object in parenthesis. For example:"
   ]
  },
  {
   "cell_type": "code",
   "execution_count": 2,
   "metadata": {},
   "outputs": [
    {
     "name": "stdout",
     "output_type": "stream",
     "text": [
      "42\n",
      "<class 'int'>\n",
      "42\n",
      "<class 'str'>\n"
     ]
    }
   ],
   "source": [
    "my_var = 42\n",
    "print(my_var)\n",
    "print(type(my_var));\n",
    "my_string_var = str(my_var)\n",
    "print(my_string_var)\n",
    "print(type(my_string_var))\n",
    "\n",
    "# Notice that the `int` and `str` data types print identical values on the command line! "
   ]
  },
  {
   "cell_type": "markdown",
   "metadata": {},
   "source": [
    "## Strings\n",
    "\n",
    "Strings are a very important data type in all languages. In Python, strings may be quoted several ways:\n",
    "\n",
    "### Construction"
   ]
  },
  {
   "cell_type": "code",
   "execution_count": 3,
   "metadata": {},
   "outputs": [
    {
     "name": "stdout",
     "output_type": "stream",
     "text": [
      "woah! strings can\n",
      "split lines \n"
     ]
    }
   ],
   "source": [
    "output_file = 'output.txt'\n",
    "triplequotes = \"\"\"woah! strings can\n",
    "split lines \"\"\"\n",
    "print(triplequotes) # Split onto multiple lines; newline char embedded.\n"
   ]
  },
  {
   "cell_type": "markdown",
   "metadata": {},
   "source": [
    "Equivalently, with single quotes: "
   ]
  },
  {
   "cell_type": "code",
   "execution_count": 4,
   "metadata": {},
   "outputs": [
    {
     "name": "stdout",
     "output_type": "stream",
     "text": [
      "I am a string too.\n",
      "I can span multiple lines!\n"
     ]
    }
   ],
   "source": [
    "trip_single_quotes = '''I am a string too.\n",
    "I can span multiple lines!'''\n",
    "print(trip_single_quotes)"
   ]
  },
  {
   "cell_type": "markdown",
   "metadata": {},
   "source": [
    "#### Quotes in strings\n",
    "\n",
    "We construct strings using either single quotes (`'this is a string'`), double quotes (`\"this is also a string\"`) or triple quotes (`'''yet another string!'''`). Sometimes, we will want to include quotes in a string (say, a paragraph of text with some apostrophes). If the same type of quote that is used to define the string is used within the string, the interpreter will think that is the end of the string: "
   ]
  },
  {
   "cell_type": "code",
   "execution_count": 5,
   "metadata": {},
   "outputs": [
    {
     "ename": "SyntaxError",
     "evalue": "unterminated string literal (detected at line 1) (2059763243.py, line 1)",
     "output_type": "error",
     "traceback": [
      "\u001b[0;36m  Cell \u001b[0;32mIn[5], line 1\u001b[0;36m\u001b[0m\n\u001b[0;31m    print('defining a string with a contraction such as you're')\u001b[0m\n\u001b[0m                                                              ^\u001b[0m\n\u001b[0;31mSyntaxError\u001b[0m\u001b[0;31m:\u001b[0m unterminated string literal (detected at line 1)\n"
     ]
    }
   ],
   "source": [
    "print('defining a string with a contraction such as you're')"
   ]
  },
  {
   "cell_type": "markdown",
   "metadata": {},
   "source": [
    "We can fix this by mixing quotes: "
   ]
  },
  {
   "cell_type": "code",
   "execution_count": 6,
   "metadata": {},
   "outputs": [
    {
     "name": "stdout",
     "output_type": "stream",
     "text": [
      "defining a string with a contraction such as you're\n"
     ]
    }
   ],
   "source": [
    "print(\"defining a string with a contraction such as you're\")"
   ]
  },
  {
   "cell_type": "markdown",
   "metadata": {},
   "source": [
    "Alternatively, we can escape the quote with a backslash, i.e. a `\\`:"
   ]
  },
  {
   "cell_type": "code",
   "execution_count": 7,
   "metadata": {},
   "outputs": [
    {
     "name": "stdout",
     "output_type": "stream",
     "text": [
      "defining a string with a contraction such as you're\n"
     ]
    }
   ],
   "source": [
    "print('defining a string with a contraction such as you\\'re')"
   ]
  },
  {
   "cell_type": "markdown",
   "metadata": {},
   "source": [
    "### String methods\n",
    "\n",
    "There are several built in python methods which operate on strings, and can make manipulating strings much simpler and easier. \n",
    "\n",
    "#### Slicing / Indexing\n",
    "\n",
    "You can access any singular character, within a string through 'slicing', also sometimes called 'indexing', by placing square brackets after a variable name:"
   ]
  },
  {
   "cell_type": "code",
   "execution_count": 8,
   "metadata": {},
   "outputs": [
    {
     "data": {
      "text/plain": [
       "'this'"
      ]
     },
     "execution_count": 8,
     "metadata": {},
     "output_type": "execute_result"
    }
   ],
   "source": [
    "string_to_index = 'this is a string that will be indexed'\n",
    "string_to_index[0:4]"
   ]
  },
  {
   "cell_type": "markdown",
   "metadata": {},
   "source": [
    "In this command, we select all values between the 0th index and the 4th index (non - inclusive). This means we are accessing the characters 'this' in the example above, the 0th, 1st, 2nd, and 3rd characters. \n",
    "\n",
    "The `:` tells the computer to select values starting at one index and ending at another. We can also access any individual character: "
   ]
  },
  {
   "cell_type": "code",
   "execution_count": 9,
   "metadata": {},
   "outputs": [
    {
     "name": "stdout",
     "output_type": "stream",
     "text": [
      "h\n",
      "e\n",
      "r\n",
      "e\n"
     ]
    }
   ],
   "source": [
    "another_string = \"here's another string to index~\"\n",
    "print(another_string[0])\n",
    "print(another_string[1])\n",
    "print(another_string[2])\n",
    "print(another_string[3])"
   ]
  },
  {
   "cell_type": "markdown",
   "metadata": {},
   "source": [
    "You may have observed a very important characteristic here: **python is zero indexed** meaning that the first value in a string is given the zero index: \n",
    "\n",
    "Let's play around with some other indexing commands to get the hang of it:"
   ]
  },
  {
   "cell_type": "code",
   "execution_count": 10,
   "metadata": {},
   "outputs": [
    {
     "name": "stdout",
     "output_type": "stream",
     "text": [
      "is a string that will be indexed\n",
      "is a string tha\n",
      "be indexed\n"
     ]
    }
   ],
   "source": [
    "string_to_index = 'this is a string that will be indexed'\n",
    "print(string_to_index[5:])\n",
    "print(string_to_index[5:20])\n",
    "print(string_to_index[-10:])"
   ]
  },
  {
   "cell_type": "markdown",
   "metadata": {},
   "source": [
    "Note that when slicing, we do not have to supply the 0th or last index, python is able to figure out the start / end indices automatically. The following returns every character in the string, beginning with the 5th character:"
   ]
  },
  {
   "cell_type": "code",
   "execution_count": 11,
   "metadata": {},
   "outputs": [
    {
     "data": {
      "text/plain": [
       "'is a string that will be indexed'"
      ]
     },
     "execution_count": 11,
     "metadata": {},
     "output_type": "execute_result"
    }
   ],
   "source": [
    "string_to_index[5:]"
   ]
  },
  {
   "cell_type": "markdown",
   "metadata": {},
   "source": [
    "Note that we can also use negative indices, which count backwards from the end of the string. The following returns every character in the string, beginning with the 10th character from the end:"
   ]
  },
  {
   "cell_type": "code",
   "execution_count": 12,
   "metadata": {},
   "outputs": [
    {
     "name": "stdout",
     "output_type": "stream",
     "text": [
      "be indexed\n"
     ]
    }
   ],
   "source": [
    "print(string_to_index[-10:])"
   ]
  },
  {
   "cell_type": "markdown",
   "metadata": {},
   "source": [
    "The following diagram summarizes python string indexing and slicing for an example string `'Python'`:\n",
    "\n",
    "![str_idx](img/2-str-index.png)\n",
    "\n",
    "#### Strings are immutable!\n",
    "\n",
    "While we can access any individual character of a string, we cannot ever directly change characters:"
   ]
  },
  {
   "cell_type": "code",
   "execution_count": 13,
   "metadata": {},
   "outputs": [
    {
     "ename": "TypeError",
     "evalue": "'str' object does not support item assignment",
     "output_type": "error",
     "traceback": [
      "\u001b[0;31m---------------------------------------------------------------------------\u001b[0m",
      "\u001b[0;31mTypeError\u001b[0m                                 Traceback (most recent call last)",
      "Cell \u001b[0;32mIn[13], line 1\u001b[0m\n\u001b[0;32m----> 1\u001b[0m \u001b[43mstring_to_index\u001b[49m\u001b[43m[\u001b[49m\u001b[38;5;241;43m10\u001b[39;49m\u001b[43m]\u001b[49m \u001b[38;5;241m=\u001b[39m \u001b[38;5;124m'\u001b[39m\u001b[38;5;124ma\u001b[39m\u001b[38;5;124m'\u001b[39m\n",
      "\u001b[0;31mTypeError\u001b[0m: 'str' object does not support item assignment"
     ]
    }
   ],
   "source": [
    "string_to_index[10] = 'a'"
   ]
  },
  {
   "cell_type": "markdown",
   "metadata": {},
   "source": [
    "### String functions\n",
    "\n",
    "There are several handy built-in string functions that make manipulating data in strings easier: \n",
    "* Concatenate strings: `+`\n",
    "* Split strings based on substring: `split('substr')`\n",
    "* Find substring: `find('substr')`\n",
    "* Replace substring with another substring `replace('substr1','substr2')`\n",
    "\n",
    "1. **Combining strings (AKA concatennation):** Strings can be concatennated using the `+` sign: "
   ]
  },
  {
   "cell_type": "code",
   "execution_count": 14,
   "metadata": {},
   "outputs": [
    {
     "data": {
      "text/plain": [
       "'some string another string'"
      ]
     },
     "execution_count": 14,
     "metadata": {},
     "output_type": "execute_result"
    }
   ],
   "source": [
    "'some string ' + 'another string'"
   ]
  },
  {
   "cell_type": "markdown",
   "metadata": {},
   "source": [
    "note that we had to include a trailing space on `some string ` in order to produce a concatennated string with spaces - the spaces are not added automatically. \n",
    "\n",
    "2. **Splitting strings**: strings can easily be separated based on a character using the `split()` function:"
   ]
  },
  {
   "cell_type": "code",
   "execution_count": 15,
   "metadata": {},
   "outputs": [
    {
     "data": {
      "text/plain": [
       "['we will s', 'lit this string into ', 'ieces']"
      ]
     },
     "execution_count": 15,
     "metadata": {},
     "output_type": "execute_result"
    }
   ],
   "source": [
    "'we will split this string into pieces'.split(\"p\") "
   ]
  },
  {
   "cell_type": "markdown",
   "metadata": {},
   "source": [
    "This returns 3 separate strings, which are broken out by wherever `p` occurs in the substring.\n",
    "\n",
    "Strings can also be separated by a sequence of characters "
   ]
  },
  {
   "cell_type": "code",
   "execution_count": 16,
   "metadata": {},
   "outputs": [
    {
     "data": {
      "text/plain": [
       "['we will split ',\n",
       " ' this other string ',\n",
       " ' on the basis ',\n",
       " ' of where the ',\n",
       " ' words occur']"
      ]
     },
     "execution_count": 16,
     "metadata": {},
     "output_type": "execute_result"
    }
   ],
   "source": [
    "'we will split um this other string um on the basis um of where the um words occur'.split('um')"
   ]
  },
  {
   "cell_type": "markdown",
   "metadata": {},
   "source": [
    "3. **Finding the first index where a character appears in a string** with the `find()` function:"
   ]
  },
  {
   "cell_type": "code",
   "execution_count": 17,
   "metadata": {},
   "outputs": [
    {
     "data": {
      "text/plain": [
       "5"
      ]
     },
     "execution_count": 17,
     "metadata": {},
     "output_type": "execute_result"
    }
   ],
   "source": [
    "'here is a test string for which we will find the first ooccurrence of the letter i'.find('i')"
   ]
  },
  {
   "cell_type": "markdown",
   "metadata": {},
   "source": [
    "4. **Replacing characters appears in a strings** with the `replace()` function:"
   ]
  },
  {
   "cell_type": "code",
   "execution_count": 18,
   "metadata": {},
   "outputs": [
    {
     "data": {
      "text/plain": [
       "'here js a test strjng for whjch we wjll replace ooccurrence of one letter wjth another'"
      ]
     },
     "execution_count": 18,
     "metadata": {},
     "output_type": "execute_result"
    }
   ],
   "source": [
    "'here is a test string for which we will replace ooccurrence of one letter with another'.replace('i','j')"
   ]
  },
  {
   "cell_type": "code",
   "execution_count": 19,
   "metadata": {},
   "outputs": [
    {
     "data": {
      "text/plain": [
       "'this also works for full words and phrases, pretty swell, huh?'"
      ]
     },
     "execution_count": 19,
     "metadata": {},
     "output_type": "execute_result"
    }
   ],
   "source": [
    "'this also works for full words and phrases, pretty neat, huh?'.replace('neat','swell')"
   ]
  },
  {
   "cell_type": "markdown",
   "metadata": {},
   "source": [
    "The `len()` function returns the number of characters in the string"
   ]
  },
  {
   "cell_type": "code",
   "execution_count": 20,
   "metadata": {},
   "outputs": [
    {
     "data": {
      "text/plain": [
       "53"
      ]
     },
     "execution_count": 20,
     "metadata": {},
     "output_type": "execute_result"
    }
   ],
   "source": [
    "test_str = \"use len() to count the number of chars in this string\"\n",
    "len(test_str)"
   ]
  },
  {
   "cell_type": "markdown",
   "metadata": {},
   "source": [
    "It's easy to convert strings between upper and lower case with the `string.upper()` and `string.lower()` methods\""
   ]
  },
  {
   "cell_type": "code",
   "execution_count": 21,
   "metadata": {},
   "outputs": [
    {
     "name": "stdout",
     "output_type": "stream",
     "text": [
      "alternating cases\n",
      "ALTERNATING CASES\n"
     ]
    }
   ],
   "source": [
    "test_str = \"AlTeRnAtInG cAsEs\"\n",
    "print(test_str.lower()) # Converts all chars to lowercase\n",
    "print(test_str.upper()) # Converts all chars to uppercase"
   ]
  },
  {
   "cell_type": "markdown",
   "metadata": {},
   "source": [
    "### String formatting\n",
    "\n",
    "It's often convenient to  create strings formatted from a combination of strings, numbers, and other data. In Python 3 this can be handled in two ways: the format string method. E.g.:\n"
   ]
  },
  {
   "cell_type": "code",
   "execution_count": 22,
   "metadata": {},
   "outputs": [
    {
     "name": "stdout",
     "output_type": "stream",
     "text": [
      "My name is Aakash. I am an instructor for py4wrds.\n"
     ]
    }
   ],
   "source": [
    "name = \"Aakash\"\n",
    "course = \"py4wrds\"\n",
    "# Prints: My name is Andreas. I am the instructor for CME211.\n",
    "print(\"My name is {0}. I am an instructor for {1}.\".format(name,course))"
   ]
  },
  {
   "cell_type": "markdown",
   "metadata": {},
   "source": [
    "Format strings contain “replacement fields” surrounded by curly braces `{}`. Anything that is not contained in braces is considered literal text, which is copied unchanged to the output. \n",
    "\n",
    "If you need to include a brace character in the literal text, it can be escaped by doubling the braces: i.e. use {{ and }}. The number in the braces refers to the order of arguments passed to format. \n",
    "\n",
    "Numbers don’t need to be specified if the sequence of braces has the same order as arguments:"
   ]
  },
  {
   "cell_type": "code",
   "execution_count": 23,
   "metadata": {},
   "outputs": [
    {
     "name": "stdout",
     "output_type": "stream",
     "text": [
      "this course is py4wrds, and 25 students are in attendance\n"
     ]
    }
   ],
   "source": [
    "course = 'py4wrds'\n",
    "number_of_students = 25\n",
    "print(\"this course is {}, and {} students are in attendance\".format(course ,number_of_students))"
   ]
  },
  {
   "cell_type": "markdown",
   "metadata": {},
   "source": [
    "Another way to handle string formatting is with F-strings, where variable names can be inserted directly into the curly braces"
   ]
  },
  {
   "cell_type": "code",
   "execution_count": 24,
   "metadata": {},
   "outputs": [
    {
     "name": "stdout",
     "output_type": "stream",
     "text": [
      "The area of a circle of radius 4 is 50.26548245743669\n"
     ]
    }
   ],
   "source": [
    "import math\n",
    "r = 4\n",
    "print(f\"The area of a circle of radius {r} is {math.pi * math.pow(r, 2)}\")"
   ]
  },
  {
   "cell_type": "markdown",
   "metadata": {},
   "source": [
    "To summarize, string formatting is a good way to combine text and numeric data. It’s also how we control the output of floating point numbers:"
   ]
  },
  {
   "cell_type": "code",
   "execution_count": 25,
   "metadata": {},
   "outputs": [
    {
     "name": "stdout",
     "output_type": "stream",
     "text": [
      " {:f}: 42.420000\n",
      " {:g}: 42.42\n",
      " {:e}: 4.242000e+01\n",
      " {:.2e}: 4.24e+01\n",
      "{: 8.2e}:  4.24e+01\n",
      "{: 8.2e}: -1.00e+00\n"
     ]
    }
   ],
   "source": [
    "# Fixed point precision (always uses six significant decimal digits).\n",
    "print(\" {{:f}}: {:f}\".format(42.42)) # Prints 42.40000\n",
    "# General format (knows how to drop trailing zeros in decimals).\n",
    "print(\" {{:g}}: {:g}\".format(42.42)) # Prints 42.42\n",
    "# Exponent (scientific) notation.\n",
    "print(\" {{:e}}: {:e}\".format(42.42)) # Prints 4.242000e+01\n",
    "\n",
    "# We can also specify how many digits of precision we want.\n",
    "print(\" {{:.2e}}: {:.2e}\".format(42.42)) # Prints 4.24e+01.\n",
    "\n",
    "# Or we can specify the width of our output (excluding +/- signs).\n",
    "print(\"{{: 8.2e}}: {: 8.2e}\".format(42.42)) # Prints total of 8 chars: 4.24e+01\n",
    "print(\"{{: 8.2e}}: {: 8.2e}\".format(-1.0)) # Prints -1.00e+00"
   ]
  },
  {
   "cell_type": "markdown",
   "metadata": {},
   "source": [
    "## Numbers\n",
    "\n",
    "Recall that numbers in python are represented by the `int` and `float` types. We can perform all standard numerical operations: \n",
    "\n",
    "* `x + y` : sum of `x` and `y`\n",
    "* `x - y` : differenceof `x` and `y`\n",
    "* `x * y` : productof `x` and `y`\n",
    "* `x / y` : quotientof `x` and `y`\n",
    "* `x//y` : floored quotient of x and y\n",
    "* `x % y` : remainderof `x` / `y`\n",
    "* `-x` : `x` negated\n",
    "* `+x` : `x` unchanged\n",
    "* `abs(x)` : absolute value (i.e. magnitude)\n",
    "* `int(x)` : `x` converted to integer\n",
    "* `float(x)` : `x` converted to floating point\n",
    "* `x ** y` : `x` tothepower `y`\n",
    "\n",
    "A full list of numerical operations can be found in the [official python documentation](https://docs.python.org/3/library/stdtypes.html#numeric-types-int-float-complex)"
   ]
  },
  {
   "cell_type": "markdown",
   "metadata": {},
   "source": [
    "### Complex Numbers\n",
    "Python supports complex numbers, with the character `j` denoting the imaginary part:"
   ]
  },
  {
   "cell_type": "code",
   "execution_count": 26,
   "metadata": {},
   "outputs": [],
   "source": [
    "complex_num = 3 + 4j"
   ]
  },
  {
   "cell_type": "markdown",
   "metadata": {},
   "source": [
    "The real and imaginary parts can be accessed by using `.real` and `.imag` synyax"
   ]
  },
  {
   "cell_type": "code",
   "execution_count": 27,
   "metadata": {},
   "outputs": [
    {
     "name": "stdout",
     "output_type": "stream",
     "text": [
      "3.0\n",
      "4.0\n"
     ]
    }
   ],
   "source": [
    "print(complex_num.real)\n",
    "print(complex_num.imag)"
   ]
  },
  {
   "cell_type": "markdown",
   "metadata": {},
   "source": [
    "### Numerical Conversions\n",
    "Python will automatically convert between numerical types of when performing operations:"
   ]
  },
  {
   "cell_type": "code",
   "execution_count": 28,
   "metadata": {},
   "outputs": [
    {
     "name": "stdout",
     "output_type": "stream",
     "text": [
      "5.4\n"
     ]
    }
   ],
   "source": [
    "float_num = 3.4\n",
    "int_num = 2\n",
    "print(float_num + int_num)"
   ]
  },
  {
   "cell_type": "markdown",
   "metadata": {},
   "source": [
    "Notice that the **integer** in the operation was converted to a **float** type automatically before performing the calculation. This is known as **widening** \n",
    "\n",
    "The same type of **widening** occurs when combining floats/ints with complex numbers: "
   ]
  },
  {
   "cell_type": "code",
   "execution_count": 29,
   "metadata": {},
   "outputs": [
    {
     "name": "stdout",
     "output_type": "stream",
     "text": [
      "(10.2+13.6j)\n",
      "(6+8j)\n"
     ]
    }
   ],
   "source": [
    "print(float_num * complex_num)\n",
    "print(int_num * complex_num)"
   ]
  },
  {
   "cell_type": "markdown",
   "metadata": {},
   "source": [
    "In python, converting between `float` and `int` types is also easy: "
   ]
  },
  {
   "cell_type": "code",
   "execution_count": 30,
   "metadata": {},
   "outputs": [
    {
     "name": "stdout",
     "output_type": "stream",
     "text": [
      "<class 'int'>\n"
     ]
    }
   ],
   "source": [
    "float_num = 2.7\n",
    "x = int(float_num)\n",
    "print(type(x))"
   ]
  },
  {
   "cell_type": "markdown",
   "metadata": {},
   "source": [
    "Notice that floats converted to ints are automatically **rounded towards zero** : "
   ]
  },
  {
   "cell_type": "code",
   "execution_count": 31,
   "metadata": {},
   "outputs": [
    {
     "name": "stdout",
     "output_type": "stream",
     "text": [
      "2\n"
     ]
    }
   ],
   "source": [
    "print(x)"
   ]
  },
  {
   "cell_type": "markdown",
   "metadata": {},
   "source": [
    "We can observe this to be true by testing a negative number:"
   ]
  },
  {
   "cell_type": "code",
   "execution_count": 32,
   "metadata": {},
   "outputs": [
    {
     "data": {
      "text/plain": [
       "-3"
      ]
     },
     "execution_count": 32,
     "metadata": {},
     "output_type": "execute_result"
    }
   ],
   "source": [
    "x = -3.8\n",
    "int(x)"
   ]
  },
  {
   "cell_type": "markdown",
   "metadata": {},
   "source": [
    "### Converting numbers to/from strings\n",
    "\n",
    "Python makes it simple to convert numbers to/from strings. This is especially useful when reading data from a text file:"
   ]
  },
  {
   "cell_type": "code",
   "execution_count": 33,
   "metadata": {},
   "outputs": [
    {
     "name": "stdout",
     "output_type": "stream",
     "text": [
      "234\n",
      "<class 'int'>\n"
     ]
    }
   ],
   "source": [
    "string_num = '234'\n",
    "print(int(string_num))\n",
    "print(type(int(string_num)))"
   ]
  },
  {
   "cell_type": "code",
   "execution_count": 34,
   "metadata": {},
   "outputs": [
    {
     "name": "stdout",
     "output_type": "stream",
     "text": [
      "234.0\n",
      "<class 'float'>\n"
     ]
    }
   ],
   "source": [
    "string_num = '234'\n",
    "print(float(string_num))\n",
    "print(type(float(string_num)))"
   ]
  },
  {
   "cell_type": "markdown",
   "metadata": {},
   "source": [
    "Simiarly, it's simple to convert from a numerical type to a string, using the `str()` constructor`"
   ]
  },
  {
   "cell_type": "code",
   "execution_count": 35,
   "metadata": {},
   "outputs": [
    {
     "name": "stdout",
     "output_type": "stream",
     "text": [
      "25.0\n",
      "<class 'str'>\n"
     ]
    }
   ],
   "source": [
    "float_num = 25.\n",
    "print(str(float_num))\n",
    "print(type(str(float_num)))"
   ]
  },
  {
   "cell_type": "markdown",
   "metadata": {},
   "source": [
    "Note that attempting to concatenate a string with a numerical type will yield an error: "
   ]
  },
  {
   "cell_type": "code",
   "execution_count": 36,
   "metadata": {},
   "outputs": [
    {
     "ename": "TypeError",
     "evalue": "can only concatenate str (not \"int\") to str",
     "output_type": "error",
     "traceback": [
      "\u001b[0;31m---------------------------------------------------------------------------\u001b[0m",
      "\u001b[0;31mTypeError\u001b[0m                                 Traceback (most recent call last)",
      "Cell \u001b[0;32mIn[36], line 1\u001b[0m\n\u001b[0;32m----> 1\u001b[0m \u001b[38;5;28mprint\u001b[39m(\u001b[38;5;124;43m'\u001b[39;49m\u001b[38;5;124;43mstringy string string \u001b[39;49m\u001b[38;5;124;43m'\u001b[39;49m\u001b[43m \u001b[49m\u001b[38;5;241;43m+\u001b[39;49m\u001b[43m \u001b[49m\u001b[38;5;241;43m58\u001b[39;49m)\n",
      "\u001b[0;31mTypeError\u001b[0m: can only concatenate str (not \"int\") to str"
     ]
    }
   ],
   "source": [
    "print('stringy string string ' + 58)"
   ]
  },
  {
   "cell_type": "markdown",
   "metadata": {},
   "source": [
    "This is best handled using F-strings or string formatting: "
   ]
  },
  {
   "cell_type": "code",
   "execution_count": 37,
   "metadata": {},
   "outputs": [
    {
     "name": "stdout",
     "output_type": "stream",
     "text": [
      "stringy string string 58 with fstrings 456 \n"
     ]
    }
   ],
   "source": [
    "my_int = 456\n",
    "print(f'stringy string string {58} with fstrings {my_int} ')"
   ]
  },
  {
   "cell_type": "markdown",
   "metadata": {},
   "source": [
    "### Booleans \n",
    "\n",
    "A **Boolean** or **Bool** for short, is simply a value of `True` or `False`. You've probably heard of these if you have doen any programming. \n",
    "\n",
    "Booleans are useful for checking data types, and lots of other things we'll cover later. \n",
    "\n",
    "For now, consider the following examples: "
   ]
  },
  {
   "cell_type": "code",
   "execution_count": 38,
   "metadata": {},
   "outputs": [
    {
     "data": {
      "text/plain": [
       "True"
      ]
     },
     "execution_count": 38,
     "metadata": {},
     "output_type": "execute_result"
    }
   ],
   "source": [
    "my_int_var = 42\n",
    "type(my_int_var) is int"
   ]
  },
  {
   "cell_type": "code",
   "execution_count": 39,
   "metadata": {},
   "outputs": [
    {
     "data": {
      "text/plain": [
       "False"
      ]
     },
     "execution_count": 39,
     "metadata": {},
     "output_type": "execute_result"
    }
   ],
   "source": [
    "my_int_var = 42\n",
    "type(my_int_var) is float"
   ]
  },
  {
   "cell_type": "markdown",
   "metadata": {},
   "source": [
    "Notice we are usint the word `is` here to check whether the variable is an `int` type or a `float` type\n",
    "\n",
    "We can also string together multiple statements using the following **Boolean Operators** : `and`, `or`, `not`"
   ]
  },
  {
   "cell_type": "code",
   "execution_count": 40,
   "metadata": {},
   "outputs": [
    {
     "data": {
      "text/plain": [
       "True"
      ]
     },
     "execution_count": 40,
     "metadata": {},
     "output_type": "execute_result"
    }
   ],
   "source": [
    "my_int_var = 42\n",
    "my_float_var = 42.\n",
    "\n",
    "# Returns True\n",
    "type(my_int_var) is int and type(my_float_var) is float"
   ]
  },
  {
   "cell_type": "code",
   "execution_count": 41,
   "metadata": {},
   "outputs": [
    {
     "data": {
      "text/plain": [
       "False"
      ]
     },
     "execution_count": 41,
     "metadata": {},
     "output_type": "execute_result"
    }
   ],
   "source": [
    "# Returns False\n",
    "type(my_int_var) is int and type(my_int_var) is float"
   ]
  },
  {
   "cell_type": "code",
   "execution_count": 42,
   "metadata": {},
   "outputs": [
    {
     "name": "stdout",
     "output_type": "stream",
     "text": [
      "True\n"
     ]
    }
   ],
   "source": [
    "# Returns True\n",
    "print(type(my_int_var) is int or type(my_int_var) is float)"
   ]
  },
  {
   "cell_type": "code",
   "execution_count": 43,
   "metadata": {},
   "outputs": [
    {
     "data": {
      "text/plain": [
       "True"
      ]
     },
     "execution_count": 43,
     "metadata": {},
     "output_type": "execute_result"
    }
   ],
   "source": [
    "# Returns True\n",
    "type(my_int_var) is not float"
   ]
  },
  {
   "cell_type": "code",
   "execution_count": 44,
   "metadata": {},
   "outputs": [
    {
     "data": {
      "text/plain": [
       "False"
      ]
     },
     "execution_count": 44,
     "metadata": {},
     "output_type": "execute_result"
    }
   ],
   "source": [
    "# Returns False\n",
    "type(my_int_var) is not int"
   ]
  },
  {
   "cell_type": "markdown",
   "metadata": {},
   "source": [
    "These operators can be combined to form complex expressions and improve the readability and robustness of python programs. We will use these operators and revisit boolean logic througout this course."
   ]
  },
  {
   "cell_type": "markdown",
   "metadata": {},
   "source": [
    "## Lists\n",
    "\n",
    "**Lists** are the most important and common data type in Python. A list is simply an ordered collection of items. Think of a vector in mathematics, or a grocery list of items to be purchased. In python, we can create lists using the square brackets `[ ]`: "
   ]
  },
  {
   "cell_type": "code",
   "execution_count": 45,
   "metadata": {},
   "outputs": [
    {
     "name": "stdout",
     "output_type": "stream",
     "text": [
      "[1, 2, 3, 4, 5]\n",
      "['a', 'b', 'c', 'd', 'e']\n"
     ]
    }
   ],
   "source": [
    "list_a = [1,2,3,4,5]\n",
    "print(list_a)\n",
    "list_b = ['a','b','c','d','e']\n",
    "print(list_b)"
   ]
  },
  {
   "cell_type": "markdown",
   "metadata": {},
   "source": [
    "A list can be comprised of any data type, or multiple data types: "
   ]
  },
  {
   "cell_type": "code",
   "execution_count": 49,
   "metadata": {},
   "outputs": [
    {
     "name": "stdout",
     "output_type": "stream",
     "text": [
      "['a', 2, False, 4, 'am I a list, or an element?', 17.5, True]\n"
     ]
    }
   ],
   "source": [
    "list_of_many_types = [\"a\", 2, False, 4, \"am I a list, or an element?\", 17.5, True]\n",
    "print(list_of_many_types)"
   ]
  },
  {
   "cell_type": "markdown",
   "metadata": {},
   "source": [
    "Each item in a list is called an **element** \n",
    "\n",
    "We can call the `len()` operator to determine the number of elements in a list:"
   ]
  },
  {
   "cell_type": "code",
   "execution_count": 51,
   "metadata": {},
   "outputs": [
    {
     "data": {
      "text/plain": [
       "7"
      ]
     },
     "execution_count": 51,
     "metadata": {},
     "output_type": "execute_result"
    }
   ],
   "source": [
    "len(list_of_many_types)"
   ]
  },
  {
   "cell_type": "markdown",
   "metadata": {},
   "source": [
    "### Accessing elements in lists\n",
    "\n",
    "We can access any element of a list using the same style of indexing used to access characters in strings (square brackets after the variable name).\n",
    "\n",
    "Remember - the first element in a list is index 0:"
   ]
  },
  {
   "cell_type": "code",
   "execution_count": 50,
   "metadata": {},
   "outputs": [
    {
     "name": "stdout",
     "output_type": "stream",
     "text": [
      "a\n",
      "2\n",
      "False\n",
      "am I a list, or an element?\n"
     ]
    }
   ],
   "source": [
    "print(list_of_many_types[0])\n",
    "print(list_of_many_types[1])\n",
    "print(list_of_many_types[2])\n",
    "print(list_of_many_types[4])"
   ]
  },
  {
   "cell_type": "markdown",
   "metadata": {},
   "source": [
    "We can also index lists negatively, similar to how we were able to access characters in strings:"
   ]
  },
  {
   "cell_type": "code",
   "execution_count": 55,
   "metadata": {},
   "outputs": [
    {
     "name": "stdout",
     "output_type": "stream",
     "text": [
      "True\n",
      "17.5\n"
     ]
    }
   ],
   "source": [
    "print(list_of_many_types[-1])\n",
    "print(list_of_many_types[-2])"
   ]
  },
  {
   "cell_type": "markdown",
   "metadata": {},
   "source": [
    "### Slicing\n",
    "We can access a subset of a list using **Slicing** in the same way that we are able to access substrings:"
   ]
  },
  {
   "cell_type": "code",
   "execution_count": 57,
   "metadata": {},
   "outputs": [
    {
     "data": {
      "text/plain": [
       "[False, 4, 'am I a list, or an element?']"
      ]
     },
     "execution_count": 57,
     "metadata": {},
     "output_type": "execute_result"
    }
   ],
   "source": [
    "list_of_many_types = [\"a\", 2, False, 4, \"am I a list, or an element?\", 17.5, True]\n",
    "list_of_many_types[2:5]"
   ]
  },
  {
   "cell_type": "markdown",
   "metadata": {},
   "source": [
    "We call the `[2:5]` a **slice**, which also returns a list of with elements at positions 2,3, and 4 in the original list. \n",
    "\n",
    "We can also slice to presesrve the start or end of the list, by keeping one side of the colon blank: "
   ]
  },
  {
   "cell_type": "code",
   "execution_count": 60,
   "metadata": {},
   "outputs": [
    {
     "name": "stdout",
     "output_type": "stream",
     "text": [
      "[False, 4, 'am I a list, or an element?', 17.5, True]\n"
     ]
    },
    {
     "data": {
      "text/plain": [
       "['a', 2, False]"
      ]
     },
     "execution_count": 60,
     "metadata": {},
     "output_type": "execute_result"
    }
   ],
   "source": [
    "# Start with third element, go to end. \n",
    "print(list_of_many_types[2:]) \n",
    "\n",
    "# Extract elements indexed at positions 0, 1, and 2.\n",
    "list_of_many_types[:3] "
   ]
  },
  {
   "cell_type": "markdown",
   "metadata": {},
   "source": [
    "Let's say we want to slice a list and select every `k`th entry - we can add an extra set of parantheses to the slicing syntax to set the 'step':"
   ]
  },
  {
   "cell_type": "code",
   "execution_count": 112,
   "metadata": {},
   "outputs": [
    {
     "data": {
      "text/plain": [
       "[4, 25, 64]"
      ]
     },
     "execution_count": 112,
     "metadata": {},
     "output_type": "execute_result"
    }
   ],
   "source": [
    "list_of_squares =[1,4,9,16,25,36,49,64,81]\n",
    "# slice the list starting at 2nd element, ending at 9th element, selecting every 3rd element\n",
    "list_of_squares[1:9:3] "
   ]
  },
  {
   "cell_type": "markdown",
   "metadata": {},
   "source": [
    "### List operations\n",
    "The `+` operator combines lists. This is also called concatenation. "
   ]
  },
  {
   "cell_type": "code",
   "execution_count": 61,
   "metadata": {},
   "outputs": [
    {
     "name": "stdout",
     "output_type": "stream",
     "text": [
      "['a', 4, 'one', 3.4, 'b', 6, 'two', 7.8]\n"
     ]
    }
   ],
   "source": [
    "list_one = ['a',4,'one',3.4]\n",
    "list_two = ['b',6,'two',7.8]\n",
    "print(list_one + list_two)"
   ]
  },
  {
   "cell_type": "markdown",
   "metadata": {},
   "source": [
    "The `*` operator can be used to repeat lists:"
   ]
  },
  {
   "cell_type": "code",
   "execution_count": 63,
   "metadata": {},
   "outputs": [
    {
     "data": {
      "text/plain": [
       "['a', 4, 'one', 3.4, 'a', 4, 'one', 3.4]"
      ]
     },
     "execution_count": 63,
     "metadata": {},
     "output_type": "execute_result"
    }
   ],
   "source": [
    "list_one * 2"
   ]
  },
  {
   "cell_type": "code",
   "execution_count": 64,
   "metadata": {},
   "outputs": [
    {
     "data": {
      "text/plain": [
       "['b', 6, 'two', 7.8, 'b', 6, 'two', 7.8]"
      ]
     },
     "execution_count": 64,
     "metadata": {},
     "output_type": "execute_result"
    }
   ],
   "source": [
    "2 * list_two"
   ]
  },
  {
   "cell_type": "markdown",
   "metadata": {},
   "source": [
    "### Lists are mutable\n",
    "\n",
    "Lists can be modified 'in place', meaning that individual elements can be changed"
   ]
  },
  {
   "cell_type": "code",
   "execution_count": 81,
   "metadata": {},
   "outputs": [
    {
     "name": "stdout",
     "output_type": "stream",
     "text": [
      "['a', 4, 'one', 3.4]\n"
     ]
    }
   ],
   "source": [
    "list_one = ['a',4,'one',3.4]\n",
    "print(list_one)"
   ]
  },
  {
   "cell_type": "code",
   "execution_count": 82,
   "metadata": {},
   "outputs": [
    {
     "name": "stdout",
     "output_type": "stream",
     "text": [
      "['a', 4, 'one', 'last element']\n"
     ]
    }
   ],
   "source": [
    "# assign a new value to index -1, i.e. replace float 3.4 with string \"last element\"\n",
    "list_one[-1] = 'last element'\n",
    "print(list_one)"
   ]
  },
  {
   "cell_type": "markdown",
   "metadata": {},
   "source": [
    "We can also assign slices:"
   ]
  },
  {
   "cell_type": "code",
   "execution_count": 83,
   "metadata": {},
   "outputs": [
    {
     "name": "stdout",
     "output_type": "stream",
     "text": [
      "['a', 2, 3, 'last element']\n"
     ]
    }
   ],
   "source": [
    "list_one[1:3] = [2,3]\n",
    "print(list_one)"
   ]
  },
  {
   "cell_type": "markdown",
   "metadata": {},
   "source": [
    "### Copying lists \n",
    "\n",
    "Let’s attempt to copy a list referenced by variable `a` to another variable `b`:"
   ]
  },
  {
   "cell_type": "code",
   "execution_count": 85,
   "metadata": {},
   "outputs": [
    {
     "name": "stdout",
     "output_type": "stream",
     "text": [
      "['a', 1, 'c']\n",
      "['a', 1, 'c']\n"
     ]
    }
   ],
   "source": [
    "a = ['a','b', 'c'] # define list a\n",
    "b = a # attempt to copy a to b\n",
    "b[1] = 1 # changing an element in list b\n",
    "print(b) # confirming the change was made to the second element in list b\n",
    "print(a) # but HOLD UP! we also modified the second element in list a ! "
   ]
  },
  {
   "cell_type": "markdown",
   "metadata": {},
   "source": [
    "This is very interesting - we modified list b, but that caused list a to change. \n",
    "\n",
    "Let's try another way to copy the list: "
   ]
  },
  {
   "cell_type": "code",
   "execution_count": 89,
   "metadata": {},
   "outputs": [
    {
     "name": "stdout",
     "output_type": "stream",
     "text": [
      "a:  ['a', 1, 'c']\n",
      "b:  ['a', 1, 'c']\n",
      "c:  ['a', 'b', 'c']\n",
      "d:  ['a', 'b', 'c']\n"
     ]
    }
   ],
   "source": [
    "a = ['a', 'b', 'c']\n",
    "b = a #first attempt to copy a to b\n",
    "c = list(a) # second attempt to copy a to c using the list constructor\n",
    "d = a[:]\n",
    "\n",
    "b[1] = 1 # now we want to change an element in b\n",
    "\n",
    "print(\"a: \", a) # list 'a' got modified (unintentionally).\n",
    "print(\"b: \", b) # list 'b' of course got modified (intentionally).\n",
    "print(\"c: \", c) # list 'c' got preserved, success!\n",
    "print(\"d: \", d) # list 'd' got preserved, another success!"
   ]
  },
  {
   "cell_type": "markdown",
   "metadata": {},
   "source": [
    "What do we observe?  A list can be copied with b = list(a) or b = a[:]. \n",
    "The second option is a slice including all elements! Why does python work this way? "
   ]
  },
  {
   "cell_type": "markdown",
   "metadata": {},
   "source": [
    "### Python's data model\n",
    "\n",
    "Why do we observe the behavior in the previous example? \n",
    "* **Variables in Python are references to objects in memory.**\n",
    "* **Assignment with the = operator sets the variable to refer to an object.**\n",
    "\n",
    "Here is a simple example:"
   ]
  },
  {
   "cell_type": "code",
   "execution_count": 90,
   "metadata": {},
   "outputs": [
    {
     "name": "stdout",
     "output_type": "stream",
     "text": [
      "[1, 'modified', 3, 4]\n",
      "[1, 'modified', 3, 4]\n"
     ]
    }
   ],
   "source": [
    "a = [1,2,3,4]\n",
    "b = a\n",
    "b[1] = 'modified'\n",
    "print(a)\n",
    "print(b)"
   ]
  },
  {
   "cell_type": "markdown",
   "metadata": {},
   "source": [
    "Notice that list `a` and list `b` are identical - In this example, we assigned `a` to `b` via `b = a`. \n",
    "\n",
    "**This did not copy the data**, it only copied the **reference to the list object in memory**. \n",
    "\n",
    "Thus, modifying the list through object `b` also changes the data that you will see when accessing object `a`. \n",
    "\n",
    "You can inspect the memory addresses in Python with the `id` command:"
   ]
  },
  {
   "cell_type": "code",
   "execution_count": 92,
   "metadata": {},
   "outputs": [
    {
     "name": "stdout",
     "output_type": "stream",
     "text": [
      "id(a):  4419101376\n",
      "id(b):  4419101376\n"
     ]
    }
   ],
   "source": [
    "print(\"id(a): \", id(a)) # These two variables...\n",
    "print(\"id(b): \", id(b)) # ...both refer to the same object.\n"
   ]
  },
  {
   "cell_type": "markdown",
   "metadata": {},
   "source": [
    "Those numbers refer to memory addresses on the computer. "
   ]
  },
  {
   "cell_type": "markdown",
   "metadata": {},
   "source": [
    "### Copying objects and data\n",
    "\n",
    "So how do we copy objects and data generally, without having to call the appropriate constructor every time?\n",
    "\n",
    "The `copy` function in the `copy` module is a generic way to copy a list:"
   ]
  },
  {
   "cell_type": "code",
   "execution_count": 93,
   "metadata": {},
   "outputs": [],
   "source": [
    "import copy"
   ]
  },
  {
   "cell_type": "code",
   "execution_count": 95,
   "metadata": {},
   "outputs": [
    {
     "name": "stdout",
     "output_type": "stream",
     "text": [
      "[1, 2, 3, 'xyz']\n",
      "[1, 2, 3, 'abc']\n"
     ]
    }
   ],
   "source": [
    "a = [1,2,3,'abc']\n",
    "b = copy.copy(a)\n",
    "b[3] = 'xyz'\n",
    "print(b) # Variable b has its last element replaced.\n",
    "print(a) # Variabla a is unchanged, like we hoped."
   ]
  },
  {
   "cell_type": "markdown",
   "metadata": {},
   "source": [
    "Elements in a list (the individual items) are also references to memory location. For example if your list contains a list, this will happen when using copy.copy():"
   ]
  },
  {
   "cell_type": "code",
   "execution_count": 97,
   "metadata": {},
   "outputs": [
    {
     "name": "stdout",
     "output_type": "stream",
     "text": [
      "[2, 'string', [5555, 2, 3]]\n",
      "[2, 'string', [5555, 2, 3]]\n"
     ]
    }
   ],
   "source": [
    "sublist = [1,2,3]\n",
    "a = [2, 'string', sublist]\n",
    "b = copy.copy(a)\n",
    "b[2][0] = 5555\n",
    "print(b) # We modified the nested list...\n",
    "print(a) # ...which also affected the contents of variable 'a'."
   ]
  },
  {
   "cell_type": "markdown",
   "metadata": {},
   "source": [
    "What just happened? The element for the sub-list [5555, 2, 3] is actually a memory reference - when we copy the outer list, only references for the contained objects are copied. Therefore, modifying the copy `b` modifies the original `a`. Thus, we may need the function `copy.deepcopy()`:"
   ]
  },
  {
   "cell_type": "code",
   "execution_count": 98,
   "metadata": {},
   "outputs": [
    {
     "name": "stdout",
     "output_type": "stream",
     "text": [
      "[2, 'string', [5555, 2, 3]]\n",
      "[2, 'string', [1, 2, 3]]\n"
     ]
    }
   ],
   "source": [
    "sublist = [1,2,3]\n",
    "a = [2, 'string', sublist]\n",
    "b = copy.deepcopy(a)\n",
    "b[2][0] = 5555\n",
    "print(b) # Variable b had its third element modified.\n",
    "print(a) # But we can observe here that variable a is unchanged"
   ]
  },
  {
   "cell_type": "markdown",
   "metadata": {},
   "source": [
    "### Sorting lists \n",
    "\n",
    "Sorting lists in python is easy and can be very useful for lots of reasons."
   ]
  },
  {
   "cell_type": "code",
   "execution_count": 100,
   "metadata": {},
   "outputs": [
    {
     "name": "stdout",
     "output_type": "stream",
     "text": [
      "[0, 1, 2, 3, 4, 5, 6, 7, 8, 9]\n"
     ]
    }
   ],
   "source": [
    "my_list = list(range(10))\n",
    "print(my_list)"
   ]
  },
  {
   "cell_type": "code",
   "execution_count": 103,
   "metadata": {},
   "outputs": [
    {
     "name": "stdout",
     "output_type": "stream",
     "text": [
      "[7, 3, 8, 2, 5, 1, 0, 4, 6, 9]\n"
     ]
    }
   ],
   "source": [
    "import random\n",
    "random.shuffle(my_list)\n",
    "print(my_list)"
   ]
  },
  {
   "cell_type": "markdown",
   "metadata": {},
   "source": [
    "The command `random.shuffle` sorts the list in place, meaning the original list is modified. If we want to create a new list that is sorted, we can use the `sorted` function:"
   ]
  },
  {
   "cell_type": "code",
   "execution_count": 105,
   "metadata": {},
   "outputs": [
    {
     "name": "stdout",
     "output_type": "stream",
     "text": [
      "[0, 1, 2, 3, 4, 5, 6, 7, 8, 9]\n"
     ]
    }
   ],
   "source": [
    "my_sorted_list = sorted(my_list)\n",
    "print(my_sorted_list)"
   ]
  },
  {
   "cell_type": "markdown",
   "metadata": {},
   "source": [
    "we can also sort in place using the `.sort()` function:"
   ]
  },
  {
   "cell_type": "code",
   "execution_count": 108,
   "metadata": {},
   "outputs": [
    {
     "name": "stdout",
     "output_type": "stream",
     "text": [
      "[0, 1, 2, 3, 4, 5, 6, 7, 8, 9]\n"
     ]
    }
   ],
   "source": [
    "my_list.sort()\n",
    "print(my_list)"
   ]
  },
  {
   "cell_type": "markdown",
   "metadata": {},
   "source": [
    "#### List operations\n",
    "\n",
    "The following is a summary of operations that can be performed on lists: \n",
    "\n",
    "**`x` refers to an element, `s` refers to a list, and `n` refers to any integer**\n",
    "\n",
    "* `x in s`: returns `True` if an item of `s` is equal to `x`, else `False`\n",
    "* `x not in s`: returns False if an item of `s` is equal to `x`, else `True`\n",
    "* `s + t`, where `t` is another list: the concatenation of `s` and `t`.\n",
    "* `s * n` or `n * s`: equivalent to adding `s` to itself `n` times\n",
    "* `s[i]`: `i`th item of `s`, with start index of 0\n",
    "* `s[i:j]`: slice of `s` from index `i` to `j`\n",
    "* `s[i:j:k]`: slice of `s` from index `i` to index `j` with step `k`\n",
    "* `len(s)`: length of `s`\n",
    "* `min(s)`: smallest item of `s`\n",
    "* `max(s)`: largest item of `s`\n",
    "* `s.index(x)`: index of the first occurrence of `x` in `s`\n",
    "* `s.count(x)`: total number of occurrences of `x` in `s`\n",
    "* `s[i] = x`: assign element with index `i` in list `s` a new value of `x`\n",
    "\n",
    "In the examples below, **`x` refers to an element, `s` refers to a list, and `t` refers to another list**\n",
    "\n",
    "* `s[i:j] = t`: slice of `s` from `i` to `j` is replaced by the contents of another list `t`\n",
    "* `del s[i:j]`: remove elements between index `i` and `j` from `s`\n",
    "* `s[i:j] = []`: remove elements between index `i` and `j` from `s`\n",
    "* `s[i:j:k] = t`: the elements of `s[i:j:k]` are replaced by those of another list `t`\n",
    "* `del s[i:j:k]`: removes the elements of `s[i:j:k]` from the list `s`\n",
    "* `s.append(x)`: appends `x` to the end of the existing list `s`\n",
    "* `s.clear()`: removes all items from `s` (equivalent to `del s[:]`)\n",
    "* `s.copy()`: creates a shallow copy of `s` (equivalent to `s[:]`)\n",
    "* `s.extend(t)` or `s += t`: extends `s` with the contents of t (for the most part the same as `s[len(s):len(s)] = t`)\n",
    "* `s *= n`: updates `s` with its contents repeated `n` times\n",
    "* `s.insert(i, x)`: inserts `x` into `s` at the index given by `i` (equivalent to `s[i:i] = [x]`)\n",
    "* `s.pop([i])`: retrieves the item at `i` and also removes it from `s`\n",
    "* `s.remove(x)`: remove the first item from `s` where `s[i] == x`\n",
    "* `s.reverse()`: reverses the items of `s` in place\n",
    "* `s.sort()`: sorts the items of `s` in place"
   ]
  },
  {
   "cell_type": "markdown",
   "metadata": {},
   "source": [
    "**Lists** are the most important and common data type in Python, so understanding their construction and manipulation is important. \n",
    "\n",
    "The following are helpful resources about lists:\n",
    "* [Python tutorial on lists](https://docs.python.org/3/tutorial/introduction.html#lists)\n",
    "* [Python reference section on sequences](https://docs.python.org/3/library/stdtypes.html#sequence-types-list-tuple-range)\n",
    "* Python documentation, accessible by executing the command `help(list)`"
   ]
  },
  {
   "cell_type": "code",
   "execution_count": 113,
   "metadata": {},
   "outputs": [
    {
     "name": "stdout",
     "output_type": "stream",
     "text": [
      "Help on class list in module builtins:\n",
      "\n",
      "class list(object)\n",
      " |  list(iterable=(), /)\n",
      " |\n",
      " |  Built-in mutable sequence.\n",
      " |\n",
      " |  If no argument is given, the constructor creates a new empty list.\n",
      " |  The argument must be an iterable if specified.\n",
      " |\n",
      " |  Methods defined here:\n",
      " |\n",
      " |  __add__(self, value, /)\n",
      " |      Return self+value.\n",
      " |\n",
      " |  __contains__(self, key, /)\n",
      " |      Return bool(key in self).\n",
      " |\n",
      " |  __delitem__(self, key, /)\n",
      " |      Delete self[key].\n",
      " |\n",
      " |  __eq__(self, value, /)\n",
      " |      Return self==value.\n",
      " |\n",
      " |  __ge__(self, value, /)\n",
      " |      Return self>=value.\n",
      " |\n",
      " |  __getattribute__(self, name, /)\n",
      " |      Return getattr(self, name).\n",
      " |\n",
      " |  __getitem__(self, index, /)\n",
      " |      Return self[index].\n",
      " |\n",
      " |  __gt__(self, value, /)\n",
      " |      Return self>value.\n",
      " |\n",
      " |  __iadd__(self, value, /)\n",
      " |      Implement self+=value.\n",
      " |\n",
      " |  __imul__(self, value, /)\n",
      " |      Implement self*=value.\n",
      " |\n",
      " |  __init__(self, /, *args, **kwargs)\n",
      " |      Initialize self.  See help(type(self)) for accurate signature.\n",
      " |\n",
      " |  __iter__(self, /)\n",
      " |      Implement iter(self).\n",
      " |\n",
      " |  __le__(self, value, /)\n",
      " |      Return self<=value.\n",
      " |\n",
      " |  __len__(self, /)\n",
      " |      Return len(self).\n",
      " |\n",
      " |  __lt__(self, value, /)\n",
      " |      Return self<value.\n",
      " |\n",
      " |  __mul__(self, value, /)\n",
      " |      Return self*value.\n",
      " |\n",
      " |  __ne__(self, value, /)\n",
      " |      Return self!=value.\n",
      " |\n",
      " |  __repr__(self, /)\n",
      " |      Return repr(self).\n",
      " |\n",
      " |  __reversed__(self, /)\n",
      " |      Return a reverse iterator over the list.\n",
      " |\n",
      " |  __rmul__(self, value, /)\n",
      " |      Return value*self.\n",
      " |\n",
      " |  __setitem__(self, key, value, /)\n",
      " |      Set self[key] to value.\n",
      " |\n",
      " |  __sizeof__(self, /)\n",
      " |      Return the size of the list in memory, in bytes.\n",
      " |\n",
      " |  append(self, object, /)\n",
      " |      Append object to the end of the list.\n",
      " |\n",
      " |  clear(self, /)\n",
      " |      Remove all items from list.\n",
      " |\n",
      " |  copy(self, /)\n",
      " |      Return a shallow copy of the list.\n",
      " |\n",
      " |  count(self, value, /)\n",
      " |      Return number of occurrences of value.\n",
      " |\n",
      " |  extend(self, iterable, /)\n",
      " |      Extend list by appending elements from the iterable.\n",
      " |\n",
      " |  index(self, value, start=0, stop=9223372036854775807, /)\n",
      " |      Return first index of value.\n",
      " |\n",
      " |      Raises ValueError if the value is not present.\n",
      " |\n",
      " |  insert(self, index, object, /)\n",
      " |      Insert object before index.\n",
      " |\n",
      " |  pop(self, index=-1, /)\n",
      " |      Remove and return item at index (default last).\n",
      " |\n",
      " |      Raises IndexError if list is empty or index is out of range.\n",
      " |\n",
      " |  remove(self, value, /)\n",
      " |      Remove first occurrence of value.\n",
      " |\n",
      " |      Raises ValueError if the value is not present.\n",
      " |\n",
      " |  reverse(self, /)\n",
      " |      Reverse *IN PLACE*.\n",
      " |\n",
      " |  sort(self, /, *, key=None, reverse=False)\n",
      " |      Sort the list in ascending order and return None.\n",
      " |\n",
      " |      The sort is in-place (i.e. the list itself is modified) and stable (i.e. the\n",
      " |      order of two equal elements is maintained).\n",
      " |\n",
      " |      If a key function is given, apply it once to each list item and sort them,\n",
      " |      ascending or descending, according to their function values.\n",
      " |\n",
      " |      The reverse flag can be set to sort in descending order.\n",
      " |\n",
      " |  ----------------------------------------------------------------------\n",
      " |  Class methods defined here:\n",
      " |\n",
      " |  __class_getitem__(...)\n",
      " |      See PEP 585\n",
      " |\n",
      " |  ----------------------------------------------------------------------\n",
      " |  Static methods defined here:\n",
      " |\n",
      " |  __new__(*args, **kwargs)\n",
      " |      Create and return a new object.  See help(type) for accurate signature.\n",
      " |\n",
      " |  ----------------------------------------------------------------------\n",
      " |  Data and other attributes defined here:\n",
      " |\n",
      " |  __hash__ = None\n",
      "\n"
     ]
    }
   ],
   "source": [
    "help(list)"
   ]
  },
  {
   "cell_type": "markdown",
   "metadata": {},
   "source": [
    "### For loops and while loops\n",
    "\n",
    "**Loops** are another foundational concept in python programming. They are useful for repeating actions. \n",
    "\n",
    "There are two types of loops: `for` and `while`"
   ]
  },
  {
   "cell_type": "code",
   "execution_count": null,
   "metadata": {},
   "outputs": [],
   "source": []
  }
 ],
 "metadata": {
  "kernelspec": {
   "display_name": "Python 3 (ipykernel)",
   "language": "python",
   "name": "python3"
  },
  "language_info": {
   "codemirror_mode": {
    "name": "ipython",
    "version": 3
   },
   "file_extension": ".py",
   "mimetype": "text/x-python",
   "name": "python",
   "nbconvert_exporter": "python",
   "pygments_lexer": "ipython3",
   "version": "3.12.7"
  }
 },
 "nbformat": 4,
 "nbformat_minor": 4
}
