{
 "cells": [
  {
   "cell_type": "markdown",
   "metadata": {},
   "source": [
    "# 2. Python Fundamentals I \n",
    "\n",
    "1. Data types\n",
    "    1. Type checking\n",
    "    2. Type conversions and casting \n",
    "2. Strings\n",
    "    1. Construction - single vs double vs triple quotes \n",
    "    2. Slicing and indexing \n",
    "        1. Python is zero indexed! \n",
    "    3. String functions (add, split, find, replace)\n",
    "    4. String formatting (f-string, .format())\n",
    "3. Numbers\n",
    "    1. Ints vs floats \n",
    "    2. Logical Operations\n",
    "        1. Numeric operators (>,<,==)\n",
    "4. Booleans \n",
    "    1. Boolean Operators \n",
    "    2. AND / OR / NOT \n",
    "5. Control Flow\n",
    "    1. Boolean Logic\n",
    "    2. If / Else statements\n",
    "    3. Raising Errors\n",
    "    4. Exception handling with Try/Except \n",
    "6. Lists\n",
    "    1. Construction\n",
    "    2. Indexing\n",
    "    3. Slicing\n",
    "    4. Appending\n",
    "        1. For loops\n",
    "            1. List comprehension\n",
    "        2. The range() function\n",
    "        3. While loops \n",
    "        4. Continue, break, pass \n",
    "7. Tuples\n",
    "    1. Mutability \n",
    "8. Dictionaries \n",
    "    1. Creation\n",
    "    2. Accessing elements\n",
    "    3. Updating elements \n",
    "    4. Iteration \n",
    "        1. Keys\n",
    "        2. Values\n",
    "        3. Items\n",
    "    5. Json export and loading\n",
    "9. Sets\n",
    "    1. mutability \n",
    "10. File Input/Output\n",
    "    1. Reading text files with for loops \n"
   ]
  },
  {
   "cell_type": "code",
   "execution_count": null,
   "metadata": {},
   "outputs": [],
   "source": []
  }
 ],
 "metadata": {
  "kernelspec": {
   "display_name": "Python 3 (ipykernel)",
   "language": "python",
   "name": "python3"
  },
  "language_info": {
   "codemirror_mode": {
    "name": "ipython",
    "version": 3
   },
   "file_extension": ".py",
   "mimetype": "text/x-python",
   "name": "python",
   "nbconvert_exporter": "python",
   "pygments_lexer": "ipython3",
   "version": "3.9.18"
  }
 },
 "nbformat": 4,
 "nbformat_minor": 2
}
