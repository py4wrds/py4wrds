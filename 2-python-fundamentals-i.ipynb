{
 "cells": [
  {
   "cell_type": "markdown",
   "metadata": {},
   "source": [
    "# 2. Python fundamentals I\n",
    "\n",
    "1. Functions   \n",
    "   1. Anatomy of a function  \n",
    "      1. Arguments (positional, default, keyword, variable)  \n",
    "      2. Returning outputs  \n",
    "      3. Variable scope  \n",
    "      4. Documenting functionality with docstrings  \n",
    "      5. Type annotations  \n",
    "   2. Modularization: when to use a function  \n",
    "   3. Debugging nested errors with tracebacks  \n",
    "   4. Function decorators  \n",
    "   5. The functools library  \n",
    "      1. Freezing arguments with functools.partial  \n",
    "      2. Storing outputs with functools.cache  \n",
    "2. Modules  \n",
    "   1. Importing code from other modules  \n",
    "   2. Module layout  \n",
    "   3. Auto-reloading imported modules in jupyter  \n",
    "   4. Packages  \n",
    "3. Object oriented programing  \n",
    "   1. Objects and classes  \n",
    "      1. Class syntax  \n",
    "      2. Instances vs classes  \n",
    "      3. Methods  \n",
    "         1. Init  \n",
    "         2. \\_\\_str\\_\\_  \n",
    "         3. Classmethod and staticmethod  \n",
    "      4. Property methods  \n",
    "      5. When to use classes  \n",
    "      6. OOP for data science  \n",
    "   2. Dataclasses  \n",
    "      1. Constructing dataclasses  \n",
    "      2. Dataclasses vs dictionaries  \n",
    "   3. Inheritance  \n",
    "      1. Overriding functionality  \n",
    "      2. Calling super()  \n",
    "      3. Extending dataclasses"
   ]
  }
 ],
 "metadata": {
  "language_info": {
   "name": "python"
  }
 },
 "nbformat": 4,
 "nbformat_minor": 2
}
