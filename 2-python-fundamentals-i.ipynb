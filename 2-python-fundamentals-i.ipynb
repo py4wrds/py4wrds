{
 "cells": [
  {
   "cell_type": "markdown",
   "metadata": {},
   "source": [
    "# 2. Python Fundamentals I \n",
    "\n",
    "1. Data types\n",
    "    1. Type checking\n",
    "    2. Type conversions and casting \n",
    "2. Strings\n",
    "    1. Construction - single vs double vs triple quotes \n",
    "    2. Slicing and indexing \n",
    "        1. Python is zero indexed! \n",
    "    3. String functions (add, split, find, replace)\n",
    "    4. String formatting (f-string, .format())\n",
    "3. Numbers\n",
    "    1. Ints vs floats \n",
    "    2. Logical Operations\n",
    "        1. Numeric operators (>,<,==)\n",
    "4. Booleans \n",
    "    1. Boolean Operators \n",
    "    2. AND / OR / NOT \n",
    "5. Control Flow\n",
    "    1. Boolean Logic\n",
    "    2. If / Else statements\n",
    "    3. Raising Errors\n",
    "    4. Exception handling with Try/Except \n",
    "6. Lists\n",
    "    1. Construction\n",
    "    2. Indexing\n",
    "    3. Slicing\n",
    "    4. Appending\n",
    "        1. For loops\n",
    "            1. List comprehension\n",
    "        2. The range() function\n",
    "        3. While loops \n",
    "        4. Continue, break, pass \n",
    "7. Tuples\n",
    "    1. Mutability \n",
    "8. Dictionaries \n",
    "    1. Creation\n",
    "    2. Accessing elements\n",
    "    3. Updating elements \n",
    "    4. Iteration \n",
    "        1. Keys\n",
    "        2. Values\n",
    "        3. Items\n",
    "    5. Json export and loading\n",
    "9. Sets\n",
    "    1. mutability \n",
    "10. File Input/Output\n",
    "    1. Reading text files with for loops \n"
   ]
  },
  {
   "cell_type": "markdown",
   "metadata": {},
   "source": [
    "## Data Types\n",
    "\n",
    "### Fundamentals\n",
    "There are several fundamental types of objects in python:\n",
    "* `bool`: with values True and False\n",
    "* `str`: for alphanumeric text like \"Hello world\"\n",
    "* `int`: for integers like 1, 42, and -5\n",
    "* `float`: for floating point numbers like 96.8\n",
    "\n",
    "### Containers \n",
    "\n",
    "There are several types of 'continers' which can store multiple values of the previous data types: \n",
    "* `list`: a mutable ordered list of data values\n",
    "* `tupale`: an immutable, unordered list of data values\n",
    "* `dict`: a hash map which permits lookup on the basis of keys and values\n",
    "\n",
    "We will explore each of these data types and containers in this module. \n",
    "\n",
    "### Type checking\n",
    "\n",
    "You can check the type of any python object by issuing the `type()` command and inspecting the output\n",
    "\n",
    "### Casting\n",
    "\n",
    "You can convert between objects by calling one of data types with a python object in parenthesis. For example:"
   ]
  },
  {
   "cell_type": "code",
   "execution_count": 1,
   "metadata": {},
   "outputs": [
    {
     "name": "stdout",
     "output_type": "stream",
     "text": [
      "42\n",
      "<class 'int'>\n",
      "42\n",
      "<class 'str'>\n"
     ]
    }
   ],
   "source": [
    "my_var = 42\n",
    "print(my_var)\n",
    "print(type(my_var));\n",
    "my_string_var = str(my_var)\n",
    "print(my_string_var)\n",
    "print(type(my_string_var))\n",
    "\n",
    "# Notice that the `int` and `str` data types print identical values on the command line! "
   ]
  },
  {
   "cell_type": "markdown",
   "metadata": {},
   "source": [
    "## Strings\n",
    "\n",
    "Strings are a very important data type in all languages. In Python, strings may be quoted several ways:\n",
    "\n",
    "### Construction"
   ]
  },
  {
   "cell_type": "code",
   "execution_count": 2,
   "metadata": {},
   "outputs": [
    {
     "name": "stdout",
     "output_type": "stream",
     "text": [
      "woah! strings can\n",
      "split lines \n"
     ]
    }
   ],
   "source": [
    "output_file = 'output.txt'\n",
    "triplequotes = \"\"\"woah! strings can\n",
    "split lines \"\"\"\n",
    "print(triplequotes) # Split onto multiple lines; newline char embedded.\n"
   ]
  },
  {
   "cell_type": "markdown",
   "metadata": {},
   "source": [
    "Equivalently, with single quotes: "
   ]
  },
  {
   "cell_type": "code",
   "execution_count": 3,
   "metadata": {},
   "outputs": [
    {
     "name": "stdout",
     "output_type": "stream",
     "text": [
      "I am a string too.\n",
      "I can span multiple lines!\n"
     ]
    }
   ],
   "source": [
    "trip_single_quotes = '''I am a string too.\n",
    "I can span multiple lines!'''\n",
    "print(trip_single_quotes)"
   ]
  },
  {
   "cell_type": "markdown",
   "metadata": {},
   "source": [
    "#### Quotes in strings\n",
    "\n",
    "We construct strings using either single quotes (`'this is a string'`), double quotes (`\"this is also a string\"`) or triple quotes (`'''yet another string!'''`). Sometimes, we will want to include quotes in a string (say, a paragraph of text with some apostrophes). If the same type of quote that is used to define the string is used within the string, the interpreter will think that is the end of the string: "
   ]
  },
  {
   "cell_type": "code",
   "execution_count": 4,
   "metadata": {},
   "outputs": [
    {
     "ename": "SyntaxError",
     "evalue": "unterminated string literal (detected at line 1) (2059763243.py, line 1)",
     "output_type": "error",
     "traceback": [
      "\u001b[0;36m  Cell \u001b[0;32mIn[4], line 1\u001b[0;36m\u001b[0m\n\u001b[0;31m    print('defining a string with a contraction such as you're')\u001b[0m\n\u001b[0m                                                              ^\u001b[0m\n\u001b[0;31mSyntaxError\u001b[0m\u001b[0;31m:\u001b[0m unterminated string literal (detected at line 1)\n"
     ]
    }
   ],
   "source": [
    "print('defining a string with a contraction such as you're')"
   ]
  },
  {
   "cell_type": "markdown",
   "metadata": {},
   "source": [
    "We can fix this by mixing quotes: "
   ]
  },
  {
   "cell_type": "code",
   "execution_count": 5,
   "metadata": {},
   "outputs": [
    {
     "name": "stdout",
     "output_type": "stream",
     "text": [
      "defining a string with a contraction such as you're\n"
     ]
    }
   ],
   "source": [
    "print(\"defining a string with a contraction such as you're\")"
   ]
  },
  {
   "cell_type": "markdown",
   "metadata": {},
   "source": [
    "Alternatively, we can escape the quote with a backslash, i.e. a `\\`:"
   ]
  },
  {
   "cell_type": "code",
   "execution_count": 6,
   "metadata": {},
   "outputs": [
    {
     "name": "stdout",
     "output_type": "stream",
     "text": [
      "defining a string with a contraction such as you're\n"
     ]
    }
   ],
   "source": [
    "print('defining a string with a contraction such as you\\'re')"
   ]
  },
  {
   "cell_type": "markdown",
   "metadata": {},
   "source": [
    "### String methods\n",
    "\n",
    "There are several built in python methods which operate on strings, and can make manipulating strings much simpler and easier. \n",
    "\n",
    "#### Slicing / Indexing\n",
    "\n",
    "You can access any 'element', or singular character, within a string through 'slicing', also sometimes called 'indexing'"
   ]
  },
  {
   "cell_type": "code",
   "execution_count": 7,
   "metadata": {},
   "outputs": [
    {
     "data": {
      "text/plain": [
       "'this'"
      ]
     },
     "execution_count": 7,
     "metadata": {},
     "output_type": "execute_result"
    }
   ],
   "source": [
    "string_to_index = 'this is a string that will be indexed'\n",
    "string_to_index[0:4]"
   ]
  },
  {
   "cell_type": "markdown",
   "metadata": {},
   "source": [
    "In this command, we select all values between the 0th index and the 4th index (non - inclusive). This means we are accessing the characters 'this' in the example above, the 0th, 1st, 2nd, and 3rd characters. \n",
    "\n",
    "The `:` tells the computer to select values starting at one index and ending at another. We can also access any individual character: "
   ]
  },
  {
   "cell_type": "code",
   "execution_count": 8,
   "metadata": {},
   "outputs": [
    {
     "name": "stdout",
     "output_type": "stream",
     "text": [
      "h\n",
      "e\n",
      "r\n",
      "e\n"
     ]
    }
   ],
   "source": [
    "another_string = \"here's another string to index~\"\n",
    "print(another_string[0])\n",
    "print(another_string[1])\n",
    "print(another_string[2])\n",
    "print(another_string[3])"
   ]
  },
  {
   "cell_type": "markdown",
   "metadata": {},
   "source": [
    "You may have observed a very important characteristic here: **python is zero indexed** meaning that the first value in a string is given the zero index: \n",
    "\n",
    "Let's play around with some other indexing commands to get the hang of it:"
   ]
  },
  {
   "cell_type": "code",
   "execution_count": 9,
   "metadata": {},
   "outputs": [
    {
     "name": "stdout",
     "output_type": "stream",
     "text": [
      "is a string that will be indexed\n",
      "is a string tha\n",
      "be indexed\n"
     ]
    }
   ],
   "source": [
    "string_to_index = 'this is a string that will be indexed'\n",
    "print(string_to_index[5:])\n",
    "print(string_to_index[5:20])\n",
    "print(string_to_index[-10:])"
   ]
  },
  {
   "cell_type": "markdown",
   "metadata": {},
   "source": [
    "Note that when slicing, we do not have to supply the 0th or last index, python is able to figure out the start / end indices automatically. The following returns every character in the string, beginning with the 5th character:"
   ]
  },
  {
   "cell_type": "code",
   "execution_count": 10,
   "metadata": {},
   "outputs": [
    {
     "data": {
      "text/plain": [
       "'is a string that will be indexed'"
      ]
     },
     "execution_count": 10,
     "metadata": {},
     "output_type": "execute_result"
    }
   ],
   "source": [
    "string_to_index[5:]"
   ]
  },
  {
   "cell_type": "markdown",
   "metadata": {},
   "source": [
    "Note that we can also use negative indices, which count backwards from the end of the string. The following returns every character in the string, beginning with the 10th character from the end:"
   ]
  },
  {
   "cell_type": "code",
   "execution_count": 11,
   "metadata": {},
   "outputs": [
    {
     "name": "stdout",
     "output_type": "stream",
     "text": [
      "be indexed\n"
     ]
    }
   ],
   "source": [
    "print(string_to_index[-10:])"
   ]
  },
  {
   "cell_type": "markdown",
   "metadata": {},
   "source": [
    "The following diagram summarizes python string indexing and slicing for an example string `'Python'`:\n",
    "\n",
    "![str_idx](img/2-str-index.png)\n",
    "\n",
    "#### Strings are immutable!\n",
    "\n",
    "While we can access any individual character of a string, we cannot ever directly change characters:"
   ]
  },
  {
   "cell_type": "code",
   "execution_count": 12,
   "metadata": {},
   "outputs": [
    {
     "ename": "TypeError",
     "evalue": "'str' object does not support item assignment",
     "output_type": "error",
     "traceback": [
      "\u001b[0;31m---------------------------------------------------------------------------\u001b[0m",
      "\u001b[0;31mTypeError\u001b[0m                                 Traceback (most recent call last)",
      "Cell \u001b[0;32mIn[12], line 1\u001b[0m\n\u001b[0;32m----> 1\u001b[0m string_to_index[\u001b[38;5;241m10\u001b[39m] \u001b[38;5;241m=\u001b[39m \u001b[38;5;124m'\u001b[39m\u001b[38;5;124ma\u001b[39m\u001b[38;5;124m'\u001b[39m\n",
      "\u001b[0;31mTypeError\u001b[0m: 'str' object does not support item assignment"
     ]
    }
   ],
   "source": [
    "string_to_index[10] = 'a'"
   ]
  },
  {
   "cell_type": "markdown",
   "metadata": {},
   "source": [
    "### String functions\n",
    "\n",
    "There are several handy built-in string functions that make manipulating data in strings easier: \n",
    "* Concatenate strings: `+`\n",
    "* Split strings based on substring: `split('substr')`\n",
    "* Find substring: `find('substr')`\n",
    "* Replace substring with another substring `replace('substr1','substr2')`\n",
    "\n",
    "1. **Combining strings (AKA concatennation):** Strings can be concatennated using the `+` sign: "
   ]
  },
  {
   "cell_type": "code",
   "execution_count": 13,
   "metadata": {},
   "outputs": [
    {
     "data": {
      "text/plain": [
       "'some string another string'"
      ]
     },
     "execution_count": 13,
     "metadata": {},
     "output_type": "execute_result"
    }
   ],
   "source": [
    "'some string ' + 'another string'"
   ]
  },
  {
   "cell_type": "markdown",
   "metadata": {},
   "source": [
    "note that we had to include a trailing space on `some string ` in order to produce a concatennated string with spaces - the spaces are not added automatically. \n",
    "\n",
    "2. **Splitting strings**: strings can easily be separated based on a character using the `split()` function:"
   ]
  },
  {
   "cell_type": "code",
   "execution_count": 14,
   "metadata": {},
   "outputs": [
    {
     "data": {
      "text/plain": [
       "['we will s', 'lit this string into ', 'ieces']"
      ]
     },
     "execution_count": 14,
     "metadata": {},
     "output_type": "execute_result"
    }
   ],
   "source": [
    "'we will split this string into pieces'.split(\"p\") "
   ]
  },
  {
   "cell_type": "markdown",
   "metadata": {},
   "source": [
    "This returns 3 separate strings, which are broken out by wherever `p` occurs in the substring.\n",
    "\n",
    "Strings can also be separated by a sequence of characters "
   ]
  },
  {
   "cell_type": "code",
   "execution_count": 15,
   "metadata": {},
   "outputs": [
    {
     "data": {
      "text/plain": [
       "['we will split ',\n",
       " ' this other string ',\n",
       " ' on the basis ',\n",
       " ' of where the ',\n",
       " ' words occur']"
      ]
     },
     "execution_count": 15,
     "metadata": {},
     "output_type": "execute_result"
    }
   ],
   "source": [
    "'we will split um this other string um on the basis um of where the um words occur'.split('um')"
   ]
  },
  {
   "cell_type": "markdown",
   "metadata": {},
   "source": [
    "3. **Finding the first index where a character appears in a string** with the `find()` function:"
   ]
  },
  {
   "cell_type": "code",
   "execution_count": 16,
   "metadata": {},
   "outputs": [
    {
     "data": {
      "text/plain": [
       "5"
      ]
     },
     "execution_count": 16,
     "metadata": {},
     "output_type": "execute_result"
    }
   ],
   "source": [
    "'here is a test string for which we will find the first ooccurrence of the letter i'.find('i')"
   ]
  },
  {
   "cell_type": "markdown",
   "metadata": {},
   "source": [
    "4. **Replacing characters appears in a strings** with the `replace()` function:"
   ]
  },
  {
   "cell_type": "code",
   "execution_count": 17,
   "metadata": {},
   "outputs": [
    {
     "data": {
      "text/plain": [
       "'here js a test strjng for whjch we wjll replace ooccurrence of one letter wjth another'"
      ]
     },
     "execution_count": 17,
     "metadata": {},
     "output_type": "execute_result"
    }
   ],
   "source": [
    "'here is a test string for which we will replace ooccurrence of one letter with another'.replace('i','j')"
   ]
  },
  {
   "cell_type": "code",
   "execution_count": 18,
   "metadata": {},
   "outputs": [
    {
     "data": {
      "text/plain": [
       "'this also works for full words and phrases, pretty swell, huh?'"
      ]
     },
     "execution_count": 18,
     "metadata": {},
     "output_type": "execute_result"
    }
   ],
   "source": [
    "'this also works for full words and phrases, pretty neat, huh?'.replace('neat','swell')"
   ]
  },
  {
   "cell_type": "markdown",
   "metadata": {},
   "source": [
    "The `len()` function returns the number of characters in the string"
   ]
  },
  {
   "cell_type": "code",
   "execution_count": 19,
   "metadata": {},
   "outputs": [
    {
     "data": {
      "text/plain": [
       "53"
      ]
     },
     "execution_count": 19,
     "metadata": {},
     "output_type": "execute_result"
    }
   ],
   "source": [
    "test_str = \"use len() to count the number of chars in this string\"\n",
    "len(test_str)"
   ]
  },
  {
   "cell_type": "markdown",
   "metadata": {},
   "source": [
    "It's easy to convert strings between upper and lower case with the `string.upper()` and `string.lower()` methods\""
   ]
  },
  {
   "cell_type": "code",
   "execution_count": 20,
   "metadata": {},
   "outputs": [
    {
     "name": "stdout",
     "output_type": "stream",
     "text": [
      "alternating cases\n",
      "ALTERNATING CASES\n"
     ]
    }
   ],
   "source": [
    "test_str = \"AlTeRnAtInG cAsEs\"\n",
    "print(test_str.lower()) # Converts all chars to lowercase\n",
    "print(test_str.upper()) # Converts all chars to uppercase"
   ]
  },
  {
   "cell_type": "markdown",
   "metadata": {},
   "source": [
    "### String formatting\n",
    "\n",
    "It's often convenient to  create strings formatted from a combination of strings, numbers, and other data. In Python 3 this can be handled in two ways: the format string method. E.g.:\n"
   ]
  },
  {
   "cell_type": "code",
   "execution_count": 21,
   "metadata": {},
   "outputs": [
    {
     "name": "stdout",
     "output_type": "stream",
     "text": [
      "My name is Aakash. I am an instructor for py4wrds.\n"
     ]
    }
   ],
   "source": [
    "name = \"Aakash\"\n",
    "course = \"py4wrds\"\n",
    "# Prints: My name is Andreas. I am the instructor for CME211.\n",
    "print(\"My name is {0}. I am an instructor for {1}.\".format(name,course))"
   ]
  },
  {
   "cell_type": "markdown",
   "metadata": {},
   "source": [
    "Format strings contain “replacement fields” surrounded by curly braces `{}`. Anything that is not contained in braces is considered literal text, which is copied unchanged to the output. \n",
    "\n",
    "If you need to include a brace character in the literal text, it can be escaped by doubling the braces: i.e. use {{ and }}. The number in the braces refers to the order of arguments passed to format. \n",
    "\n",
    "Numbers don’t need to be specified if the sequence of braces has the same order as arguments:"
   ]
  },
  {
   "cell_type": "code",
   "execution_count": 22,
   "metadata": {},
   "outputs": [
    {
     "name": "stdout",
     "output_type": "stream",
     "text": [
      "this course is py4wrds, and 25 students are in attendance\n"
     ]
    }
   ],
   "source": [
    "course = 'py4wrds'\n",
    "number_of_students = 25\n",
    "print(\"this course is {}, and {} students are in attendance\".format(course ,number_of_students))"
   ]
  },
  {
   "cell_type": "markdown",
   "metadata": {},
   "source": [
    "Another way to handle string formatting is with F-strings, where variable names can be inserted directly into the curly braces"
   ]
  },
  {
   "cell_type": "code",
   "execution_count": 23,
   "metadata": {},
   "outputs": [
    {
     "name": "stdout",
     "output_type": "stream",
     "text": [
      "The area of a circle of radius 4 is 50.26548245743669\n"
     ]
    }
   ],
   "source": [
    "import math\n",
    "r = 4\n",
    "print(f\"The area of a circle of radius {r} is {math.pi * math.pow(r, 2)}\")"
   ]
  },
  {
   "cell_type": "markdown",
   "metadata": {},
   "source": [
    "To summarize, string formatting is a good way to combine text and numeric data. It’s also how we control the output of floating point numbers:"
   ]
  },
  {
   "cell_type": "code",
   "execution_count": 24,
   "metadata": {},
   "outputs": [
    {
     "name": "stdout",
     "output_type": "stream",
     "text": [
      " {:f}: 42.420000\n",
      " {:g}: 42.42\n",
      " {:e}: 4.242000e+01\n",
      " {:.2e}: 4.24e+01\n",
      "{: 8.2e}:  4.24e+01\n",
      "{: 8.2e}: -1.00e+00\n"
     ]
    }
   ],
   "source": [
    "# Fixed point precision (always uses six significant decimal digits).\n",
    "print(\" {{:f}}: {:f}\".format(42.42)) # Prints 42.40000\n",
    "# General format (knows how to drop trailing zeros in decimals).\n",
    "print(\" {{:g}}: {:g}\".format(42.42)) # Prints 42.42\n",
    "# Exponent (scientific) notation.\n",
    "print(\" {{:e}}: {:e}\".format(42.42)) # Prints 4.242000e+01\n",
    "\n",
    "# We can also specify how many digits of precision we want.\n",
    "print(\" {{:.2e}}: {:.2e}\".format(42.42)) # Prints 4.24e+01.\n",
    "\n",
    "# Or we can specify the width of our output (excluding +/- signs).\n",
    "print(\"{{: 8.2e}}: {: 8.2e}\".format(42.42)) # Prints total of 8 chars: 4.24e+01\n",
    "print(\"{{: 8.2e}}: {: 8.2e}\".format(-1.0)) # Prints -1.00e+00"
   ]
  },
  {
   "cell_type": "markdown",
   "metadata": {},
   "source": [
    "## Numbers\n",
    "\n",
    "Recall that numbers in python are represented by the `int` and `float` types. We can perform all standard numerical operations: \n",
    "\n",
    "* `x + y` : sum of `x` and `y`\n",
    "* `x - y` : differenceof `x` and `y`\n",
    "* `x * y` : productof `x` and `y`\n",
    "* `x / y` : quotientof `x` and `y`\n",
    "* `x//y` : flooredquotientofxandy\n",
    "* `x % y` : remainderof `x` / `y`\n",
    "* `-x` : `x` negated\n",
    "* `+x` : `x` unchanged\n",
    "* `abs(x)` : absolute value (i.e. magnitude)\n",
    "* `int(x)` : `x` converted to integer\n",
    "* `float(x)` : `x` converted to floating point\n",
    "* `x ** y` : `x` tothepower `y`"
   ]
  },
  {
   "cell_type": "code",
   "execution_count": null,
   "metadata": {},
   "outputs": [],
   "source": []
  }
 ],
 "metadata": {
  "kernelspec": {
   "display_name": "Python 3 (ipykernel)",
   "language": "python",
   "name": "python3"
  },
  "language_info": {
   "codemirror_mode": {
    "name": "ipython",
    "version": 3
   },
   "file_extension": ".py",
   "mimetype": "text/x-python",
   "name": "python",
   "nbconvert_exporter": "python",
   "pygments_lexer": "ipython3",
   "version": "3.11.5"
  }
 },
 "nbformat": 4,
 "nbformat_minor": 4
}
